{
  "nbformat": 4,
  "nbformat_minor": 0,
  "metadata": {
    "colab": {
      "provenance": [],
      "authorship_tag": "ABX9TyPbwU/TGIvsGMBmHx8+zvRY",
      "include_colab_link": true
    },
    "kernelspec": {
      "name": "python3",
      "display_name": "Python 3"
    },
    "language_info": {
      "name": "python"
    }
  },
  "cells": [
    {
      "cell_type": "markdown",
      "metadata": {
        "id": "view-in-github",
        "colab_type": "text"
      },
      "source": [
        "<a href=\"https://colab.research.google.com/github/PierfrancescoElia/AICyberLabs/blob/main/Lab03/lab03.ipynb\" target=\"_parent\"><img src=\"https://colab.research.google.com/assets/colab-badge.svg\" alt=\"Open In Colab\"/></a>"
      ]
    },
    {
      "cell_type": "markdown",
      "source": [
        "# Project 3: Natural Language Processing (NLP)\n",
        "\n",
        "| Member | ID |\n",
        "| -- | -- |\n",
        "| Alessandro Meneghini| s332228 |\n",
        "| Pierfrancesco Elia | s331497 |\n",
        "| Ankesh Porwal | s328746 |\n"
      ],
      "metadata": {
        "id": "i_AVzWfvLVZt"
      }
    }
  ]
}