{
  "nbformat": 4,
  "nbformat_minor": 0,
  "metadata": {
    "colab": {
      "provenance": [],
      "include_colab_link": true
    },
    "kernelspec": {
      "name": "python3",
      "display_name": "Python 3"
    },
    "language_info": {
      "name": "python"
    }
  },
  "cells": [
    {
      "cell_type": "markdown",
      "metadata": {
        "id": "view-in-github",
        "colab_type": "text"
      },
      "source": [
        "<a href=\"https://colab.research.google.com/github/PierfrancescoElia/AICyberLabs/blob/main/Lab02/lab02.ipynb\" target=\"_parent\"><img src=\"https://colab.research.google.com/assets/colab-badge.svg\" alt=\"Open In Colab\"/></a>"
      ]
    },
    {
      "cell_type": "markdown",
      "metadata": {
        "id": "o6Vz69pDMEHe"
      },
      "source": [
        "# Project 2: Model Engineering\n",
        "\n",
        "| Member | ID |\n",
        "| -- | -- |\n",
        "| Alessandro Meneghini| s332228 |\n",
        "| Pierfrancesco Elia | s331497 |\n",
        "| Ankesh Porwal | s328746 |\n"
      ]
    },
    {
      "cell_type": "code",
      "execution_count": 42,
      "metadata": {
        "id": "2f-5-qdpL-Tw"
      },
      "outputs": [],
      "source": [
        "# importing libraries\n",
        "import pandas as pd\n",
        "import numpy as np\n",
        "import json\n",
        "import matplotlib.pyplot as plt\n",
        "import seaborn as sns\n",
        "import torch\n",
        "import torch.nn as nn\n",
        "import torch.optim as optim\n",
        "from torch.utils.data import DataLoader, TensorDataset\n",
        "from sklearn.feature_extraction.text import CountVectorizer\n",
        "from sklearn.model_selection import train_test_split,ParameterGrid\n",
        "from sklearn.metrics import classification_report, confusion_matrix, accuracy_score\n",
        "from sklearn.linear_model import LogisticRegression\n",
        "import time\n",
        "from sklearn.preprocessing import LabelEncoder\n",
        "import seaborn as sns\n",
        "from sklearn.preprocessing import MinMaxScaler\n",
        "from tensorflow.keras.preprocessing.sequence import pad_sequences\n",
        "from torch.nn.utils.rnn import pad_sequence\n",
        "from tqdm import tqdm"
      ]
    },
    {
      "cell_type": "markdown",
      "metadata": {
        "id": "zli4aBTEG034"
      },
      "source": [
        "## Task 1: BoW Approaches\n",
        "\n",
        "Each sequence of processes is a string, all the processes are words in a centence –> Fit a\n",
        "CountVectorizer object from sklearn!\n",
        "- How many columns do you have after applying the CountVectorizer? What does that\n",
        "number represent?\n",
        "- What does each row represent? Can you still track the order of the processes (how they\n",
        "were called)?\n",
        "- Do you have out-of-vocabulary from the test set? If yes, how many? How does CountVec-\n",
        "torizer handle them?\n",
        "- Try to fit a classifier (at your choice, shallow deep or neural network). Report how you\n",
        "chose the hyperparameters of your classifier, and the final performance on the test set."
      ]
    },
    {
      "cell_type": "code",
      "execution_count": null,
      "metadata": {
        "colab": {
          "base_uri": "https://localhost:8080/",
          "height": 204
        },
        "id": "ehPjFbK5N0g1",
        "outputId": "82b26aaf-e660-4879-d24c-3a3e6702697d"
      },
      "outputs": [
        {
          "data": {
            "text/html": [
              "<div>\n",
              "<style scoped>\n",
              "    .dataframe tbody tr th:only-of-type {\n",
              "        vertical-align: middle;\n",
              "    }\n",
              "\n",
              "    .dataframe tbody tr th {\n",
              "        vertical-align: top;\n",
              "    }\n",
              "\n",
              "    .dataframe thead th {\n",
              "        text-align: right;\n",
              "    }\n",
              "</style>\n",
              "<table border=\"1\" class=\"dataframe\">\n",
              "  <thead>\n",
              "    <tr style=\"text-align: right;\">\n",
              "      <th></th>\n",
              "      <th>md5hash</th>\n",
              "      <th>api_call_sequence</th>\n",
              "      <th>is_malware</th>\n",
              "    </tr>\n",
              "  </thead>\n",
              "  <tbody>\n",
              "    <tr>\n",
              "      <th>0</th>\n",
              "      <td>aaec2a99e23b2478ce5ec7f9b43c840c</td>\n",
              "      <td>[NtClose, NtOpenKey, NtQueryValueKey, NtClose,...</td>\n",
              "      <td>1</td>\n",
              "    </tr>\n",
              "    <tr>\n",
              "      <th>1</th>\n",
              "      <td>14a9db02dd903a76adb275cf45d10413</td>\n",
              "      <td>[GetSystemTimeAsFileTime, LdrLoadDll, LdrGetPr...</td>\n",
              "      <td>1</td>\n",
              "    </tr>\n",
              "    <tr>\n",
              "      <th>2</th>\n",
              "      <td>70f77a07109abab1983d98214f4eb199</td>\n",
              "      <td>[RegOpenKeyExA, NtOpenKey, NtQueryValueKey, Nt...</td>\n",
              "      <td>1</td>\n",
              "    </tr>\n",
              "    <tr>\n",
              "      <th>3</th>\n",
              "      <td>fa67eebd3047eb2a4c9379623219d58d</td>\n",
              "      <td>[RegOpenKeyExA, NtOpenKey, NtQueryValueKey, Nt...</td>\n",
              "      <td>1</td>\n",
              "    </tr>\n",
              "    <tr>\n",
              "      <th>4</th>\n",
              "      <td>d9209cdfe4fd24c6f2a17acdafa558a5</td>\n",
              "      <td>[NtClose, NtOpenKey, NtQueryValueKey, NtClose,...</td>\n",
              "      <td>1</td>\n",
              "    </tr>\n",
              "  </tbody>\n",
              "</table>\n",
              "</div>"
            ],
            "text/plain": [
              "                            md5hash  \\\n",
              "0  aaec2a99e23b2478ce5ec7f9b43c840c   \n",
              "1  14a9db02dd903a76adb275cf45d10413   \n",
              "2  70f77a07109abab1983d98214f4eb199   \n",
              "3  fa67eebd3047eb2a4c9379623219d58d   \n",
              "4  d9209cdfe4fd24c6f2a17acdafa558a5   \n",
              "\n",
              "                                   api_call_sequence  is_malware  \n",
              "0  [NtClose, NtOpenKey, NtQueryValueKey, NtClose,...           1  \n",
              "1  [GetSystemTimeAsFileTime, LdrLoadDll, LdrGetPr...           1  \n",
              "2  [RegOpenKeyExA, NtOpenKey, NtQueryValueKey, Nt...           1  \n",
              "3  [RegOpenKeyExA, NtOpenKey, NtQueryValueKey, Nt...           1  \n",
              "4  [NtClose, NtOpenKey, NtQueryValueKey, NtClose,...           1  "
            ]
          },
          "execution_count": 2,
          "metadata": {},
          "output_type": "execute_result"
        }
      ],
      "source": [
        "# importing dataset\n",
        "dataset_url = 'https://raw.githubusercontent.com/PierfrancescoElia/AICyberLabs/refs/heads/main/Lab02/train.json'\n",
        "train_df = pd.read_json(dataset_url)\n",
        "\n",
        "dataset_url = 'https://raw.githubusercontent.com/PierfrancescoElia/AICyberLabs/refs/heads/main/Lab02/test.json'\n",
        "test_df = pd.read_json(dataset_url)\n",
        "\n",
        "train_df.head()"
      ]
    },
    {
      "cell_type": "markdown",
      "metadata": {
        "id": "e1a2Fb2bO06f"
      },
      "source": [
        "Let's join api_call_squence"
      ]
    },
    {
      "cell_type": "code",
      "execution_count": null,
      "metadata": {
        "id": "e6EaSiNKG035"
      },
      "outputs": [],
      "source": [
        "train_df[\"api_sequence_str\"] = train_df[\"api_call_sequence\"].apply(lambda x: \" \".join(x))\n",
        "test_df[\"api_sequence_str\"] = test_df[\"api_call_sequence\"].apply(lambda x: \" \".join(x))\n",
        "# train_df[\"api_sequence_str\"]"
      ]
    },
    {
      "cell_type": "code",
      "execution_count": null,
      "metadata": {
        "id": "npjhdtDRO582"
      },
      "outputs": [],
      "source": [
        "vectorizer = CountVectorizer()\n",
        "X_train = vectorizer.fit_transform(train_df[\"api_sequence_str\"])\n",
        "X_test = vectorizer.transform(test_df[\"api_sequence_str\"])  # transform so that out-of-vocaboulary are ignored correctly\n",
        "\n",
        "y_train = train_df[\"is_malware\"]\n",
        "y_test = test_df[\"is_malware\"]"
      ]
    },
    {
      "cell_type": "markdown",
      "metadata": {
        "id": "CV61qMcjQCDz"
      },
      "source": [
        "how many vocab do i have"
      ]
    },
    {
      "cell_type": "code",
      "execution_count": null,
      "metadata": {
        "colab": {
          "base_uri": "https://localhost:8080/"
        },
        "id": "-msM11SzQD1U",
        "outputId": "ce98b1f1-87e7-40ac-d77c-9b77e7c99c5f"
      },
      "outputs": [
        {
          "name": "stdout",
          "output_type": "stream",
          "text": [
            "Number of features: 253\n"
          ]
        }
      ],
      "source": [
        "print(f\"Number of features: {len(vectorizer.get_feature_names_out())}\")"
      ]
    },
    {
      "cell_type": "markdown",
      "metadata": {
        "id": "vLaoqBxIG037"
      },
      "source": [
        "Do you have out-of-vocabulary in the test set? How many?"
      ]
    },
    {
      "cell_type": "code",
      "execution_count": null,
      "metadata": {
        "id": "8-Za9lr8G037",
        "outputId": "18e05389-ef0b-407e-a2c8-732ef01343d8"
      },
      "outputs": [
        {
          "name": "stdout",
          "output_type": "stream",
          "text": [
            "Out-of-Vocabulary Words: {'NtDeleteKey', 'WSARecv', 'ObtainUserAgentString', 'WSASocketA', 'ControlService'}\n",
            "There are 5 out-of-vocabulary words\n"
          ]
        }
      ],
      "source": [
        "test_vocab = set(api for seq in test_df[\"api_call_sequence\"] for api in seq)\n",
        "train_vocab = set(api for seq in train_df[\"api_call_sequence\"] for api in seq)\n",
        "oov_words = test_vocab - train_vocab\n",
        "print(\"Out-of-Vocabulary Words:\", oov_words)\n",
        "print(f\"There are {len(oov_words)} out-of-vocabulary words\")"
      ]
    },
    {
      "cell_type": "markdown",
      "metadata": {
        "id": "oLfIyKMhRfa4"
      },
      "source": [
        "STEP 4"
      ]
    },
    {
      "cell_type": "code",
      "execution_count": null,
      "metadata": {
        "id": "PxRl7egXRdlM"
      },
      "outputs": [],
      "source": [
        "clf = LogisticRegression(max_iter=1000)\n",
        "clf.fit(X_train, y_train)\n",
        "\n",
        "y_pred = clf.predict(X_test)"
      ]
    },
    {
      "cell_type": "code",
      "execution_count": null,
      "metadata": {
        "colab": {
          "base_uri": "https://localhost:8080/"
        },
        "id": "QSKwz5JiRl2G",
        "outputId": "7df6f8e2-5277-43ab-c221-65867d2f27a6"
      },
      "outputs": [
        {
          "name": "stdout",
          "output_type": "stream",
          "text": [
            "Classification Report:\n",
            "\n",
            "              precision    recall  f1-score   support\n",
            "\n",
            "    Goodware       0.64      0.28      0.39       324\n",
            "     Malware       0.98      1.00      0.99     12839\n",
            "\n",
            "    accuracy                           0.98     13163\n",
            "   macro avg       0.81      0.64      0.69     13163\n",
            "weighted avg       0.97      0.98      0.97     13163\n",
            "\n",
            "\n",
            "Confusion Matrix:\n",
            "[[   92   232]\n",
            " [   51 12788]]\n"
          ]
        }
      ],
      "source": [
        "print(\"Classification Report:\\n\")\n",
        "print(classification_report(y_test, y_pred, target_names=[\"Goodware\", \"Malware\"]))\n",
        "\n",
        "print(\"\\nConfusion Matrix:\")\n",
        "print(confusion_matrix(y_test, y_pred))"
      ]
    },
    {
      "cell_type": "markdown",
      "metadata": {
        "id": "eQ2jIEVpR9ye"
      },
      "source": [
        "How many columns after CountVectorizer? 253\\\n",
        "What does that number represent? The size of the vocabulary (i.e., number of distinct API calls across training samples)\n",
        "\n",
        "What does each row represent? A vectorized version of a malware/goodware API sequence\\\n",
        "Can you still track the order of the processes (how they were called)? No, it's not possible anymore.\n",
        "\n",
        "Do you have out-of-vocabulary in the test set? How many? 5\n",
        "\n",
        "How does CountVectorizer handle OOV? It simply ignores words not present in the training vocabulary\\\n",
        "What classifier did you choose and why? Logistic Regression for a simple baseline with BoW\n",
        "\n",
        "Final performance? Accuracy, Precision, Recall, F1 (da classification_report)"
      ]
    },
    {
      "cell_type": "markdown",
      "metadata": {
        "id": "EcBJMkiMG039"
      },
      "source": [
        "## Task 2: Feed Forward Neural Network\n",
        "\n",
        "Now, obtain some stats on the number of processes called per sample.\n",
        "- Do you have the same number of calls for each sample? Is the training distribution the\n",
        "same as the test one? shorter than the testing ones.\n",
        "- Let’s say that you really want to use a simple FeedForward neural network to solve the\n",
        "problem. Can a Feedforward Neural Network handle a variable number of elements?\n",
        "Why?\n",
        "- Which technique do you adopt to bring everything to a fixed size during training? What\n",
        "happens if at test time you have more processes to handle?\n",
        "- Each process is actually a string: first solve the problem using sequential identifiers, then\n",
        "try using learnable embeddings. Use a FeedForward network on both cases. Report how\n",
        "you selected the hyper-parameters of your final model, and justify your choices. Can\n",
        "you obtain the same results for the two alternatives (sequential identifiers and learnable\n",
        "embeddings)?\n",
        "\n",
        "Articulate (report results, whether one training was longer/more unstable than the other,\n",
        "etc.)"
      ]
    },
    {
      "cell_type": "code",
      "execution_count": null,
      "metadata": {
        "id": "EUc-gGCdG039",
        "outputId": "fe4b193d-26cd-41c8-d54f-a4a4bccbe000"
      },
      "outputs": [
        {
          "data": {
            "text/html": [
              "<div>\n",
              "<style scoped>\n",
              "    .dataframe tbody tr th:only-of-type {\n",
              "        vertical-align: middle;\n",
              "    }\n",
              "\n",
              "    .dataframe tbody tr th {\n",
              "        vertical-align: top;\n",
              "    }\n",
              "\n",
              "    .dataframe thead th {\n",
              "        text-align: right;\n",
              "    }\n",
              "</style>\n",
              "<table border=\"1\" class=\"dataframe\">\n",
              "  <thead>\n",
              "    <tr style=\"text-align: right;\">\n",
              "      <th></th>\n",
              "      <th>md5hash</th>\n",
              "      <th>api_call_sequence</th>\n",
              "      <th>is_malware</th>\n",
              "      <th>api_sequence_str</th>\n",
              "    </tr>\n",
              "  </thead>\n",
              "  <tbody>\n",
              "    <tr>\n",
              "      <th>0</th>\n",
              "      <td>0765ce24323c6801e325d4266be073b9</td>\n",
              "      <td>[RegOpenKeyExA, NtOpenKey, NtQueryValueKey, Nt...</td>\n",
              "      <td>1</td>\n",
              "      <td>RegOpenKeyExA NtOpenKey NtQueryValueKey NtClos...</td>\n",
              "    </tr>\n",
              "    <tr>\n",
              "      <th>1</th>\n",
              "      <td>4480e321a0df8e0e8fa23a3c0a47c933</td>\n",
              "      <td>[GetSystemMetrics, LdrLoadDll, LdrGetProcedure...</td>\n",
              "      <td>1</td>\n",
              "      <td>GetSystemMetrics LdrLoadDll LdrGetProcedureAdd...</td>\n",
              "    </tr>\n",
              "    <tr>\n",
              "      <th>2</th>\n",
              "      <td>f663674a8ddc469c383907b3930cd819</td>\n",
              "      <td>[NtClose, NtOpenKey, NtQueryValueKey, NtClose,...</td>\n",
              "      <td>1</td>\n",
              "      <td>NtClose NtOpenKey NtQueryValueKey NtClose NtOp...</td>\n",
              "    </tr>\n",
              "    <tr>\n",
              "      <th>3</th>\n",
              "      <td>49346a617852117dd162e8ae530664ef</td>\n",
              "      <td>[GetSystemTimeAsFileTime, LdrLoadDll, LdrGetPr...</td>\n",
              "      <td>1</td>\n",
              "      <td>GetSystemTimeAsFileTime LdrLoadDll LdrGetProce...</td>\n",
              "    </tr>\n",
              "    <tr>\n",
              "      <th>4</th>\n",
              "      <td>a4b966898bfb48953109c9086163483b</td>\n",
              "      <td>[GetSystemTimeAsFileTime, NtAllocateVirtualMem...</td>\n",
              "      <td>1</td>\n",
              "      <td>GetSystemTimeAsFileTime NtAllocateVirtualMemor...</td>\n",
              "    </tr>\n",
              "  </tbody>\n",
              "</table>\n",
              "</div>"
            ],
            "text/plain": [
              "                            md5hash  \\\n",
              "0  0765ce24323c6801e325d4266be073b9   \n",
              "1  4480e321a0df8e0e8fa23a3c0a47c933   \n",
              "2  f663674a8ddc469c383907b3930cd819   \n",
              "3  49346a617852117dd162e8ae530664ef   \n",
              "4  a4b966898bfb48953109c9086163483b   \n",
              "\n",
              "                                   api_call_sequence  is_malware  \\\n",
              "0  [RegOpenKeyExA, NtOpenKey, NtQueryValueKey, Nt...           1   \n",
              "1  [GetSystemMetrics, LdrLoadDll, LdrGetProcedure...           1   \n",
              "2  [NtClose, NtOpenKey, NtQueryValueKey, NtClose,...           1   \n",
              "3  [GetSystemTimeAsFileTime, LdrLoadDll, LdrGetPr...           1   \n",
              "4  [GetSystemTimeAsFileTime, NtAllocateVirtualMem...           1   \n",
              "\n",
              "                                    api_sequence_str  \n",
              "0  RegOpenKeyExA NtOpenKey NtQueryValueKey NtClos...  \n",
              "1  GetSystemMetrics LdrLoadDll LdrGetProcedureAdd...  \n",
              "2  NtClose NtOpenKey NtQueryValueKey NtClose NtOp...  \n",
              "3  GetSystemTimeAsFileTime LdrLoadDll LdrGetProce...  \n",
              "4  GetSystemTimeAsFileTime NtAllocateVirtualMemor...  "
            ]
          },
          "execution_count": 9,
          "metadata": {},
          "output_type": "execute_result"
        }
      ],
      "source": [
        "train_df.head()\n",
        "test_df.head()"
      ]
    },
    {
      "cell_type": "code",
      "execution_count": null,
      "metadata": {
        "id": "oAFQepyrG03-",
        "outputId": "90f68003-a61d-4eb2-dc9a-f868b3760320"
      },
      "outputs": [
        {
          "name": "stdout",
          "output_type": "stream",
          "text": [
            "Statistics about processes called per sample,for training set\n"
          ]
        },
        {
          "data": {
            "text/html": [
              "<div>\n",
              "<style scoped>\n",
              "    .dataframe tbody tr th:only-of-type {\n",
              "        vertical-align: middle;\n",
              "    }\n",
              "\n",
              "    .dataframe tbody tr th {\n",
              "        vertical-align: top;\n",
              "    }\n",
              "\n",
              "    .dataframe thead th {\n",
              "        text-align: right;\n",
              "    }\n",
              "</style>\n",
              "<table border=\"1\" class=\"dataframe\">\n",
              "  <thead>\n",
              "    <tr style=\"text-align: right;\">\n",
              "      <th></th>\n",
              "      <th>0</th>\n",
              "    </tr>\n",
              "  </thead>\n",
              "  <tbody>\n",
              "    <tr>\n",
              "      <th>count</th>\n",
              "      <td>30713.000000</td>\n",
              "    </tr>\n",
              "    <tr>\n",
              "      <th>mean</th>\n",
              "      <td>75.039918</td>\n",
              "    </tr>\n",
              "    <tr>\n",
              "      <th>std</th>\n",
              "      <td>8.933816</td>\n",
              "    </tr>\n",
              "    <tr>\n",
              "      <th>min</th>\n",
              "      <td>60.000000</td>\n",
              "    </tr>\n",
              "    <tr>\n",
              "      <th>25%</th>\n",
              "      <td>67.000000</td>\n",
              "    </tr>\n",
              "    <tr>\n",
              "      <th>50%</th>\n",
              "      <td>75.000000</td>\n",
              "    </tr>\n",
              "    <tr>\n",
              "      <th>75%</th>\n",
              "      <td>83.000000</td>\n",
              "    </tr>\n",
              "    <tr>\n",
              "      <th>max</th>\n",
              "      <td>90.000000</td>\n",
              "    </tr>\n",
              "  </tbody>\n",
              "</table>\n",
              "</div>"
            ],
            "text/plain": [
              "                  0\n",
              "count  30713.000000\n",
              "mean      75.039918\n",
              "std        8.933816\n",
              "min       60.000000\n",
              "25%       67.000000\n",
              "50%       75.000000\n",
              "75%       83.000000\n",
              "max       90.000000"
            ]
          },
          "metadata": {},
          "output_type": "display_data"
        },
        {
          "name": "stdout",
          "output_type": "stream",
          "text": [
            "\n",
            "Statistics about processes called per sample,for test set\n"
          ]
        },
        {
          "data": {
            "text/html": [
              "<div>\n",
              "<style scoped>\n",
              "    .dataframe tbody tr th:only-of-type {\n",
              "        vertical-align: middle;\n",
              "    }\n",
              "\n",
              "    .dataframe tbody tr th {\n",
              "        vertical-align: top;\n",
              "    }\n",
              "\n",
              "    .dataframe thead th {\n",
              "        text-align: right;\n",
              "    }\n",
              "</style>\n",
              "<table border=\"1\" class=\"dataframe\">\n",
              "  <thead>\n",
              "    <tr style=\"text-align: right;\">\n",
              "      <th></th>\n",
              "      <th>0</th>\n",
              "    </tr>\n",
              "  </thead>\n",
              "  <tbody>\n",
              "    <tr>\n",
              "      <th>count</th>\n",
              "      <td>13163.000000</td>\n",
              "    </tr>\n",
              "    <tr>\n",
              "      <th>mean</th>\n",
              "      <td>85.111373</td>\n",
              "    </tr>\n",
              "    <tr>\n",
              "      <th>std</th>\n",
              "      <td>8.944844</td>\n",
              "    </tr>\n",
              "    <tr>\n",
              "      <th>min</th>\n",
              "      <td>70.000000</td>\n",
              "    </tr>\n",
              "    <tr>\n",
              "      <th>25%</th>\n",
              "      <td>77.000000</td>\n",
              "    </tr>\n",
              "    <tr>\n",
              "      <th>50%</th>\n",
              "      <td>85.000000</td>\n",
              "    </tr>\n",
              "    <tr>\n",
              "      <th>75%</th>\n",
              "      <td>93.000000</td>\n",
              "    </tr>\n",
              "    <tr>\n",
              "      <th>max</th>\n",
              "      <td>100.000000</td>\n",
              "    </tr>\n",
              "  </tbody>\n",
              "</table>\n",
              "</div>"
            ],
            "text/plain": [
              "                  0\n",
              "count  13163.000000\n",
              "mean      85.111373\n",
              "std        8.944844\n",
              "min       70.000000\n",
              "25%       77.000000\n",
              "50%       85.000000\n",
              "75%       93.000000\n",
              "max      100.000000"
            ]
          },
          "metadata": {},
          "output_type": "display_data"
        },
        {
          "data": {
            "image/png": "[encoded data removed]",
            "text/plain": [
              "<Figure size 640x480 with 1 Axes>"
            ]
          },
          "metadata": {},
          "output_type": "display_data"
        }
      ],
      "source": [
        "print(\"Statistics about processes called per sample,for training set\")\n",
        "train_cardinality = [len(x) for x in train_df['api_call_sequence']]\n",
        "df_train_cardinality = pd.DataFrame(train_cardinality)\n",
        "display(df_train_cardinality.describe())\n",
        "\n",
        "\n",
        "print(\"\\nStatistics about processes called per sample,for test set\")\n",
        "test_cardinality = [len(x) for x in test_df['api_call_sequence']]\n",
        "df_test_cardinality = pd.DataFrame(test_cardinality)\n",
        "display(df_test_cardinality.describe())\n",
        "\n",
        "plt.hist(df_train_cardinality,bins=50)\n",
        "plt.hist(df_test_cardinality,bins=50)\n",
        "plt.title(f'Distribution of processes call for training and test set')\n",
        "plt.xlabel('# Processes Called')\n",
        "plt.ylabel('# Records')\n",
        "plt.legend(['Training Set','Test Set'])\n",
        "plt.show()"
      ]
    },
    {
      "cell_type": "markdown",
      "metadata": {
        "id": "Fwi-oSfsG03-"
      },
      "source": [
        "From the graph above, we observe that the cardinality of processes in the training set ranges from 60 to 90, while in the test set, it ranges from 70 to 100. This dataset cannot be directly managed by a FeedForward Neural Network (FFNN) due to its variable size. Therefore, preprocessing techniques and workarounds are necessary to adapt this architecture.\n",
        "\n",
        "An FFNN expects a fixed number of input features because the input layer is predefined with a specific number of nodes. The network architecture (number of neurons in each layer, their connections, and weights) is fixed once the model is built.\n",
        "\n",
        "To handle variable input sizes, you can use techniques to preprocess or adapt the data:\n",
        "- Padding or Truncating: Pad shorter inputs with a default value (e.g., zeros) or truncate longer inputs to a fixed size. This ensures all inputs are of uniform length.\n",
        "- Feature Aggregation: Apply aggregation techniques such as averaging or summing across variable-length data to create a fixed-size representation."
      ]
    },
    {
      "cell_type": "markdown",
      "metadata": {
        "id": "9iJ1L2TgG03-"
      },
      "source": [
        "### Sequential Identifier\n",
        "\n",
        "*lack of semantic information !!*"
      ]
    },
    {
      "cell_type": "markdown",
      "metadata": {
        "id": "x0EnOSBxG03-"
      },
      "source": [
        "Preprocessing of training set\n",
        "- padding\n",
        "- split in training and validation set"
      ]
    },
    {
      "cell_type": "code",
      "execution_count": null,
      "metadata": {
        "id": "ee65SqFpG03-"
      },
      "outputs": [],
      "source": [
        "unique_api_calls = set(api for seq in train_df['api_call_sequence'] for api in seq)\n",
        "api_to_id = {api: index for index,api in enumerate(unique_api_calls)}\n",
        "\n",
        "train_df[\"encoded_sequence\"] = train_df[\"api_call_sequence\"].apply(lambda seq: [api_to_id[api] for api in seq])\n",
        "\n",
        "def pad_series(sequences,padding_value):\n",
        "    max_length = max([len(x) for x in sequences])\n",
        "    ret_value = np.full((len(sequences), max_length), padding_value, dtype=object)\n",
        "    for idx, seq in enumerate(sequences):\n",
        "        ret_value[idx, :len(seq)] = seq\n",
        "    return ret_value\n",
        "\n",
        "X_seq_id = pad_series(train_df['encoded_sequence'],0)\n",
        "y_seq_id = y_train\n",
        "\n",
        "# split training set to training and validate set\n",
        "X_seq_id_train, X_seq_id_val, y_seq_id_train, y_seq_id_val = train_test_split(X_seq_id, y_seq_id, test_size=0.3, random_state=42)\n",
        "\n",
        "# X_seq_id_train, y_seq_id_train\n",
        "# X_seq_id_val, y_seq_id_val\n",
        "# X_seq_id_test, y_seq_id_test"
      ]
    },
    {
      "cell_type": "markdown",
      "metadata": {
        "id": "ECM4YjnQG03-"
      },
      "source": [
        "Processing the test set.\n",
        "- managing out of vocabulary words\n",
        "- padding\n",
        "It has to be padded. The max length of the training set in 90, but on the test set it is 100. the only thing that we can do is to remove the extra values above 90."
      ]
    },
    {
      "cell_type": "code",
      "execution_count": null,
      "metadata": {
        "id": "cdJyUhwcG03-"
      },
      "outputs": [],
      "source": [
        "# To manage OOV words, in test set they will have a key not present in the dictionary\n",
        "UNKNOWN_API_ID = len(api_to_id)\n",
        "test_df[\"encoded_sequence\"] = test_df[\"api_call_sequence\"].apply(lambda seq: [api_to_id.get(api,UNKNOWN_API_ID) for api in seq])\n",
        "X_seq_id_test = pad_series(test_df['encoded_sequence'],0)\n",
        "y_seq_id_test = y_test\n",
        "\n",
        "X_seq_id_pad_test = X_seq_id_test[:,:90]"
      ]
    },
    {
      "cell_type": "code",
      "execution_count": null,
      "metadata": {
        "id": "4NmjsYD_G03_"
      },
      "outputs": [],
      "source": [
        "X_seq_id_train = np.array(X_seq_id_train, dtype=np.float32)\n",
        "X_seq_id_val = np.array(X_seq_id_val, dtype=np.float32)\n",
        "X_seq_id_pad_test = np.array(X_seq_id_pad_test, dtype=np.float32)\n",
        "\n",
        "\n",
        "X_seq_id_train_tensor = torch.tensor(X_seq_id_train, dtype=torch.float32)\n",
        "y_seq_id_train_tensor = torch.tensor(y_seq_id_train.tolist(), dtype=torch.long)\n",
        "X_seq_id_val_tensor = torch.tensor(X_seq_id_val, dtype=torch.float32)\n",
        "y_seq_id_val_tensor = torch.tensor(y_seq_id_val.tolist(), dtype=torch.long)\n",
        "\n",
        "X_seq_id_test_tensor = torch.tensor(X_seq_id_pad_test, dtype=torch.float32)\n",
        "y_seq_id_test_tensor = torch.tensor(y_seq_id_test.tolist(), dtype=torch.long)"
      ]
    },
    {
      "cell_type": "code",
      "execution_count": null,
      "metadata": {
        "id": "HP1Z_bNeG03_"
      },
      "outputs": [],
      "source": [
        "input_size = X_seq_id_train_tensor.shape[1]\n",
        "output_size = len(torch.unique(y_seq_id_train_tensor))"
      ]
    },
    {
      "cell_type": "code",
      "execution_count": null,
      "metadata": {
        "id": "U0AAUgSOG03_"
      },
      "outputs": [],
      "source": [
        "class FFNN1_Model(nn.Module):\n",
        "    def __init__(self, input_size, output_size, hidden_layers):\n",
        "        super(FFNN1_Model, self).__init__()\n",
        "        layers = []\n",
        "        prev_size = input_size\n",
        "        for hidden_size in hidden_layers:\n",
        "            layers.append(nn.Linear(prev_size, hidden_size))\n",
        "            layers.append(nn.ReLU())\n",
        "            prev_size = hidden_size\n",
        "        layers.append(nn.Linear(prev_size, output_size))\n",
        "        self.model = nn.Sequential(*layers)\n",
        "\n",
        "    def forward(self, x):\n",
        "        return self.model(x)"
      ]
    },
    {
      "cell_type": "code",
      "execution_count": null,
      "metadata": {
        "id": "98vuvIjxG03_"
      },
      "outputs": [],
      "source": [
        "# Training loop with early stopping\n",
        "def training_loop_with_minibatch(model, train_loader, val_loader, device, optimizer, criterion, num_epoch, patience, debug):\n",
        "    num_epochs = num_epoch\n",
        "    patience = patience  # Early stopping patience\n",
        "    best_model_state_dict = model.state_dict()\n",
        "    best_val_loss = float('inf')\n",
        "    patience_counter = 0\n",
        "\n",
        "    train_losses = []\n",
        "    val_losses = []\n",
        "\n",
        "    start_time = time.time()\n",
        "\n",
        "    for epoch in range(num_epochs):\n",
        "        # Training phase\n",
        "        model.train()\n",
        "        epoch_train_loss = 0.0\n",
        "\n",
        "        for X_batch, y_batch in train_loader:\n",
        "            X_batch, y_batch = X_batch.to(device), y_batch.to(device)\n",
        "            optimizer.zero_grad()\n",
        "            outputs = model(X_batch)\n",
        "            loss = criterion(outputs, y_batch)\n",
        "            loss.backward()\n",
        "            optimizer.step()\n",
        "            epoch_train_loss += loss.item()\n",
        "\n",
        "        train_losses.append(epoch_train_loss / len(train_loader))\n",
        "\n",
        "        # Validation phase\n",
        "        model.eval()\n",
        "        epoch_val_loss = 0.0\n",
        "\n",
        "        with torch.no_grad():\n",
        "            for X_batch, y_batch in val_loader:\n",
        "                X_batch, y_batch = X_batch.to(device), y_batch.to(device)\n",
        "                outputs = model(X_batch)\n",
        "                loss = criterion(outputs, y_batch)\n",
        "                epoch_val_loss += loss.item()\n",
        "\n",
        "        val_losses.append(epoch_val_loss / len(val_loader))\n",
        "\n",
        "        # print(f\"Epoch {epoch+1}/{num_epochs}, Train Loss: {train_losses[-1]:.4f}, Val Loss: {val_losses[-1]:.4f}\")\n",
        "        if (epoch + 1) % 10 == 0 and debug == True :\n",
        "            print(f'Epoch {epoch+1}/{num_epochs}, Train Loss: {train_losses[-1]:.4f}, Val Loss: {val_losses[-1]:.4f}')\n",
        "\n",
        "\n",
        "        # Early stopping check\n",
        "        if val_losses[-1] < best_val_loss:\n",
        "            best_val_loss = val_losses[-1]\n",
        "            patience_counter = 0\n",
        "            best_model_state_dict = model.state_dict()  # Save best model state\n",
        "        else:\n",
        "            patience_counter += 1\n",
        "\n",
        "        if patience_counter >= patience:\n",
        "            if debug == True:\n",
        "                print(\"Early stopping triggered.\")\n",
        "            break\n",
        "\n",
        "    end_time = time.time()\n",
        "    elapsed_time = end_time - start_time\n",
        "    if debug == True:\n",
        "        print(f\"Training completed in {elapsed_time:.2f} seconds.\")\n",
        "\n",
        "    # Load the best model state before returning\n",
        "    model.load_state_dict(best_model_state_dict)\n",
        "\n",
        "    # Plot training and validation losses\n",
        "    if debug == True:\n",
        "        plt.figure(figsize=(10, 5))\n",
        "        plt.plot(train_losses, label='Train Loss')\n",
        "        plt.plot(val_losses, label='Validation Loss')\n",
        "        plt.xlabel('Epoch')\n",
        "        plt.ylabel('Loss')\n",
        "        plt.title('Training and Validation Loss')\n",
        "        plt.yscale('log')\n",
        "        plt.legend()\n",
        "        plt.show()\n",
        "    return model, train_losses, val_losses # Return the trained model and losses\n"
      ]
    },
    {
      "cell_type": "code",
      "execution_count": null,
      "metadata": {
        "id": "GZvBtcSzG03_"
      },
      "outputs": [],
      "source": [
        "def testing_model(model, dataloader, device, debug):\n",
        "    \"\"\"\n",
        "    Evaluate the model on a given dataloader and compute accuracy.\n",
        "\n",
        "    Args:\n",
        "        model: The trained model.\n",
        "        dataloader: DataLoader for the dataset.\n",
        "        device: Device to run the model on (CPU or GPU).\n",
        "\n",
        "    Returns:\n",
        "        float: Accuracy of the model on the test dataset.\n",
        "    \"\"\"\n",
        "    # Record the start time\n",
        "    start_time = time.time()\n",
        "\n",
        "    model.eval()  # Set the model to evaluation mode\n",
        "    all_labels = []\n",
        "    all_predictions = []\n",
        "\n",
        "    with torch.no_grad():  # Disable gradient computation for efficiency\n",
        "        for inputs, labels in dataloader:\n",
        "            inputs, labels = inputs.to(device), labels.to(device)  # Move batch to GPU\n",
        "            outputs = model(inputs)\n",
        "            _, predicted = torch.max(outputs, 1)  # Get the class with highest score\n",
        "            all_labels.extend(labels.cpu().numpy())\n",
        "            all_predictions.extend(predicted.cpu().numpy())\n",
        "\n",
        "    accuracy = accuracy_score(all_labels, all_predictions) * 100\n",
        "\n",
        "    # Record the end time\n",
        "    end_time = time.time()\n",
        "    # Calculate the elapsed time\n",
        "    elapsed_time = end_time - start_time\n",
        "    if debug == True:\n",
        "        print(f'The function took {elapsed_time:.4f} seconds to execute.')\n",
        "\n",
        "    return accuracy, all_labels, all_predictions"
      ]
    },
    {
      "cell_type": "code",
      "execution_count": null,
      "metadata": {
        "id": "02zXVYKKG03_"
      },
      "outputs": [],
      "source": [
        "param_grid = {\n",
        "    'learning_rate': [0.001, 0.1, 1],\n",
        "    'hidden_layers': [\n",
        "        [32, 64],\n",
        "        [64, 32, 16],\n",
        "        [64,128,128,64]\n",
        "    ],\n",
        "    'batch_size': [16, 32,128],\n",
        "    'optimizer': [\n",
        "        {'name': 'SGD+Momentum(0.3)', 'opt': lambda params, lr: optim.SGD(params, lr=lr, momentum=0.3)},\n",
        "        {'name': 'SGD+Momentum(0.9)', 'opt': lambda params, lr: optim.SGD(params, lr=lr, momentum=0.9)},\n",
        "        {'name': 'AdamW', 'opt': lambda params, lr: optim.AdamW(params, lr=lr)}\n",
        "    ]\n",
        "}"
      ]
    },
    {
      "cell_type": "code",
      "execution_count": null,
      "metadata": {
        "id": "qJHyIFlhG03_",
        "outputId": "4c625d1b-f90a-46a3-cbda-d70285bad0de"
      },
      "outputs": [
        {
          "name": "stdout",
          "output_type": "stream",
          "text": [
            "Grid has 81 dimension\n",
            "\n",
            "0/81 Testing parameters: Hidden layers: [32, 64], Batch size: 16, Optimizer: SGD+Momentum(0.3), lr: 0.001) - Test acc: 97.86%\n",
            "1/81 Testing parameters: Hidden layers: [32, 64], Batch size: 16, Optimizer: SGD+Momentum(0.9), lr: 0.001) - Test acc: 97.74%\n",
            "2/81 Testing parameters: Hidden layers: [32, 64], Batch size: 16, Optimizer: AdamW, lr: 0.001) - Test acc: 97.96%\n",
            "3/81 Testing parameters: Hidden layers: [32, 64], Batch size: 16, Optimizer: SGD+Momentum(0.3), lr: 0.1) - Test acc: 97.54%\n",
            "4/81 Testing parameters: Hidden layers: [32, 64], Batch size: 16, Optimizer: SGD+Momentum(0.9), lr: 0.1) - Test acc: 97.54%\n",
            "5/81 Testing parameters: Hidden layers: [32, 64], Batch size: 16, Optimizer: AdamW, lr: 0.1) - Test acc: 97.54%\n",
            "6/81 Testing parameters: Hidden layers: [32, 64], Batch size: 16, Optimizer: SGD+Momentum(0.3), lr: 1) - Test acc: 97.54%\n",
            "7/81 Testing parameters: Hidden layers: [32, 64], Batch size: 16, Optimizer: SGD+Momentum(0.9), lr: 1) - Test acc: 97.54%\n",
            "8/81 Testing parameters: Hidden layers: [32, 64], Batch size: 16, Optimizer: AdamW, lr: 1) - Test acc: 97.54%\n",
            "9/81 Testing parameters: Hidden layers: [64, 32, 16], Batch size: 16, Optimizer: SGD+Momentum(0.3), lr: 0.001) - Test acc: 98.10%\n",
            "10/81 Testing parameters: Hidden layers: [64, 32, 16], Batch size: 16, Optimizer: SGD+Momentum(0.9), lr: 0.001) - Test acc: 97.93%\n",
            "11/81 Testing parameters: Hidden layers: [64, 32, 16], Batch size: 16, Optimizer: AdamW, lr: 0.001) - Test acc: 97.98%\n",
            "12/81 Testing parameters: Hidden layers: [64, 32, 16], Batch size: 16, Optimizer: SGD+Momentum(0.3), lr: 0.1) - Test acc: 97.54%\n",
            "13/81 Testing parameters: Hidden layers: [64, 32, 16], Batch size: 16, Optimizer: SGD+Momentum(0.9), lr: 0.1) - Test acc: 97.54%\n",
            "14/81 Testing parameters: Hidden layers: [64, 32, 16], Batch size: 16, Optimizer: AdamW, lr: 0.1) - Test acc: 97.54%\n",
            "15/81 Testing parameters: Hidden layers: [64, 32, 16], Batch size: 16, Optimizer: SGD+Momentum(0.3), lr: 1) - Test acc: 97.54%\n",
            "16/81 Testing parameters: Hidden layers: [64, 32, 16], Batch size: 16, Optimizer: SGD+Momentum(0.9), lr: 1) - Test acc: 97.54%\n",
            "17/81 Testing parameters: Hidden layers: [64, 32, 16], Batch size: 16, Optimizer: AdamW, lr: 1) - Test acc: 97.54%\n",
            "18/81 Testing parameters: Hidden layers: [64, 128, 128, 64], Batch size: 16, Optimizer: SGD+Momentum(0.3), lr: 0.001) - Test acc: 98.12%\n",
            "19/81 Testing parameters: Hidden layers: [64, 128, 128, 64], Batch size: 16, Optimizer: SGD+Momentum(0.9), lr: 0.001) - Test acc: 98.10%\n",
            "20/81 Testing parameters: Hidden layers: [64, 128, 128, 64], Batch size: 16, Optimizer: AdamW, lr: 0.001) - Test acc: 98.21%\n",
            "21/81 Testing parameters: Hidden layers: [64, 128, 128, 64], Batch size: 16, Optimizer: SGD+Momentum(0.3), lr: 0.1) - Test acc: 2.46%\n",
            "22/81 Testing parameters: Hidden layers: [64, 128, 128, 64], Batch size: 16, Optimizer: SGD+Momentum(0.9), lr: 0.1) - Test acc: 2.46%\n",
            "23/81 Testing parameters: Hidden layers: [64, 128, 128, 64], Batch size: 16, Optimizer: AdamW, lr: 0.1) - Test acc: 97.54%\n",
            "24/81 Testing parameters: Hidden layers: [64, 128, 128, 64], Batch size: 16, Optimizer: SGD+Momentum(0.3), lr: 1) - Test acc: 2.46%\n",
            "25/81 Testing parameters: Hidden layers: [64, 128, 128, 64], Batch size: 16, Optimizer: SGD+Momentum(0.9), lr: 1) - Test acc: 2.46%\n",
            "26/81 Testing parameters: Hidden layers: [64, 128, 128, 64], Batch size: 16, Optimizer: AdamW, lr: 1) - Test acc: 97.54%\n",
            "27/81 Testing parameters: Hidden layers: [32, 64], Batch size: 32, Optimizer: SGD+Momentum(0.3), lr: 0.001) - Test acc: 97.83%\n",
            "28/81 Testing parameters: Hidden layers: [32, 64], Batch size: 32, Optimizer: SGD+Momentum(0.9), lr: 0.001) - Test acc: 98.04%\n",
            "29/81 Testing parameters: Hidden layers: [32, 64], Batch size: 32, Optimizer: AdamW, lr: 0.001) - Test acc: 98.06%\n",
            "30/81 Testing parameters: Hidden layers: [32, 64], Batch size: 32, Optimizer: SGD+Momentum(0.3), lr: 0.1) - Test acc: 97.54%\n",
            "31/81 Testing parameters: Hidden layers: [32, 64], Batch size: 32, Optimizer: SGD+Momentum(0.9), lr: 0.1) - Test acc: 97.54%\n",
            "32/81 Testing parameters: Hidden layers: [32, 64], Batch size: 32, Optimizer: AdamW, lr: 0.1) - Test acc: 97.54%\n",
            "33/81 Testing parameters: Hidden layers: [32, 64], Batch size: 32, Optimizer: SGD+Momentum(0.3), lr: 1) - Test acc: 97.54%\n",
            "34/81 Testing parameters: Hidden layers: [32, 64], Batch size: 32, Optimizer: SGD+Momentum(0.9), lr: 1) - Test acc: 97.54%\n",
            "35/81 Testing parameters: Hidden layers: [32, 64], Batch size: 32, Optimizer: AdamW, lr: 1) - Test acc: 97.54%\n",
            "36/81 Testing parameters: Hidden layers: [64, 32, 16], Batch size: 32, Optimizer: SGD+Momentum(0.3), lr: 0.001) - Test acc: 97.81%\n",
            "37/81 Testing parameters: Hidden layers: [64, 32, 16], Batch size: 32, Optimizer: SGD+Momentum(0.9), lr: 0.001) - Test acc: 97.98%\n",
            "38/81 Testing parameters: Hidden layers: [64, 32, 16], Batch size: 32, Optimizer: AdamW, lr: 0.001) - Test acc: 97.82%\n",
            "39/81 Testing parameters: Hidden layers: [64, 32, 16], Batch size: 32, Optimizer: SGD+Momentum(0.3), lr: 0.1) - Test acc: 97.54%\n",
            "40/81 Testing parameters: Hidden layers: [64, 32, 16], Batch size: 32, Optimizer: SGD+Momentum(0.9), lr: 0.1) - Test acc: 97.54%\n",
            "41/81 Testing parameters: Hidden layers: [64, 32, 16], Batch size: 32, Optimizer: AdamW, lr: 0.1) - Test acc: 97.54%\n",
            "42/81 Testing parameters: Hidden layers: [64, 32, 16], Batch size: 32, Optimizer: SGD+Momentum(0.3), lr: 1) - Test acc: 97.54%\n",
            "43/81 Testing parameters: Hidden layers: [64, 32, 16], Batch size: 32, Optimizer: SGD+Momentum(0.9), lr: 1) - Test acc: 97.54%\n",
            "44/81 Testing parameters: Hidden layers: [64, 32, 16], Batch size: 32, Optimizer: AdamW, lr: 1) - Test acc: 97.54%\n",
            "45/81 Testing parameters: Hidden layers: [64, 128, 128, 64], Batch size: 32, Optimizer: SGD+Momentum(0.3), lr: 0.001) - Test acc: 98.26%\n",
            "46/81 Testing parameters: Hidden layers: [64, 128, 128, 64], Batch size: 32, Optimizer: SGD+Momentum(0.9), lr: 0.001) - Test acc: 98.27%\n",
            "47/81 Testing parameters: Hidden layers: [64, 128, 128, 64], Batch size: 32, Optimizer: AdamW, lr: 0.001) - Test acc: 97.99%\n",
            "48/81 Testing parameters: Hidden layers: [64, 128, 128, 64], Batch size: 32, Optimizer: SGD+Momentum(0.3), lr: 0.1) - Test acc: 2.46%\n",
            "49/81 Testing parameters: Hidden layers: [64, 128, 128, 64], Batch size: 32, Optimizer: SGD+Momentum(0.9), lr: 0.1) - Test acc: 97.54%\n",
            "50/81 Testing parameters: Hidden layers: [64, 128, 128, 64], Batch size: 32, Optimizer: AdamW, lr: 0.1) - Test acc: 97.54%\n",
            "51/81 Testing parameters: Hidden layers: [64, 128, 128, 64], Batch size: 32, Optimizer: SGD+Momentum(0.3), lr: 1) - Test acc: 2.46%\n",
            "52/81 Testing parameters: Hidden layers: [64, 128, 128, 64], Batch size: 32, Optimizer: SGD+Momentum(0.9), lr: 1) - Test acc: 2.46%\n",
            "53/81 Testing parameters: Hidden layers: [64, 128, 128, 64], Batch size: 32, Optimizer: AdamW, lr: 1) - Test acc: 97.54%\n",
            "54/81 Testing parameters: Hidden layers: [32, 64], Batch size: 128, Optimizer: SGD+Momentum(0.3), lr: 0.001) - Test acc: 97.93%\n",
            "55/81 Testing parameters: Hidden layers: [32, 64], Batch size: 128, Optimizer: SGD+Momentum(0.9), lr: 0.001) - Test acc: 97.39%\n",
            "56/81 Testing parameters: Hidden layers: [32, 64], Batch size: 128, Optimizer: AdamW, lr: 0.001) - Test acc: 97.79%\n",
            "57/81 Testing parameters: Hidden layers: [32, 64], Batch size: 128, Optimizer: SGD+Momentum(0.3), lr: 0.1) - Test acc: 97.54%\n",
            "58/81 Testing parameters: Hidden layers: [32, 64], Batch size: 128, Optimizer: SGD+Momentum(0.9), lr: 0.1) - Test acc: 97.54%\n",
            "59/81 Testing parameters: Hidden layers: [32, 64], Batch size: 128, Optimizer: AdamW, lr: 0.1) - Test acc: 97.54%\n",
            "60/81 Testing parameters: Hidden layers: [32, 64], Batch size: 128, Optimizer: SGD+Momentum(0.3), lr: 1) - Test acc: 97.54%\n",
            "61/81 Testing parameters: Hidden layers: [32, 64], Batch size: 128, Optimizer: SGD+Momentum(0.9), lr: 1) - Test acc: 97.54%\n",
            "62/81 Testing parameters: Hidden layers: [32, 64], Batch size: 128, Optimizer: AdamW, lr: 1) - Test acc: 97.54%\n",
            "63/81 Testing parameters: Hidden layers: [64, 32, 16], Batch size: 128, Optimizer: SGD+Momentum(0.3), lr: 0.001) - Test acc: 98.03%\n",
            "64/81 Testing parameters: Hidden layers: [64, 32, 16], Batch size: 128, Optimizer: SGD+Momentum(0.9), lr: 0.001) - Test acc: 98.15%\n",
            "65/81 Testing parameters: Hidden layers: [64, 32, 16], Batch size: 128, Optimizer: AdamW, lr: 0.001) - Test acc: 98.15%\n",
            "66/81 Testing parameters: Hidden layers: [64, 32, 16], Batch size: 128, Optimizer: SGD+Momentum(0.3), lr: 0.1) - Test acc: 97.54%\n",
            "67/81 Testing parameters: Hidden layers: [64, 32, 16], Batch size: 128, Optimizer: SGD+Momentum(0.9), lr: 0.1) - Test acc: 97.54%\n",
            "68/81 Testing parameters: Hidden layers: [64, 32, 16], Batch size: 128, Optimizer: AdamW, lr: 0.1) - Test acc: 97.54%\n",
            "69/81 Testing parameters: Hidden layers: [64, 32, 16], Batch size: 128, Optimizer: SGD+Momentum(0.3), lr: 1) - Test acc: 97.54%\n",
            "70/81 Testing parameters: Hidden layers: [64, 32, 16], Batch size: 128, Optimizer: SGD+Momentum(0.9), lr: 1) - Test acc: 97.54%\n",
            "71/81 Testing parameters: Hidden layers: [64, 32, 16], Batch size: 128, Optimizer: AdamW, lr: 1) - Test acc: 97.54%\n",
            "72/81 Testing parameters: Hidden layers: [64, 128, 128, 64], Batch size: 128, Optimizer: SGD+Momentum(0.3), lr: 0.001) - Test acc: 97.79%\n",
            "73/81 Testing parameters: Hidden layers: [64, 128, 128, 64], Batch size: 128, Optimizer: SGD+Momentum(0.9), lr: 0.001) - Test acc: 98.18%\n",
            "74/81 Testing parameters: Hidden layers: [64, 128, 128, 64], Batch size: 128, Optimizer: AdamW, lr: 0.001) - Test acc: 97.70%\n",
            "75/81 Testing parameters: Hidden layers: [64, 128, 128, 64], Batch size: 128, Optimizer: SGD+Momentum(0.3), lr: 0.1) - Test acc: 98.08%\n",
            "76/81 Testing parameters: Hidden layers: [64, 128, 128, 64], Batch size: 128, Optimizer: SGD+Momentum(0.9), lr: 0.1) - Test acc: 2.46%\n",
            "77/81 Testing parameters: Hidden layers: [64, 128, 128, 64], Batch size: 128, Optimizer: AdamW, lr: 0.1) - Test acc: 97.54%\n",
            "78/81 Testing parameters: Hidden layers: [64, 128, 128, 64], Batch size: 128, Optimizer: SGD+Momentum(0.3), lr: 1) - Test acc: 2.46%\n",
            "79/81 Testing parameters: Hidden layers: [64, 128, 128, 64], Batch size: 128, Optimizer: SGD+Momentum(0.9), lr: 1) - Test acc: 2.46%\n",
            "80/81 Testing parameters: Hidden layers: [64, 128, 128, 64], Batch size: 128, Optimizer: AdamW, lr: 1) - Test acc: 97.54%\n"
          ]
        }
      ],
      "source": [
        "grid = list(ParameterGrid(param_grid))\n",
        "print(f\"Grid has {len(grid)} dimension\\n\")\n",
        "best_model = None\n",
        "best_accuracy = 0\n",
        "best_params = None\n",
        "best_train_losses = None\n",
        "best_val_losses = None\n",
        "best_test_accuracy = 0\n",
        "best_test_labels = []\n",
        "best_test_preds = []\n",
        "\n",
        "all_train_losses = []\n",
        "all_val_losses = []\n",
        "all_test_accuracies = []\n",
        "\n",
        "g = torch.Generator()\n",
        "g.manual_seed(42)\n",
        "\n",
        "for idx, params in enumerate(grid):\n",
        "    print(f\"{idx}/{len(grid)} Testing parameters: \"\n",
        "          f\"Hidden layers: {params['hidden_layers']}, \"\n",
        "          f\"Batch size: {params['batch_size']}, \"\n",
        "          f\"Optimizer: {params['optimizer']['name']}, \"\n",
        "          f\"lr: {params['learning_rate']})\",end = \"\")\n",
        "\n",
        "    model = FFNN1_Model(input_size, output_size,params['hidden_layers'])\n",
        "    criterion = nn.CrossEntropyLoss()\n",
        "    optimizer = params['optimizer']['opt'](model.parameters(), lr=params['learning_rate'])\n",
        "    device = torch.device(\"cuda\" if torch.cuda.is_available() else \"cpu\")\n",
        "    model = model.to(device)\n",
        "\n",
        "    train_dataset = TensorDataset(X_seq_id_train_tensor, y_seq_id_train_tensor)\n",
        "    val_dataset = TensorDataset(X_seq_id_val_tensor, y_seq_id_val_tensor)\n",
        "    test_dataset = TensorDataset(X_seq_id_test_tensor, y_seq_id_test_tensor)\n",
        "    train_loader = DataLoader(train_dataset, batch_size=params['batch_size'], shuffle=True, generator=g)\n",
        "    val_loader = DataLoader(val_dataset, batch_size=params['batch_size'], shuffle=False)\n",
        "    test_loader = DataLoader(test_dataset, batch_size=params['batch_size'], shuffle=False)\n",
        "\n",
        "    model, train_losses, val_losses = training_loop_with_minibatch(model, train_loader, val_loader, device, optimizer, criterion,num_epoch = 100, patience = 20, debug = False)\n",
        "    all_train_losses.append(train_losses)\n",
        "    all_val_losses.append(val_losses)\n",
        "\n",
        "    val_accuracy, _, _ = testing_model(model, val_loader, device, debug = False)\n",
        "    #print(f\"\\tVal Accuracy: {val_accuracy:.2f}%\")\n",
        "    test_accuracy, test_labels, test_preds = testing_model(model, test_loader, device, debug = False)\n",
        "    #print(f\"\\tTest Accuracy: {test_accuracy:.2f}%\")\n",
        "    print(f\" - Test acc: {test_accuracy:.2f}%\")\n",
        "    #print(classification_report(test_labels, test_preds))\n",
        "\n",
        "    if test_accuracy > best_test_accuracy:\n",
        "        best_test_accuracy = test_accuracy\n",
        "        best_test_labels = test_labels\n",
        "        best_test_preds = test_preds\n",
        "        best_model = model\n",
        "        best_params = params\n",
        "        best_train_losses = train_losses\n",
        "        best_val_losses = val_losses\n"
      ]
    },
    {
      "cell_type": "code",
      "execution_count": null,
      "metadata": {
        "id": "sF33YA2DG04A",
        "outputId": "226c7cbf-c862-4216-b17a-58c78da6ea0b"
      },
      "outputs": [
        {
          "name": "stdout",
          "output_type": "stream",
          "text": [
            "\n",
            "Best model parameters: Hidden layers: [64, 128, 128, 64], Batch size: 32, Optimizer: SGD+Momentum(0.9), lr: 0.001)\n",
            "Best test accuracy: 98.27%\n",
            "              precision    recall  f1-score   support\n",
            "\n",
            "           0       0.79      0.40      0.53       324\n",
            "           1       0.99      1.00      0.99     12839\n",
            "\n",
            "    accuracy                           0.98     13163\n",
            "   macro avg       0.89      0.70      0.76     13163\n",
            "weighted avg       0.98      0.98      0.98     13163\n",
            "\n"
          ]
        },
        {
          "data": {
            "image/png": "[encoded data removed]",
            "text/plain": [
              "<Figure size 1000x500 with 1 Axes>"
            ]
          },
          "metadata": {},
          "output_type": "display_data"
        }
      ],
      "source": [
        "print(f\"\\nBest model parameters: Hidden layers: {best_params['hidden_layers']}, \"\n",
        "          f\"Batch size: {best_params['batch_size']}, \"\n",
        "          f\"Optimizer: {best_params['optimizer']['name']}, \"\n",
        "          f\"lr: {best_params['learning_rate']})\")\n",
        "print(f\"Best test accuracy: {best_test_accuracy:.2f}%\")\n",
        "print(classification_report(best_test_labels, best_test_preds))\n",
        "\n",
        "plt.figure(figsize=(10, 5))\n",
        "plt.plot(best_train_losses, label='Train Loss')\n",
        "plt.plot(best_val_losses, label='Validation Loss')\n",
        "plt.xlabel('Epoch')\n",
        "plt.ylabel('Loss')\n",
        "plt.title('Training and Validation Loss')\n",
        "plt.legend()\n",
        "plt.show()\n"
      ]
    },
    {
      "cell_type": "markdown",
      "metadata": {
        "id": "EDyNsOacG04A"
      },
      "source": [
        "### learnable embeddings"
      ]
    },
    {
      "cell_type": "code",
      "execution_count": null,
      "metadata": {
        "id": "JevRbJYEG04A"
      },
      "outputs": [],
      "source": []
    },
    {
      "cell_type": "markdown",
      "metadata": {
        "id": "RAWxTfJqG04B"
      },
      "source": [
        "## Task 3: Recursive Neural Network (RNN)\n",
        "Next, use a Recursive Neural Network (RNN) to model your problem.\n",
        "- Do you still have to pad your data? If yes, how?\n",
        "- Do you have to truncate the testing sequences? Justify your answer with your under- standing of why it is/it is not the case.\n",
        "- Is there any memory advantage on using an RNN wrt a FF when you process your dataset? Why?\n",
        "- Start with a simple one-directional RNN. Is your network fast as the FF? If not, where do you think that time-overhead comes from?\n",
        "- Train and tne three variations of networks:\n",
        "  * Simple one-directional RNN\n",
        "  * Bi-Directional RNN\n",
        "  * LSTM (choose whether you want it one-directional or bi-directional)\n",
        "\n",
        "  Can you see any differences during their training? Can you obtain the same"
      ]
    },
    {
      "cell_type": "code",
      "execution_count": 4,
      "metadata": {
        "id": "bBGvRRgdG04B"
      },
      "outputs": [],
      "source": [
        "dataset_url = 'https://raw.githubusercontent.com/PierfrancescoElia/AICyberLabs/refs/heads/main/Lab02/train.json'\n",
        "train_df = pd.read_json(dataset_url)\n",
        "dataset_url = 'https://raw.githubusercontent.com/PierfrancescoElia/AICyberLabs/refs/heads/main/Lab02/test.json'\n",
        "test_df = pd.read_json(dataset_url)"
      ]
    },
    {
      "cell_type": "code",
      "source": [
        "train_df['seq_length'] = train_df['api_call_sequence'].apply(len)\n",
        "test_df['seq_length'] = test_df['api_call_sequence'].apply(len)\n",
        "sequences = train_df['api_call_sequence'].tolist()\n",
        "vocabulary = set()\n",
        "for seq in sequences:\n",
        "    vocabulary.update(seq)\n",
        "vocabulary = sorted(list(vocabulary))  # Convert to sorted list for consistent indexing\n",
        "# Create Mapping\n",
        "api_to_index = {api: index for index, api in enumerate(vocabulary)}\n",
        "print(api_to_index)"
      ],
      "metadata": {
        "colab": {
          "base_uri": "https://localhost:8080/"
        },
        "id": "nClPGLzHyUiB",
        "outputId": "78d0a4e5-9235-408d-e504-fb85819a96d6"
      },
      "execution_count": 8,
      "outputs": [
        {
          "output_type": "stream",
          "name": "stdout",
          "text": [
            "{'CertOpenStore': 0, 'CertOpenSystemStoreW': 1, 'CoCreateInstance': 2, 'CoCreateInstanceEx': 3, 'CoGetClassObject': 4, 'CoInitializeEx': 5, 'CoInitializeSecurity': 6, 'CoUninitialize': 7, 'CopyFileA': 8, 'CopyFileExW': 9, 'CopyFileW': 10, 'CreateActCtxW': 11, 'CreateDirectoryW': 12, 'CreateJobObjectW': 13, 'CreateProcessInternalW': 14, 'CreateServiceA': 15, 'CreateServiceW': 16, 'CreateThread': 17, 'CreateToolhelp32Snapshot': 18, 'CryptAcquireContextA': 19, 'CryptAcquireContextW': 20, 'CryptCreateHash': 21, 'CryptDecodeObjectEx': 22, 'CryptDecrypt': 23, 'CryptEncrypt': 24, 'CryptExportKey': 25, 'CryptGenKey': 26, 'CryptHashData': 27, 'CryptProtectData': 28, 'CryptProtectMemory': 29, 'DeleteFileW': 30, 'DeleteUrlCacheEntryA': 31, 'DeleteUrlCacheEntryW': 32, 'DeviceIoControl': 33, 'DnsQuery_A': 34, 'DrawTextExA': 35, 'DrawTextExW': 36, 'EnumServicesStatusA': 37, 'EnumWindows': 38, 'FindFirstFileExA': 39, 'FindFirstFileExW': 40, 'FindResourceA': 41, 'FindResourceExA': 42, 'FindResourceExW': 43, 'FindResourceW': 44, 'FindWindowA': 45, 'FindWindowExA': 46, 'FindWindowExW': 47, 'FindWindowW': 48, 'GetAdaptersAddresses': 49, 'GetAdaptersInfo': 50, 'GetAddrInfoW': 51, 'GetAsyncKeyState': 52, 'GetBestInterfaceEx': 53, 'GetComputerNameA': 54, 'GetComputerNameW': 55, 'GetCursorPos': 56, 'GetDiskFreeSpaceExW': 57, 'GetDiskFreeSpaceW': 58, 'GetFileAttributesExW': 59, 'GetFileAttributesW': 60, 'GetFileInformationByHandle': 61, 'GetFileSize': 62, 'GetFileSizeEx': 63, 'GetFileType': 64, 'GetFileVersionInfoExW': 65, 'GetFileVersionInfoSizeExW': 66, 'GetFileVersionInfoSizeW': 67, 'GetFileVersionInfoW': 68, 'GetForegroundWindow': 69, 'GetKeyState': 70, 'GetKeyboardState': 71, 'GetNativeSystemInfo': 72, 'GetShortPathNameW': 73, 'GetSystemDirectoryA': 74, 'GetSystemDirectoryW': 75, 'GetSystemInfo': 76, 'GetSystemMetrics': 77, 'GetSystemTimeAsFileTime': 78, 'GetSystemWindowsDirectoryA': 79, 'GetSystemWindowsDirectoryW': 80, 'GetTempPathW': 81, 'GetTimeZoneInformation': 82, 'GetUserNameA': 83, 'GetUserNameExA': 84, 'GetUserNameExW': 85, 'GetUserNameW': 86, 'GetVolumeNameForVolumeMountPointW': 87, 'GetVolumePathNameW': 88, 'GetVolumePathNamesForVolumeNameW': 89, 'GlobalMemoryStatus': 90, 'GlobalMemoryStatusEx': 91, 'HttpOpenRequestA': 92, 'HttpOpenRequestW': 93, 'HttpQueryInfoA': 94, 'HttpSendRequestA': 95, 'IWbemServices_ExecMethod': 96, 'IWbemServices_ExecQuery': 97, 'InternetCloseHandle': 98, 'InternetConnectA': 99, 'InternetConnectW': 100, 'InternetCrackUrlA': 101, 'InternetCrackUrlW': 102, 'InternetGetConnectedState': 103, 'InternetOpenA': 104, 'InternetOpenUrlA': 105, 'InternetOpenUrlW': 106, 'InternetOpenW': 107, 'InternetQueryOptionA': 108, 'InternetReadFile': 109, 'InternetSetOptionA': 110, 'InternetSetStatusCallback': 111, 'IsDebuggerPresent': 112, 'LdrGetDllHandle': 113, 'LdrGetProcedureAddress': 114, 'LdrLoadDll': 115, 'LdrUnloadDll': 116, 'LoadResource': 117, 'LoadStringA': 118, 'LoadStringW': 119, 'LookupAccountSidW': 120, 'LookupPrivilegeValueW': 121, 'MessageBoxTimeoutA': 122, 'MessageBoxTimeoutW': 123, 'Module32FirstW': 124, 'Module32NextW': 125, 'MoveFileWithProgressW': 126, 'NetUserGetInfo': 127, 'NetUserGetLocalGroups': 128, 'NtAllocateVirtualMemory': 129, 'NtClose': 130, 'NtCreateFile': 131, 'NtCreateKey': 132, 'NtCreateMutant': 133, 'NtCreateSection': 134, 'NtCreateThreadEx': 135, 'NtDelayExecution': 136, 'NtDeviceIoControlFile': 137, 'NtDuplicateObject': 138, 'NtEnumerateKey': 139, 'NtEnumerateValueKey': 140, 'NtFreeVirtualMemory': 141, 'NtGetContextThread': 142, 'NtLoadKey': 143, 'NtMapViewOfSection': 144, 'NtOpenDirectoryObject': 145, 'NtOpenFile': 146, 'NtOpenKey': 147, 'NtOpenKeyEx': 148, 'NtOpenMutant': 149, 'NtOpenProcess': 150, 'NtOpenSection': 151, 'NtOpenThread': 152, 'NtProtectVirtualMemory': 153, 'NtQueryAttributesFile': 154, 'NtQueryDirectoryFile': 155, 'NtQueryFullAttributesFile': 156, 'NtQueryInformationFile': 157, 'NtQueryKey': 158, 'NtQuerySystemInformation': 159, 'NtQueryValueKey': 160, 'NtQueueApcThread': 161, 'NtReadFile': 162, 'NtReadVirtualMemory': 163, 'NtResumeThread': 164, 'NtSetContextThread': 165, 'NtSetInformationFile': 166, 'NtSetValueKey': 167, 'NtSuspendThread': 168, 'NtTerminateProcess': 169, 'NtTerminateThread': 170, 'NtUnmapViewOfSection': 171, 'NtWriteFile': 172, 'NtWriteVirtualMemory': 173, 'OleInitialize': 174, 'OpenSCManagerA': 175, 'OpenSCManagerW': 176, 'OpenServiceA': 177, 'OpenServiceW': 178, 'OutputDebugStringA': 179, 'Process32FirstW': 180, 'Process32NextW': 181, 'ReadProcessMemory': 182, 'RegCloseKey': 183, 'RegCreateKeyExA': 184, 'RegCreateKeyExW': 185, 'RegDeleteKeyW': 186, 'RegDeleteValueA': 187, 'RegDeleteValueW': 188, 'RegEnumKeyExA': 189, 'RegEnumKeyExW': 190, 'RegEnumKeyW': 191, 'RegEnumValueA': 192, 'RegEnumValueW': 193, 'RegOpenKeyExA': 194, 'RegOpenKeyExW': 195, 'RegQueryInfoKeyA': 196, 'RegQueryInfoKeyW': 197, 'RegQueryValueExA': 198, 'RegQueryValueExW': 199, 'RegSetValueExA': 200, 'RegSetValueExW': 201, 'RegisterHotKey': 202, 'RemoveDirectoryA': 203, 'RemoveDirectoryW': 204, 'RtlAddVectoredExceptionHandler': 205, 'RtlDecompressBuffer': 206, 'SHGetFolderPathW': 207, 'SHGetSpecialFolderLocation': 208, 'SearchPathW': 209, 'SendNotifyMessageW': 210, 'SetEndOfFile': 211, 'SetErrorMode': 212, 'SetFileAttributesW': 213, 'SetFileInformationByHandle': 214, 'SetFilePointer': 215, 'SetFilePointerEx': 216, 'SetFileTime': 217, 'SetInformationJobObject': 218, 'SetStdHandle': 219, 'SetUnhandledExceptionFilter': 220, 'SetWindowsHookExA': 221, 'SetWindowsHookExW': 222, 'ShellExecuteExW': 223, 'SizeofResource': 224, 'StartServiceA': 225, 'StartServiceW': 226, 'Thread32First': 227, 'Thread32Next': 228, 'UnhookWindowsHookEx': 229, 'UuidCreate': 230, 'WSASocketW': 231, 'WSAStartup': 232, 'WriteConsoleA': 233, 'WriteConsoleW': 234, 'WriteProcessMemory': 235, '__exception__': 236, 'bind': 237, 'closesocket': 238, 'connect': 239, 'getaddrinfo': 240, 'gethostbyname': 241, 'getsockname': 242, 'ioctlsocket': 243, 'listen': 244, 'recv': 245, 'select': 246, 'send': 247, 'sendto': 248, 'setsockopt': 249, 'shutdown': 250, 'socket': 251, 'timeGetTime': 252}\n"
          ]
        }
      ]
    },
    {
      "cell_type": "code",
      "source": [
        "sns.set(style=\"darkgrid\")\n",
        "fig, axs = plt.subplots(1, 2, figsize=(14, 5))\n",
        "sns.histplot(data=train_df, x='seq_length', kde=True, color=\"skyblue\", label='Train', ax=axs[0])\n",
        "sns.histplot(data=test_df, x='seq_length', kde=True, color=\"orange\", label='Test', ax=axs[0])\n",
        "axs[0].set_title(\"API Call Sequence Lengths (Train vs Test)\")\n",
        "axs[0].legend()\n",
        "train_df['split'] = 'Train'\n",
        "test_df['split'] = 'Test'\n",
        "combined = pd.concat([train_df[['is_malware', 'split']], test_df[['is_malware', 'split']]])\n",
        "\n",
        "sns.countplot(data=combined, x='is_malware', hue='split', palette=\"Set2\", ax=axs[1])\n",
        "axs[1].set_title(\"Malware Class Distribution\")\n",
        "axs[1].set_xticklabels(['Not Malware (0)', 'Malware (1)'])\n",
        "\n",
        "plt.tight_layout()\n",
        "plt.show()"
      ],
      "metadata": {
        "id": "Qmv4vGyDzv_Q",
        "outputId": "dcf8d692-26d9-4864-abf3-dd21b4f29df7",
        "colab": {
          "base_uri": "https://localhost:8080/",
          "height": 383
        }
      },
      "execution_count": 9,
      "outputs": [
        {
          "output_type": "stream",
          "name": "stderr",
          "text": [
            "<ipython-input-9-d9ddb6b299fb>:13: UserWarning: set_ticklabels() should only be used with a fixed number of ticks, i.e. after set_ticks() or using a FixedLocator.\n",
            "  axs[1].set_xticklabels(['Not Malware (0)', 'Malware (1)'])\n"
          ]
        },
        {
          "output_type": "display_data",
          "data": {
            "text/plain": [
              "<Figure size 1400x500 with 2 Axes>"
            ],
            "image/png": "[encoded data removed]"
          },
          "metadata": {}
        }
      ]
    },
    {
      "cell_type": "code",
      "source": [
        "train_size = int(0.8 * len(train_df))"
      ],
      "metadata": {
        "id": "zOwNn2lC40MB"
      },
      "execution_count": 10,
      "outputs": []
    },
    {
      "cell_type": "code",
      "source": [
        "df_train = train_df.iloc[:train_size].copy()\n",
        "df_val = train_df.iloc[train_size:].copy()\n",
        "print(df_train.shape)\n",
        "print(df_val.shape)\n",
        "print(df_train)"
      ],
      "metadata": {
        "id": "o19tOK6-5gAo",
        "outputId": "fa7ccf58-7613-4a09-dd56-b6b738f5244b",
        "colab": {
          "base_uri": "https://localhost:8080/"
        }
      },
      "execution_count": 19,
      "outputs": [
        {
          "output_type": "stream",
          "name": "stdout",
          "text": [
            "(24570, 5)\n",
            "(6143, 5)\n",
            "                                md5hash  \\\n",
            "0      aaec2a99e23b2478ce5ec7f9b43c840c   \n",
            "1      14a9db02dd903a76adb275cf45d10413   \n",
            "2      70f77a07109abab1983d98214f4eb199   \n",
            "3      fa67eebd3047eb2a4c9379623219d58d   \n",
            "4      d9209cdfe4fd24c6f2a17acdafa558a5   \n",
            "...                                 ...   \n",
            "24565  14cd3231b27bf79dded31a78c3febe44   \n",
            "24566  764482604d5ad4730c2495d1c9f3b01b   \n",
            "24567  8ad23327f1d58fe5840de51409d0d286   \n",
            "24568  0452ac30d1220353af5284383baced85   \n",
            "24569  abf9884783fd31e0fd40528e02299c07   \n",
            "\n",
            "                                       api_call_sequence  is_malware  \\\n",
            "0      [NtClose, NtOpenKey, NtQueryValueKey, NtClose,...           1   \n",
            "1      [GetSystemTimeAsFileTime, LdrLoadDll, LdrGetPr...           1   \n",
            "2      [RegOpenKeyExA, NtOpenKey, NtQueryValueKey, Nt...           1   \n",
            "3      [RegOpenKeyExA, NtOpenKey, NtQueryValueKey, Nt...           1   \n",
            "4      [NtClose, NtOpenKey, NtQueryValueKey, NtClose,...           1   \n",
            "...                                                  ...         ...   \n",
            "24565  [GetSystemTimeAsFileTime, LdrLoadDll, LdrGetPr...           1   \n",
            "24566  [GetSystemTimeAsFileTime, LdrLoadDll, LdrGetPr...           1   \n",
            "24567  [GetSystemTimeAsFileTime, NtAllocateVirtualMem...           1   \n",
            "24568  [GetSystemTimeAsFileTime, LdrLoadDll, LdrGetPr...           1   \n",
            "24569  [GetSystemTimeAsFileTime, LdrLoadDll, LdrGetPr...           1   \n",
            "\n",
            "       seq_length  split  \n",
            "0              73  Train  \n",
            "1              88  Train  \n",
            "2              79  Train  \n",
            "3              71  Train  \n",
            "4              63  Train  \n",
            "...           ...    ...  \n",
            "24565          65  Train  \n",
            "24566          61  Train  \n",
            "24567          68  Train  \n",
            "24568          82  Train  \n",
            "24569          69  Train  \n",
            "\n",
            "[24570 rows x 5 columns]\n"
          ]
        }
      ]
    },
    {
      "cell_type": "code",
      "source": [
        "numerical_cols = df_train.select_dtypes(include=['number']).columns.tolist()\n",
        "if 'api_call_sequence' in numerical_cols:\n",
        "    numerical_cols.remove('api_call_sequence')\n",
        "\n",
        "scaler = MinMaxScaler()\n",
        "\n",
        "df_train_scaled = df_train.copy()\n",
        "df_val_scaled = df_val.copy()\n",
        "df_test_scaled = test_df.copy()\n",
        "\n",
        "if numerical_cols:\n",
        "    df_train_scaled[numerical_cols] = scaler.fit_transform(df_train[numerical_cols])\n",
        "    df_val_scaled[numerical_cols] = scaler.transform(df_val[numerical_cols])\n",
        "    df_test_scaled[numerical_cols] = scaler.transform(test_df[numerical_cols])\n",
        "else:\n",
        "    print(\"No numerical columns found to scale.\")\n",
        "df_train_scaled.head(10)"
      ],
      "metadata": {
        "colab": {
          "base_uri": "https://localhost:8080/",
          "height": 371
        },
        "id": "OYeFaJM25sbn",
        "outputId": "55499b7f-4d92-4f1e-f287-773a7373577a"
      },
      "execution_count": 18,
      "outputs": [
        {
          "output_type": "execute_result",
          "data": {
            "text/plain": [
              "                            md5hash  \\\n",
              "0  aaec2a99e23b2478ce5ec7f9b43c840c   \n",
              "1  14a9db02dd903a76adb275cf45d10413   \n",
              "2  70f77a07109abab1983d98214f4eb199   \n",
              "3  fa67eebd3047eb2a4c9379623219d58d   \n",
              "4  d9209cdfe4fd24c6f2a17acdafa558a5   \n",
              "5  a0ceb320074d8b416cd70282e149c785   \n",
              "6  a6066565c151652483e99c5e129d4b17   \n",
              "7  087c6220fb60887f444b586221e0d3ed   \n",
              "8  a5be5336f78ac2105fba8dc6a7c792c9   \n",
              "9  0ddba1e741e223f85c849fd4e29d81c7   \n",
              "\n",
              "                                   api_call_sequence  is_malware  seq_length  \\\n",
              "0  [NtClose, NtOpenKey, NtQueryValueKey, NtClose,...         1.0    0.433333   \n",
              "1  [GetSystemTimeAsFileTime, LdrLoadDll, LdrGetPr...         1.0    0.933333   \n",
              "2  [RegOpenKeyExA, NtOpenKey, NtQueryValueKey, Nt...         1.0    0.633333   \n",
              "3  [RegOpenKeyExA, NtOpenKey, NtQueryValueKey, Nt...         1.0    0.366667   \n",
              "4  [NtClose, NtOpenKey, NtQueryValueKey, NtClose,...         1.0    0.100000   \n",
              "5  [RegOpenKeyExA, NtOpenKey, NtQueryValueKey, Nt...         1.0    0.366667   \n",
              "6  [RegOpenKeyExA, NtOpenKey, NtQueryValueKey, Nt...         1.0    0.700000   \n",
              "7  [GetSystemTimeAsFileTime, NtAllocateVirtualMem...         1.0    0.933333   \n",
              "8  [GetSystemTimeAsFileTime, LdrGetDllHandle, Ldr...         1.0    0.466667   \n",
              "9  [RegOpenKeyExA, NtOpenKey, NtQueryValueKey, Nt...         1.0    0.033333   \n",
              "\n",
              "   split                                            encoded  \n",
              "0  Train  [130, 147, 160, 130, 147, 160, 130, 113, 114, ...  \n",
              "1  Train  [78, 115, 114, 115, 114, 113, 114, 113, 114, 2...  \n",
              "2  Train  [194, 147, 160, 130, 147, 160, 130, 154, 118, ...  \n",
              "3  Train  [194, 147, 160, 130, 147, 160, 130, 154, 118, ...  \n",
              "4  Train  [130, 147, 160, 130, 147, 160, 130, 113, 114, ...  \n",
              "5  Train  [194, 147, 160, 130, 147, 160, 130, 154, 118, ...  \n",
              "6  Train  [194, 147, 160, 130, 147, 160, 130, 154, 118, ...  \n",
              "7  Train  [78, 129, 141, 129, 113, 114, 113, 129, 220, 1...  \n",
              "8  Train  [78, 113, 114, 220, 115, 114, 72, 116, 174, 19...  \n",
              "9  Train  [194, 147, 160, 130, 147, 160, 130, 154, 118, ...  "
            ],
            "text/html": [
              "\n",
              "  <div id=\"df-080905fa-fde3-416c-934d-d0ad4852c3b4\" class=\"colab-df-container\">\n",
              "    <div>\n",
              "<style scoped>\n",
              "    .dataframe tbody tr th:only-of-type {\n",
              "        vertical-align: middle;\n",
              "    }\n",
              "\n",
              "    .dataframe tbody tr th {\n",
              "        vertical-align: top;\n",
              "    }\n",
              "\n",
              "    .dataframe thead th {\n",
              "        text-align: right;\n",
              "    }\n",
              "</style>\n",
              "<table border=\"1\" class=\"dataframe\">\n",
              "  <thead>\n",
              "    <tr style=\"text-align: right;\">\n",
              "      <th></th>\n",
              "      <th>md5hash</th>\n",
              "      <th>api_call_sequence</th>\n",
              "      <th>is_malware</th>\n",
              "      <th>seq_length</th>\n",
              "      <th>split</th>\n",
              "      <th>encoded</th>\n",
              "    </tr>\n",
              "  </thead>\n",
              "  <tbody>\n",
              "    <tr>\n",
              "      <th>0</th>\n",
              "      <td>aaec2a99e23b2478ce5ec7f9b43c840c</td>\n",
              "      <td>[NtClose, NtOpenKey, NtQueryValueKey, NtClose,...</td>\n",
              "      <td>1.0</td>\n",
              "      <td>0.433333</td>\n",
              "      <td>Train</td>\n",
              "      <td>[130, 147, 160, 130, 147, 160, 130, 113, 114, ...</td>\n",
              "    </tr>\n",
              "    <tr>\n",
              "      <th>1</th>\n",
              "      <td>14a9db02dd903a76adb275cf45d10413</td>\n",
              "      <td>[GetSystemTimeAsFileTime, LdrLoadDll, LdrGetPr...</td>\n",
              "      <td>1.0</td>\n",
              "      <td>0.933333</td>\n",
              "      <td>Train</td>\n",
              "      <td>[78, 115, 114, 115, 114, 113, 114, 113, 114, 2...</td>\n",
              "    </tr>\n",
              "    <tr>\n",
              "      <th>2</th>\n",
              "      <td>70f77a07109abab1983d98214f4eb199</td>\n",
              "      <td>[RegOpenKeyExA, NtOpenKey, NtQueryValueKey, Nt...</td>\n",
              "      <td>1.0</td>\n",
              "      <td>0.633333</td>\n",
              "      <td>Train</td>\n",
              "      <td>[194, 147, 160, 130, 147, 160, 130, 154, 118, ...</td>\n",
              "    </tr>\n",
              "    <tr>\n",
              "      <th>3</th>\n",
              "      <td>fa67eebd3047eb2a4c9379623219d58d</td>\n",
              "      <td>[RegOpenKeyExA, NtOpenKey, NtQueryValueKey, Nt...</td>\n",
              "      <td>1.0</td>\n",
              "      <td>0.366667</td>\n",
              "      <td>Train</td>\n",
              "      <td>[194, 147, 160, 130, 147, 160, 130, 154, 118, ...</td>\n",
              "    </tr>\n",
              "    <tr>\n",
              "      <th>4</th>\n",
              "      <td>d9209cdfe4fd24c6f2a17acdafa558a5</td>\n",
              "      <td>[NtClose, NtOpenKey, NtQueryValueKey, NtClose,...</td>\n",
              "      <td>1.0</td>\n",
              "      <td>0.100000</td>\n",
              "      <td>Train</td>\n",
              "      <td>[130, 147, 160, 130, 147, 160, 130, 113, 114, ...</td>\n",
              "    </tr>\n",
              "    <tr>\n",
              "      <th>5</th>\n",
              "      <td>a0ceb320074d8b416cd70282e149c785</td>\n",
              "      <td>[RegOpenKeyExA, NtOpenKey, NtQueryValueKey, Nt...</td>\n",
              "      <td>1.0</td>\n",
              "      <td>0.366667</td>\n",
              "      <td>Train</td>\n",
              "      <td>[194, 147, 160, 130, 147, 160, 130, 154, 118, ...</td>\n",
              "    </tr>\n",
              "    <tr>\n",
              "      <th>6</th>\n",
              "      <td>a6066565c151652483e99c5e129d4b17</td>\n",
              "      <td>[RegOpenKeyExA, NtOpenKey, NtQueryValueKey, Nt...</td>\n",
              "      <td>1.0</td>\n",
              "      <td>0.700000</td>\n",
              "      <td>Train</td>\n",
              "      <td>[194, 147, 160, 130, 147, 160, 130, 154, 118, ...</td>\n",
              "    </tr>\n",
              "    <tr>\n",
              "      <th>7</th>\n",
              "      <td>087c6220fb60887f444b586221e0d3ed</td>\n",
              "      <td>[GetSystemTimeAsFileTime, NtAllocateVirtualMem...</td>\n",
              "      <td>1.0</td>\n",
              "      <td>0.933333</td>\n",
              "      <td>Train</td>\n",
              "      <td>[78, 129, 141, 129, 113, 114, 113, 129, 220, 1...</td>\n",
              "    </tr>\n",
              "    <tr>\n",
              "      <th>8</th>\n",
              "      <td>a5be5336f78ac2105fba8dc6a7c792c9</td>\n",
              "      <td>[GetSystemTimeAsFileTime, LdrGetDllHandle, Ldr...</td>\n",
              "      <td>1.0</td>\n",
              "      <td>0.466667</td>\n",
              "      <td>Train</td>\n",
              "      <td>[78, 113, 114, 220, 115, 114, 72, 116, 174, 19...</td>\n",
              "    </tr>\n",
              "    <tr>\n",
              "      <th>9</th>\n",
              "      <td>0ddba1e741e223f85c849fd4e29d81c7</td>\n",
              "      <td>[RegOpenKeyExA, NtOpenKey, NtQueryValueKey, Nt...</td>\n",
              "      <td>1.0</td>\n",
              "      <td>0.033333</td>\n",
              "      <td>Train</td>\n",
              "      <td>[194, 147, 160, 130, 147, 160, 130, 154, 118, ...</td>\n",
              "    </tr>\n",
              "  </tbody>\n",
              "</table>\n",
              "</div>\n",
              "    <div class=\"colab-df-buttons\">\n",
              "\n",
              "  <div class=\"colab-df-container\">\n",
              "    <button class=\"colab-df-convert\" onclick=\"convertToInteractive('df-080905fa-fde3-416c-934d-d0ad4852c3b4')\"\n",
              "            title=\"Convert this dataframe to an interactive table.\"\n",
              "            style=\"display:none;\">\n",
              "\n",
              "  <svg xmlns=\"http://www.w3.org/2000/svg\" height=\"24px\" viewBox=\"0 -960 960 960\">\n",
              "    <path d=\"M120-120v-720h720v720H120Zm60-500h600v-160H180v160Zm220 220h160v-160H400v160Zm0 220h160v-160H400v160ZM180-400h160v-160H180v160Zm440 0h160v-160H620v160ZM180-180h160v-160H180v160Zm440 0h160v-160H620v160Z\"/>\n",
              "  </svg>\n",
              "    </button>\n",
              "\n",
              "  <style>\n",
              "    .colab-df-container {\n",
              "      display:flex;\n",
              "      gap: 12px;\n",
              "    }\n",
              "\n",
              "    .colab-df-convert {\n",
              "      background-color: #E8F0FE;\n",
              "      border: none;\n",
              "      border-radius: 50%;\n",
              "      cursor: pointer;\n",
              "      display: none;\n",
              "      fill: #1967D2;\n",
              "      height: 32px;\n",
              "      padding: 0 0 0 0;\n",
              "      width: 32px;\n",
              "    }\n",
              "\n",
              "    .colab-df-convert:hover {\n",
              "      background-color: #E2EBFA;\n",
              "      box-shadow: 0px 1px 2px rgba(60, 64, 67, 0.3), 0px 1px 3px 1px rgba(60, 64, 67, 0.15);\n",
              "      fill: #174EA6;\n",
              "    }\n",
              "\n",
              "    .colab-df-buttons div {\n",
              "      margin-bottom: 4px;\n",
              "    }\n",
              "\n",
              "    [theme=dark] .colab-df-convert {\n",
              "      background-color: #3B4455;\n",
              "      fill: #D2E3FC;\n",
              "    }\n",
              "\n",
              "    [theme=dark] .colab-df-convert:hover {\n",
              "      background-color: #434B5C;\n",
              "      box-shadow: 0px 1px 3px 1px rgba(0, 0, 0, 0.15);\n",
              "      filter: drop-shadow(0px 1px 2px rgba(0, 0, 0, 0.3));\n",
              "      fill: #FFFFFF;\n",
              "    }\n",
              "  </style>\n",
              "\n",
              "    <script>\n",
              "      const buttonEl =\n",
              "        document.querySelector('#df-080905fa-fde3-416c-934d-d0ad4852c3b4 button.colab-df-convert');\n",
              "      buttonEl.style.display =\n",
              "        google.colab.kernel.accessAllowed ? 'block' : 'none';\n",
              "\n",
              "      async function convertToInteractive(key) {\n",
              "        const element = document.querySelector('#df-080905fa-fde3-416c-934d-d0ad4852c3b4');\n",
              "        const dataTable =\n",
              "          await google.colab.kernel.invokeFunction('convertToInteractive',\n",
              "                                                    [key], {});\n",
              "        if (!dataTable) return;\n",
              "\n",
              "        const docLinkHtml = 'Like what you see? Visit the ' +\n",
              "          '<a target=\"_blank\" href=https://colab.research.google.com/notebooks/data_table.ipynb>data table notebook</a>'\n",
              "          + ' to learn more about interactive tables.';\n",
              "        element.innerHTML = '';\n",
              "        dataTable['output_type'] = 'display_data';\n",
              "        await google.colab.output.renderOutput(dataTable, element);\n",
              "        const docLink = document.createElement('div');\n",
              "        docLink.innerHTML = docLinkHtml;\n",
              "        element.appendChild(docLink);\n",
              "      }\n",
              "    </script>\n",
              "  </div>\n",
              "\n",
              "\n",
              "    <div id=\"df-6ff0dda5-1b44-4b76-8984-5a7d8504ea5d\">\n",
              "      <button class=\"colab-df-quickchart\" onclick=\"quickchart('df-6ff0dda5-1b44-4b76-8984-5a7d8504ea5d')\"\n",
              "                title=\"Suggest charts\"\n",
              "                style=\"display:none;\">\n",
              "\n",
              "<svg xmlns=\"http://www.w3.org/2000/svg\" height=\"24px\"viewBox=\"0 0 24 24\"\n",
              "     width=\"24px\">\n",
              "    <g>\n",
              "        <path d=\"M19 3H5c-1.1 0-2 .9-2 2v14c0 1.1.9 2 2 2h14c1.1 0 2-.9 2-2V5c0-1.1-.9-2-2-2zM9 17H7v-7h2v7zm4 0h-2V7h2v10zm4 0h-2v-4h2v4z\"/>\n",
              "    </g>\n",
              "</svg>\n",
              "      </button>\n",
              "\n",
              "<style>\n",
              "  .colab-df-quickchart {\n",
              "      --bg-color: #E8F0FE;\n",
              "      --fill-color: #1967D2;\n",
              "      --hover-bg-color: #E2EBFA;\n",
              "      --hover-fill-color: #174EA6;\n",
              "      --disabled-fill-color: #AAA;\n",
              "      --disabled-bg-color: #DDD;\n",
              "  }\n",
              "\n",
              "  [theme=dark] .colab-df-quickchart {\n",
              "      --bg-color: #3B4455;\n",
              "      --fill-color: #D2E3FC;\n",
              "      --hover-bg-color: #434B5C;\n",
              "      --hover-fill-color: #FFFFFF;\n",
              "      --disabled-bg-color: #3B4455;\n",
              "      --disabled-fill-color: #666;\n",
              "  }\n",
              "\n",
              "  .colab-df-quickchart {\n",
              "    background-color: var(--bg-color);\n",
              "    border: none;\n",
              "    border-radius: 50%;\n",
              "    cursor: pointer;\n",
              "    display: none;\n",
              "    fill: var(--fill-color);\n",
              "    height: 32px;\n",
              "    padding: 0;\n",
              "    width: 32px;\n",
              "  }\n",
              "\n",
              "  .colab-df-quickchart:hover {\n",
              "    background-color: var(--hover-bg-color);\n",
              "    box-shadow: 0 1px 2px rgba(60, 64, 67, 0.3), 0 1px 3px 1px rgba(60, 64, 67, 0.15);\n",
              "    fill: var(--button-hover-fill-color);\n",
              "  }\n",
              "\n",
              "  .colab-df-quickchart-complete:disabled,\n",
              "  .colab-df-quickchart-complete:disabled:hover {\n",
              "    background-color: var(--disabled-bg-color);\n",
              "    fill: var(--disabled-fill-color);\n",
              "    box-shadow: none;\n",
              "  }\n",
              "\n",
              "  .colab-df-spinner {\n",
              "    border: 2px solid var(--fill-color);\n",
              "    border-color: transparent;\n",
              "    border-bottom-color: var(--fill-color);\n",
              "    animation:\n",
              "      spin 1s steps(1) infinite;\n",
              "  }\n",
              "\n",
              "  @keyframes spin {\n",
              "    0% {\n",
              "      border-color: transparent;\n",
              "      border-bottom-color: var(--fill-color);\n",
              "      border-left-color: var(--fill-color);\n",
              "    }\n",
              "    20% {\n",
              "      border-color: transparent;\n",
              "      border-left-color: var(--fill-color);\n",
              "      border-top-color: var(--fill-color);\n",
              "    }\n",
              "    30% {\n",
              "      border-color: transparent;\n",
              "      border-left-color: var(--fill-color);\n",
              "      border-top-color: var(--fill-color);\n",
              "      border-right-color: var(--fill-color);\n",
              "    }\n",
              "    40% {\n",
              "      border-color: transparent;\n",
              "      border-right-color: var(--fill-color);\n",
              "      border-top-color: var(--fill-color);\n",
              "    }\n",
              "    60% {\n",
              "      border-color: transparent;\n",
              "      border-right-color: var(--fill-color);\n",
              "    }\n",
              "    80% {\n",
              "      border-color: transparent;\n",
              "      border-right-color: var(--fill-color);\n",
              "      border-bottom-color: var(--fill-color);\n",
              "    }\n",
              "    90% {\n",
              "      border-color: transparent;\n",
              "      border-bottom-color: var(--fill-color);\n",
              "    }\n",
              "  }\n",
              "</style>\n",
              "\n",
              "      <script>\n",
              "        async function quickchart(key) {\n",
              "          const quickchartButtonEl =\n",
              "            document.querySelector('#' + key + ' button');\n",
              "          quickchartButtonEl.disabled = true;  // To prevent multiple clicks.\n",
              "          quickchartButtonEl.classList.add('colab-df-spinner');\n",
              "          try {\n",
              "            const charts = await google.colab.kernel.invokeFunction(\n",
              "                'suggestCharts', [key], {});\n",
              "          } catch (error) {\n",
              "            console.error('Error during call to suggestCharts:', error);\n",
              "          }\n",
              "          quickchartButtonEl.classList.remove('colab-df-spinner');\n",
              "          quickchartButtonEl.classList.add('colab-df-quickchart-complete');\n",
              "        }\n",
              "        (() => {\n",
              "          let quickchartButtonEl =\n",
              "            document.querySelector('#df-6ff0dda5-1b44-4b76-8984-5a7d8504ea5d button');\n",
              "          quickchartButtonEl.style.display =\n",
              "            google.colab.kernel.accessAllowed ? 'block' : 'none';\n",
              "        })();\n",
              "      </script>\n",
              "    </div>\n",
              "\n",
              "    </div>\n",
              "  </div>\n"
            ],
            "application/vnd.google.colaboratory.intrinsic+json": {
              "type": "dataframe",
              "variable_name": "df_train_scaled",
              "summary": "{\n  \"name\": \"df_train_scaled\",\n  \"rows\": 24570,\n  \"fields\": [\n    {\n      \"column\": \"md5hash\",\n      \"properties\": {\n        \"dtype\": \"string\",\n        \"num_unique_values\": 24567,\n        \"samples\": [\n          \"c9fd3c68150886647e216c4621e5227c\",\n          \"37b26a7eabeec8376d2f7bcabe1b6085\",\n          \"39428bba36204184333aa850e3c63ce4\"\n        ],\n        \"semantic_type\": \"\",\n        \"description\": \"\"\n      }\n    },\n    {\n      \"column\": \"api_call_sequence\",\n      \"properties\": {\n        \"dtype\": \"object\",\n        \"semantic_type\": \"\",\n        \"description\": \"\"\n      }\n    },\n    {\n      \"column\": \"is_malware\",\n      \"properties\": {\n        \"dtype\": \"number\",\n        \"std\": 0.15447772868493528,\n        \"min\": 0.0,\n        \"max\": 1.0,\n        \"num_unique_values\": 2,\n        \"samples\": [\n          0.0,\n          1.0\n        ],\n        \"semantic_type\": \"\",\n        \"description\": \"\"\n      }\n    },\n    {\n      \"column\": \"seq_length\",\n      \"properties\": {\n        \"dtype\": \"number\",\n        \"std\": 0.2978679900289983,\n        \"min\": 0.0,\n        \"max\": 1.0,\n        \"num_unique_values\": 31,\n        \"samples\": [\n          0.0,\n          0.7666666666666666\n        ],\n        \"semantic_type\": \"\",\n        \"description\": \"\"\n      }\n    },\n    {\n      \"column\": \"split\",\n      \"properties\": {\n        \"dtype\": \"category\",\n        \"num_unique_values\": 1,\n        \"samples\": [\n          \"Train\"\n        ],\n        \"semantic_type\": \"\",\n        \"description\": \"\"\n      }\n    },\n    {\n      \"column\": \"encoded\",\n      \"properties\": {\n        \"dtype\": \"object\",\n        \"semantic_type\": \"\",\n        \"description\": \"\"\n      }\n    }\n  ]\n}"
            }
          },
          "metadata": {},
          "execution_count": 18
        }
      ]
    },
    {
      "cell_type": "code",
      "source": [
        "train_df['seq_length'] = train_df['api_call_sequence'].apply(len)\n",
        "test_df['seq_length'] = test_df['api_call_sequence'].apply(len)\n",
        "\n",
        "# Step 2: Vocabulary creation from train set only\n",
        "sequences = train_df['api_call_sequence'].tolist()\n",
        "vocabulary = set()\n",
        "for seq in sequences:\n",
        "    vocabulary.update(seq)\n",
        "vocabulary = sorted(list(vocabulary))  # consistent indexing\n",
        "\n",
        "# Step 3: Create mapping with special tokens: 0 = PAD, 1 = OOV\n",
        "api_to_index = {api: idx + 2 for idx, api in enumerate(vocabulary)}\n",
        "api_to_index[\"<PAD>\"] = 0\n",
        "api_to_index[\"<OOV>\"] = 1\n",
        "print(\"Vocabulary size (with PAD and OOV):\", len(api_to_index))\n",
        "\n",
        "# Step 4: Encode function\n",
        "def encode_sequence(seq, mapping):\n",
        "    return [mapping.get(api, mapping[\"<OOV>\"]) for api in seq]\n",
        "\n",
        "# Step 5: Visualizations\n",
        "sns.set(style=\"darkgrid\")\n",
        "fig, axs = plt.subplots(1, 2, figsize=(14, 5))\n",
        "sns.histplot(data=train_df, x='seq_length', kde=True, color=\"skyblue\", label='Train', ax=axs[0])\n",
        "sns.histplot(data=test_df, x='seq_length', kde=True, color=\"orange\", label='Test', ax=axs[0])\n",
        "axs[0].set_title(\"API Call Sequence Lengths (Train vs Test)\")\n",
        "axs[0].legend()\n",
        "train_df['split'] = 'Train'\n",
        "test_df['split'] = 'Test'\n",
        "combined = pd.concat([train_df[['is_malware', 'split']], test_df[['is_malware', 'split']]])\n",
        "sns.countplot(data=combined, x='is_malware', hue='split', palette=\"Set2\", ax=axs[1])\n",
        "axs[1].set_title(\"Malware Class Distribution\")\n",
        "axs[1].set_xticklabels(['Not Malware (0)', 'Malware (1)'])\n",
        "plt.tight_layout()\n",
        "plt.show()\n",
        "\n",
        "# Step 6: Out-of-Vocabulary check\n",
        "test_vocab = set(api for seq in test_df[\"api_call_sequence\"] for api in seq)\n",
        "train_vocab = set(api for seq in train_df[\"api_call_sequence\"] for api in seq)\n",
        "oov_words = test_vocab - train_vocab\n",
        "print(\"Out-of-Vocabulary Words:\", oov_words)\n",
        "print(f\"There are {len(oov_words)} out-of-vocabulary words\")\n",
        "\n",
        "# Step 7: Train/validation split\n",
        "train_size = int(0.8 * len(train_df))\n",
        "df_train = train_df.iloc[:train_size].copy()\n",
        "df_val = train_df.iloc[train_size:].copy()\n",
        "print(df_train.shape)\n",
        "print(df_val.shape)\n",
        "\n",
        "# Step 8: Encode sequences\n",
        "df_train['encoded_seq'] = df_train['api_call_sequence'].apply(lambda x: encode_sequence(x, api_to_index))\n",
        "df_val['encoded_seq'] = df_val['api_call_sequence'].apply(lambda x: encode_sequence(x, api_to_index))\n",
        "test_df['encoded_seq'] = test_df['api_call_sequence'].apply(lambda x: encode_sequence(x, api_to_index))\n",
        "\n",
        "# Step 9: Pad sequences\n",
        "MAX_LEN = 100\n",
        "X_train = pad_sequences(df_train['encoded_seq'], maxlen=MAX_LEN, padding='post', truncating='post', value=api_to_index[\"<PAD>\"])\n",
        "X_val = pad_sequences(df_val['encoded_seq'], maxlen=MAX_LEN, padding='post', truncating='post', value=api_to_index[\"<PAD>\"])\n",
        "X_test = pad_sequences(test_df['encoded_seq'], maxlen=MAX_LEN, padding='post', truncating='post', value=api_to_index[\"<PAD>\"])\n",
        "\n",
        "# Step 10: Extract labels\n",
        "y_train = df_train['is_malware'].values\n",
        "y_val = df_val['is_malware'].values\n",
        "y_test = test_df['is_malware'].values"
      ],
      "metadata": {
        "id": "YiMSIT-zNW0F",
        "outputId": "ca0c72de-34d0-4a82-daa3-d8e0e496d8fb",
        "colab": {
          "base_uri": "https://localhost:8080/",
          "height": 469
        }
      },
      "execution_count": 27,
      "outputs": [
        {
          "output_type": "stream",
          "name": "stdout",
          "text": [
            "Vocabulary size (with PAD and OOV): 255\n"
          ]
        },
        {
          "output_type": "stream",
          "name": "stderr",
          "text": [
            "<ipython-input-27-3c4f9845c16d>:33: UserWarning: set_ticklabels() should only be used with a fixed number of ticks, i.e. after set_ticks() or using a FixedLocator.\n",
            "  axs[1].set_xticklabels(['Not Malware (0)', 'Malware (1)'])\n"
          ]
        },
        {
          "output_type": "display_data",
          "data": {
            "text/plain": [
              "<Figure size 1400x500 with 2 Axes>"
            ],
            "image/png": "[encoded data removed]"
          },
          "metadata": {}
        },
        {
          "output_type": "stream",
          "name": "stdout",
          "text": [
            "Out-of-Vocabulary Words: {'ObtainUserAgentString', 'ControlService', 'WSASocketA', 'WSARecv', 'NtDeleteKey'}\n",
            "There are 5 out-of-vocabulary words\n",
            "(24570, 5)\n",
            "(6143, 5)\n"
          ]
        }
      ]
    },
    {
      "cell_type": "code",
      "source": [
        "X_train = torch.tensor(X_train, dtype=torch.long)\n",
        "y_train = torch.tensor(y_train, dtype=torch.float32)\n",
        "\n",
        "X_val = torch.tensor(X_val, dtype=torch.long)\n",
        "y_val = torch.tensor(y_val, dtype=torch.float32)\n",
        "\n",
        "X_test = torch.tensor(X_test, dtype=torch.long)\n",
        "y_test = torch.tensor(y_test, dtype=torch.float32)\n",
        "\n",
        "# Create DataLoaders\n",
        "BATCH_SIZE = 32\n",
        "\n",
        "train_dataset = TensorDataset(X_train, y_train)\n",
        "val_dataset = TensorDataset(X_val, y_val)\n",
        "test_dataset = TensorDataset(X_test, y_test)\n",
        "\n",
        "train_loader = DataLoader(train_dataset, batch_size=BATCH_SIZE, shuffle=True)\n",
        "val_loader = DataLoader(val_dataset, batch_size=BATCH_SIZE, shuffle=False)\n",
        "test_loader = DataLoader(test_dataset, batch_size=BATCH_SIZE, shuffle=False)"
      ],
      "metadata": {
        "id": "hnEe0z4RTPpB",
        "outputId": "a30d3b47-e718-4d65-a80f-79389e53ff35",
        "colab": {
          "base_uri": "https://localhost:8080/"
        }
      },
      "execution_count": 67,
      "outputs": [
        {
          "output_type": "stream",
          "name": "stderr",
          "text": [
            "<ipython-input-67-89d2d4313cd6>:1: UserWarning: To copy construct from a tensor, it is recommended to use sourceTensor.clone().detach() or sourceTensor.clone().detach().requires_grad_(True), rather than torch.tensor(sourceTensor).\n",
            "  X_train = torch.tensor(X_train, dtype=torch.long)\n",
            "<ipython-input-67-89d2d4313cd6>:2: UserWarning: To copy construct from a tensor, it is recommended to use sourceTensor.clone().detach() or sourceTensor.clone().detach().requires_grad_(True), rather than torch.tensor(sourceTensor).\n",
            "  y_train = torch.tensor(y_train, dtype=torch.float32)\n",
            "<ipython-input-67-89d2d4313cd6>:4: UserWarning: To copy construct from a tensor, it is recommended to use sourceTensor.clone().detach() or sourceTensor.clone().detach().requires_grad_(True), rather than torch.tensor(sourceTensor).\n",
            "  X_val = torch.tensor(X_val, dtype=torch.long)\n",
            "<ipython-input-67-89d2d4313cd6>:5: UserWarning: To copy construct from a tensor, it is recommended to use sourceTensor.clone().detach() or sourceTensor.clone().detach().requires_grad_(True), rather than torch.tensor(sourceTensor).\n",
            "  y_val = torch.tensor(y_val, dtype=torch.float32)\n",
            "<ipython-input-67-89d2d4313cd6>:7: UserWarning: To copy construct from a tensor, it is recommended to use sourceTensor.clone().detach() or sourceTensor.clone().detach().requires_grad_(True), rather than torch.tensor(sourceTensor).\n",
            "  X_test = torch.tensor(X_test, dtype=torch.long)\n",
            "<ipython-input-67-89d2d4313cd6>:8: UserWarning: To copy construct from a tensor, it is recommended to use sourceTensor.clone().detach() or sourceTensor.clone().detach().requires_grad_(True), rather than torch.tensor(sourceTensor).\n",
            "  y_test = torch.tensor(y_test, dtype=torch.float32)\n"
          ]
        }
      ]
    },
    {
      "cell_type": "code",
      "source": [
        "class RNNMalwareClassifier(nn.Module):\n",
        "    def __init__(self, vocab_size, embedding_dim, hidden_size, output_size, rnn_type='RNN', bidirectional=False):\n",
        "        super(RNNMalwareClassifier, self).__init__()\n",
        "        self.embedding = nn.Embedding(vocab_size, embedding_dim, padding_idx=0)\n",
        "        self.num_directions = 2 if bidirectional else 1\n",
        "\n",
        "        if rnn_type == 'RNN':\n",
        "            self.rnn = nn.RNN(embedding_dim, hidden_size, batch_first=True, bidirectional=bidirectional)\n",
        "        elif rnn_type == 'LSTM':\n",
        "            self.rnn = nn.LSTM(embedding_dim, hidden_size, batch_first=True, bidirectional=bidirectional)\n",
        "        else:\n",
        "            raise ValueError(\"Invalid RNN type. Choose 'RNN' or 'LSTM'.\")\n",
        "\n",
        "        self.fc = nn.Linear(hidden_size * self.num_directions, output_size)\n",
        "        self.sigmoid = nn.Sigmoid()\n",
        "\n",
        "    def forward(self, x):\n",
        "        x = self.embedding(x)\n",
        "        rnn_out, _ = self.rnn(x)\n",
        "\n",
        "        if self.rnn.bidirectional:\n",
        "            rnn_out = torch.cat((rnn_out[:, -1, :self.rnn.hidden_size], rnn_out[:, -1, self.rnn.hidden_size:]), dim=1)\n",
        "        else:\n",
        "            rnn_out = rnn_out[:, -1, :]\n",
        "\n",
        "        out = self.fc(rnn_out)\n",
        "        out = self.sigmoid(out)\n",
        "        return out"
      ],
      "metadata": {
        "id": "yWXX7dM3VLv1"
      },
      "execution_count": 71,
      "outputs": []
    },
    {
      "cell_type": "code",
      "source": [
        "def training_loop(model, train_loader, val_loader, device, optimizer, num_epochs, criterion, model_type=\"RNN\"): # Added model_type\n",
        "    start_time = time.time()\n",
        "    train_losses = []\n",
        "    val_losses = []\n",
        "\n",
        "    for epoch in range(num_epochs):\n",
        "        model.train()\n",
        "        total_train_loss = 0\n",
        "        for batch_X, batch_y in train_loader:\n",
        "            batch_X, batch_y = batch_X.to(device), batch_y.to(device).unsqueeze(1)\n",
        "            optimizer.zero_grad()\n",
        "            outputs = model(batch_X)\n",
        "            loss = criterion(outputs, batch_y)\n",
        "            loss.backward()\n",
        "            optimizer.step()\n",
        "            total_train_loss += loss.item() * batch_X.size(0)\n",
        "        avg_train_loss = total_train_loss / len(train_loader.dataset)\n",
        "        train_losses.append(avg_train_loss)\n",
        "\n",
        "        model.eval()\n",
        "        total_val_loss = 0\n",
        "        with torch.no_grad():\n",
        "            for batch_X, batch_y in val_loader:\n",
        "                batch_X, batch_y = batch_X.to(device), batch_y.to(device).unsqueeze(1)\n",
        "                outputs = model(batch_X)\n",
        "                loss = criterion(outputs, batch_y)\n",
        "                total_val_loss += loss.item() * batch_X.size(0)\n",
        "        avg_val_loss = total_val_loss / len(val_loader.dataset)\n",
        "        val_losses.append(avg_val_loss)\n",
        "\n",
        "        if (epoch + 1) % 10 == 0:\n",
        "            print(f'Epoch {epoch+1}/{num_epochs}, Train Loss: {avg_train_loss:.4f}, Val Loss: {avg_val_loss:.4f}')\n",
        "\n",
        "    end_time = time.time()\n",
        "    elapsed_time = end_time - start_time\n",
        "    print(f'{model_type} Training took {elapsed_time:.4f} seconds')\n",
        "\n",
        "    plt.figure(figsize=(10, 5))\n",
        "    plt.plot(train_losses, label='Train Loss')\n",
        "    plt.plot(val_losses, label='Validation Loss')\n",
        "    plt.xlabel('Epoch')\n",
        "    plt.ylabel('Loss')\n",
        "    plt.title(f'{model_type} Training and Validation Loss')\n",
        "    plt.legend()\n",
        "    plt.show()\n",
        "\n",
        "def testing_model(model, test_loader, device, model_type=\"RNN\"):\n",
        "    start_time = time.time()\n",
        "    model.eval()\n",
        "    all_labels = []\n",
        "    all_predictions = []\n",
        "\n",
        "    with torch.no_grad():\n",
        "        for batch_X, batch_y in test_loader:\n",
        "            batch_X, batch_y = batch_X.to(device), batch_y.to(device).unsqueeze(1)\n",
        "            outputs = model(batch_X)\n",
        "            predictions = (outputs > 0.5).float()\n",
        "            all_labels.extend(batch_y.cpu().numpy().flatten())\n",
        "            all_predictions.extend(predictions.cpu().numpy().flatten())\n",
        "\n",
        "    # Calculate metrics (e.g., accuracy, precision, recall, F1)\n",
        "    from sklearn.metrics import accuracy_score, precision_score, recall_score, f1_score\n",
        "    accuracy = accuracy_score(all_labels, all_predictions)\n",
        "    precision = precision_score(all_labels, all_predictions)\n",
        "    recall = recall_score(all_labels, all_predictions)\n",
        "    f1 = f1_score(all_labels, all_predictions)\n",
        "\n",
        "    print(f'{model_type} Test Results:')\n",
        "    print(f'  Accuracy: {accuracy:.4f}')\n",
        "    print(f'  Precision: {precision:.4f}')\n",
        "    print(f'  Recall: {recall:.4f}')\n",
        "    print(f'  F1 Score: {f1:.4f}')\n",
        "\n",
        "    end_time = time.time()\n",
        "    elapsed_time = end_time - start_time\n",
        "    print(f'{model_type} Testing took {elapsed_time:.4f} seconds')"
      ],
      "metadata": {
        "id": "nKqLGvWYVOAw"
      },
      "execution_count": 73,
      "outputs": []
    },
    {
      "cell_type": "code",
      "source": [
        "device = torch.device(\"cuda\" if torch.cuda.is_available() else \"cpu\")\n",
        "print(device)\n",
        "\n",
        "VOCAB_SIZE = len(api_to_index)\n",
        "EMBEDDING_DIM = 128\n",
        "HIDDEN_SIZE = 128\n",
        "OUTPUT_SIZE = 1\n",
        "\n",
        "NUM_EPOCHS = 20\n",
        "LEARNING_RATE = 0.001\n",
        "CRITERION = nn.BCELoss()\n",
        "\n",
        "# 1. Simple One-Directional RNN\n",
        "print(\"--- One-Directional RNN ---\")\n",
        "rnn_model = RNNMalwareClassifier(VOCAB_SIZE, EMBEDDING_DIM, HIDDEN_SIZE, OUTPUT_SIZE, rnn_type='RNN', bidirectional=False).to(device)\n",
        "rnn_optimizer = optim.Adam(rnn_model.parameters(), lr=LEARNING_RATE)\n",
        "training_loop(rnn_model, train_loader, val_loader, device, rnn_optimizer, NUM_EPOCHS, CRITERION, model_type=\"One-Directional RNN\")\n",
        "testing_model(rnn_model, test_loader, device, model_type=\"One-Directional RNN\")\n",
        "\n",
        "\n",
        "# 2. Bi-Directional RNN\n",
        "print(\"\\n--- Bi-Directional RNN ---\")\n",
        "bi_rnn_model = RNNMalwareClassifier(VOCAB_SIZE, EMBEDDING_DIM, HIDDEN_SIZE, OUTPUT_SIZE, rnn_type='RNN', bidirectional=True).to(device)\n",
        "bi_rnn_optimizer = optim.Adam(bi_rnn_model.parameters(), lr=LEARNING_RATE)\n",
        "training_loop(bi_rnn_model, train_loader, val_loader, device, bi_rnn_optimizer, NUM_EPOCHS, CRITERION, model_type=\"Bi-Directional RNN\")\n",
        "testing_model(bi_rnn_model, test_loader, device, model_type=\"Bi-Directional RNN\")\n",
        "\n",
        "\n",
        "# 3. Bi-Directional LSTM\n",
        "print(\"\\n--- Bi-Directional LSTM ---\")\n",
        "lstm_model = RNNMalwareClassifier(VOCAB_SIZE, EMBEDDING_DIM, HIDDEN_SIZE, OUTPUT_SIZE, rnn_type='LSTM', bidirectional=True).to(device)\n",
        "lstm_optimizer = optim.Adam(lstm_model.parameters(), lr=LEARNING_RATE)\n",
        "training_loop(lstm_model, train_loader, val_loader, device, lstm_optimizer, NUM_EPOCHS, CRITERION, model_type=\"Bi-Directional LSTM\")\n",
        "testing_model(lstm_model, test_loader, device, model_type=\"Bi-Directional LSTM\")"
      ],
      "metadata": {
        "id": "MimZ4Nw7VRC7",
        "outputId": "8674fa72-1dcc-45a4-cc42-8ef22ee630c1",
        "colab": {
          "base_uri": "https://localhost:8080/"
        }
      },
      "execution_count": null,
      "outputs": [
        {
          "output_type": "stream",
          "name": "stdout",
          "text": [
            "cpu\n",
            "--- One-Directional RNN ---\n",
            "Epoch 10/20, Train Loss: 0.1165, Val Loss: 0.1189\n"
          ]
        }
      ]
    },
    {
      "cell_type": "markdown",
      "metadata": {
        "id": "CmRHLoy7G04B"
      },
      "source": [
        "## Task 4: Graph Neural Network (GNN)\n",
        "Finally, use a Graph Neural Network (GNN) to model your problem. Consider each sequence\n",
        "of API call as a graph.\n",
        "- Do you still have to pad your data? If yes, how?\n",
        "- Do you have to truncate the testing sequences? Justify your answer with your under- standing of why it is/it is not the case.\n",
        "- What is the advantage of modelling your problem with a GNN with respect to FFNN and RNN? What do you lose?\n",
        "- Start creating a first simple GCN and train/test it on CPU first and GPU next. How long does it take for training and testing in each configuration? How does it differ with respect to previous architectures? Can you guess why\n",
        "- Finally train and tune variations of GNN considering different message and aggregation functions and architectures:\n",
        "    * Simple GCN\n",
        "    * GraphSAGE\n",
        "    * and GAT\n",
        "    Can you see any differences during their training? Can you obtain the same"
      ]
    }
  ]
}